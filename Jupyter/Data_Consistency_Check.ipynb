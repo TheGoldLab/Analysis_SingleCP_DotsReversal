{
 "cells": [
  {
   "cell_type": "code",
   "execution_count": 1,
   "metadata": {},
   "outputs": [],
   "source": [
    "from IPython.display import HTML"
   ]
  },
  {
   "cell_type": "code",
   "execution_count": 2,
   "metadata": {},
   "outputs": [],
   "source": [
    "# HTML('''<script>\n",
    "# code_show=true; \n",
    "# function code_toggle() {\n",
    "#  if (code_show){\n",
    "#  $('div.input').hide();\n",
    "#  } else {\n",
    "#  $('div.input').show();\n",
    "#  }\n",
    "#  code_show = !code_show\n",
    "# } \n",
    "# $( document ).ready(code_toggle);\n",
    "# </script>\n",
    "# <a href=\"javascript:code_toggle()\">TOGGLE CODE ON/OFF</a>.''')"
   ]
  },
  {
   "cell_type": "markdown",
   "metadata": {
    "toc": true
   },
   "source": [
    "<h1>Table of Contents<span class=\"tocSkip\"></span></h1>\n",
    "<div class=\"toc\"><ul class=\"toc-item\"><li><span><a href=\"#List-of-questions\" data-toc-modified-id=\"List-of-questions-1\"><span class=\"toc-item-num\">1&nbsp;&nbsp;</span>List of questions</a></span></li><li><span><a href=\"#answer-to-question-1\" data-toc-modified-id=\"answer-to-question-1-2\"><span class=\"toc-item-num\">2&nbsp;&nbsp;</span>answer to question 1</a></span></li><li><span><a href=\"#answer-to-questions-2---5\" data-toc-modified-id=\"answer-to-questions-2---5-3\"><span class=\"toc-item-num\">3&nbsp;&nbsp;</span>answer to questions 2 - 5</a></span></li><li><span><a href=\"#answer-to-questions-6-7\" data-toc-modified-id=\"answer-to-questions-6-7-4\"><span class=\"toc-item-num\">4&nbsp;&nbsp;</span>answer to questions 6-7</a></span></li></ul></div>"
   ]
  },
  {
   "cell_type": "markdown",
   "metadata": {},
   "source": [
    "Import and set constants"
   ]
  },
  {
   "cell_type": "code",
   "execution_count": 3,
   "metadata": {},
   "outputs": [],
   "source": [
    "import os.path\n",
    "import sys\n",
    "import pprint\n",
    "import json\n",
    "import hashlib\n",
    "from collections import Counter\n",
    "import pandas as pd\n",
    "import numpy as np\n",
    "from consistency_checks import *\n",
    "# import matplotlib.pyplot as plt\n",
    "# import matplotlib\n",
    "# %matplotlib inline"
   ]
  },
  {
   "cell_type": "code",
   "execution_count": 4,
   "metadata": {},
   "outputs": [],
   "source": [
    "timestamps = [\n",
    "    '2019_06_20_12_54',  \n",
    "    '2019_06_21_13_08',  \n",
    "    '2019_06_24_12_38',  \n",
    "    '2019_06_25_13_24',  \n",
    "    '2019_07_03_15_03',  \n",
    "    '2019_07_09_11_02',  \n",
    "    '2019_07_10_17_40',  \n",
    "    '2019_07_12_11_11',\n",
    "    '2019_06_20_13_27',  \n",
    "    '2019_06_21_13_34',  \n",
    "    '2019_06_24_13_06',  \n",
    "    '2019_06_25_14_06',  \n",
    "    '2019_07_03_16_32',  \n",
    "    '2019_07_10_12_18',  \n",
    "    '2019_07_10_17_42',  \n",
    "    '2019_07_17_17_17',\n",
    "    '2019_06_20_13_45',  \n",
    "    '2019_06_21_14_25',  \n",
    "    '2019_06_24_13_31',  \n",
    "    '2019_06_27_11_33',  \n",
    "    '2019_07_08_17_13',  \n",
    "    '2019_07_10_17_19', \n",
    "    '2019_07_11_11_21',\n",
    "]\n",
    "data_folder = '/home/adrian/SingleCP_DotsReversal/raw/'\n",
    "assert os.path.isdir(data_folder)\n",
    "# theoretical_data_folder = '/home/adrian/Documents/MATLAB/projects/Task_SingleCP_DotsReversal/Blocks003/'\n",
    "assert os.path.isdir(theoretical_data_folder)\n",
    "folder_list = []\n",
    "for t in timestamps:\n",
    "    folder = data_folder + t + '/'\n",
    "    assert os.path.isdir(folder)\n",
    "    folder_list.append(folder) \n",
    "metadata_file = '/home/adrian/Documents/MATLAB/projects/Analysis_SingleCP_DotsReversal/data/subj_metadata.json'\n",
    "assert os.path.exists(metadata_file)\n",
    "\n",
    "# the following dict should match the row order of DefaultBlockSequence.csv\n",
    "mapping_task_type_id_name = {\n",
    "    1: 'Tut1',\n",
    "    2: 'Quest',\n",
    "    3: 'Tut2',\n",
    "    4: 'Block2',\n",
    "    5: 'Tut3',\n",
    "    6: 'Block3',\n",
    "    7: 'Block4',\n",
    "    8: 'Block5',\n",
    "    9: 'Block6',\n",
    "    10: 'Block7',\n",
    "    11: 'Block8',\n",
    "    12: 'Block9',\n",
    "    13: 'Block10',\n",
    "    14: 'Block11'\n",
    "}"
   ]
  },
  {
   "cell_type": "code",
   "execution_count": 5,
   "metadata": {},
   "outputs": [
    {
     "name": "stdout",
     "output_type": "stream",
     "text": [
      "coh        0\n",
      "cp     False\n",
      "dir    right\n",
      "vd       300\n",
      "Name: 1, dtype: object\n"
     ]
    }
   ],
   "source": [
    "a=pd.read_csv(theoretical_data_folder+'Block3.csv')\n",
    "print(a.iloc[1])"
   ]
  },
  {
   "cell_type": "markdown",
   "metadata": {},
   "source": [
    "# List of questions\n",
    "1. do I have as many timestamps in the metadata file and in my directory tree?\n",
    "2. for all FIRA files, are the column names the same?\n",
    "3. for all dots files, are the column names the same?\n",
    "4. for all FIRA files, are the column types the same?\n",
    "5. same for dots files\n",
    "6. for each FIRA file, is the taskID column consistent with the metadata?\n",
    "7. for each FIRA file, is the trialIndex column consistent with the metadata?"
   ]
  },
  {
   "cell_type": "code",
   "execution_count": 6,
   "metadata": {},
   "outputs": [
    {
     "data": {
      "text/plain": [
       "\"\\nRecall: files_data is a list of dicts with fields 'FIRA', 'dots' and 'session'. The values are as follows:\\n    FIRA: list of pairs of the form (<path to .csv file>, <MD5 checksum for this file>)\\n    dots: same as for FIRA, but for dots data\\n    session: single string representing the timestamp of the session, in the format YYYY_MM_DD_HH_mm\\n\\n    for the values corresponding to the FIRA and dots keys, the absence of any file is encoded as an empty list\\n\""
      ]
     },
     "execution_count": 6,
     "metadata": {},
     "output_type": "execute_result"
    }
   ],
   "source": [
    "files_data, latest_hashes = get_files_and_hashes(timestamps, folder_list, show=False, hash_map=True)\n",
    "# pprint.pprint(latest_hashes)\n",
    "\"\"\"\n",
    "Recall: files_data is a list of dicts with fields 'FIRA', 'dots' and 'session'. The values are as follows:\n",
    "    FIRA: list of pairs of the form (<path to .csv file>, <MD5 checksum for this file>)\n",
    "    dots: same as for FIRA, but for dots data\n",
    "    session: single string representing the timestamp of the session, in the format YYYY_MM_DD_HH_mm\n",
    "\n",
    "    for the values corresponding to the FIRA and dots keys, the absence of any file is encoded as an empty list\n",
    "\"\"\""
   ]
  },
  {
   "cell_type": "code",
   "execution_count": 7,
   "metadata": {},
   "outputs": [],
   "source": [
    "# hard code the hashes in case files change\n",
    "ref_hashes = {\n",
    " '/home/adrian/SingleCP_DotsReversal/raw/2019_06_20_12_54/2019_06_20_12_54_FIRA.csv': '046ca06830aeebb62194e3c8d2e97046',\n",
    " '/home/adrian/SingleCP_DotsReversal/raw/2019_06_20_12_54/2019_06_20_12_54_dotsPositions.csv': 'b3aff823355bb4cda726a0857fa1ba74',\n",
    " '/home/adrian/SingleCP_DotsReversal/raw/2019_06_20_13_27/2019_06_20_13_27_FIRA.csv': '8b945181914a9f1c6a4784c8899d72ed',\n",
    " '/home/adrian/SingleCP_DotsReversal/raw/2019_06_20_13_27/2019_06_20_13_27_dotsPositions.csv': '92c7f5484127202f8bc088e8e025cc9e',\n",
    " '/home/adrian/SingleCP_DotsReversal/raw/2019_06_20_13_45/2019_06_20_13_45customFIRA.csv': 'fd77b1add52105f0ceba419f72b515b4',\n",
    " '/home/adrian/SingleCP_DotsReversal/raw/2019_06_21_13_08/2019_06_21_13_08_FIRA.csv': '41485cf9922b03cd5176824887a2c99a',\n",
    " '/home/adrian/SingleCP_DotsReversal/raw/2019_06_21_13_08/2019_06_21_13_08_dotsPositions.csv': '3073e147156bdbbffa593c190de19b91',\n",
    " '/home/adrian/SingleCP_DotsReversal/raw/2019_06_21_13_34/2019_06_21_13_34customFIRA.csv': '92c7f5484127202f8bc088e8e025cc9e',\n",
    " '/home/adrian/SingleCP_DotsReversal/raw/2019_06_21_14_25/2019_06_21_14_25customFIRA.csv': 'fd77b1add52105f0ceba419f72b515b4',\n",
    " '/home/adrian/SingleCP_DotsReversal/raw/2019_06_24_12_38/2019_06_24_12_38_FIRA.csv': '20102a1b8e7d68305455bacccd6fc5cb',\n",
    " '/home/adrian/SingleCP_DotsReversal/raw/2019_06_24_12_38/2019_06_24_12_38_dotsPositions.csv': '7299c4dc38bb2e519d797b4483a83c1f',\n",
    " '/home/adrian/SingleCP_DotsReversal/raw/2019_06_24_12_38/2019_06_24_12_38customFIRA.csv': '20102a1b8e7d68305455bacccd6fc5cb',\n",
    " '/home/adrian/SingleCP_DotsReversal/raw/2019_06_24_13_06/2019_06_24_13_06_FIRA.csv': 'c8423313d1e47ba799be602d3642e4eb',\n",
    " '/home/adrian/SingleCP_DotsReversal/raw/2019_06_24_13_06/2019_06_24_13_06_dotsPositions.csv': '1be8454c740020101e4fcfc57d720b14',\n",
    " '/home/adrian/SingleCP_DotsReversal/raw/2019_06_24_13_31/2019_06_24_13_31_FIRA.csv': '78daa9667716d994f0d75f7fb87e93b4',\n",
    " '/home/adrian/SingleCP_DotsReversal/raw/2019_06_24_13_31/2019_06_24_13_31_dotsPositions.csv': '36ecb7509c192e14a68ec9476aca94ac',\n",
    " '/home/adrian/SingleCP_DotsReversal/raw/2019_06_25_13_24/2019_06_25_13_24_FIRA.csv': '92d73437503dbc26a61e15c93b963773',\n",
    " '/home/adrian/SingleCP_DotsReversal/raw/2019_06_25_13_24/2019_06_25_13_24_dotsPositions.csv': 'f1d59e1830260881749823abc670d469',\n",
    " '/home/adrian/SingleCP_DotsReversal/raw/2019_06_25_14_06/2019_06_25_14_06customFIRA.csv': '1be8454c740020101e4fcfc57d720b14',\n",
    " '/home/adrian/SingleCP_DotsReversal/raw/2019_06_27_11_33/2019_06_27_11_33customFIRA.csv': '36ecb7509c192e14a68ec9476aca94ac',\n",
    " '/home/adrian/SingleCP_DotsReversal/raw/2019_07_03_15_03/2019_07_03_15_03_FIRA.csv': '7dc6c4e1c1dcef8e3bbacdb80e926435',\n",
    " '/home/adrian/SingleCP_DotsReversal/raw/2019_07_03_15_03/2019_07_03_15_03_dotsPositions.csv': 'ddfd162fe111d466fff74d4b53657a46',\n",
    " '/home/adrian/SingleCP_DotsReversal/raw/2019_07_03_16_32/2019_07_03_16_32_FIRA.csv': '4077575d11460a76a140f3f0ee4a3153',\n",
    " '/home/adrian/SingleCP_DotsReversal/raw/2019_07_08_17_13/2019_07_08_17_13customFIRA.csv': '36ecb7509c192e14a68ec9476aca94ac',\n",
    " '/home/adrian/SingleCP_DotsReversal/raw/2019_07_09_11_02/2019_07_09_11_02customFIRA.csv': 'ddfd162fe111d466fff74d4b53657a46',\n",
    " '/home/adrian/SingleCP_DotsReversal/raw/2019_07_10_12_18/2019_07_10_12_18_FIRA.csv': '0e689f4bf92aa2c4f67eb74ee56f6046',\n",
    " '/home/adrian/SingleCP_DotsReversal/raw/2019_07_10_12_18/2019_07_10_12_18_dotsPositions.csv': '235f0964a5d2fd088aeea66c4df97fd4',\n",
    " '/home/adrian/SingleCP_DotsReversal/raw/2019_07_10_17_19/2019_07_10_17_19_FIRA.csv': 'b799cb9ceea49d9d7cb8616493228183',\n",
    " '/home/adrian/SingleCP_DotsReversal/raw/2019_07_10_17_19/2019_07_10_17_19_dotsPositions.csv': '97b178d6c061d4347582f1981a420292',\n",
    " '/home/adrian/SingleCP_DotsReversal/raw/2019_07_10_17_40/2019_07_10_17_40_FIRA.csv': 'e43b0bc86c6e02f957afbe335989c0e5',\n",
    " '/home/adrian/SingleCP_DotsReversal/raw/2019_07_10_17_42/2019_07_10_17_42customFIRA.csv': '235f0964a5d2fd088aeea66c4df97fd4',\n",
    " '/home/adrian/SingleCP_DotsReversal/raw/2019_07_11_11_21/2019_07_11_11_21customFIRA.csv': '97b178d6c061d4347582f1981a420292',\n",
    " '/home/adrian/SingleCP_DotsReversal/raw/2019_07_12_11_11/2019_07_12_11_11_FIRA.csv': 'e7dd32800d1c34722fcd049f0426005d',\n",
    " '/home/adrian/SingleCP_DotsReversal/raw/2019_07_12_11_11/2019_07_12_11_11_dotsPositions.csv': '20e2225a5eebca406372854a1beb91b7',\n",
    " '/home/adrian/SingleCP_DotsReversal/raw/2019_07_17_17_17/2019_07_17_17_17_FIRA.csv': 'f6252353958133c4fd37aba7bc0d6570',\n",
    " '/home/adrian/SingleCP_DotsReversal/raw/2019_07_17_17_17/2019_07_17_17_17_dotsPositions.csv': 'fd77b1add52105f0ceba419f72b515b4'\n",
    "}"
   ]
  },
  {
   "cell_type": "markdown",
   "metadata": {},
   "source": [
    "# answer to question 1\n",
    "do I have as many timestamps in the metadata file and in my directory tree?\n",
    "\n",
    "--> YES"
   ]
  },
  {
   "cell_type": "code",
   "execution_count": 8,
   "metadata": {},
   "outputs": [
    {
     "name": "stdout",
     "output_type": "stream",
     "text": [
      "total timestamps in notebook 23\n"
     ]
    }
   ],
   "source": [
    "# number of timestamps in notebook variable\n",
    "num_timestamps_nb = len(timestamps)\n",
    "print('total timestamps in notebook', num_timestamps_nb)"
   ]
  },
  {
   "cell_type": "code",
   "execution_count": 9,
   "metadata": {},
   "outputs": [],
   "source": [
    "# get checksum of metadata file ... \n",
    "meta_chksum = md5(metadata_file)\n",
    "# print(meta_chksum)"
   ]
  },
  {
   "cell_type": "code",
   "execution_count": 10,
   "metadata": {},
   "outputs": [],
   "source": [
    "# and hard code the first one in case file has changed\n",
    "meta_chksum_ref = '24e31da81bd43f2e2cd51df0ef111689'\n",
    "assert meta_chksum == meta_chksum_ref"
   ]
  },
  {
   "cell_type": "code",
   "execution_count": 11,
   "metadata": {},
   "outputs": [],
   "source": [
    "# number of timestamps in metadafile\n",
    "with open(metadata_file, 'r') as f:\n",
    "    meta_data = json.load(f)\n",
    "# recall: meta_data is a dict. Its keys are hash codes for subjects.\n",
    "# its values are themselves dicts, with keys session names and values dicts with session info.\n",
    "# So, to access the session info corresponding to the first session of the the first subject, do:\n",
    "# meta_data[<subj code>]['session1']"
   ]
  },
  {
   "cell_type": "code",
   "execution_count": 12,
   "metadata": {},
   "outputs": [
    {
     "name": "stdout",
     "output_type": "stream",
     "text": [
      "total timestamps in metadata file 23\n"
     ]
    }
   ],
   "source": [
    "counter = 0\n",
    "for v in meta_data.values():\n",
    "    for vv in v.values():\n",
    "#         print(vv['sessionTag'])\n",
    "        counter += 1\n",
    "print('total timestamps in metadata file', counter)"
   ]
  },
  {
   "cell_type": "code",
   "execution_count": 13,
   "metadata": {},
   "outputs": [
    {
     "name": "stdout",
     "output_type": "stream",
     "text": [
      "total number of directories in data folder\n"
     ]
    }
   ],
   "source": [
    "print('total number of directories in data folder')"
   ]
  },
  {
   "cell_type": "code",
   "execution_count": 14,
   "metadata": {},
   "outputs": [
    {
     "name": "stdout",
     "output_type": "stream",
     "text": [
      "23\r\n"
     ]
    }
   ],
   "source": [
    "!command ls /home/adrian/SingleCP_DotsReversal/raw/ | wc -l"
   ]
  },
  {
   "cell_type": "markdown",
   "metadata": {},
   "source": [
    "# answer to questions 2 - 5\n",
    "for all FIRA and DOTS files, are the column names and data types (by column) the same?\n",
    "\n",
    "--> YES"
   ]
  },
  {
   "cell_type": "code",
   "execution_count": 15,
   "metadata": {},
   "outputs": [],
   "source": [
    "# check_homogeneity(files_data, ref_hashes)"
   ]
  },
  {
   "cell_type": "markdown",
   "metadata": {},
   "source": [
    "# answer to questions 6-7\n",
    "for each FIRA file, are the `taskID` and `trialIndex` columns consistent with the metadata?"
   ]
  },
  {
   "cell_type": "code",
   "execution_count": 16,
   "metadata": {},
   "outputs": [],
   "source": [
    "consistency_log('inconsistencies.txt', files_data, meta_data, ref_hashes, mapping_task_type_id_name)"
   ]
  },
  {
   "cell_type": "code",
   "execution_count": 17,
   "metadata": {},
   "outputs": [
    {
     "data": {
      "text/html": [
       "<div>\n",
       "<style scoped>\n",
       "    .dataframe tbody tr th:only-of-type {\n",
       "        vertical-align: middle;\n",
       "    }\n",
       "\n",
       "    .dataframe tbody tr th {\n",
       "        vertical-align: top;\n",
       "    }\n",
       "\n",
       "    .dataframe thead th {\n",
       "        text-align: right;\n",
       "    }\n",
       "</style>\n",
       "<table border=\"1\" class=\"dataframe\">\n",
       "  <thead>\n",
       "    <tr style=\"text-align: right;\">\n",
       "      <th></th>\n",
       "      <th>coherence</th>\n",
       "      <th>presenceCP</th>\n",
       "      <th>initDirection</th>\n",
       "      <th>viewingDuration</th>\n",
       "      <th>endDirection</th>\n",
       "    </tr>\n",
       "  </thead>\n",
       "  <tbody>\n",
       "    <tr>\n",
       "      <th>80</th>\n",
       "      <td>0.0</td>\n",
       "      <td>0</td>\n",
       "      <td>180</td>\n",
       "      <td>0.3</td>\n",
       "      <td>180</td>\n",
       "    </tr>\n",
       "    <tr>\n",
       "      <th>81</th>\n",
       "      <td>0.0</td>\n",
       "      <td>0</td>\n",
       "      <td>0</td>\n",
       "      <td>0.3</td>\n",
       "      <td>0</td>\n",
       "    </tr>\n",
       "    <tr>\n",
       "      <th>82</th>\n",
       "      <td>0.0</td>\n",
       "      <td>0</td>\n",
       "      <td>0</td>\n",
       "      <td>0.4</td>\n",
       "      <td>0</td>\n",
       "    </tr>\n",
       "    <tr>\n",
       "      <th>83</th>\n",
       "      <td>0.0</td>\n",
       "      <td>0</td>\n",
       "      <td>180</td>\n",
       "      <td>0.3</td>\n",
       "      <td>180</td>\n",
       "    </tr>\n",
       "    <tr>\n",
       "      <th>84</th>\n",
       "      <td>0.0</td>\n",
       "      <td>0</td>\n",
       "      <td>0</td>\n",
       "      <td>0.3</td>\n",
       "      <td>0</td>\n",
       "    </tr>\n",
       "  </tbody>\n",
       "</table>\n",
       "</div>"
      ],
      "text/plain": [
       "    coherence  presenceCP  initDirection  viewingDuration  endDirection\n",
       "80        0.0           0            180              0.3           180\n",
       "81        0.0           0              0              0.3             0\n",
       "82        0.0           0              0              0.4             0\n",
       "83        0.0           0            180              0.3           180\n",
       "84        0.0           0              0              0.3             0"
      ]
     },
     "execution_count": 17,
     "metadata": {},
     "output_type": "execute_result"
    }
   ],
   "source": [
    "data = pd.read_csv('/home/adrian/SingleCP_DotsReversal/raw/2019_06_20_12_54/2019_06_20_12_54_FIRA.csv')\n",
    "block = data[data['taskID'] == 4].copy(deep=True)\n",
    "block[['coherence', 'presenceCP', 'initDirection', 'viewingDuration', 'endDirection']].head()"
   ]
  },
  {
   "cell_type": "code",
   "execution_count": 18,
   "metadata": {},
   "outputs": [
    {
     "data": {
      "text/plain": [
       "coherence            0.0\n",
       "presenceCP           0.0\n",
       "initDirection      180.0\n",
       "viewingDuration      0.3\n",
       "endDirection       180.0\n",
       "Name: 80, dtype: float64"
      ]
     },
     "execution_count": 18,
     "metadata": {},
     "output_type": "execute_result"
    }
   ],
   "source": [
    "block[['coherence', 'presenceCP', 'initDirection', 'viewingDuration', 'endDirection']].iloc[0]"
   ]
  },
  {
   "cell_type": "code",
   "execution_count": 19,
   "metadata": {},
   "outputs": [],
   "source": [
    "ids = data['taskID'].unique()"
   ]
  },
  {
   "cell_type": "code",
   "execution_count": 20,
   "metadata": {},
   "outputs": [
    {
     "name": "stdout",
     "output_type": "stream",
     "text": [
      "[2 4]\n"
     ]
    }
   ],
   "source": [
    "print(ids)"
   ]
  },
  {
   "cell_type": "code",
   "execution_count": 21,
   "metadata": {},
   "outputs": [],
   "source": [
    "theo_stim = pd.read_csv(theoretical_data_folder + 'Block2.csv')"
   ]
  },
  {
   "cell_type": "code",
   "execution_count": 22,
   "metadata": {},
   "outputs": [
    {
     "data": {
      "text/html": [
       "<div>\n",
       "<style scoped>\n",
       "    .dataframe tbody tr th:only-of-type {\n",
       "        vertical-align: middle;\n",
       "    }\n",
       "\n",
       "    .dataframe tbody tr th {\n",
       "        vertical-align: top;\n",
       "    }\n",
       "\n",
       "    .dataframe thead th {\n",
       "        text-align: right;\n",
       "    }\n",
       "</style>\n",
       "<table border=\"1\" class=\"dataframe\">\n",
       "  <thead>\n",
       "    <tr style=\"text-align: right;\">\n",
       "      <th></th>\n",
       "      <th>coh</th>\n",
       "      <th>cp</th>\n",
       "      <th>dir</th>\n",
       "      <th>vd</th>\n",
       "    </tr>\n",
       "  </thead>\n",
       "  <tbody>\n",
       "    <tr>\n",
       "      <th>0</th>\n",
       "      <td>0</td>\n",
       "      <td>False</td>\n",
       "      <td>left</td>\n",
       "      <td>300</td>\n",
       "    </tr>\n",
       "    <tr>\n",
       "      <th>1</th>\n",
       "      <td>0</td>\n",
       "      <td>False</td>\n",
       "      <td>right</td>\n",
       "      <td>300</td>\n",
       "    </tr>\n",
       "    <tr>\n",
       "      <th>2</th>\n",
       "      <td>0</td>\n",
       "      <td>False</td>\n",
       "      <td>right</td>\n",
       "      <td>400</td>\n",
       "    </tr>\n",
       "    <tr>\n",
       "      <th>3</th>\n",
       "      <td>0</td>\n",
       "      <td>False</td>\n",
       "      <td>left</td>\n",
       "      <td>300</td>\n",
       "    </tr>\n",
       "    <tr>\n",
       "      <th>4</th>\n",
       "      <td>0</td>\n",
       "      <td>False</td>\n",
       "      <td>right</td>\n",
       "      <td>300</td>\n",
       "    </tr>\n",
       "  </tbody>\n",
       "</table>\n",
       "</div>"
      ],
      "text/plain": [
       "  coh     cp    dir   vd\n",
       "0   0  False   left  300\n",
       "1   0  False  right  300\n",
       "2   0  False  right  400\n",
       "3   0  False   left  300\n",
       "4   0  False  right  300"
      ]
     },
     "execution_count": 22,
     "metadata": {},
     "output_type": "execute_result"
    }
   ],
   "source": [
    "theo_stim.head()"
   ]
  },
  {
   "cell_type": "code",
   "execution_count": 23,
   "metadata": {},
   "outputs": [
    {
     "data": {
      "text/plain": [
       "coh        0\n",
       "cp     False\n",
       "dir    right\n",
       "vd       200\n",
       "Name: 80, dtype: object"
      ]
     },
     "execution_count": 23,
     "metadata": {},
     "output_type": "execute_result"
    }
   ],
   "source": [
    "theo_stim.iloc[80]"
   ]
  },
  {
   "cell_type": "code",
   "execution_count": 24,
   "metadata": {},
   "outputs": [
    {
     "data": {
      "text/plain": [
       "Index(['taskID', 'trialIndex', 'trialStart', 'trialEnd', 'dirRT', 'dirChoice',\n",
       "       'dirCorrect', 'cpRT', 'cpChoice', 'cpCorrect', 'initDirection',\n",
       "       'endDirection', 'presenceCP', 'coherence', 'viewingDuration',\n",
       "       'condProbCP', 'timeCP', 'randSeedBase', 'fixationOn', 'fixationStart',\n",
       "       'targetOn', 'dotsOn', 'dotsOff', 'dirChoiceTime',\n",
       "       'dirReleaseChoiceTime', 'cpChoiceTime', 'targetOff', 'fixationOff',\n",
       "       'feedbackOn', 'CPresponseSide', 'startResponseTwo'],\n",
       "      dtype='object')"
      ]
     },
     "execution_count": 24,
     "metadata": {},
     "output_type": "execute_result"
    }
   ],
   "source": [
    "get_keys('')"
   ]
  }
 ],
 "metadata": {
  "kernelspec": {
   "display_name": "R (r-environment)",
   "language": "python",
   "name": "r-environment"
  },
  "language_info": {
   "codemirror_mode": {
    "name": "ipython",
    "version": 3
   },
   "file_extension": ".py",
   "mimetype": "text/x-python",
   "name": "python",
   "nbconvert_exporter": "python",
   "pygments_lexer": "ipython3",
   "version": "3.7.3"
  },
  "latex_envs": {
   "LaTeX_envs_menu_present": true,
   "autoclose": false,
   "autocomplete": true,
   "bibliofile": "biblio.bib",
   "cite_by": "apalike",
   "current_citInitial": 1,
   "eqLabelWithNumbers": true,
   "eqNumInitial": 1,
   "hotkeys": {
    "equation": "Ctrl-E",
    "itemize": "Ctrl-I"
   },
   "labels_anchors": false,
   "latex_user_defs": false,
   "report_style_numbering": false,
   "user_envs_cfg": false
  },
  "toc": {
   "base_numbering": 1,
   "nav_menu": {},
   "number_sections": true,
   "sideBar": true,
   "skip_h1_title": false,
   "title_cell": "Table of Contents",
   "title_sidebar": "Contents",
   "toc_cell": true,
   "toc_position": {},
   "toc_section_display": true,
   "toc_window_display": true
  }
 },
 "nbformat": 4,
 "nbformat_minor": 2
}
