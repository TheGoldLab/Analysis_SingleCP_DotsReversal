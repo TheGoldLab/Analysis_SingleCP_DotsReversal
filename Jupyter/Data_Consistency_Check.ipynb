{
 "cells": [
  {
   "cell_type": "code",
   "execution_count": 1,
   "metadata": {},
   "outputs": [],
   "source": [
    "from IPython.display import HTML"
   ]
  },
  {
   "cell_type": "code",
   "execution_count": 2,
   "metadata": {},
   "outputs": [],
   "source": [
    "# HTML('''<script>\n",
    "# code_show=true; \n",
    "# function code_toggle() {\n",
    "#  if (code_show){\n",
    "#  $('div.input').hide();\n",
    "#  } else {\n",
    "#  $('div.input').show();\n",
    "#  }\n",
    "#  code_show = !code_show\n",
    "# } \n",
    "# $( document ).ready(code_toggle);\n",
    "# </script>\n",
    "# <a href=\"javascript:code_toggle()\">TOGGLE CODE ON/OFF</a>.''')"
   ]
  },
  {
   "cell_type": "markdown",
   "metadata": {
    "toc": true
   },
   "source": [
    "<h1>Table of Contents<span class=\"tocSkip\"></span></h1>\n",
    "<div class=\"toc\"><ul class=\"toc-item\"><li><span><a href=\"#List-of-questions\" data-toc-modified-id=\"List-of-questions-1\"><span class=\"toc-item-num\">1&nbsp;&nbsp;</span>List of questions</a></span></li><li><span><a href=\"#answer-to-question-1\" data-toc-modified-id=\"answer-to-question-1-2\"><span class=\"toc-item-num\">2&nbsp;&nbsp;</span>answer to question 1</a></span></li><li><span><a href=\"#answer-to-questions-2---5\" data-toc-modified-id=\"answer-to-questions-2---5-3\"><span class=\"toc-item-num\">3&nbsp;&nbsp;</span>answer to questions 2 - 5</a></span></li><li><span><a href=\"#answer-to-questions-6-7\" data-toc-modified-id=\"answer-to-questions-6-7-4\"><span class=\"toc-item-num\">4&nbsp;&nbsp;</span>answer to questions 6-7</a></span></li></ul></div>"
   ]
  },
  {
   "cell_type": "markdown",
   "metadata": {},
   "source": [
    "Import and set constants"
   ]
  },
  {
   "cell_type": "code",
   "execution_count": 3,
   "metadata": {},
   "outputs": [],
   "source": [
    "import os.path\n",
    "import pprint\n",
    "import json\n",
    "import hashlib\n",
    "from collections import Counter\n",
    "import pandas as pd\n",
    "import numpy as np\n",
    "import matplotlib.pyplot as plt\n",
    "import matplotlib\n",
    "%matplotlib inline"
   ]
  },
  {
   "cell_type": "code",
   "execution_count": 4,
   "metadata": {},
   "outputs": [],
   "source": [
    "timestamps = [\n",
    "    '2019_06_20_12_54',  \n",
    "    '2019_06_21_13_08',  \n",
    "    '2019_06_24_12_38',  \n",
    "    '2019_06_25_13_24',  \n",
    "    '2019_07_03_15_03',  \n",
    "    '2019_07_09_11_02',  \n",
    "    '2019_07_10_17_40',  \n",
    "    '2019_07_12_11_11',\n",
    "    '2019_06_20_13_27',  \n",
    "    '2019_06_21_13_34',  \n",
    "    '2019_06_24_13_06',  \n",
    "    '2019_06_25_14_06',  \n",
    "    '2019_07_03_16_32',  \n",
    "    '2019_07_10_12_18',  \n",
    "    '2019_07_10_17_42',  \n",
    "    '2019_07_17_17_17',\n",
    "    '2019_06_20_13_45',  \n",
    "    '2019_06_21_14_25',  \n",
    "    '2019_06_24_13_31',  \n",
    "    '2019_06_27_11_33',  \n",
    "    '2019_07_08_17_13',  \n",
    "    '2019_07_10_17_19', \n",
    "    '2019_07_11_11_21',\n",
    "]\n",
    "data_folder = '/home/adrian/SingleCP_DotsReversal/raw/'\n",
    "folder_list = [data_folder + t + '/' for t in timestamps]\n",
    "metadata_file = '/home/adrian/Documents/MATLAB/projects/Analysis_SingleCP_DotsReversal/data/subj_metadata.json'"
   ]
  },
  {
   "cell_type": "markdown",
   "metadata": {},
   "source": [
    "# List of questions\n",
    "1. do I have as many timestamps in the metadata file and in my directory tree?\n",
    "2. for all FIRA files, are the column names the same?\n",
    "3. for all dots files, are the column names the same?\n",
    "4. for all FIRA files, are the column types the same?\n",
    "5. same for dots files\n",
    "6. for each FIRA file, is the taskID column consistent with the metadata?\n",
    "7. for each FIRA file, is the trialIndex column consistent with the metadata?"
   ]
  },
  {
   "cell_type": "code",
   "execution_count": 5,
   "metadata": {},
   "outputs": [],
   "source": [
    "def md5(fname):\n",
    "    \"\"\"\n",
    "    function taken from here\n",
    "    https://stackoverflow.com/a/3431838\n",
    "    :param fname: filename\n",
    "    :return: string of hexadecimal number\n",
    "    \"\"\"\n",
    "    hash_md5 = hashlib.md5()\n",
    "    with open(fname, \"rb\") as f:\n",
    "        for chunk in iter(lambda: f.read(4096), b\"\"):\n",
    "            hash_md5.update(chunk)\n",
    "    return hash_md5.hexdigest()\n",
    "\n",
    "def get_files_and_hashes(show=False, hash_map=False):\n",
    "    \"\"\"\n",
    "    builds and returns a list of dicts with fields 'FIRA', 'dots' and 'session'. The values are as follows:\n",
    "    FIRA: list of pairs of the form (<path to .csv file>, <MD5 checksum for this file>)\n",
    "    dots: same as for FIRA, but for dots data\n",
    "    session: single string representing the timestamp of the session, in the format YYYY_MM_DD_HH_mm\n",
    "    \n",
    "    for the values corresponding to the FIRA and dots keys, the absence of any file is encoded as an empty list\n",
    "    \n",
    "    :param show: (bool) whether to print the resulting list or not\n",
    "    :return: (list) described above\n",
    "    \"\"\"\n",
    "    file_names = []\n",
    "    if hash_map:\n",
    "        hashes = {}\n",
    "    for timestamp, folder_name in zip(timestamps, folder_list):\n",
    "\n",
    "        # check that the standard FIRA exists\n",
    "        filename = folder_name + timestamp + '_FIRA.csv'\n",
    "        custom = folder_name + timestamp + 'customFIRA.csv'\n",
    "        to_append = []\n",
    "        if os.path.exists(filename):\n",
    "            hash_val = md5(filename)\n",
    "            to_append.append((filename, hash_val))\n",
    "            if hash_map:\n",
    "                hashes[filename] = hash_val\n",
    "        if os.path.exists(custom):\n",
    "            has_val = md5(custom)\n",
    "            to_append.append((custom, hash_val))\n",
    "            if hash_map:\n",
    "                hashes[custom] = hash_val\n",
    "                \n",
    "        files = {'session': timestamp, 'FIRA': to_append}\n",
    "        dots = folder_name + timestamp + '_dotsPositions.csv'\n",
    "        if os.path.exists(dots):\n",
    "            hash_val = md5(dots)\n",
    "            string = [(dots, hash_val)] \n",
    "            if hash_map:\n",
    "                hashes[dots] = hash_val\n",
    "        else:\n",
    "            string = []\n",
    "        files['dots'] = string\n",
    "\n",
    "        file_names.append(files)\n",
    "    if show:\n",
    "        pprint.pprint(file_names)\n",
    "    if hash_map:\n",
    "        return file_names, hashes\n",
    "    else:\n",
    "        return file_names"
   ]
  },
  {
   "cell_type": "code",
   "execution_count": 6,
   "metadata": {},
   "outputs": [],
   "source": [
    "files_data, latest_hashes = get_files_and_hashes(show=False, hash_map=True)\n",
    "# pprint.pprint(latest_hashes)"
   ]
  },
  {
   "cell_type": "code",
   "execution_count": 7,
   "metadata": {},
   "outputs": [],
   "source": [
    "# hard code the hashes in case files change\n",
    "ref_hashes = {\n",
    " '/home/adrian/SingleCP_DotsReversal/raw/2019_06_20_12_54/2019_06_20_12_54_FIRA.csv': '046ca06830aeebb62194e3c8d2e97046',\n",
    " '/home/adrian/SingleCP_DotsReversal/raw/2019_06_20_12_54/2019_06_20_12_54_dotsPositions.csv': 'b3aff823355bb4cda726a0857fa1ba74',\n",
    " '/home/adrian/SingleCP_DotsReversal/raw/2019_06_20_13_27/2019_06_20_13_27_FIRA.csv': '8b945181914a9f1c6a4784c8899d72ed',\n",
    " '/home/adrian/SingleCP_DotsReversal/raw/2019_06_20_13_27/2019_06_20_13_27_dotsPositions.csv': '92c7f5484127202f8bc088e8e025cc9e',\n",
    " '/home/adrian/SingleCP_DotsReversal/raw/2019_06_20_13_45/2019_06_20_13_45customFIRA.csv': 'fd77b1add52105f0ceba419f72b515b4',\n",
    " '/home/adrian/SingleCP_DotsReversal/raw/2019_06_21_13_08/2019_06_21_13_08_FIRA.csv': '41485cf9922b03cd5176824887a2c99a',\n",
    " '/home/adrian/SingleCP_DotsReversal/raw/2019_06_21_13_08/2019_06_21_13_08_dotsPositions.csv': '3073e147156bdbbffa593c190de19b91',\n",
    " '/home/adrian/SingleCP_DotsReversal/raw/2019_06_21_13_34/2019_06_21_13_34customFIRA.csv': '92c7f5484127202f8bc088e8e025cc9e',\n",
    " '/home/adrian/SingleCP_DotsReversal/raw/2019_06_21_14_25/2019_06_21_14_25customFIRA.csv': 'fd77b1add52105f0ceba419f72b515b4',\n",
    " '/home/adrian/SingleCP_DotsReversal/raw/2019_06_24_12_38/2019_06_24_12_38_FIRA.csv': '20102a1b8e7d68305455bacccd6fc5cb',\n",
    " '/home/adrian/SingleCP_DotsReversal/raw/2019_06_24_12_38/2019_06_24_12_38_dotsPositions.csv': '7299c4dc38bb2e519d797b4483a83c1f',\n",
    " '/home/adrian/SingleCP_DotsReversal/raw/2019_06_24_12_38/2019_06_24_12_38customFIRA.csv': '20102a1b8e7d68305455bacccd6fc5cb',\n",
    " '/home/adrian/SingleCP_DotsReversal/raw/2019_06_24_13_06/2019_06_24_13_06_FIRA.csv': 'c8423313d1e47ba799be602d3642e4eb',\n",
    " '/home/adrian/SingleCP_DotsReversal/raw/2019_06_24_13_06/2019_06_24_13_06_dotsPositions.csv': '1be8454c740020101e4fcfc57d720b14',\n",
    " '/home/adrian/SingleCP_DotsReversal/raw/2019_06_24_13_31/2019_06_24_13_31_FIRA.csv': '78daa9667716d994f0d75f7fb87e93b4',\n",
    " '/home/adrian/SingleCP_DotsReversal/raw/2019_06_24_13_31/2019_06_24_13_31_dotsPositions.csv': '36ecb7509c192e14a68ec9476aca94ac',\n",
    " '/home/adrian/SingleCP_DotsReversal/raw/2019_06_25_13_24/2019_06_25_13_24_FIRA.csv': '92d73437503dbc26a61e15c93b963773',\n",
    " '/home/adrian/SingleCP_DotsReversal/raw/2019_06_25_13_24/2019_06_25_13_24_dotsPositions.csv': 'f1d59e1830260881749823abc670d469',\n",
    " '/home/adrian/SingleCP_DotsReversal/raw/2019_06_25_14_06/2019_06_25_14_06customFIRA.csv': '1be8454c740020101e4fcfc57d720b14',\n",
    " '/home/adrian/SingleCP_DotsReversal/raw/2019_06_27_11_33/2019_06_27_11_33customFIRA.csv': '36ecb7509c192e14a68ec9476aca94ac',\n",
    " '/home/adrian/SingleCP_DotsReversal/raw/2019_07_03_15_03/2019_07_03_15_03_FIRA.csv': '7dc6c4e1c1dcef8e3bbacdb80e926435',\n",
    " '/home/adrian/SingleCP_DotsReversal/raw/2019_07_03_15_03/2019_07_03_15_03_dotsPositions.csv': 'ddfd162fe111d466fff74d4b53657a46',\n",
    " '/home/adrian/SingleCP_DotsReversal/raw/2019_07_03_16_32/2019_07_03_16_32_FIRA.csv': '4077575d11460a76a140f3f0ee4a3153',\n",
    " '/home/adrian/SingleCP_DotsReversal/raw/2019_07_08_17_13/2019_07_08_17_13customFIRA.csv': '36ecb7509c192e14a68ec9476aca94ac',\n",
    " '/home/adrian/SingleCP_DotsReversal/raw/2019_07_09_11_02/2019_07_09_11_02customFIRA.csv': 'ddfd162fe111d466fff74d4b53657a46',\n",
    " '/home/adrian/SingleCP_DotsReversal/raw/2019_07_10_12_18/2019_07_10_12_18_FIRA.csv': '0e689f4bf92aa2c4f67eb74ee56f6046',\n",
    " '/home/adrian/SingleCP_DotsReversal/raw/2019_07_10_12_18/2019_07_10_12_18_dotsPositions.csv': '235f0964a5d2fd088aeea66c4df97fd4',\n",
    " '/home/adrian/SingleCP_DotsReversal/raw/2019_07_10_17_19/2019_07_10_17_19_FIRA.csv': 'b799cb9ceea49d9d7cb8616493228183',\n",
    " '/home/adrian/SingleCP_DotsReversal/raw/2019_07_10_17_19/2019_07_10_17_19_dotsPositions.csv': '97b178d6c061d4347582f1981a420292',\n",
    " '/home/adrian/SingleCP_DotsReversal/raw/2019_07_10_17_40/2019_07_10_17_40_FIRA.csv': 'e43b0bc86c6e02f957afbe335989c0e5',\n",
    " '/home/adrian/SingleCP_DotsReversal/raw/2019_07_10_17_42/2019_07_10_17_42customFIRA.csv': '235f0964a5d2fd088aeea66c4df97fd4',\n",
    " '/home/adrian/SingleCP_DotsReversal/raw/2019_07_11_11_21/2019_07_11_11_21customFIRA.csv': '97b178d6c061d4347582f1981a420292',\n",
    " '/home/adrian/SingleCP_DotsReversal/raw/2019_07_12_11_11/2019_07_12_11_11_FIRA.csv': 'e7dd32800d1c34722fcd049f0426005d',\n",
    " '/home/adrian/SingleCP_DotsReversal/raw/2019_07_12_11_11/2019_07_12_11_11_dotsPositions.csv': '20e2225a5eebca406372854a1beb91b7',\n",
    " '/home/adrian/SingleCP_DotsReversal/raw/2019_07_17_17_17/2019_07_17_17_17_FIRA.csv': 'f6252353958133c4fd37aba7bc0d6570',\n",
    " '/home/adrian/SingleCP_DotsReversal/raw/2019_07_17_17_17/2019_07_17_17_17_dotsPositions.csv': 'fd77b1add52105f0ceba419f72b515b4'\n",
    "}"
   ]
  },
  {
   "cell_type": "markdown",
   "metadata": {},
   "source": [
    "# answer to question 1\n",
    "do I have as many timestamps in the metadata file and in my directory tree?\n",
    "\n",
    "--> YES"
   ]
  },
  {
   "cell_type": "code",
   "execution_count": 8,
   "metadata": {},
   "outputs": [
    {
     "name": "stdout",
     "output_type": "stream",
     "text": [
      "total timestamps in notebook 23\n"
     ]
    }
   ],
   "source": [
    "# number of timestamps in notebook variable\n",
    "num_timestamps_nb = len(timestamps)\n",
    "print('total timestamps in notebook', num_timestamps_nb)"
   ]
  },
  {
   "cell_type": "code",
   "execution_count": 9,
   "metadata": {},
   "outputs": [],
   "source": [
    "# get checksum of metadata file ... \n",
    "meta_chksum = md5(metadata_file)\n",
    "# print(meta_chksum)"
   ]
  },
  {
   "cell_type": "code",
   "execution_count": 10,
   "metadata": {},
   "outputs": [],
   "source": [
    "# and hard code the first one in case file has changed\n",
    "meta_chksum_ref = '24e31da81bd43f2e2cd51df0ef111689'\n",
    "assert meta_chksum == meta_chksum_ref"
   ]
  },
  {
   "cell_type": "code",
   "execution_count": 11,
   "metadata": {},
   "outputs": [],
   "source": [
    "# number of timestamps in metadafile\n",
    "with open(metadata_file, 'r') as f:\n",
    "    meta_data = json.load(f)\n",
    "# recall: meta_data is a dict. Its keys are hash codes for subjects.\n",
    "# its values are themselves dicts, with keys session names and values dicts with session info.\n",
    "# So, to access the session info corresponding to the first session of the the first subject, do:\n",
    "# meta_data[<subj code>]['session1']"
   ]
  },
  {
   "cell_type": "code",
   "execution_count": 12,
   "metadata": {},
   "outputs": [
    {
     "name": "stdout",
     "output_type": "stream",
     "text": [
      "total timestamps in metadata file 23\n"
     ]
    }
   ],
   "source": [
    "counter = 0\n",
    "for v in meta_data.values():\n",
    "    for vv in v.values():\n",
    "#         print(vv['sessionTag'])\n",
    "        counter += 1\n",
    "print('total timestamps in metadata file', counter)"
   ]
  },
  {
   "cell_type": "code",
   "execution_count": 13,
   "metadata": {},
   "outputs": [
    {
     "name": "stdout",
     "output_type": "stream",
     "text": [
      "total number of directories in data folder\n"
     ]
    }
   ],
   "source": [
    "print('total number of directories in data folder')"
   ]
  },
  {
   "cell_type": "code",
   "execution_count": 14,
   "metadata": {},
   "outputs": [
    {
     "name": "stdout",
     "output_type": "stream",
     "text": [
      "23\r\n"
     ]
    }
   ],
   "source": [
    "!command ls /home/adrian/SingleCP_DotsReversal/raw/ | wc -l"
   ]
  },
  {
   "cell_type": "markdown",
   "metadata": {},
   "source": [
    "# answer to questions 2 - 5\n",
    "for all FIRA and DOTS files, are the column names and data types (by column) the same?\n",
    "\n",
    "--> YES"
   ]
  },
  {
   "cell_type": "code",
   "execution_count": 15,
   "metadata": {},
   "outputs": [],
   "source": [
    "def check_homogeneity():\n",
    "    \"\"\"\n",
    "    checks that all FIRA files have same column names and data types (columnwise)\n",
    "    same for DOTS files\n",
    "    \"\"\"\n",
    "    counter_f = 0\n",
    "    for file_dict in files_data:\n",
    "        for k in ['FIRA','dots']:\n",
    "            cols = []  # will be a list of dicts with key-value pairs <column name>: <dtype>\n",
    "            list_of_files = file_dict[k]\n",
    "            for filename, hhsh in list_of_files:          \n",
    "                assert ref_hashes[filename] == hhsh\n",
    "                table = pd.read_csv(filename)\n",
    "\n",
    "                # build dict with key-value pairs <column name>: <dtype>\n",
    "                types_dict = {}\n",
    "                for col in table.columns:\n",
    "                    types_dict[col] = table[col].dtype\n",
    "                cols.append(types_dict)\n",
    "\n",
    "            counter = 0\n",
    "            for new in cols:\n",
    "                if counter == 0:\n",
    "                    last = new\n",
    "                    counter += 1\n",
    "                assert set(new.keys()) == set(last.keys())\n",
    "                assert set(new.values()) == set(last.values())\n",
    "    print('TEST PASSED')"
   ]
  },
  {
   "cell_type": "code",
   "execution_count": 16,
   "metadata": {},
   "outputs": [
    {
     "name": "stdout",
     "output_type": "stream",
     "text": [
      "TEST PASSED\n"
     ]
    }
   ],
   "source": [
    "check_homogeneity()"
   ]
  },
  {
   "cell_type": "markdown",
   "metadata": {},
   "source": [
    "# answer to questions 6-7\n",
    "for each FIRA file, are the `taskID` and `trialIndex` columns consistent with the metadata?"
   ]
  },
  {
   "cell_type": "code",
   "execution_count": 17,
   "metadata": {},
   "outputs": [
    {
     "name": "stdout",
     "output_type": "stream",
     "text": [
      "example session info in meta data file\n",
      "{'Quest': {'QuestFit': [18.5, 2, 0.5, 0.001],\n",
      "           'aborted': 0,\n",
      "           'completed': 1,\n",
      "           'numTrials': 80,\n",
      "           'reward': 2},\n",
      " 'Tut1': {'aborted': 0, 'completed': 1, 'numTrials': 20, 'reward': 0},\n",
      " 'Tut2': {'aborted': 0, 'completed': 1, 'numTrials': 10, 'reward': 0},\n",
      " 'sessionTag': '2019_06_20_12_54',\n",
      " 'trialFolder': 'Blocks003'}\n"
     ]
    }
   ],
   "source": [
    "print('example session info in meta data file')\n",
    "pprint.pprint(meta_data['c577366758027956b21fcb95a8db0d1e']['session1'])"
   ]
  },
  {
   "cell_type": "code",
   "execution_count": 18,
   "metadata": {},
   "outputs": [],
   "source": [
    "def get_keys(timestamp):\n",
    "    \"\"\"\n",
    "    for a give timestamp (i.e. a session), returns the subject code and session name required to index \n",
    "    the meta_data dict appropriately to find back the session. \n",
    "    \n",
    "    Example:\n",
    "        >>> c, s = get_keys('2019_06_21_11_52')\n",
    "        >>> session_dict = meta_data[c][s]\n",
    "    \"\"\"\n",
    "    for subj_code, sessions_dict in meta_data.items():\n",
    "        for session_name, session_metadata in sessions_dict.items():\n",
    "            if session_metadata['sessionTag'] == timestamp:\n",
    "                return subj_code, session_name"
   ]
  },
  {
   "cell_type": "code",
   "execution_count": 19,
   "metadata": {},
   "outputs": [],
   "source": [
    "# c, s = get_keys('2019_06_20_12_54')\n",
    "# print(c, s)\n",
    "# pprint.pprint(meta_data[c][s])"
   ]
  },
  {
   "cell_type": "code",
   "execution_count": 20,
   "metadata": {},
   "outputs": [],
   "source": [
    "def ensure_counter(vec, sort=True):\n",
    "    if sort:\n",
    "        new_vec = np.sort(vec)\n",
    "    else:\n",
    "        new_vec = vec\n",
    "    numel = len(new_vec)\n",
    "    assert ((new_vec == np.arange(1, numel + 1)).sum() == numel), 'vector distinct from pure counter'"
   ]
  },
  {
   "cell_type": "code",
   "execution_count": 21,
   "metadata": {},
   "outputs": [
    {
     "name": "stdout",
     "output_type": "stream",
     "text": [
      "vector distinct from pure counter\n",
      "vector distinct from pure counter\n"
     ]
    }
   ],
   "source": [
    "# illustration of ensure_counter function\n",
    "\n",
    "a = np.array([1,2,3,4])\n",
    "ensure_counter(a)\n",
    "b = np.array([1,2,4])\n",
    "try:\n",
    "    ensure_counter(b)\n",
    "except AssertionError as err:\n",
    "    print(err)\n",
    "c = np.array([2,1,3,4])\n",
    "\n",
    "try:\n",
    "    ensure_counter(c, sort=False)\n",
    "except AssertionError as err:\n",
    "    print(err) \n",
    "\n",
    "ensure_counter(c)\n"
   ]
  },
  {
   "cell_type": "code",
   "execution_count": 22,
   "metadata": {},
   "outputs": [
    {
     "name": "stdout",
     "output_type": "stream",
     "text": [
      "/home/adrian/SingleCP_DotsReversal/raw/2019_06_20_12_54/2019_06_20_12_54_FIRA.csv\n",
      "{'Quest': 80, 'Block2': 204, 'type': 'data'}\n",
      "{'Tut1': 20, 'Quest': 80, 'Tut2': 10, 'type': 'metadata'}\n",
      "/home/adrian/SingleCP_DotsReversal/raw/2019_06_21_13_08/2019_06_21_13_08_FIRA.csv\n",
      "{'Quest': 80, 'Block2': 204, 'type': 'data'}\n",
      "{'Tut1': 20, 'Quest': 80, 'Tut2': 0, 'type': 'metadata'}\n",
      "/home/adrian/SingleCP_DotsReversal/raw/2019_06_24_12_38/2019_06_24_12_38_FIRA.csv\n",
      "{'Quest': 80, 'Block2': 204, 'type': 'data'}\n",
      "{'Tut1': 20, 'Quest': 80, 'Tut2': 10, 'type': 'metadata'}\n",
      "vector distinct from pure counter diagnosing ...\n",
      "  number of nans: 0\n",
      "  starting value: 1\n",
      "  repeated trial indices: [1]\n",
      "vector distinct from pure counter diagnosing ...\n",
      "  number of nans: 0\n",
      "  starting value: 1\n",
      "  repeated trial indices: [14]\n",
      "/home/adrian/SingleCP_DotsReversal/raw/2019_06_24_12_38/2019_06_24_12_38customFIRA.csv\n",
      "{'Tut1': 24, 'Quest': 81, 'Tut2': 10, 'type': 'data'}\n",
      "{'Tut1': 20, 'Quest': 80, 'Tut2': 10, 'type': 'metadata'}\n",
      "/home/adrian/SingleCP_DotsReversal/raw/2019_06_25_13_24/2019_06_25_13_24_FIRA.csv\n",
      "{'Quest': 80, 'Block2': 204, 'type': 'data'}\n",
      "{'Tut1': 5, 'Quest': 80, 'Tut2': 10, 'type': 'metadata'}\n",
      "/home/adrian/SingleCP_DotsReversal/raw/2019_07_03_15_03/2019_07_03_15_03_FIRA.csv\n",
      "{'Quest': 80, 'Block2': 204, 'Block3': 204, 'Block4': 204, 'Block5': 204, 'Block6': 204, 'Block7': 204, 'Block8': 204, 'Block9': 204, 'Block10': 204, 'Block11': 204, 'type': 'data'}\n",
      "{'Tut1': 13, 'Quest': 80, 'Tut2': 10, 'Block2': 204, 'Tut3': 0, 'Block3': 0, 'Block4': 0, 'Block5': 1, 'Block6': 0, 'Block7': 0, 'Block8': 0, 'Block9': 204, 'Block10': 204, 'Block11': 204, 'type': 'metadata'}\n",
      "vector distinct from pure counter diagnosing ...\n",
      "  number of nans: 0\n",
      "  starting value: 1\n",
      "  repeated trial indices: [31, 97, 176, 182]\n",
      "vector distinct from pure counter diagnosing ...\n",
      "  number of nans: 0\n",
      "  starting value: 1\n",
      "  repeated trial indices: [79]\n",
      "vector distinct from pure counter diagnosing ...\n",
      "  number of nans: 0\n",
      "  starting value: 1\n",
      "  repeated trial indices: [93]\n",
      "/home/adrian/SingleCP_DotsReversal/raw/2019_07_09_11_02/2019_07_09_11_02customFIRA.csv\n",
      "{'Tut1': 20, 'Quest': 80, 'Tut2': 10, 'Block2': 204, 'Tut3': 13, 'Block3': 209, 'Block4': 205, 'Block5': 206, 'Block6': 204, 'type': 'data'}\n",
      "{'Tut1': 20, 'Quest': 80, 'Tut2': 10, 'Block2': 204, 'Tut3': 12, 'Block3': 204, 'Block4': 204, 'Block5': 204, 'Block6': 204, 'Block7': 204, 'type': 'metadata'}\n",
      "/home/adrian/SingleCP_DotsReversal/raw/2019_07_10_17_40/2019_07_10_17_40_FIRA.csv\n",
      "{'Quest': 80, 'Block2': 204, 'Block3': 204, 'Block4': 204, 'type': 'data'}\n",
      "{'Tut1': 0, 'Quest': 0, 'Tut2': 0, 'Block2': 0, 'Tut3': 0, 'Block3': 0, 'Block4': 0, 'type': 'metadata'}\n",
      "/home/adrian/SingleCP_DotsReversal/raw/2019_07_12_11_11/2019_07_12_11_11_FIRA.csv\n",
      "{'Quest': 80, 'Block2': 204, 'Block3': 204, 'Block4': 204, 'Block5': 204, 'Block6': 204, 'Block7': 204, 'Block8': 204, 'Block9': 204, 'Block10': 204, 'Block11': 204, 'type': 'data'}\n",
      "{'Tut1': 4, 'Quest': 80, 'Tut2': 10, 'Block2': 204, 'Tut3': 3, 'Block3': 0, 'Block4': 0, 'Block5': 0, 'Block6': 0, 'Block7': 204, 'Block8': 204, 'Block9': 204, 'Block10': 204, 'Block11': 204, 'type': 'metadata'}\n",
      "/home/adrian/SingleCP_DotsReversal/raw/2019_06_20_13_27/2019_06_20_13_27_FIRA.csv\n",
      "{'Quest': 80, 'Block2': 204, 'type': 'data'}\n",
      "{'Tut1': 0, 'Quest': 0, 'Tut2': 10, 'type': 'metadata'}\n",
      "vector distinct from pure counter diagnosing ...\n",
      "  number of nans: 0\n",
      "  starting value: 1\n",
      "  repeated trial indices: [1]\n",
      "vector distinct from pure counter diagnosing ...\n",
      "  number of nans: 0\n",
      "  starting value: 1\n",
      "  repeated trial indices: [15, 28]\n",
      "/home/adrian/SingleCP_DotsReversal/raw/2019_06_21_13_34/2019_06_21_13_34customFIRA.csv\n",
      "{'Tut1': 2, 'Quest': 1, 'Tut2': 1, 'Block2': 1, 'Tut3': 1, 'Block3': 208, 'type': 'data'}\n",
      "{'Tut1': 0, 'Quest': 0, 'Tut2': 0, 'Block2': 0, 'Tut3': 0, 'Block3': 204, 'Block4': 204, 'Block5': 0, 'Block6': 0, 'type': 'metadata'}\n",
      "/home/adrian/SingleCP_DotsReversal/raw/2019_06_24_13_06/2019_06_24_13_06_FIRA.csv\n",
      "{'Quest': 80, 'Block2': 204, 'Block3': 204, 'type': 'data'}\n",
      "{'Tut1': 0, 'Quest': 0, 'Tut2': 0, 'Block2': 0, 'Tut3': 10, 'Block3': 113, 'type': 'metadata'}\n",
      "vector distinct from pure counter diagnosing ...\n",
      "  number of nans: 0\n",
      "  starting value: 1\n",
      "  repeated trial indices: [6]\n",
      "vector distinct from pure counter diagnosing ...\n",
      "  number of nans: 0\n",
      "  starting value: 1\n",
      "  repeated trial indices: [1, 135]\n",
      "vector distinct from pure counter diagnosing ...\n",
      "  number of nans: 0\n",
      "  starting value: 1\n",
      "  repeated trial indices: [29, 37, 54, 107, 130, 140]\n",
      "vector distinct from pure counter diagnosing ...\n",
      "  number of nans: 0\n",
      "  starting value: 1\n",
      "  repeated trial indices: [9, 20, 29, 57, 95, 96, 110, 112, 200]\n",
      "/home/adrian/SingleCP_DotsReversal/raw/2019_06_25_14_06/2019_06_25_14_06customFIRA.csv\n",
      "{'Block2': 1, 'Tut3': 9, 'Block5': 206, 'Block6': 212, 'Block7': 216, 'type': 'data'}\n",
      "{'Tut1': 0, 'Quest': 0, 'Tut2': 0, 'Block2': 1, 'Tut3': 7, 'Block3': 0, 'Block4': 0, 'Block5': 204, 'Block6': 204, 'Block7': 204, 'Block8': 160, 'type': 'metadata'}\n",
      "/home/adrian/SingleCP_DotsReversal/raw/2019_07_03_16_32/2019_07_03_16_32_FIRA.csv\n",
      "{'Quest': 80, 'Block2': 204, 'Block3': 204, 'Block4': 204, 'type': 'data'}\n",
      "{'Tut1': 0, 'Quest': 0, 'Tut2': 0, 'Block2': 0, 'Tut3': 0, 'Block3': 0, 'Block4': 0, 'type': 'metadata'}\n",
      "/home/adrian/SingleCP_DotsReversal/raw/2019_07_10_12_18/2019_07_10_12_18_FIRA.csv\n",
      "{'Quest': 80, 'Block2': 204, 'Block3': 204, 'Block4': 204, 'Block5': 204, 'Block6': 204, 'Block7': 204, 'Block8': 204, 'Block9': 204, 'Block10': 204, 'Block11': 204, 'type': 'data'}\n",
      "{'Tut1': 4, 'Quest': 80, 'Tut2': 3, 'Block2': 204, 'Tut3': 3, 'Block3': 0, 'Block4': 0, 'Block5': 0, 'Block6': 0, 'Block7': 0, 'Block8': 204, 'Block9': 204, 'Block10': 204, 'Block11': 204, 'type': 'metadata'}\n",
      "/home/adrian/SingleCP_DotsReversal/raw/2019_07_10_17_42/2019_07_10_17_42customFIRA.csv\n",
      "{'Block6': 204, 'Block7': 204, 'type': 'data'}\n",
      "{'Tut1': 0, 'Quest': 0, 'Tut2': 0, 'Block2': 0, 'Tut3': 0, 'Block3': 0, 'Block4': 0, 'Block5': 0, 'Block6': 204, 'Block7': 204, 'Block8': 204, 'type': 'metadata'}\n",
      "/home/adrian/SingleCP_DotsReversal/raw/2019_07_17_17_17/2019_07_17_17_17_FIRA.csv\n",
      "{'Quest': 80, 'Block2': 204, 'Block3': 204, 'Block4': 204, 'Block5': 204, 'Block6': 204, 'Block7': 204, 'Block8': 204, 'Block9': 204, 'Block10': 204, 'Block11': 204, 'type': 'data'}\n",
      "{'Tut1': 4, 'Quest': 80, 'Tut2': 2, 'Block2': 204, 'Tut3': 2, 'Block3': 0, 'Block4': 0, 'Block5': 0, 'Block6': 0, 'Block7': 0, 'Block8': 204, 'Block9': 204, 'Block10': 204, 'Block11': 204, 'type': 'metadata'}\n",
      "vector distinct from pure counter diagnosing ...\n",
      "  number of nans: 0\n",
      "  starting value: 1\n",
      "  repeated trial indices: [3, 6, 9]\n",
      "vector distinct from pure counter diagnosing ...\n",
      "  number of nans: 0\n",
      "  starting value: 1\n",
      "  repeated trial indices: [55, 107, 199]\n",
      "vector distinct from pure counter diagnosing ...\n",
      "  number of nans: 0\n",
      "  starting value: 1\n",
      "  repeated trial indices: [1, 94, 174]\n",
      "/home/adrian/SingleCP_DotsReversal/raw/2019_06_20_13_45/2019_06_20_13_45customFIRA.csv\n",
      "{'Tut1': 1, 'Quest': 1, 'Block2': 1, 'Tut3': 23, 'Block3': 207, 'Block4': 207, 'type': 'data'}\n",
      "{'Tut1': 0, 'Quest': 1, 'Tut2': 0, 'Block2': 1, 'Tut3': 20, 'Block3': 204, 'Block4': 204, 'Block5': 204, 'type': 'metadata'}\n",
      "vector distinct from pure counter diagnosing ...\n",
      "  number of nans: 0\n",
      "  starting value: 1\n",
      "  repeated trial indices: [1, 168]\n",
      "/home/adrian/SingleCP_DotsReversal/raw/2019_06_21_14_25/2019_06_21_14_25customFIRA.csv\n",
      "{'Tut1': 1, 'Quest': 1, 'Block4': 1, 'Block6': 216, 'type': 'data'}\n",
      "{'Tut1': 1, 'Quest': 1, 'Tut2': 0, 'Block2': 0, 'Tut3': 0, 'Block3': 0, 'Block4': 0, 'Block5': 0, 'Block6': 204, 'Block7': 204, 'type': 'metadata'}\n",
      "/home/adrian/SingleCP_DotsReversal/raw/2019_06_24_13_31/2019_06_24_13_31_FIRA.csv\n",
      "{'Quest': 80, 'Block2': 204, 'Block3': 204, 'Block4': 204, 'Block5': 204, 'type': 'data'}\n",
      "{'Tut1': 1, 'Quest': 1, 'Tut2': 0, 'Block2': 0, 'Tut3': 0, 'Block3': 204, 'Block4': 204, 'Block5': 0, 'type': 'metadata'}\n",
      "vector distinct from pure counter diagnosing ...\n",
      "  number of nans: 0\n",
      "  starting value: 1\n",
      "  repeated trial indices: [1]\n",
      "vector distinct from pure counter diagnosing ...\n",
      "  number of nans: 0\n",
      "  starting value: 1\n",
      "  repeated trial indices: [75]\n",
      "vector distinct from pure counter diagnosing ...\n",
      "  number of nans: 0\n",
      "  starting value: 1\n",
      "  repeated trial indices: [113, 195]\n",
      "vector distinct from pure counter diagnosing ...\n",
      "  number of nans: 0\n",
      "  starting value: 1\n",
      "  repeated trial indices: [33, 42, 47, 97]\n",
      "vector distinct from pure counter diagnosing ...\n",
      "  number of nans: 0\n",
      "  starting value: 1\n",
      "  repeated trial indices: [5, 92, 136, 191, 193]\n",
      "/home/adrian/SingleCP_DotsReversal/raw/2019_06_27_11_33/2019_06_27_11_33customFIRA.csv\n",
      "{'Tut1': 22, 'Quest': 81, 'Block2': 206, 'Block6': 211, 'Block7': 231, 'type': 'data'}\n",
      "{'Tut1': 20, 'Quest': 80, 'Tut2': 0, 'Block2': 204, 'Tut3': 0, 'Block5': 0, 'Block6': 0, 'Block7': 0, 'Block8': 204, 'Block9': 204, 'Block10': 204, 'type': 'metadata'}\n",
      "vector distinct from pure counter diagnosing ...\n",
      "  number of nans: 0\n",
      "  starting value: 1\n",
      "  repeated trial indices: [61]\n",
      "vector distinct from pure counter diagnosing ...\n",
      "  number of nans: 0\n",
      "  starting value: 1\n",
      "  repeated trial indices: [139]\n",
      "vector distinct from pure counter diagnosing ...\n",
      "  number of nans: 0\n",
      "  starting value: 1\n",
      "  repeated trial indices: [72, 107]\n",
      "/home/adrian/SingleCP_DotsReversal/raw/2019_07_08_17_13/2019_07_08_17_13customFIRA.csv\n",
      "{'Tut1': 20, 'Quest': 81, 'Tut2': 10, 'Block2': 204, 'Tut3': 9, 'Block3': 205, 'Block4': 206, 'type': 'data'}\n",
      "{'Tut1': 20, 'Quest': 80, 'Tut2': 10, 'Block2': 204, 'Tut3': 8, 'Block3': 204, 'Block4': 204, 'Block5': 204, 'type': 'metadata'}\n",
      "/home/adrian/SingleCP_DotsReversal/raw/2019_07_10_17_19/2019_07_10_17_19_FIRA.csv\n",
      "{'Quest': 80, 'Block2': 204, 'Block3': 204, 'type': 'data'}\n",
      "{'Tut1': 6, 'Quest': 80, 'Tut2': 4, 'Block2': 204, 'Tut3': 2, 'Block3': 0, 'type': 'metadata'}\n",
      "vector distinct from pure counter diagnosing ...\n",
      "  number of nans: 0\n",
      "  starting value: 1\n",
      "  repeated trial indices: [1]\n",
      "vector distinct from pure counter diagnosing ...\n",
      "  number of nans: 0\n",
      "  starting value: 1\n",
      "  repeated trial indices: [84, 179, 181]\n",
      "vector distinct from pure counter diagnosing ...\n",
      "  number of nans: 0\n",
      "  starting value: 1\n",
      "  repeated trial indices: [35]\n",
      "/home/adrian/SingleCP_DotsReversal/raw/2019_07_11_11_21/2019_07_11_11_21customFIRA.csv\n",
      "{'Tut1': 24, 'Quest': 80, 'Tut2': 10, 'Block2': 208, 'Tut3': 12, 'Block3': 204, 'Block4': 204, 'Block5': 205, 'type': 'data'}\n",
      "{'Tut1': 20, 'Quest': 80, 'Tut2': 10, 'Block2': 204, 'Tut3': 11, 'Block3': 204, 'Block4': 204, 'Block5': 204, 'Block6': 204, 'type': 'metadata'}\n"
     ]
    }
   ],
   "source": [
    "# the following dict should match the row order of DefaultBlockSequence.csv\n",
    "mapping_task_type_id_name = {\n",
    "    1: 'Tut1',\n",
    "    2: 'Quest',\n",
    "    3: 'Tut2',\n",
    "    4: 'Block2',\n",
    "    5: 'Tut3',\n",
    "    6: 'Block3',\n",
    "    7: 'Block4',\n",
    "    8: 'Block5',\n",
    "    9: 'Block6',\n",
    "    10: 'Block7',\n",
    "    11: 'Block8',\n",
    "    12: 'Block9',\n",
    "    13: 'Block10',\n",
    "    14: 'Block11'\n",
    "}\n",
    "counter = 0\n",
    "for file_dict in files_data:\n",
    "    time_stamp = file_dict['session']\n",
    "    c, s = get_keys(time_stamp)\n",
    "    meta = meta_data[c][s]\n",
    "    for filename, hhsh in file_dict['FIRA']:\n",
    "        assert ref_hashes[filename] == hhsh\n",
    "        \n",
    "        table = pd.read_csv(filename)\n",
    "\n",
    "        # check the taskID\n",
    "        # taskID should start at 1 and increment by one for each task (block) performed in a single session\n",
    "        task_ids = table['taskID'].unique()\n",
    "        task_ids.sort()\n",
    "       \n",
    "\n",
    "        # data from data file\n",
    "        block_names_data = [mapping_task_type_id_name[x] for x in task_ids]\n",
    "        num_trials_data = []\n",
    "        for tid in task_ids:\n",
    "            sub_table = table[table['taskID'] == tid].copy()\n",
    "            num_trials = len(sub_table)\n",
    "            if num_trials > 0:\n",
    "                table_trial_indices = sub_table['trialIndex'].to_numpy()\n",
    "#                 table_trial_indices.sort()\n",
    "                assert len(table_trial_indices) == num_trials\n",
    "            \n",
    "                # todo: if trialIndex is NOT a pure counter, possibilities are: \n",
    "                #       1/ there are np.nan values; \n",
    "                #       2/ counter doesn't start at 1\n",
    "                #       3/ there are repeats (should be consecutive though)\n",
    "                #       4/ after accounting for 1-3 above, the order is still not a pure counter, meaning:\n",
    "                #            a) order might not be increasing\n",
    "                #            b) some values are skipped\n",
    "                try:\n",
    "                    ensure_counter(table_trial_indices)\n",
    "                except AssertionError as err:\n",
    "                    print(err, 'diagnosing ...')\n",
    "                    print('  number of nans:', np.count_nonzero(np.isnan(table_trial_indices)))\n",
    "                    print('  starting value:', table_trial_indices[0])\n",
    "                    # following line taken from https://stackoverflow.com/a/11528581\n",
    "                    repeated_indices = [i for i, count in Counter(table_trial_indices).items() if count > 1]\n",
    "                    print('  repeated trial indices:', repeated_indices)\n",
    "                else:\n",
    "                    # todo: even if trialIndex behaves as a pure counter, confirm that the stimulus\n",
    "                    #       presented on each trial has the same properties as the planned one (from Blocki.csv)\n",
    "                    pass\n",
    "            num_trials_data.append(num_trials)\n",
    "            \n",
    "        # data from metadata\n",
    "        block_names_meta = [s for s in meta.keys() if s in mapping_task_type_id_name.values()]\n",
    "        num_trials_meta = [meta[nn]['numTrials'] for nn in block_names_meta]\n",
    "        \n",
    "\n",
    "        print(filename)\n",
    "        data_dict = {n: nn for n, nn in zip(block_names_data, num_trials_data)}\n",
    "        data_dict['type'] = 'data'\n",
    "        print(data_dict)\n",
    "        meta_dict = {n: nn for n, nn in zip(block_names_meta, num_trials_meta)}\n",
    "        meta_dict['type'] = 'metadata'\n",
    "        print(meta_dict)\n"
   ]
  }
 ],
 "metadata": {
  "kernelspec": {
   "display_name": "R (r-environment)",
   "language": "python",
   "name": "r-environment"
  },
  "language_info": {
   "codemirror_mode": {
    "name": "ipython",
    "version": 3
   },
   "file_extension": ".py",
   "mimetype": "text/x-python",
   "name": "python",
   "nbconvert_exporter": "python",
   "pygments_lexer": "ipython3",
   "version": "3.7.3"
  },
  "latex_envs": {
   "LaTeX_envs_menu_present": true,
   "autoclose": false,
   "autocomplete": true,
   "bibliofile": "biblio.bib",
   "cite_by": "apalike",
   "current_citInitial": 1,
   "eqLabelWithNumbers": true,
   "eqNumInitial": 1,
   "hotkeys": {
    "equation": "Ctrl-E",
    "itemize": "Ctrl-I"
   },
   "labels_anchors": false,
   "latex_user_defs": false,
   "report_style_numbering": false,
   "user_envs_cfg": false
  },
  "toc": {
   "base_numbering": 1,
   "nav_menu": {},
   "number_sections": true,
   "sideBar": true,
   "skip_h1_title": false,
   "title_cell": "Table of Contents",
   "title_sidebar": "Contents",
   "toc_cell": true,
   "toc_position": {},
   "toc_section_display": true,
   "toc_window_display": true
  }
 },
 "nbformat": 4,
 "nbformat_minor": 2
}
