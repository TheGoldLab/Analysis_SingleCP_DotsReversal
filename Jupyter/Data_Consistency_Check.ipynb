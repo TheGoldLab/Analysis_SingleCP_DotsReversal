{
 "cells": [
  {
   "cell_type": "code",
   "execution_count": 1,
   "metadata": {},
   "outputs": [],
   "source": [
    "from IPython.display import HTML"
   ]
  },
  {
   "cell_type": "code",
   "execution_count": 2,
   "metadata": {},
   "outputs": [],
   "source": [
    "# HTML('''<script>\n",
    "# code_show=true; \n",
    "# function code_toggle() {\n",
    "#  if (code_show){\n",
    "#  $('div.input').hide();\n",
    "#  } else {\n",
    "#  $('div.input').show();\n",
    "#  }\n",
    "#  code_show = !code_show\n",
    "# } \n",
    "# $( document ).ready(code_toggle);\n",
    "# </script>\n",
    "# <a href=\"javascript:code_toggle()\">TOGGLE CODE ON/OFF</a>.''')"
   ]
  },
  {
   "cell_type": "markdown",
   "metadata": {
    "toc": true
   },
   "source": [
    "<h1>Table of Contents<span class=\"tocSkip\"></span></h1>\n",
    "<div class=\"toc\"><ul class=\"toc-item\"><li><span><a href=\"#List-of-questions\" data-toc-modified-id=\"List-of-questions-1\"><span class=\"toc-item-num\">1&nbsp;&nbsp;</span>List of questions</a></span></li><li><span><a href=\"#answer-to-question-1\" data-toc-modified-id=\"answer-to-question-1-2\"><span class=\"toc-item-num\">2&nbsp;&nbsp;</span>answer to question 1</a></span></li><li><span><a href=\"#answer-to-questions-2---5\" data-toc-modified-id=\"answer-to-questions-2---5-3\"><span class=\"toc-item-num\">3&nbsp;&nbsp;</span>answer to questions 2 - 5</a></span></li><li><span><a href=\"#answer-to-questions-6-7\" data-toc-modified-id=\"answer-to-questions-6-7-4\"><span class=\"toc-item-num\">4&nbsp;&nbsp;</span>answer to questions 6-7</a></span></li><li><span><a href=\"#produce-valid-metadata\" data-toc-modified-id=\"produce-valid-metadata-5\"><span class=\"toc-item-num\">5&nbsp;&nbsp;</span>produce valid metadata</a></span></li></ul></div>"
   ]
  },
  {
   "cell_type": "markdown",
   "metadata": {},
   "source": [
    "Import and set constants"
   ]
  },
  {
   "cell_type": "code",
   "execution_count": 11,
   "metadata": {},
   "outputs": [
    {
     "ename": "ModuleNotFoundError",
     "evalue": "No module named 'consistency_checks'",
     "output_type": "error",
     "traceback": [
      "\u001b[0;31m---------------------------------------------------------------------------\u001b[0m",
      "\u001b[0;31mModuleNotFoundError\u001b[0m                       Traceback (most recent call last)",
      "\u001b[0;32m<ipython-input-11-05f9fa5ddca4>\u001b[0m in \u001b[0;36m<module>\u001b[0;34m\u001b[0m\n\u001b[1;32m      7\u001b[0m \u001b[0;32mimport\u001b[0m \u001b[0mpandas\u001b[0m \u001b[0;32mas\u001b[0m \u001b[0mpd\u001b[0m\u001b[0;34m\u001b[0m\u001b[0;34m\u001b[0m\u001b[0m\n\u001b[1;32m      8\u001b[0m \u001b[0;32mimport\u001b[0m \u001b[0mnumpy\u001b[0m \u001b[0;32mas\u001b[0m \u001b[0mnp\u001b[0m\u001b[0;34m\u001b[0m\u001b[0;34m\u001b[0m\u001b[0m\n\u001b[0;32m----> 9\u001b[0;31m \u001b[0;32mfrom\u001b[0m \u001b[0mconsistency_checks\u001b[0m \u001b[0;32mimport\u001b[0m \u001b[0;34m*\u001b[0m\u001b[0;34m\u001b[0m\u001b[0;34m\u001b[0m\u001b[0m\n\u001b[0m\u001b[1;32m     10\u001b[0m \u001b[0;31m# import matplotlib.pyplot as plt\u001b[0m\u001b[0;34m\u001b[0m\u001b[0;34m\u001b[0m\u001b[0;34m\u001b[0m\u001b[0m\n\u001b[1;32m     11\u001b[0m \u001b[0;31m# import matplotlib\u001b[0m\u001b[0;34m\u001b[0m\u001b[0;34m\u001b[0m\u001b[0;34m\u001b[0m\u001b[0m\n",
      "\u001b[0;31mModuleNotFoundError\u001b[0m: No module named 'consistency_checks'"
     ]
    }
   ],
   "source": [
    "import os.path\n",
    "import sys\n",
    "import pprint\n",
    "import json\n",
    "import hashlib\n",
    "from collections import Counter\n",
    "import pandas as pd\n",
    "import numpy as np\n",
    "from consistency_checks import *\n",
    "# import matplotlib.pyplot as plt\n",
    "# import matplotlib\n",
    "# %matplotlib inline"
   ]
  },
  {
   "cell_type": "markdown",
   "metadata": {},
   "source": [
    "# List of questions\n",
    "1. do I have as many timestamps in the metadata file and in my directory tree?\n",
    "2. for all FIRA files, are the column names the same?\n",
    "3. for all dots files, are the column names the same?\n",
    "4. for all FIRA files, are the column types the same?\n",
    "5. same for dots files\n",
    "6. for each FIRA file, is the taskID column consistent with the metadata?\n",
    "7. for each FIRA file, is the trialIndex column consistent with the metadata?"
   ]
  },
  {
   "cell_type": "markdown",
   "metadata": {},
   "source": [
    "# answer to question 1\n",
    "do I have as many timestamps in the metadata file and in my directory tree?\n",
    "\n",
    "--> YES"
   ]
  },
  {
   "cell_type": "code",
   "execution_count": 14,
   "metadata": {},
   "outputs": [
    {
     "name": "stdout",
     "output_type": "stream",
     "text": [
      "23\r\n"
     ]
    }
   ],
   "source": [
    "!command ls /home/adrian/SingleCP_DotsReversal/raw/ | wc -l"
   ]
  },
  {
   "cell_type": "markdown",
   "metadata": {},
   "source": [
    "# answer to questions 2 - 5\n",
    "for all FIRA and DOTS files, are the column names and data types (by column) the same?\n",
    "\n",
    "--> YES"
   ]
  },
  {
   "cell_type": "code",
   "execution_count": 15,
   "metadata": {},
   "outputs": [
    {
     "name": "stdout",
     "output_type": "stream",
     "text": [
      "TEST PASSED\n"
     ]
    }
   ],
   "source": [
    "# check_homogeneity(files_data, ref_hashes)"
   ]
  },
  {
   "cell_type": "markdown",
   "metadata": {},
   "source": [
    "# answer to questions 6-7\n",
    "for each FIRA file, are the `taskID` and `trialIndex` columns consistent with the metadata?"
   ]
  },
  {
   "cell_type": "code",
   "execution_count": null,
   "metadata": {},
   "outputs": [],
   "source": [
    "# the_real_deal = consistency_log('inconsistencies.txt', files_data, meta_data, ref_hashes, mapping_task_type_id_name)"
   ]
  },
  {
   "cell_type": "markdown",
   "metadata": {},
   "source": [
    "# produce valid metadata"
   ]
  },
  {
   "cell_type": "markdown",
   "metadata": {},
   "source": [
    "The idea is to use the structure of `meta_data` as a starting point, and create a new metadata file that will go into the processed folder.\n",
    "\n",
    "First of all, a static mapping from hash codes to human-readable labels for subjects (S1, S5) has to be implemented (this is done in the cell below).\n",
    "\n",
    "Second of all, each session needs a start and end time.\n",
    "\n",
    "Third of all, only info on blocks that have been matched with the theoretical trial sequences should appear (+ the Quest blocks)."
   ]
  },
  {
   "cell_type": "code",
   "execution_count": 28,
   "metadata": {},
   "outputs": [
    {
     "name": "stdout",
     "output_type": "stream",
     "text": [
      "{'S1': 'c577366758027956b21fcb95a8db0d1e',\n",
      " 'S2': 'x30bdd3d8ad24d522dc158030fb5c18d7',\n",
      " 'S3': 'c71c3808bc33ba05928e1bc5f93a9078',\n",
      " 'S4': 'x5f5dbb54ed21cfeb4ac045e0328181cc',\n",
      " 'S5': 'x648f9ad78ad1211c172d1a1cd2c5af3f'}\n"
     ]
    }
   ],
   "source": [
    "k=list(meta_data.keys())\n",
    "num_subjects = len(k)\n",
    "static_mapping = {'S'+str(i+1):k[i] for i in range(num_subjects)}\n",
    "pprint.pprint(static_mapping)"
   ]
  },
  {
   "cell_type": "code",
   "execution_count": null,
   "metadata": {},
   "outputs": [],
   "source": []
  },
  {
   "cell_type": "code",
   "execution_count": 10,
   "metadata": {},
   "outputs": [
    {
     "ename": "NameError",
     "evalue": "name 'meta_data' is not defined",
     "output_type": "error",
     "traceback": [
      "\u001b[0;31m---------------------------------------------------------------------------\u001b[0m",
      "\u001b[0;31mNameError\u001b[0m                                 Traceback (most recent call last)",
      "\u001b[0;32m<ipython-input-10-0c45618ec35c>\u001b[0m in \u001b[0;36m<module>\u001b[0;34m\u001b[0m\n\u001b[0;32m----> 1\u001b[0;31m \u001b[0mprint\u001b[0m\u001b[0;34m(\u001b[0m\u001b[0mmeta_data\u001b[0m\u001b[0;34m)\u001b[0m\u001b[0;34m\u001b[0m\u001b[0;34m\u001b[0m\u001b[0m\n\u001b[0m",
      "\u001b[0;31mNameError\u001b[0m: name 'meta_data' is not defined"
     ]
    }
   ],
   "source": [
    "print(meta_data)"
   ]
  }
 ],
 "metadata": {
  "kernelspec": {
   "display_name": "R (r-environment)",
   "language": "python",
   "name": "r-environment"
  },
  "language_info": {
   "codemirror_mode": {
    "name": "ipython",
    "version": 3
   },
   "file_extension": ".py",
   "mimetype": "text/x-python",
   "name": "python",
   "nbconvert_exporter": "python",
   "pygments_lexer": "ipython3",
   "version": "3.7.3"
  },
  "latex_envs": {
   "LaTeX_envs_menu_present": true,
   "autoclose": false,
   "autocomplete": true,
   "bibliofile": "biblio.bib",
   "cite_by": "apalike",
   "current_citInitial": 1,
   "eqLabelWithNumbers": true,
   "eqNumInitial": 1,
   "hotkeys": {
    "equation": "Ctrl-E",
    "itemize": "Ctrl-I"
   },
   "labels_anchors": false,
   "latex_user_defs": false,
   "report_style_numbering": false,
   "user_envs_cfg": false
  },
  "toc": {
   "base_numbering": 1,
   "nav_menu": {},
   "number_sections": true,
   "sideBar": true,
   "skip_h1_title": false,
   "title_cell": "Table of Contents",
   "title_sidebar": "Contents",
   "toc_cell": true,
   "toc_position": {},
   "toc_section_display": true,
   "toc_window_display": true
  }
 },
 "nbformat": 4,
 "nbformat_minor": 2
}
