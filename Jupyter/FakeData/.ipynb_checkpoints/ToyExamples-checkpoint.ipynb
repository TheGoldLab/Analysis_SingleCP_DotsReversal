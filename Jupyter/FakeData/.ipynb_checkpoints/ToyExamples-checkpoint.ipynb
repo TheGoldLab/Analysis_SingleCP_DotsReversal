{
 "cells": [
  {
   "cell_type": "markdown",
   "metadata": {},
   "source": [
    "# Create fake data"
   ]
  },
  {
   "cell_type": "code",
   "execution_count": 1,
   "metadata": {},
   "outputs": [],
   "source": [
    "library(data.table)\n",
    "library(ggplot2)"
   ]
  },
  {
   "cell_type": "code",
   "execution_count": 2,
   "metadata": {},
   "outputs": [],
   "source": [
    "num_trials <- 500\n",
    "VD <- sample(c(100,400), replace=TRUE, size=num_trials)\n",
    "Correct <- sample(c(0,1), replace=TRUE, size=num_trials)"
   ]
  },
  {
   "cell_type": "code",
   "execution_count": 3,
   "metadata": {},
   "outputs": [],
   "source": [
    "table <- data.table(VD=VD, Correct=Correct)"
   ]
  },
  {
   "cell_type": "code",
   "execution_count": 5,
   "metadata": {},
   "outputs": [
    {
     "data": {
      "text/html": [
       "<table>\n",
       "<thead><tr><th scope=col>VD</th><th scope=col>Correct</th></tr></thead>\n",
       "<tbody>\n",
       "\t<tr><td>400</td><td>1  </td></tr>\n",
       "\t<tr><td>400</td><td>1  </td></tr>\n",
       "\t<tr><td>100</td><td>0  </td></tr>\n",
       "\t<tr><td>400</td><td>1  </td></tr>\n",
       "\t<tr><td>100</td><td>1  </td></tr>\n",
       "\t<tr><td>400</td><td>1  </td></tr>\n",
       "</tbody>\n",
       "</table>\n"
      ],
      "text/latex": [
       "\\begin{tabular}{r|ll}\n",
       " VD & Correct\\\\\n",
       "\\hline\n",
       "\t 400 & 1  \\\\\n",
       "\t 400 & 1  \\\\\n",
       "\t 100 & 0  \\\\\n",
       "\t 400 & 1  \\\\\n",
       "\t 100 & 1  \\\\\n",
       "\t 400 & 1  \\\\\n",
       "\\end{tabular}\n"
      ],
      "text/markdown": [
       "\n",
       "| VD | Correct |\n",
       "|---|---|\n",
       "| 400 | 1   |\n",
       "| 400 | 1   |\n",
       "| 100 | 0   |\n",
       "| 400 | 1   |\n",
       "| 100 | 1   |\n",
       "| 400 | 1   |\n",
       "\n"
      ],
      "text/plain": [
       "  VD  Correct\n",
       "1 400 1      \n",
       "2 400 1      \n",
       "3 100 0      \n",
       "4 400 1      \n",
       "5 100 1      \n",
       "6 400 1      "
      ]
     },
     "metadata": {},
     "output_type": "display_data"
    }
   ],
   "source": [
    "head(table)"
   ]
  },
  {
   "cell_type": "markdown",
   "metadata": {},
   "source": [
    "# Compare proportions"
   ]
  },
  {
   "cell_type": "markdown",
   "metadata": {},
   "source": [
    "Good ref: https://stats.libretexts.org/Bookshelves/Introductory_Statistics/Book%3A_Introductory_Statistics_(Shafer_and_Zhang)/09%3A_Two-Sample_Problems/9.4%3A_Comparison_of_Two_Population_Proportions"
   ]
  },
  {
   "cell_type": "markdown",
   "metadata": {},
   "source": [
    "Let's compute $\\hat{p}_1$ and $\\hat{p}_2$. "
   ]
  },
  {
   "cell_type": "code",
   "execution_count": 11,
   "metadata": {},
   "outputs": [
    {
     "name": "stdout",
     "output_type": "stream",
     "text": [
      "[1] 0.5123967\n",
      "[1] 0.5620155\n"
     ]
    }
   ],
   "source": [
    "numTrials100 <- table[VD==100, .N]\n",
    "numTrials400 <- table[VD==400, .N]\n",
    "numCorrect100 <- table[VD==100, sum(Correct)]\n",
    "numCorrect400 <- table[VD==400, sum(Correct)]\n",
    "p1hat <- numCorrect100 / numTrials100\n",
    "p2hat <- numCorrect400 / numTrials400\n",
    "print(p1hat) \n",
    "print(p2hat)"
   ]
  },
  {
   "cell_type": "code",
   "execution_count": 16,
   "metadata": {},
   "outputs": [],
   "source": [
    "# function that computes one half of the confidence interval when comparing proportions\n",
    "compute_margin_CI <- function (p, samplesize) {\n",
    "    return(3 * sqrt( p*(1-p)/samplesize))\n",
    "}\n",
    "\n",
    "# function to compute the Z statistic when comparing two proportions\n",
    "compute_z_stat <- function (p1,p2,n1,n2) {\n",
    "    frac1 <- p1*(1-p1) / n1\n",
    "    frac2 <- p2*(1-p2) / n2\n",
    "    return((p1-p2) / sqrt(frac1 + frac2))\n",
    "}"
   ]
  },
  {
   "cell_type": "markdown",
   "metadata": {},
   "source": [
    "Let's check that we had enough samples. Everything below should fall within [0,1]."
   ]
  },
  {
   "cell_type": "code",
   "execution_count": 15,
   "metadata": {},
   "outputs": [
    {
     "name": "stdout",
     "output_type": "stream",
     "text": [
      "[1] 0.4160027\n",
      "[1] 0.6087907\n",
      "[1] 0.4693507\n",
      "[1] 0.6546803\n"
     ]
    }
   ],
   "source": [
    "print(p1hat - compute_margin_CI(p1hat, numTrials100))\n",
    "print(p1hat + compute_margin_CI(p1hat, numTrials100))\n",
    "print(p2hat - compute_margin_CI(p2hat, numTrials400))\n",
    "print(p2hat + compute_margin_CI(p2hat, numTrials400))"
   ]
  },
  {
   "cell_type": "code",
   "execution_count": 17,
   "metadata": {},
   "outputs": [
    {
     "name": "stdout",
     "output_type": "stream",
     "text": [
      "[1] -1.113272\n"
     ]
    }
   ],
   "source": [
    "Z <- compute_z_stat(p1hat, p2hat, numTrials100, numTrials400)\n",
    "print(Z)"
   ]
  },
  {
   "cell_type": "markdown",
   "metadata": {},
   "source": [
    "At the 1% significance level, the Z statistic above should be less than the following value for the test to be significant."
   ]
  },
  {
   "cell_type": "code",
   "execution_count": 21,
   "metadata": {},
   "outputs": [
    {
     "data": {
      "text/html": [
       "-2.32634787404084"
      ],
      "text/latex": [
       "-2.32634787404084"
      ],
      "text/markdown": [
       "-2.32634787404084"
      ],
      "text/plain": [
       "[1] -2.326348"
      ]
     },
     "metadata": {},
     "output_type": "display_data"
    }
   ],
   "source": [
    "qnorm(.01)"
   ]
  },
  {
   "cell_type": "markdown",
   "metadata": {},
   "source": [
    "The null hypothesis cannot be rejected."
   ]
  },
  {
   "cell_type": "markdown",
   "metadata": {},
   "source": [
    "# Linear regression"
   ]
  },
  {
   "cell_type": "markdown",
   "metadata": {},
   "source": [
    "Let's create 4 points by hand."
   ]
  },
  {
   "cell_type": "code",
   "execution_count": 24,
   "metadata": {},
   "outputs": [],
   "source": [
    "duration <- c(100,200,300,400)\n",
    "performance <- c(55, 58, 55, 63)\n",
    "dataf <- data.table(VD = duration, perf=performance)"
   ]
  },
  {
   "cell_type": "code",
   "execution_count": 25,
   "metadata": {},
   "outputs": [],
   "source": [
    "linearMod <- lm(perf ~ duration, data=dataf)"
   ]
  },
  {
   "cell_type": "code",
   "execution_count": 26,
   "metadata": {},
   "outputs": [
    {
     "name": "stdout",
     "output_type": "stream",
     "text": [
      "\n",
      "Call:\n",
      "lm(formula = perf ~ duration, data = dataf)\n",
      "\n",
      "Coefficients:\n",
      "(Intercept)     duration  \n",
      "     52.500        0.021  \n",
      "\n"
     ]
    }
   ],
   "source": [
    "print(linearMod)"
   ]
  },
  {
   "cell_type": "code",
   "execution_count": 28,
   "metadata": {},
   "outputs": [
    {
     "data": {
      "image/png": "[encoded data removed]",
      "text/plain": [
       "plot without title"
      ]
     },
     "metadata": {},
     "output_type": "display_data"
    }
   ],
   "source": [
    "ggplot(dataf, aes(x=VD, y=perf)) + geom_point() + geom_smooth(method=\"lm\")"
   ]
  },
  {
   "cell_type": "markdown",
   "metadata": {},
   "source": [
    "## Theoretical detour\n",
    "If I average N trials from a Bernoulli random variable, do I get Gaussian noise?"
   ]
  },
  {
   "cell_type": "code",
   "execution_count": 40,
   "metadata": {},
   "outputs": [],
   "source": [
    "numExp <- 1000\n",
    "numTrials <- 1000\n",
    "p <- .6\n",
    "props <- c()\n",
    "for (x in seq(1,numExp)) {\n",
    "    props <- c(props, mean(rbinom(numTrials, 1, p)))\n",
    "}"
   ]
  },
  {
   "cell_type": "code",
   "execution_count": 41,
   "metadata": {},
   "outputs": [
    {
     "data": {
      "text/plain": [
       "\n",
       "\tShapiro-Wilk normality test\n",
       "\n",
       "data:  props\n",
       "W = 0.99876, p-value = 0.7271\n"
      ]
     },
     "metadata": {},
     "output_type": "display_data"
    }
   ],
   "source": [
    "shapiro.test(props)"
   ]
  },
  {
   "cell_type": "code",
   "execution_count": 42,
   "metadata": {},
   "outputs": [
    {
     "data": {
      "image/png": "[encoded data removed]",
      "text/plain": [
       "Plot with title “Histogram of props”"
      ]
     },
     "metadata": {},
     "output_type": "display_data"
    }
   ],
   "source": [
    "hist(props)"
   ]
  },
  {
   "cell_type": "code",
   "execution_count": 34,
   "metadata": {},
   "outputs": [
    {
     "name": "stderr",
     "output_type": "stream",
     "text": [
      "`stat_bin()` using `bins = 30`. Pick better value with `binwidth`.\n"
     ]
    },
    {
     "data": {
      "image/png": "[encoded data removed]",
      "text/plain": [
       "plot without title"
      ]
     },
     "metadata": {},
     "output_type": "display_data"
    }
   ],
   "source": [
    "qplot(props)"
   ]
  },
  {
   "cell_type": "code",
   "execution_count": null,
   "metadata": {},
   "outputs": [],
   "source": []
  }
 ],
 "metadata": {
  "kernelspec": {
   "display_name": "R",
   "language": "R",
   "name": "ir"
  },
  "language_info": {
   "codemirror_mode": "r",
   "file_extension": ".r",
   "mimetype": "text/x-r-source",
   "name": "R",
   "pygments_lexer": "r",
   "version": "3.5.3"
  }
 },
 "nbformat": 4,
 "nbformat_minor": 2
}
