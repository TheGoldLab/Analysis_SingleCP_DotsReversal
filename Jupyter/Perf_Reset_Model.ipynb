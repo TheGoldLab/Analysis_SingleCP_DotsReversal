{
 "cells": [
  {
   "cell_type": "code",
   "execution_count": 1,
   "metadata": {},
   "outputs": [],
   "source": [
    "import numpy as np\n",
    "import scipy.stats as sp\n",
    "import matplotlib.pyplot as plt"
   ]
  },
  {
   "cell_type": "code",
   "execution_count": 2,
   "metadata": {},
   "outputs": [],
   "source": [
    "def integrate_wrt_cdf(F, f, limits, bins):\n",
    "    \"\"\"\n",
    "    :param F: cdf\n",
    "    :param f: function to integrate w.r.t dF measure\n",
    "    :param limits: tuple of integration bounds. It is assumed that F is undefined at the limit points\n",
    "    :param bins: number of points on x-grid to use in integration (so, not quite the number of bins)\n",
    "    \"\"\"\n",
    "    bin_width = (limits[1] - limits[0]) / bins  # just approximate, not the real bin width\n",
    "    grid_points = np.linspace(limits[0] + bin_width/4, limits[1], num=bins, endpoint=False)\n",
    "    cdf = F(grid_points)\n",
    "    measure = np.diff(cdf)\n",
    "    func = f(grid_points)\n",
    "    return np.dot(measure, func[:-1])"
   ]
  },
  {
   "cell_type": "code",
   "execution_count": 3,
   "metadata": {},
   "outputs": [],
   "source": [
    "def alpha(x, h):\n",
    "    return np.log(((1-h)*np.exp(x) - h)/(1-h*(1+np.exp(x))))\n",
    "def FF(x, h, T, d, sigma):\n",
    "    return sp.norm.cdf((alpha(x, h) - T*d)/(sigma * np.sqrt(T)))\n",
    "def ff(tau, dprime, x, sigma):\n",
    "    return sp.norm.cdf(-(tau*dprime+x) / (np.sqrt(tau)*sigma))\n",
    "def acc_perfect_accum(d, sigma, t):\n",
    "    return sp.norm.cdf(np.abs(d)/sigma * np.sqrt(t))"
   ]
  },
  {
   "cell_type": "code",
   "execution_count": 14,
   "metadata": {},
   "outputs": [],
   "source": [
    "h=.49\n",
    "T = .2\n",
    "tau=.2\n",
    "d=1\n",
    "dprime=1\n",
    "sigma=1\n",
    "t = np.concatenate([np.arange(.05, .201, step=.05),np.arange(.202,.251,step=.001), np.arange(.252,.41,step=.05)])\n",
    "num_bins = 10000\n",
    "a = np.log(h / (1-h))\n",
    "int_lims = (min(a, -a), max(a, -a))\n",
    "def FFF(x):\n",
    "    return FF(x, h, T, d, sigma)\n",
    "\n",
    "acc = []\n",
    "for tt in t:\n",
    "    if tt <= T:\n",
    "        acc.append(acc_perfect_accum(d, sigma, tt))\n",
    "    else:\n",
    "        tau = tt - T\n",
    "        def fff(x):\n",
    "            return ff(tau, dprime, x, sigma)\n",
    "        pneg = integrate_wrt_cdf(FFF, fff, int_lims, num_bins)\n",
    "        if d > 0 and dprime > 0:\n",
    "            acc.append(1-pneg)\n",
    "        elif d > 0 and dprime < 0:\n",
    "            acc.append(pneg)\n",
    "        else:\n",
    "            raise ValueError(\"no negative drift in first epoch allowed for now\")"
   ]
  },
  {
   "cell_type": "code",
   "execution_count": 15,
   "metadata": {},
   "outputs": [
    {
     "data": {
      "text/plain": [
       "[<matplotlib.lines.Line2D at 0x7fb70eb9f9e8>]"
      ]
     },
     "execution_count": 15,
     "metadata": {},
     "output_type": "execute_result"
    },
    {
     "data": {
      "image/png": "[encoded data removed]",
      "text/plain": [
       "<Figure size 432x288 with 1 Axes>"
      ]
     },
     "metadata": {
      "needs_background": "light"
     },
     "output_type": "display_data"
    }
   ],
   "source": [
    "plt.plot(t, acc)"
   ]
  }
 ],
 "metadata": {
  "kernelspec": {
   "display_name": "R (r-environment)",
   "language": "python",
   "name": "r-environment"
  },
  "language_info": {
   "codemirror_mode": {
    "name": "ipython",
    "version": 3
   },
   "file_extension": ".py",
   "mimetype": "text/x-python",
   "name": "python",
   "nbconvert_exporter": "python",
   "pygments_lexer": "ipython3",
   "version": "3.7.3"
  }
 },
 "nbformat": 4,
 "nbformat_minor": 2
}
