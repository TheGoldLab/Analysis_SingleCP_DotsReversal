{
 "cells": [
  {
   "cell_type": "markdown",
   "metadata": {},
   "source": [
    "# Fitting psychometric functions"
   ]
  },
  {
   "cell_type": "markdown",
   "metadata": {},
   "source": [
    "This notebook analyzes data from `Pilot 11` dataset."
   ]
  },
  {
   "cell_type": "code",
   "execution_count": 2,
   "metadata": {},
   "outputs": [],
   "source": [
    "library(data.table)\n",
    "library(ggplot2)        "
   ]
  },
  {
   "cell_type": "code",
   "execution_count": 3,
   "metadata": {},
   "outputs": [],
   "source": [
    "# library(psych)\n",
    "my_logistic <- function(x_vals, linear_func) {\n",
    "    return(exp(linear_func(x_vals))/(1+exp(linear_func(x_vals))))\n",
    "}"
   ]
  },
  {
   "cell_type": "markdown",
   "metadata": {},
   "source": [
    "## Dataset handling"
   ]
  },
  {
   "cell_type": "markdown",
   "metadata": {},
   "source": [
    "Let's load and inspect the dataset."
   ]
  },
  {
   "cell_type": "code",
   "execution_count": 4,
   "metadata": {},
   "outputs": [
    {
     "data": {},
     "metadata": {},
     "output_type": "display_data"
    },
    {
     "data": {},
     "metadata": {},
     "output_type": "display_data"
    }
   ],
   "source": [
    "# load dataset\n",
    "data <- fread('../../data/Pilot11/psychophysical_data.csv')\n",
    "data[,presenceCP:=as.factor(presenceCP)]\n",
    "data[,choice:=as.factor(choice)]"
   ]
  },
  {
   "cell_type": "code",
   "execution_count": 5,
   "metadata": {},
   "outputs": [
    {
     "data": {},
     "metadata": {},
     "output_type": "display_data"
    },
    {
     "data": {},
     "metadata": {},
     "output_type": "display_data"
    },
    {
     "data": {},
     "metadata": {},
     "output_type": "display_data"
    },
    {
     "data": {},
     "metadata": {},
     "output_type": "display_data"
    }
   ],
   "source": [
    "data[,signedCohLast := coherence]\n",
    "data[signedCoherence < 0, signedCohLast := signedCoherence]\n",
    "data[choice==\"left\" & presenceCP==\"yes\" & correct, signedCohLast:= - coherence]\n",
    "data[choice==\"right\" & presenceCP==\"yes\" & !correct, signedCohLast:= - coherence]"
   ]
  },
  {
   "cell_type": "code",
   "execution_count": 6,
   "metadata": {},
   "outputs": [
    {
     "name": "stdout",
     "output_type": "stream",
     "text": [
      "Classes ‘data.table’ and 'data.frame':\t476 obs. of  10 variables:\n",
      " $ validTrialCount: int  1 2 3 4 5 6 7 8 9 10 ...\n",
      " $ choice         : Factor w/ 2 levels \"left\",\"right\": 1 1 1 1 1 1 2 2 2 2 ...\n",
      " $ correct        : logi  TRUE TRUE TRUE FALSE TRUE FALSE ...\n",
      " $ presenceCP     : Factor w/ 2 levels \"no\",\"yes\": 1 2 1 2 2 2 1 1 1 1 ...\n",
      " $ viewingDuration: num  0.5 0.4 0.2 0.5 0.4 0.5 0.4 0.5 0.1 0.3 ...\n",
      " $ signedCoherence: int  -60 NA -60 NA NA NA 12 12 -12 0 ...\n",
      " $ coherence      : int  60 24 60 12 12 12 12 12 12 0 ...\n",
      " $ choice_time    : num  0.921 0.86 1.125 0.875 0.979 ...\n",
      " $ exactVD        : num  0.525 0.424 0.203 0.525 0.407 ...\n",
      " $ signedCohLast  : int  -60 -24 -60 12 -12 12 12 12 -12 0 ...\n",
      " - attr(*, \".internal.selfref\")=<externalptr> \n"
     ]
    }
   ],
   "source": [
    "str(data)"
   ]
  },
  {
   "cell_type": "code",
   "execution_count": 7,
   "metadata": {},
   "outputs": [
    {
     "data": {
      "text/html": [
       "<table>\n",
       "<thead><tr><th scope=col>validTrialCount</th><th scope=col>choice</th><th scope=col>correct</th><th scope=col>presenceCP</th><th scope=col>viewingDuration</th><th scope=col>signedCoherence</th><th scope=col>coherence</th><th scope=col>choice_time</th><th scope=col>exactVD</th><th scope=col>signedCohLast</th></tr></thead>\n",
       "<tbody>\n",
       "\t<tr><td>1        </td><td>left     </td><td> TRUE    </td><td>no       </td><td>0.5      </td><td>-60      </td><td>60       </td><td>0.9206421</td><td>0.5248945</td><td>-60      </td></tr>\n",
       "\t<tr><td>2        </td><td>left     </td><td> TRUE    </td><td>yes      </td><td>0.4      </td><td> NA      </td><td>24       </td><td>0.8598706</td><td>0.4237288</td><td>-24      </td></tr>\n",
       "\t<tr><td>3        </td><td>left     </td><td> TRUE    </td><td>no       </td><td>0.2      </td><td>-60      </td><td>60       </td><td>1.1245399</td><td>0.2033898</td><td>-60      </td></tr>\n",
       "\t<tr><td>4        </td><td>left     </td><td>FALSE    </td><td>yes      </td><td>0.5      </td><td> NA      </td><td>12       </td><td>0.8751249</td><td>0.5254237</td><td> 12      </td></tr>\n",
       "\t<tr><td>5        </td><td>left     </td><td> TRUE    </td><td>yes      </td><td>0.4      </td><td> NA      </td><td>12       </td><td>0.9794417</td><td>0.4067797</td><td>-12      </td></tr>\n",
       "\t<tr><td>6        </td><td>left     </td><td>FALSE    </td><td>yes      </td><td>0.5      </td><td> NA      </td><td>12       </td><td>1.1367451</td><td>0.5073636</td><td> 12      </td></tr>\n",
       "</tbody>\n",
       "</table>\n"
      ],
      "text/latex": [
       "\\begin{tabular}{r|llllllllll}\n",
       " validTrialCount & choice & correct & presenceCP & viewingDuration & signedCoherence & coherence & choice\\_time & exactVD & signedCohLast\\\\\n",
       "\\hline\n",
       "\t 1         & left      &  TRUE     & no        & 0.5       & -60       & 60        & 0.9206421 & 0.5248945 & -60      \\\\\n",
       "\t 2         & left      &  TRUE     & yes       & 0.4       &  NA       & 24        & 0.8598706 & 0.4237288 & -24      \\\\\n",
       "\t 3         & left      &  TRUE     & no        & 0.2       & -60       & 60        & 1.1245399 & 0.2033898 & -60      \\\\\n",
       "\t 4         & left      & FALSE     & yes       & 0.5       &  NA       & 12        & 0.8751249 & 0.5254237 &  12      \\\\\n",
       "\t 5         & left      &  TRUE     & yes       & 0.4       &  NA       & 12        & 0.9794417 & 0.4067797 & -12      \\\\\n",
       "\t 6         & left      & FALSE     & yes       & 0.5       &  NA       & 12        & 1.1367451 & 0.5073636 &  12      \\\\\n",
       "\\end{tabular}\n"
      ],
      "text/markdown": [
       "\n",
       "validTrialCount | choice | correct | presenceCP | viewingDuration | signedCoherence | coherence | choice_time | exactVD | signedCohLast | \n",
       "|---|---|---|---|---|---|\n",
       "| 1         | left      |  TRUE     | no        | 0.5       | -60       | 60        | 0.9206421 | 0.5248945 | -60       | \n",
       "| 2         | left      |  TRUE     | yes       | 0.4       |  NA       | 24        | 0.8598706 | 0.4237288 | -24       | \n",
       "| 3         | left      |  TRUE     | no        | 0.2       | -60       | 60        | 1.1245399 | 0.2033898 | -60       | \n",
       "| 4         | left      | FALSE     | yes       | 0.5       |  NA       | 12        | 0.8751249 | 0.5254237 |  12       | \n",
       "| 5         | left      |  TRUE     | yes       | 0.4       |  NA       | 12        | 0.9794417 | 0.4067797 | -12       | \n",
       "| 6         | left      | FALSE     | yes       | 0.5       |  NA       | 12        | 1.1367451 | 0.5073636 |  12       | \n",
       "\n",
       "\n"
      ],
      "text/plain": [
       "  validTrialCount choice correct presenceCP viewingDuration signedCoherence\n",
       "1 1               left    TRUE   no         0.5             -60            \n",
       "2 2               left    TRUE   yes        0.4              NA            \n",
       "3 3               left    TRUE   no         0.2             -60            \n",
       "4 4               left   FALSE   yes        0.5              NA            \n",
       "5 5               left    TRUE   yes        0.4              NA            \n",
       "6 6               left   FALSE   yes        0.5              NA            \n",
       "  coherence choice_time exactVD   signedCohLast\n",
       "1 60        0.9206421   0.5248945 -60          \n",
       "2 24        0.8598706   0.4237288 -24          \n",
       "3 60        1.1245399   0.2033898 -60          \n",
       "4 12        0.8751249   0.5254237  12          \n",
       "5 12        0.9794417   0.4067797 -12          \n",
       "6 12        1.1367451   0.5073636  12          "
      ]
     },
     "metadata": {},
     "output_type": "display_data"
    }
   ],
   "source": [
    "head(data)"
   ]
  },
  {
   "cell_type": "markdown",
   "metadata": {},
   "source": [
    "## Simple fits"
   ]
  },
  {
   "cell_type": "markdown",
   "metadata": {},
   "source": [
    "We start super simple with the equation:\n",
    "$$\\log\\frac{p_i}{1-p_i}=\\beta_0+\\beta_1x_i$$\n",
    "where $p_i$ is the proportion of right choices at stimulus level $i$ and $x$ is the signed coherence value."
   ]
  },
  {
   "cell_type": "code",
   "execution_count": 8,
   "metadata": {},
   "outputs": [],
   "source": [
    "logistic_fit_1 <- glm(choice ~ signedCohLast, family=binomial(), data=data)"
   ]
  },
  {
   "cell_type": "code",
   "execution_count": 9,
   "metadata": {},
   "outputs": [
    {
     "data": {
      "text/plain": [
       "\n",
       "Call:\n",
       "glm(formula = choice ~ signedCohLast, family = binomial(), data = data)\n",
       "\n",
       "Deviance Residuals: \n",
       "    Min       1Q   Median       3Q      Max  \n",
       "-1.9927  -0.8902   0.5435   0.9513   1.6392  \n",
       "\n",
       "Coefficients:\n",
       "              Estimate Std. Error z value Pr(>|z|)    \n",
       "(Intercept)   0.558294   0.105590   5.287 1.24e-07 ***\n",
       "signedCohLast 0.026656   0.003156   8.445  < 2e-16 ***\n",
       "---\n",
       "Signif. codes:  0 ‘***’ 0.001 ‘**’ 0.01 ‘*’ 0.05 ‘.’ 0.1 ‘ ’ 1\n",
       "\n",
       "(Dispersion parameter for binomial family taken to be 1)\n",
       "\n",
       "    Null deviance: 635.16  on 475  degrees of freedom\n",
       "Residual deviance: 548.44  on 474  degrees of freedom\n",
       "AIC: 552.44\n",
       "\n",
       "Number of Fisher Scoring iterations: 3\n"
      ]
     },
     "metadata": {},
     "output_type": "display_data"
    }
   ],
   "source": [
    "summary(logistic_fit_1)\n",
    "# plot(logistic_fit_1)"
   ]
  },
  {
   "cell_type": "code",
   "execution_count": 10,
   "metadata": {},
   "outputs": [],
   "source": [
    "betas_1 <- coef(logistic_fit_1)"
   ]
  },
  {
   "cell_type": "code",
   "execution_count": 11,
   "metadata": {},
   "outputs": [],
   "source": [
    "x_1 <- data[order(signedCohLast),.N, by=signedCohLast][,signedCohLast]"
   ]
  },
  {
   "cell_type": "code",
   "execution_count": 12,
   "metadata": {},
   "outputs": [],
   "source": [
    "linear_func <- function(coefs) {\n",
    "    f <- function(x) {\n",
    "        return(coefs[1]+coefs[2]*x)\n",
    "    }\n",
    "    return(f)\n",
    "}"
   ]
  },
  {
   "cell_type": "code",
   "execution_count": 13,
   "metadata": {},
   "outputs": [],
   "source": [
    "fit_1_prop <- my_logistic(x_1, linear_func(betas_1))"
   ]
  },
  {
   "cell_type": "code",
   "execution_count": 15,
   "metadata": {},
   "outputs": [],
   "source": [
    "fitted_curve <- data.table(x=x_1, y=fit_1_prop)"
   ]
  },
  {
   "cell_type": "code",
   "execution_count": 20,
   "metadata": {},
   "outputs": [
    {
     "data": {},
     "metadata": {},
     "output_type": "display_data"
    },
    {
     "data": {
      "image/png": "[encoded data removed]",
      "text/plain": [
       "plot without title"
      ]
     },
     "metadata": {},
     "output_type": "display_data"
    }
   ],
   "source": [
    "# control output figure size\n",
    "options(repr.plot.width=8, repr.plot.height=5)\n",
    "ggplot(data[,.(pChooseRight=sum(choice==\"right\")/.N),by=signedCohLast], aes(x=signedCohLast, y=pChooseRight)) + \n",
    "    geom_point() +\n",
    "    geom_line(aes(x=x, y=y),data=fitted_curve,inherit.aes=FALSE) +\n",
    "    ylim(0,1)"
   ]
  },
  {
   "cell_type": "markdown",
   "metadata": {},
   "source": [
    "## With `quickpsy` package"
   ]
  },
  {
   "cell_type": "code",
   "execution_count": null,
   "metadata": {},
   "outputs": [],
   "source": [
    "# for an explanation of masked objects, see here:\n",
    "# https://stackoverflow.com/a/39137111\n",
    "library(quickpsy)"
   ]
  },
  {
   "cell_type": "code",
   "execution_count": null,
   "metadata": {},
   "outputs": [],
   "source": [
    "# let's set presenceCP as factor variable in a temporary data.table before upcoming grouping\n",
    "tmp <- data[,`:=`(presenceCP=as.factor(presenceCP))]\n",
    "\n",
    "# build data.table used by the quickpsy package\n",
    "psychometric <- tmp[, \n",
    "                    .(numCorrect=sum(correct), N=.N), \n",
    "                    by=.(coherence, viewingDuration, presenceCP)]\n",
    "psychometric[coherence==0, numCorrect:=as.integer(N/2)]\n",
    "str(psychometric)"
   ]
  },
  {
   "cell_type": "markdown",
   "metadata": {},
   "source": [
    "$$\\psi(x)=\\gamma + (1-\\gamma-\\lambda) * F(x)$$\n",
    "where $\\gamma$ is the guess rate, $\\lambda$ is the lapse rate and $F$ is a sigmoidal-shape function with asymptotes at 0 and 1."
   ]
  },
  {
   "cell_type": "code",
   "execution_count": null,
   "metadata": {},
   "outputs": [],
   "source": [
    "fitWithLapses <- quickpsy(psychometric, \n",
    "                          coherence, \n",
    "                          numCorrect, N,\n",
    "                          grouping = c(viewingDuration, presenceCP), lapses  = T, bootstrap = 'none') \n",
    "\n",
    "ggplot() +\n",
    "  facet_grid(viewingDuration~presenceCP) +\n",
    "  geom_point(data = fitWithLapses$averages, \n",
    "             aes(x = coherence, y = prob)) +\n",
    "  geom_line(data = fitWithLapses$curves, \n",
    "            aes(x = x, y = y)) +\n",
    "  ylim(0, 1.25) # we include ggplot ylim to be able to visualize what is going on"
   ]
  },
  {
   "cell_type": "code",
   "execution_count": null,
   "metadata": {},
   "outputs": [],
   "source": [
    "# perform the fits\n",
    "# ref here:\n",
    "# http://dlinares.org/lapsesquickpsy.html\n",
    "fit <- quickpsy(psychometric, coherence, numCorrect, N, grouping = .(viewingDuration, presenceCP),\n",
    "               log=FALSE, fun=logistic_fun, lapses=TRUE, bootstrap=\"nonparametric\")"
   ]
  },
  {
   "cell_type": "code",
   "execution_count": null,
   "metadata": {},
   "outputs": [],
   "source": [
    "str(fit)"
   ]
  },
  {
   "cell_type": "code",
   "execution_count": null,
   "metadata": {},
   "outputs": [],
   "source": [
    "# control output figure size\n",
    "options(repr.plot.width=8, repr.plot.height=5)\n",
    "plot(fit) + xlim(c(0,60))"
   ]
  },
  {
   "cell_type": "code",
   "execution_count": null,
   "metadata": {},
   "outputs": [],
   "source": [
    "# control output figure size\n",
    "options(repr.plot.width=8, repr.plot.height=3)\n",
    "plotpar(fit) #+ ylim(c(0,.25))"
   ]
  },
  {
   "cell_type": "code",
   "execution_count": null,
   "metadata": {},
   "outputs": [],
   "source": [
    "plotthresholds(fit) + ylim(c(-60,60))"
   ]
  },
  {
   "cell_type": "markdown",
   "metadata": {},
   "source": [
    "\n",
    "## With `glm` function"
   ]
  },
  {
   "cell_type": "code",
   "execution_count": null,
   "metadata": {},
   "outputs": [],
   "source": [
    "# psychometric[,numChooseLeft := N - numChooseRight]\n",
    "# str(psychometric)"
   ]
  },
  {
   "cell_type": "code",
   "execution_count": null,
   "metadata": {},
   "outputs": [],
   "source": [
    "# # let's first follow this example:\n",
    "# # http://www.dlinares.org/psychopract.html#fitting-using-generalized-linear-models\n",
    "# model <- glm( cbind(numChooseRight, numChooseLeft) ~ signedCoherence, \n",
    "#              data= psychometric, \n",
    "#              family = binomial(probit))\n",
    "\n",
    "# xseq <- seq(-60, 60, 1)\n",
    "# yseq <- predict(model, data.frame(signedCoherence = xseq), type = 'response')\n",
    "# curve <- data.frame(xseq, yseq)\n",
    "\n",
    "# p <- ggplot() +\n",
    "#   geom_point(data = psychometric[,.(signedCoherence, chooseRight=numChooseRight / N)], \n",
    "#              aes(x = signedCoherence, y = chooseRight)) +\n",
    "#   geom_line(data = curve,aes(x = xseq, y = yseq))\n",
    "# p"
   ]
  },
  {
   "cell_type": "markdown",
   "metadata": {},
   "source": [
    "The problem here is that I have a single regressor, namely, `signedCoherence`. This is not what I want."
   ]
  },
  {
   "cell_type": "code",
   "execution_count": null,
   "metadata": {},
   "outputs": [],
   "source": [
    "# Try instead this example\n",
    "#https://www.statmethods.net/advstats/glm.html\n",
    "# with good interpretation here:\n",
    "# https://stats.idre.ucla.edu/r/dae/logit-regression/"
   ]
  },
  {
   "cell_type": "code",
   "execution_count": null,
   "metadata": {},
   "outputs": [],
   "source": [
    "fit2 <- glm(choice ~ signedCoherence * log(exactVD) + presenceCP, data = data, family=binomial())"
   ]
  },
  {
   "cell_type": "code",
   "execution_count": null,
   "metadata": {},
   "outputs": [],
   "source": [
    "summary(fit2)"
   ]
  },
  {
   "cell_type": "code",
   "execution_count": null,
   "metadata": {},
   "outputs": [],
   "source": [
    "confint(fit2) # 95% CI for the coefficients, using profiled log-likelihood\n",
    "confint.default(fit2)  # CIs using standard errors"
   ]
  },
  {
   "cell_type": "code",
   "execution_count": null,
   "metadata": {},
   "outputs": [],
   "source": [
    "# odds ratios and 95% CI\n",
    "exp(cbind(OddsRatio = coef(fit2), confint(fit2)))"
   ]
  },
  {
   "cell_type": "code",
   "execution_count": null,
   "metadata": {},
   "outputs": [],
   "source": [
    "library(\"aod\")\n",
    "wald.test(b = coef(fit2), Sigma = vcov(fit2), Terms = 4)"
   ]
  },
  {
   "cell_type": "code",
   "execution_count": null,
   "metadata": {},
   "outputs": [],
   "source": [
    "# better to use this\n",
    "# https://stats.idre.ucla.edu/r/dae/logit-regression/\n",
    "predict(fit2, type=\"response\") # predicted values\n",
    "residuals(fit2, type=\"deviance\") # residuals"
   ]
  },
  {
   "cell_type": "code",
   "execution_count": null,
   "metadata": {},
   "outputs": [],
   "source": [
    "cdplot(choice~signedCoherence, data=tmp_glm) "
   ]
  },
  {
   "cell_type": "code",
   "execution_count": null,
   "metadata": {},
   "outputs": [],
   "source": [
    "cdplot(choice~viewingDuration, data=tmp_glm) "
   ]
  },
  {
   "cell_type": "code",
   "execution_count": null,
   "metadata": {},
   "outputs": [],
   "source": [
    "# now try this\n",
    "#https://datascienceplus.com/perform-logistic-regression-in-r/"
   ]
  },
  {
   "cell_type": "code",
   "execution_count": null,
   "metadata": {},
   "outputs": [],
   "source": []
  }
 ],
 "metadata": {
  "kernelspec": {
   "display_name": "R",
   "language": "R",
   "name": "ir"
  },
  "language_info": {
   "codemirror_mode": "r",
   "file_extension": ".r",
   "mimetype": "text/x-r-source",
   "name": "R",
   "pygments_lexer": "r",
   "version": "3.4.3"
  }
 },
 "nbformat": 4,
 "nbformat_minor": 2
}
