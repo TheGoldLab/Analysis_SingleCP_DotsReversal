{
 "cells": [
  {
   "cell_type": "markdown",
   "metadata": {},
   "source": [
    "# Fitting psychometric functions"
   ]
  },
  {
   "cell_type": "markdown",
   "metadata": {},
   "source": [
    "This notebook analyzes data from `Pilot 11` dataset."
   ]
  },
  {
   "cell_type": "code",
   "execution_count": 1,
   "metadata": {},
   "outputs": [],
   "source": [
    "library(data.table)\n",
    "library(ggplot2)        "
   ]
  },
  {
   "cell_type": "markdown",
   "metadata": {},
   "source": [
    "## Dataset handling"
   ]
  },
  {
   "cell_type": "markdown",
   "metadata": {},
   "source": [
    "Let's load and inspect the dataset."
   ]
  },
  {
   "cell_type": "code",
   "execution_count": 2,
   "metadata": {},
   "outputs": [],
   "source": [
    "# load dataset\n",
    "data <- fread('../../data/Pilot11/psychophysical_data.csv')"
   ]
  },
  {
   "cell_type": "code",
   "execution_count": 3,
   "metadata": {},
   "outputs": [
    {
     "name": "stdout",
     "output_type": "stream",
     "text": [
      "Classes ‘data.table’ and 'data.frame':\t476 obs. of  9 variables:\n",
      " $ validTrialCount: int  1 2 3 4 5 6 7 8 9 10 ...\n",
      " $ choice         : chr  \"left\" \"left\" \"left\" \"left\" ...\n",
      " $ correct        : logi  TRUE TRUE TRUE FALSE TRUE FALSE ...\n",
      " $ presenceCP     : chr  \"no\" \"yes\" \"no\" \"yes\" ...\n",
      " $ viewingDuration: num  0.5 0.4 0.2 0.5 0.4 0.5 0.4 0.5 0.1 0.3 ...\n",
      " $ signedCoherence: int  -60 NA -60 NA NA NA 12 12 -12 0 ...\n",
      " $ coherence      : int  60 24 60 12 12 12 12 12 12 0 ...\n",
      " $ choice_time    : num  0.921 0.86 1.125 0.875 0.979 ...\n",
      " $ exactVD        : num  0.525 0.424 0.203 0.525 0.407 ...\n",
      " - attr(*, \".internal.selfref\")=<externalptr> \n"
     ]
    }
   ],
   "source": [
    "str(data)"
   ]
  },
  {
   "cell_type": "code",
   "execution_count": 4,
   "metadata": {},
   "outputs": [
    {
     "data": {
      "text/html": [
       "<table>\n",
       "<thead><tr><th scope=col>validTrialCount</th><th scope=col>choice</th><th scope=col>correct</th><th scope=col>presenceCP</th><th scope=col>viewingDuration</th><th scope=col>signedCoherence</th><th scope=col>coherence</th><th scope=col>choice_time</th><th scope=col>exactVD</th></tr></thead>\n",
       "<tbody>\n",
       "\t<tr><td>1        </td><td>left     </td><td> TRUE    </td><td>no       </td><td>0.5      </td><td>-60      </td><td>60       </td><td>0.9206421</td><td>0.5248945</td></tr>\n",
       "\t<tr><td>2        </td><td>left     </td><td> TRUE    </td><td>yes      </td><td>0.4      </td><td> NA      </td><td>24       </td><td>0.8598706</td><td>0.4237288</td></tr>\n",
       "\t<tr><td>3        </td><td>left     </td><td> TRUE    </td><td>no       </td><td>0.2      </td><td>-60      </td><td>60       </td><td>1.1245399</td><td>0.2033898</td></tr>\n",
       "\t<tr><td>4        </td><td>left     </td><td>FALSE    </td><td>yes      </td><td>0.5      </td><td> NA      </td><td>12       </td><td>0.8751249</td><td>0.5254237</td></tr>\n",
       "\t<tr><td>5        </td><td>left     </td><td> TRUE    </td><td>yes      </td><td>0.4      </td><td> NA      </td><td>12       </td><td>0.9794417</td><td>0.4067797</td></tr>\n",
       "\t<tr><td>6        </td><td>left     </td><td>FALSE    </td><td>yes      </td><td>0.5      </td><td> NA      </td><td>12       </td><td>1.1367451</td><td>0.5073636</td></tr>\n",
       "</tbody>\n",
       "</table>\n"
      ],
      "text/latex": [
       "\\begin{tabular}{r|lllllllll}\n",
       " validTrialCount & choice & correct & presenceCP & viewingDuration & signedCoherence & coherence & choice\\_time & exactVD\\\\\n",
       "\\hline\n",
       "\t 1         & left      &  TRUE     & no        & 0.5       & -60       & 60        & 0.9206421 & 0.5248945\\\\\n",
       "\t 2         & left      &  TRUE     & yes       & 0.4       &  NA       & 24        & 0.8598706 & 0.4237288\\\\\n",
       "\t 3         & left      &  TRUE     & no        & 0.2       & -60       & 60        & 1.1245399 & 0.2033898\\\\\n",
       "\t 4         & left      & FALSE     & yes       & 0.5       &  NA       & 12        & 0.8751249 & 0.5254237\\\\\n",
       "\t 5         & left      &  TRUE     & yes       & 0.4       &  NA       & 12        & 0.9794417 & 0.4067797\\\\\n",
       "\t 6         & left      & FALSE     & yes       & 0.5       &  NA       & 12        & 1.1367451 & 0.5073636\\\\\n",
       "\\end{tabular}\n"
      ],
      "text/markdown": [
       "\n",
       "validTrialCount | choice | correct | presenceCP | viewingDuration | signedCoherence | coherence | choice_time | exactVD | \n",
       "|---|---|---|---|---|---|\n",
       "| 1         | left      |  TRUE     | no        | 0.5       | -60       | 60        | 0.9206421 | 0.5248945 | \n",
       "| 2         | left      |  TRUE     | yes       | 0.4       |  NA       | 24        | 0.8598706 | 0.4237288 | \n",
       "| 3         | left      |  TRUE     | no        | 0.2       | -60       | 60        | 1.1245399 | 0.2033898 | \n",
       "| 4         | left      | FALSE     | yes       | 0.5       |  NA       | 12        | 0.8751249 | 0.5254237 | \n",
       "| 5         | left      |  TRUE     | yes       | 0.4       |  NA       | 12        | 0.9794417 | 0.4067797 | \n",
       "| 6         | left      | FALSE     | yes       | 0.5       |  NA       | 12        | 1.1367451 | 0.5073636 | \n",
       "\n",
       "\n"
      ],
      "text/plain": [
       "  validTrialCount choice correct presenceCP viewingDuration signedCoherence\n",
       "1 1               left    TRUE   no         0.5             -60            \n",
       "2 2               left    TRUE   yes        0.4              NA            \n",
       "3 3               left    TRUE   no         0.2             -60            \n",
       "4 4               left   FALSE   yes        0.5              NA            \n",
       "5 5               left    TRUE   yes        0.4              NA            \n",
       "6 6               left   FALSE   yes        0.5              NA            \n",
       "  coherence choice_time exactVD  \n",
       "1 60        0.9206421   0.5248945\n",
       "2 24        0.8598706   0.4237288\n",
       "3 60        1.1245399   0.2033898\n",
       "4 12        0.8751249   0.5254237\n",
       "5 12        0.9794417   0.4067797\n",
       "6 12        1.1367451   0.5073636"
      ]
     },
     "metadata": {},
     "output_type": "display_data"
    }
   ],
   "source": [
    "head(data)"
   ]
  },
  {
   "cell_type": "markdown",
   "metadata": {},
   "source": [
    "## With `quickpsy` package"
   ]
  },
  {
   "cell_type": "code",
   "execution_count": null,
   "metadata": {},
   "outputs": [],
   "source": [
    "# for an explanation of masked objects, see here:\n",
    "# https://stackoverflow.com/a/39137111\n",
    "library(quickpsy)"
   ]
  },
  {
   "cell_type": "code",
   "execution_count": null,
   "metadata": {},
   "outputs": [],
   "source": [
    "# let's recap the tables in the environment up until now\n",
    "tables()"
   ]
  },
  {
   "cell_type": "code",
   "execution_count": null,
   "metadata": {},
   "outputs": [],
   "source": [
    "str(TRIALS[,.(signedCoherence, presenceCP, choice, viewingDuration)])"
   ]
  },
  {
   "cell_type": "code",
   "execution_count": null,
   "metadata": {},
   "outputs": [],
   "source": [
    "str(TRIALS[,`:=`(presenceCP=as.factor(presenceCP), \n",
    "                viewingDuration=as.factor(viewingDuration))][,\n",
    "                                                             .(signedCoherence, presenceCP, choice, viewingDuration)])"
   ]
  },
  {
   "cell_type": "code",
   "execution_count": null,
   "metadata": {},
   "outputs": [],
   "source": [
    "a <- factor(c(3,4,5))\n",
    "a\n",
    "a[2] == '4'"
   ]
  },
  {
   "cell_type": "code",
   "execution_count": null,
   "metadata": {},
   "outputs": [],
   "source": [
    "# let's set presenceCP and viewingDuration as factor variables in a temporary data.table before upcoming grouping\n",
    "tmp <- TRIALS[,`:=`(presenceCP=as.factor(presenceCP), viewingDuration=as.factor(viewingDuration))]\n",
    "\n",
    "# build data.table used by the quickpsy package\n",
    "psychometric <- tmp[!is.na(validTrialCount), \n",
    "                       .(numChooseRight=sum(choice == \"1\"), N=.N), \n",
    "                       by=.(signedCoherence, presenceCP, viewingDuration)]\n",
    "str(psychometric)"
   ]
  },
  {
   "cell_type": "code",
   "execution_count": null,
   "metadata": {},
   "outputs": [],
   "source": [
    "unique(psychometric$signedCoherence)"
   ]
  },
  {
   "cell_type": "code",
   "execution_count": null,
   "metadata": {},
   "outputs": [],
   "source": [
    "# perform the fits\n",
    "fit <- quickpsy(psychometric, signedCoherence, numChooseRight, N, grouping = .(presenceCP, viewingDuration),\n",
    "               log=FALSE, fun=logistic_fun, lapses=TRUE)"
   ]
  },
  {
   "cell_type": "code",
   "execution_count": null,
   "metadata": {},
   "outputs": [],
   "source": [
    "str(fit)"
   ]
  },
  {
   "cell_type": "code",
   "execution_count": null,
   "metadata": {},
   "outputs": [],
   "source": [
    "plot(fit) + xlim(c(-60,60))"
   ]
  },
  {
   "cell_type": "code",
   "execution_count": null,
   "metadata": {},
   "outputs": [],
   "source": [
    "plotpar(fit) + ylim(c(0,.25))"
   ]
  },
  {
   "cell_type": "code",
   "execution_count": null,
   "metadata": {},
   "outputs": [],
   "source": [
    "plotthresholds(fit) + ylim(c(-10,10))"
   ]
  },
  {
   "cell_type": "markdown",
   "metadata": {},
   "source": [
    "\n",
    "## With `glm` function"
   ]
  },
  {
   "cell_type": "code",
   "execution_count": null,
   "metadata": {},
   "outputs": [],
   "source": [
    "psychometric[,numChooseLeft := N - numChooseRight]\n",
    "str(psychometric)"
   ]
  },
  {
   "cell_type": "code",
   "execution_count": null,
   "metadata": {},
   "outputs": [],
   "source": [
    "# let's first follow this example:\n",
    "# http://www.dlinares.org/psychopract.html#fitting-using-generalized-linear-models\n",
    "model <- glm( cbind(numChooseRight, numChooseLeft) ~ signedCoherence, \n",
    "             data= psychometric, \n",
    "             family = binomial(probit))\n",
    "\n",
    "xseq <- seq(-60, 60, 1)\n",
    "yseq <- predict(model, data.frame(signedCoherence = xseq), type = 'response')\n",
    "curve <- data.frame(xseq, yseq)\n",
    "\n",
    "p <- ggplot() +\n",
    "  geom_point(data = psychometric[,.(signedCoherence, chooseRight=numChooseRight / N)], \n",
    "             aes(x = signedCoherence, y = chooseRight)) +\n",
    "  geom_line(data = curve,aes(x = xseq, y = yseq))\n",
    "p"
   ]
  },
  {
   "cell_type": "markdown",
   "metadata": {},
   "source": [
    "The problem here is that I have a single regressor, namely, `signedCoherence`. This is not what I want."
   ]
  },
  {
   "cell_type": "code",
   "execution_count": null,
   "metadata": {},
   "outputs": [],
   "source": [
    "# Try instead this example\n",
    "#https://www.statmethods.net/advstats/glm.html\n",
    "# with good interpretation here:\n",
    "# https://stats.idre.ucla.edu/r/dae/logit-regression/\n",
    "tmp_glm <- TRIALS[!is.na(validTrialCount)]\n",
    "\n",
    "tmp_glm[,choice:=droplevels(choice)]        # drop unused level \"NA\" for choice variable\n",
    "levels(tmp_glm$choice) <- c('left','right') # rename remaining levels\n",
    "\n",
    "# treat presenceCP as factor and rename the labels\n",
    "tmp_glm[,presenceCP:=as.factor(presenceCP)]\n",
    "levels(tmp_glm$presenceCP) <- c('no-CP','CP')\n",
    "\n",
    "str(tmp_glm[,.(choice, presenceCP, viewingDuration, signedCoherence)])"
   ]
  },
  {
   "cell_type": "code",
   "execution_count": null,
   "metadata": {},
   "outputs": [],
   "source": [
    "fit2 <- glm(choice ~ signedCoherence + viewingDuration + presenceCP, data = tmp_glm, family=binomial())"
   ]
  },
  {
   "cell_type": "code",
   "execution_count": null,
   "metadata": {},
   "outputs": [],
   "source": [
    "summary(fit2)"
   ]
  },
  {
   "cell_type": "code",
   "execution_count": null,
   "metadata": {},
   "outputs": [],
   "source": [
    "confint(fit2) # 95% CI for the coefficients, using profiled log-likelihood\n",
    "confint.default(fit2)  # CIs using standard errors"
   ]
  },
  {
   "cell_type": "code",
   "execution_count": null,
   "metadata": {},
   "outputs": [],
   "source": [
    "# odds ratios and 95% CI\n",
    "exp(cbind(OddsRatio = coef(fit2), confint(fit2)))"
   ]
  },
  {
   "cell_type": "code",
   "execution_count": null,
   "metadata": {},
   "outputs": [],
   "source": [
    "library(\"aod\")\n",
    "wald.test(b = coef(fit2), Sigma = vcov(fit2), Terms = 4)"
   ]
  },
  {
   "cell_type": "code",
   "execution_count": null,
   "metadata": {},
   "outputs": [],
   "source": [
    "# better to use this\n",
    "# https://stats.idre.ucla.edu/r/dae/logit-regression/\n",
    "predict(fit2, type=\"response\") # predicted values\n",
    "residuals(fit2, type=\"deviance\") # residuals"
   ]
  },
  {
   "cell_type": "code",
   "execution_count": null,
   "metadata": {},
   "outputs": [],
   "source": [
    "cdplot(choice~signedCoherence, data=tmp_glm) "
   ]
  },
  {
   "cell_type": "code",
   "execution_count": null,
   "metadata": {},
   "outputs": [],
   "source": [
    "cdplot(choice~viewingDuration, data=tmp_glm) "
   ]
  },
  {
   "cell_type": "code",
   "execution_count": null,
   "metadata": {},
   "outputs": [],
   "source": [
    "# now try this\n",
    "#https://datascienceplus.com/perform-logistic-regression-in-r/"
   ]
  },
  {
   "cell_type": "code",
   "execution_count": null,
   "metadata": {},
   "outputs": [],
   "source": []
  }
 ],
 "metadata": {
  "kernelspec": {
   "display_name": "R",
   "language": "R",
   "name": "ir"
  },
  "language_info": {
   "codemirror_mode": "r",
   "file_extension": ".r",
   "mimetype": "text/x-r-source",
   "name": "R",
   "pygments_lexer": "r",
   "version": "3.4.3"
  }
 },
 "nbformat": 4,
 "nbformat_minor": 2
}
