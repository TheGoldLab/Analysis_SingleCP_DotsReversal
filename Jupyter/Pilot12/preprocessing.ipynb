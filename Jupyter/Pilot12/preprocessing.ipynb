{
 "cells": [
  {
   "cell_type": "markdown",
   "metadata": {},
   "source": [
    "<!--\n",
    "IRdisplay::display_html(file='code_hiding.html')\n",
    "if the line above generates an error, it could be due to this:\n",
    "https://github.com/IRkernel/IRdisplay/issues/41\n",
    "In the meantime, the code below is enough; it works on nbviewer but not on the notebook directly\n",
    "-->\n",
    "<!--\n",
    "<script>\n",
    "  code_show=true;\n",
    "  function code_toggle() {\n",
    "    if (code_show){\n",
    "      $('div.input').hide();\n",
    "    } else {\n",
    "      $('div.input').show();\n",
    "    }\n",
    "    code_show = !code_show\n",
    "  } \n",
    "  $( document ).ready(code_toggle);\n",
    "</script>\n",
    "<font size=4>\n",
    "<a href=\"javascript:code_toggle()\">Toggle ON/OFF</a>\n",
    "code cells.\n",
    "</font>\n",
    "-->\n"
   ]
  },
  {
   "cell_type": "markdown",
   "metadata": {},
   "source": [
    "**Author**: Adrian Ernesto Radillo  \n",
    "**Date**: 28 Mar 2019\n",
    "### LINKS TO MAIN SECTIONS\n",
    "[Introduction](#intro)  \n",
    "[Data pre-processing](#preproc)  \n",
    "[Timing and trials checks](#checks)  \n",
    "[Accuracy analysis](#acc)  \n",
    "[Dot count in hemifields](#dotcount)  \n",
    "[Autocorrelation of choices](#autocorr)  "
   ]
  },
  {
   "cell_type": "markdown",
   "metadata": {},
   "source": [
    "# Introduction\n",
    "<a id='intro'></a>\n",
    "## Notebook's goals\n",
    "\n",
    "Prepare data for analysis.\n",
    "\n",
    "## A word on the data for this notebook\n",
    "The tag for this data is `Pilot 12`. It was collected in the psychophysics booth with [this code](https://github.com/TheGoldLab/SingleCP_DotsReversal_Task/releases/tag/pilot12.mat).\n",
    "\n",
    "## Feedback about my own impressions doing the task\n",
    "- Fixation point still not red but white at start of trial\n",
    "- sometimes, and involuntary head or eye movement during stimulus presentation changes the perception of the dots (they become lines). I don't know if the eye-tracker will pick up on that, but if it doesn't it is an issue.\n",
    "- Getting comfy in front of the screen is not so easy to achieve\n",
    "\n",
    "## Data analysis workflow description\n",
    "1. Task is run with repo [SingleCP_DotsReversal_Task](https://github.com/TheGoldLab/SingleCP_DotsReversal_Task/) (for this dataset, the branch `psychophys_tests` was used).\n",
    "  1. A `.mat` data file is outputted (here, `2019_03_27_10_49_topsDataLog.mat`); in addition, I manually copy all the output from the MATLAB console into a text file (here, `consoleDump_2019_03_27_10_49.log`)\n",
    "  2. I upload important data files to PennBox (location = Data/Psychophysics/Radillo_SingleCP_DotsReversal/)\n",
    "2. Data is analyzed with repo [SingleCP_DotsReversal_DataAnalaysis](https://github.com/aernesto/SingleCP_DotsReversal_DataAnalysis)(again, with the appropriate branch -- currently `logistic_fits`).\n",
    "  1. The first step is to convert data from the .mat file into CSV format with [this script](https://github.com/aernesto/SingleCP_DotsReversal_DataAnalysis/blob/05d405594b1908ea9854d155617b038ac47356af/MATLAB_scripts/mat2csv.m) \n",
    "    - `pilot#_framesInfo.csv` [Fields description](https://github.com/aernesto/SingleCP_DotsReversal_DataAnalysis/wiki/Fields-description-of-*framesInfo.csv-file).\n",
    "    - `pilot#_FIRA.csv`  [Fields description](https://github.com/aernesto/SingleCP_DotsReversal_DataAnalysis/wiki/Fields-Description-of-*FIRA.csv-files).\n",
    "    - `pilot#_dotsPositions.csv` [Fields description](https://github.com/aernesto/SingleCP_DotsReversal_DataAnalysis/wiki/Fields-descriptions-for-*dotsPositions.csv-file).\n",
    "\n",
    "**TO-DO**\n",
    "- Write detailed explanation of each column in each `.csv` file (i.e. update the [Wiki](https://github.com/aernesto/SingleCP_DotsReversal_DataAnalysis/wiki))\n",
    "- After verifying that the random seeds allow us perfect reproduction of the dots stimulus, stop dumping DOTS and FRAMES data, that is, only stick to the `FIRA` data.\n",
    "\n",
    "## Unordered Q&A\n",
    "**Q:** Does the Quest node behave the same way as the task node with respect to skipped trials?  \n",
    "**A:** \n",
    "\n",
    "**Q:** How many frames are skipped on each trial, and where in the trial do they occur?  \n",
    "**A:** No frames are skipped (see figure in [this section](#tightFrames))  \n",
    "\n",
    "**Q:** Plot indep var. as fcn of trial count, to ensure real randomization was implemented by the task algorithm.  \n",
    "**A:** Things look fine [here](#randIndVar).\n",
    "    \n",
    "**Q:** Why [this pattern of errors](#errorsVD) in `(dotsOff-dotsOn) - viewingDuration`?  \n",
    "**A: Unanswered**  \n",
    "\n",
    "\n",
    "**Q:** Why [these dots counts](#numDots)?  \n",
    "**A:** This is because of the way the total number of dots is divided into 3 to allocate them to interleaved frames.  \n",
    "\n",
    "**Q:** Do subjects display a tendency to repeat the answer from the last trial?  \n",
    "**A:** Can [autocorrelation](#autocorr) tell us something?  \n",
    "\n",
    "\n",
    "**Q:** Do subjects use the dot count in each half of the screen to make up their mind at low coherence levels?  \n",
    "**A:** It doesn't seem so according to [this section](#dotcount)."
   ]
  },
  {
   "cell_type": "code",
   "execution_count": 1,
   "metadata": {},
   "outputs": [],
   "source": [
    "# load packages \n",
    "\n",
    "# Note:\n",
    "# if one of the packages below is not installed, type, once, in another cell\n",
    "# install.packages(\"<package_name>\", lib=\"<path_to_installation_folder>\")\n",
    "# note that if you don't put the lib arg above, it will default to first item in .libPaths()\n",
    "# ref:https://www.rdocumentation.org/packages/utils/versions/3.5.2/topics/install.packages\n",
    "\n",
    "# I can't load the conflicted package here :(\n",
    "# library(conflicted)\n",
    "# https://github.com/r-lib/conflicted/issues/26\n",
    "\n",
    "library(data.table)     # see https://cran.r-project.org/web/packages/data.table/vignettes/datatable-intro.html for reference\n",
    "library(ggplot2)        # for plots\n",
    "library(repr)           # for resizing figures\n",
    "library(OneR)           # to use the function 'bin'\n",
    "library(gridExtra)      # to use grid.arrange()\n",
    "\n",
    "source(\"../R_functions.r\") # custom functions"
   ]
  },
  {
   "cell_type": "code",
   "execution_count": 2,
   "metadata": {},
   "outputs": [],
   "source": [
    "# DEFINE CONSTANTS\n",
    "# folder/file-specific constants\n",
    "PILOT_NUMBER <- 12\n",
    "DATA_FOLDER <- \"../../data/\"\n",
    "FIRA_TAG <- \"FIRA\"\n",
    "FRAMES_TAG <- \"framesInfo\"\n",
    "DOTS_TAG <- \"dotsPositions\"\n",
    "\n",
    "# data-related constants\n",
    "FIRST_TRIALS_TO_DISCARD <- 1\n",
    "\n",
    "# plot-specific constants\n",
    "PLOT_TITLE_FONT_SIZE <- 18\n",
    "PLOT_SUBTITLE_FONT_SIZE <- 13 \n",
    "AXES_LABEL_FONT <- 14\n",
    "AXES_FONT <- 13\n",
    "\n",
    "ERROR_WIDTH <- 4\n",
    "SMALL_ERROR_WIDTH <- .01*ERROR_WIDTH\n",
    "\n",
    "LINE_WIDTH <- 1.4\n",
    "POINT_SIZE <- 2\n",
    "SMALL_DOT_SIZE <- 1\n",
    "\n",
    "# other variables\n",
    "FRAME_RATE_ESTIMATE <- 60 # Hz\n",
    "FRAME_DURATION <- (1 / FRAME_RATE_ESTIMATE) # sec"
   ]
  },
  {
   "cell_type": "code",
   "execution_count": 3,
   "metadata": {},
   "outputs": [],
   "source": [
    "# load csv files into data.tables\n",
    "TRIALS <- loadPilotCSV(PILOT_NUMBER, DATA_FOLDER, FIRA_TAG)\n",
    "FRAMES <- loadPilotCSV(PILOT_NUMBER, DATA_FOLDER, FRAMES_TAG)\n",
    "DOTS <- loadPilotCSV(PILOT_NUMBER, DATA_FOLDER, DOTS_TAG)"
   ]
  },
  {
   "cell_type": "markdown",
   "metadata": {},
   "source": [
    "# Data pre-processing\n",
    "<a id='preproc'></a>\n",
    "## Summary of `TRIALS` dataset (`*FIRA.csv` file)"
   ]
  },
  {
   "cell_type": "code",
   "execution_count": 4,
   "metadata": {
    "scrolled": true
   },
   "outputs": [
    {
     "name": "stdout",
     "output_type": "stream",
     "text": [
      "Classes ‘data.table’ and 'data.frame':\t256 obs. of  27 variables:\n",
      " $ taskID         : int  1 1 1 1 1 1 1 1 1 1 ...\n",
      " $ trialIndex     : int  155 126 61 143 196 145 54 22 193 67 ...\n",
      " $ trialStart     : num  650761 650767 650770 650775 650779 ...\n",
      " $ trialEnd       : num  650767 650770 650775 650779 650782 ...\n",
      " $ RT             : num  0.715 0.681 1.004 1.007 0.67 ...\n",
      " $ choice         : Factor w/ 3 levels \"0\",\"1\",\"NaN\": 2 1 1 2 1 2 1 1 2 2 ...\n",
      " $ correct        : logi  TRUE TRUE FALSE TRUE TRUE TRUE ...\n",
      " $ initDirection  : Factor w/ 2 levels \"0\",\"180\": 1 2 1 1 2 1 2 2 1 1 ...\n",
      " $ endDirection   : Factor w/ 2 levels \"0\",\"180\": 1 2 1 1 2 1 2 2 1 1 ...\n",
      " $ presenceCP     : logi  FALSE FALSE FALSE FALSE FALSE FALSE ...\n",
      " $ coherence      : num  22 20 18 32 31 29 28 27 25 23 ...\n",
      " $ viewingDuration: num  0.2 0.2 0.2 0.2 0.2 0.2 0.2 0.2 0.2 0.2 ...\n",
      " $ probCP         : num  0 0 0 0 0 0 0 0 0 0 ...\n",
      " $ timeCP         : num  0.2 0.2 0.2 0.2 0.2 0.2 0.2 0.2 0.2 0.2 ...\n",
      " $ randSeedBase   : int  6824 7050 4369 796 2186 2788 5155 8249 3148 6614 ...\n",
      " $ fixationOn     : num  0.424 0.198 0.168 0.144 0.17 ...\n",
      " $ fixationStart  : num  NaN NaN NaN NaN NaN NaN NaN NaN NaN NaN ...\n",
      " $ targetOn       : num  2.119 1.096 0.88 0.958 1.001 ...\n",
      " $ dotsOn         : num  3.59 1.44 2.52 1.23 1.25 ...\n",
      " $ dotsOff        : num  3.76 1.64 2.74 1.43 1.48 ...\n",
      " $ choiceTime     : num  4.48 2.32 3.75 2.44 2.15 ...\n",
      " $ targetOff      : num  NaN NaN NaN NaN NaN NaN NaN NaN NaN NaN ...\n",
      " $ fixationOff    : num  NaN NaN NaN NaN NaN NaN NaN NaN NaN NaN ...\n",
      " $ feedbackOn     : num  NaN NaN NaN NaN NaN NaN NaN NaN NaN NaN ...\n",
      " $ numFrames      : int  14 18 18 17 18 17 18 18 17 18 ...\n",
      " $ tocDotsOn      : num  3.53 1.41 2.5 1.21 1.24 ...\n",
      " $ tocDotsOff     : num  3.74 1.62 2.71 1.41 1.45 ...\n",
      " - attr(*, \".internal.selfref\")=<externalptr> \n"
     ]
    }
   ],
   "source": [
    "# set some variables to \"factor\"\n",
    "TRIALS[,`:=`(choice=as.factor(choice), \n",
    "            correct=as.logical(correct), # probably a bad idea to have this be a factor variable\n",
    "            initDirection=as.factor(initDirection),\n",
    "            endDirection=as.factor(endDirection),\n",
    "            presenceCP=as.logical(presenceCP))]\n",
    "# put back in missing values\n",
    "TRIALS[choice == 'NaN' | correct == 'NaN', `:=`(choice = NA, correct = NA)] \n",
    "\n",
    "# display summary for reference\n",
    "str(TRIALS)"
   ]
  },
  {
   "cell_type": "markdown",
   "metadata": {},
   "source": [
    "## Summary of `FRAMES` dataset (`*framesInfo.csv` file)"
   ]
  },
  {
   "cell_type": "code",
   "execution_count": 5,
   "metadata": {},
   "outputs": [
    {
     "name": "stdout",
     "output_type": "stream",
     "text": [
      "Classes ‘data.table’ and 'data.frame':\t4872 obs. of  6 variables:\n",
      " $ frameTotCount: int  3 4 5 6 7 8 9 10 11 12 ...\n",
      " $ onsetTime    : num  650762 650763 650765 650765 650765 ...\n",
      " $ onsetFrame   : int  238 338 421 425 426 427 428 429 430 431 ...\n",
      " $ swapTime     : num  650762 650763 650765 650765 650765 ...\n",
      " $ isTight      : int  0 0 0 0 1 1 1 1 1 1 ...\n",
      " $ trialIndex   : int  155 155 155 155 155 155 155 155 155 155 ...\n",
      " - attr(*, \".internal.selfref\")=<externalptr> \n"
     ]
    }
   ],
   "source": [
    "str(FRAMES)"
   ]
  },
  {
   "cell_type": "markdown",
   "metadata": {},
   "source": [
    "## Summary of `DOTS` dataset (`*dotsPositions.csv` file)"
   ]
  },
  {
   "cell_type": "code",
   "execution_count": 6,
   "metadata": {},
   "outputs": [
    {
     "name": "stdout",
     "output_type": "stream",
     "text": [
      "Classes ‘data.table’ and 'data.frame':\t24588 obs. of  6 variables:\n",
      " $ xpos      : num  0.573 0.787 0.879 0.444 0.838 ...\n",
      " $ ypos      : num  0.0886 0.0697 0.2138 0.8452 0.9675 ...\n",
      " $ isActive  : int  1 0 0 1 0 0 1 0 0 0 ...\n",
      " $ isCoherent: int  1 0 0 0 0 0 0 0 0 0 ...\n",
      " $ frameIdx  : int  1 1 1 1 1 1 1 1 1 2 ...\n",
      " $ trialCount: int  1 1 1 1 1 1 1 1 1 1 ...\n",
      " - attr(*, \".internal.selfref\")=<externalptr> \n"
     ]
    }
   ],
   "source": [
    "str(DOTS)"
   ]
  },
  {
   "cell_type": "markdown",
   "metadata": {},
   "source": [
    "## Classify trials\n",
    "We classify trials as follows:\n",
    "- `valid` means that the trial is kept in the analysis\n",
    "- `skipped` means that no answer was recorded (this could be linked to fixation break for instance)\n",
    "- `bug` means the code itself renders the trial unusable (for instance the 1st trial, because of our timing bug)\n",
    "- `early` means that an answer was provided before the end of the viewing duration\n",
    "\n",
    "Currently, I don't control for the fact that a single trial might fall into more than one non-valid category. I just make sure all `valid` trials are indeed valid."
   ]
  },
  {
   "cell_type": "code",
   "execution_count": 7,
   "metadata": {},
   "outputs": [],
   "source": [
    "setkey(TRIALS, 'trialStart')\n",
    "TRIALS[taskID==1, trialInSession:=.I]\n",
    "TRIALS[taskID==2, trialInSession:=.I]\n",
    "TRIALS[,`:=`(trialClass='valid')]"
   ]
  },
  {
   "cell_type": "code",
   "execution_count": 8,
   "metadata": {},
   "outputs": [],
   "source": [
    "TRIALS[is.na(choice), trialClass:='skipped']\n",
    "# TRIALS[trialInSession <= FIRST_TRIALS_TO_DISCARD, trialClass:='bug']\n",
    "TRIALS[RT <= 0, trialClass:='early']\n",
    "TRIALS[,trialClass:=as.factor(trialClass)]"
   ]
  },
  {
   "cell_type": "code",
   "execution_count": 9,
   "metadata": {},
   "outputs": [
    {
     "data": {
      "image/png": "[encoded data removed]",
      "text/plain": [
       "plot without title"
      ]
     },
     "metadata": {},
     "output_type": "display_data"
    }
   ],
   "source": [
    "# control output figure size\n",
    "options(repr.plot.width=8, repr.plot.height=3)\n",
    "\n",
    "ggplot(TRIALS, aes(x=trialInSession, y=trialClass != 'valid')) + \n",
    "    geom_point(aes(col=trialClass)) +\n",
    "    facet_grid(. ~ taskID) + \n",
    "    labs(title=\"Invalid Trials in Session\", x=\"trial in session order\", y=\"Invalid?\") +\n",
    "    theme(plot.title=element_text(size=20, lineheight=1.2),  # title\n",
    "          plot.subtitle=element_text(size=15,family=\"American Typewriter\"),  # subtitle\n",
    "          plot.caption=element_text(size=15),  # caption\n",
    "          axis.title.x=element_text(size=AXES_LABEL_FONT),  # X axis title\n",
    "          axis.title.y=element_text(size=AXES_LABEL_FONT),  # Y axis title\n",
    "          axis.text.x=element_text(size=AXES_FONT),  # X axis text\n",
    "          axis.text.y=element_text(size=AXES_FONT)) + # Y axis text\n",
    "    guides(colour = guide_legend(reverse=T))"
   ]
  },
  {
   "cell_type": "markdown",
   "metadata": {},
   "source": [
    "## Match trials across datasets"
   ]
  },
  {
   "cell_type": "markdown",
   "metadata": {},
   "source": [
    "How many trials were produced in each dataset?"
   ]
  },
  {
   "cell_type": "code",
   "execution_count": 10,
   "metadata": {},
   "outputs": [
    {
     "name": "stdout",
     "output_type": "stream",
     "text": [
      "TRIALS 256 \n",
      "DOTS   200 \n",
      "FRAMES 200"
     ]
    }
   ],
   "source": [
    "cat('TRIALS',TRIALS[,.N],\n",
    "   '\\nDOTS  ',DOTS[,max(trialCount)],\n",
    "   '\\nFRAMES',max(FRAMES[,.GRP,by=trialIndex])) # can I improve this syntax? \n",
    "# nrow is inefficient compared to .N\n",
    "#the following URL are enlightening\n",
    "#https://cran.r-project.org/web/packages/data.table/vignettes/datatable-intro.html"
   ]
  },
  {
   "cell_type": "markdown",
   "metadata": {},
   "source": [
    "(Note, with the current way in which the DOTS and FRAMES datasets are produced, I have a hard time distinguishing between the two nodes (i.e. `taskID`))"
   ]
  },
  {
   "cell_type": "markdown",
   "metadata": {},
   "source": [
    "We need to get the trials to match across datasets. "
   ]
  },
  {
   "cell_type": "markdown",
   "metadata": {},
   "source": [
    "Let's introduce a `validTrialCount` column in all datasets, with invalid trials flagged `validTrialCount=NA_integer_`."
   ]
  },
  {
   "cell_type": "code",
   "execution_count": 11,
   "metadata": {},
   "outputs": [],
   "source": [
    "TRIALS[trialClass == 'valid' & taskID==1, validTrialCount:=.I]\n",
    "TRIALS[trialClass == 'valid' & taskID==2, validTrialCount:=.I]"
   ]
  },
  {
   "cell_type": "code",
   "execution_count": 12,
   "metadata": {},
   "outputs": [],
   "source": [
    "TRIALS[trialClass != 'valid', validTrialCount := NA_integer_]"
   ]
  },
  {
   "cell_type": "code",
   "execution_count": 13,
   "metadata": {},
   "outputs": [
    {
     "name": "stdout",
     "output_type": "stream",
     "text": [
      "TRIALS dataset has a total of 200 valid trials in the Quest node and 54 in the task node."
     ]
    }
   ],
   "source": [
    "# cat('TRIALS data.table has',\n",
    "#     nrow(TRIALS[!is.na(validTrialCount),.(validTrialCount)]),\n",
    "#     'valid trials with min, max values') \n",
    "# TRIALS[!is.na(validTrialCount),.(min(validTrialCount),max(validTrialCount))]\n",
    "cat('TRIALS dataset has a total of',TRIALS[taskID==1,sum(trialClass=='valid')],'valid trials in the Quest node', \n",
    "   'and', TRIALS[taskID==2, sum(trialClass=='valid')],'in the task node.')"
   ]
  },
  {
   "cell_type": "code",
   "execution_count": 14,
   "metadata": {},
   "outputs": [],
   "source": [
    "?.N"
   ]
  },
  {
   "cell_type": "code",
   "execution_count": 15,
   "metadata": {},
   "outputs": [
    {
     "name": "stdout",
     "output_type": "stream",
     "text": [
      "discarding frame from row  3534 in FRAMES\n",
      "discarding frame from row  3535 in FRAMES\n",
      "discarding frame from row  3536 in FRAMES\n",
      "discarding frame from row  3537 in FRAMES\n",
      "discarding frame from row  3538 in FRAMES\n",
      "discarding frame from row  3539 in FRAMES\n",
      "discarding frame from row  3540 in FRAMES\n",
      "discarding frame from row  3541 in FRAMES\n",
      "discarding frame from row  3542 in FRAMES\n",
      "discarding frame from row  3543 in FRAMES\n",
      "discarding frame from row  3544 in FRAMES\n",
      "discarding frame from row  4872 in FRAMES\n",
      "FRAMES dataset has a total of 200 valid trials in the Quest node and 54 in the task node."
     ]
    }
   ],
   "source": [
    "# to match TRIALS to FRAMES, we use timestamps. \n",
    "\n",
    "# add the validTrialCount and taskID cols to FRAMES\n",
    "FRAMES[,`:=`(validTrialCount=0, taskID=NA_integer_)]\n",
    "# str(FRAMES)\n",
    "\n",
    "# NOTE: following for loop is SLOW, but I don't know of a way to speed things up\n",
    "# TODO: post question online\n",
    "\n",
    "# loop through rows in FRAMES and set trialCount appropriately\n",
    "for (numRow in 1:nrow(FRAMES)) {\n",
    "    frameOnset <- FRAMES[numRow, onsetTime]\n",
    "    if (length(TRIALS[trialStart <= frameOnset & trialEnd >= frameOnset,validTrialCount]) == 0) {\n",
    "        cat('discarding frame from row ',numRow, 'in FRAMES\\n')\n",
    "        FRAMES[numRow, \"validTrialCount\"] <- NA_integer_\n",
    "    } else if (length(TRIALS[trialStart <= frameOnset & trialEnd >= frameOnset,validTrialCount]) > 1) {\n",
    "        cat('row ',numRow, 'in FRAMES falls in more than one trial!\\n')\n",
    "    } else {\n",
    "        FRAMES[numRow, \"validTrialCount\"] <- TRIALS[trialStart <= frameOnset & trialEnd >= frameOnset,validTrialCount]\n",
    "        FRAMES[numRow, \"taskID\"] <- TRIALS[trialStart <= frameOnset & trialEnd >= frameOnset,taskID]\n",
    "    }\n",
    "}\n",
    "\n",
    "cat('FRAMES dataset has a total of',FRAMES[taskID==1 & !is.na(validTrialCount), .N, by=validTrialCount][,.N],'valid trials in the Quest node', \n",
    "   'and', FRAMES[taskID==2 & !is.na(validTrialCount), .N, by=validTrialCount][,.N],'in the task node.')"
   ]
  },
  {
   "cell_type": "code",
   "execution_count": null,
   "metadata": {},
   "outputs": [],
   "source": [
    "# ggplot(FRAMES[!is.na(validTrialCount),.(numFrames=.N),by=validTrialCount], aes(x=validTrialCount, y=numFrames)) + geom_line()\n",
    "# ggplot(TRIALS[!is.na(validTrialCount),.(VD=dotsOff-dotsOn),by=validTrialCount], aes(x=validTrialCount, y=VD)) + geom_line()"
   ]
  },
  {
   "cell_type": "markdown",
   "metadata": {},
   "source": [
    "Hurray, we managed to match `FRAMES` and `TRIALS`! Let's deal with the `DOTS` dataset now."
   ]
  },
  {
   "cell_type": "code",
   "execution_count": 16,
   "metadata": {},
   "outputs": [],
   "source": [
    "tmp_dt <- TRIALS[!is.na(choice)]\n",
    "tmp_dt[,trialCount := .I] # the trialCount col is meant to match the trialCount col from DOTS dataset\n",
    "\n",
    "# uncomment below to perform the checks\n",
    "# tmp_dt[,.(min(trialCount),max(trialCount))]\n",
    "# nrow(tmp_dt[,.(trialCount)])\n",
    "# DOTS[,.(min(trialCount),max(trialCount))]\n",
    "# nrow(DOTS[,.(.N),by=trialCount])"
   ]
  },
  {
   "cell_type": "code",
   "execution_count": 17,
   "metadata": {},
   "outputs": [],
   "source": [
    "# let's perform an inner join now\n",
    "setkey(DOTS, trialCount)\n",
    "setkey(tmp_dt, trialCount)\n",
    "DOTS <- DOTS[tmp_dt, nomatch=0]\n",
    "# str(DOTS)"
   ]
  },
  {
   "cell_type": "code",
   "execution_count": null,
   "metadata": {},
   "outputs": [],
   "source": [
    "# And we are done!\n",
    "# cat('new DOTS data.table has',\n",
    "#     nrow(DOTS[!is.na(validTrialCount),.N,by=validTrialCount]),\n",
    "#     'valid trials with min, max values') \n",
    "# DOTS[!is.na(validTrialCount),.(min=min(validTrialCount), max=max(validTrialCount))]"
   ]
  },
  {
   "cell_type": "markdown",
   "metadata": {},
   "source": [
    "Now the three datasets should perfectly match via the column `validTrialCount`!"
   ]
  },
  {
   "cell_type": "code",
   "execution_count": 20,
   "metadata": {},
   "outputs": [
    {
     "name": "stdout",
     "output_type": "stream",
     "text": [
      "Dataset trials \n",
      "TRIALS   254 \n",
      "DOTS     200 \n",
      "FRAMES   254 \n",
      "\n",
      "If all of the above match, it's a good sign!"
     ]
    }
   ],
   "source": [
    "cat('Dataset trials',\n",
    "    '\\nTRIALS  ',nrow(TRIALS[!is.na(validTrialCount)]),\n",
    "    '\\nDOTS    ',nrow(DOTS[!is.na(validTrialCount),.N,by=trialCount]),\n",
    "    '\\nFRAMES  ',\n",
    "    FRAMES[taskID==1 & !is.na(validTrialCount), .N, by=validTrialCount][,.N] +\n",
    "    FRAMES[taskID==2 & !is.na(validTrialCount), .N, by=validTrialCount][,.N],\n",
    "    \"\\n\\nIf all of the above match, it's a good sign!\")"
   ]
  },
  {
   "cell_type": "markdown",
   "metadata": {},
   "source": [
    "I believe that my code doesn't dump DOTS data for the second node."
   ]
  },
  {
   "cell_type": "code",
   "execution_count": 21,
   "metadata": {},
   "outputs": [
    {
     "name": "stdout",
     "output_type": "stream",
     "text": [
      "number of active dots per frame appearing across trials 3 \n"
     ]
    }
   ],
   "source": [
    "cat(\"number of active dots per frame appearing across trials\",\n",
    "    unique(DOTS[!is.na(validTrialCount),.(numDots=sum(isActive)), by=.(validTrialCount,frameIdx)][,numDots])\n",
    "    ,\"\\n\")"
   ]
  },
  {
   "cell_type": "markdown",
   "metadata": {},
   "source": [
    "Not all frames have the same number of active dots because of the way the MATLAB code currently assigns the dots to the the frames (see `dotsDrawableDotKinetogram.computeNextFrame()`)."
   ]
  },
  {
   "cell_type": "markdown",
   "metadata": {},
   "source": [
    "# Timing and trial checks\n",
    "<a id='checks'></a>\n",
    "How long did the session last?"
   ]
  },
  {
   "cell_type": "code",
   "execution_count": 22,
   "metadata": {},
   "outputs": [
    {
     "name": "stdout",
     "output_type": "stream",
     "text": [
      "16.78 min"
     ]
    }
   ],
   "source": [
    "cat( round(TRIALS[,sum(trialEnd - trialStart)] / 60, digits = 2), \"min\" )"
   ]
  },
  {
   "cell_type": "markdown",
   "metadata": {},
   "source": [
    "<!-- this is not so important anymore.\n",
    "Were some trials presented again after failure? -->"
   ]
  },
  {
   "cell_type": "code",
   "execution_count": null,
   "metadata": {},
   "outputs": [],
   "source": [
    "# print(\"below are the trial counts corresponding to trials that were presented a second time (lapse)\")\n",
    "# TRIALS[,.(trialIndex, trialCount)][duplicated(TRIALS[,.(trialIndex)])]"
   ]
  },
  {
   "cell_type": "markdown",
   "metadata": {},
   "source": [
    "- How many trials were produced per combination of factors? **(TODO: any better way of displaying these results?)**"
   ]
  },
  {
   "cell_type": "code",
   "execution_count": null,
   "metadata": {},
   "outputs": [],
   "source": [
    "print(\"How can I better visualize this?\")\n",
    "indepVarNames <- c(\"initDirection\",\"presenceCP\",\"coherence\",\"viewingDuration\",\"probCP\",\"timeCP\")\n",
    "combFactors <- getFreq(TRIALS[!is.na(validTrialCount)], indepVarNames)\n",
    "combFactors"
   ]
  },
  {
   "cell_type": "markdown",
   "metadata": {},
   "source": [
    "- What were the marginal frequencies? **(TODO:improve visualization)**"
   ]
  },
  {
   "cell_type": "code",
   "execution_count": null,
   "metadata": {},
   "outputs": [],
   "source": [
    "# print(\"visualization pending\")\n",
    "for (i in 1:length(indepVarNames)) {\n",
    "  print(getFreq(TRIALS[!is.na(validTrialCount)], indepVarNames[i]))\n",
    "  cat(\"\\n\\n\")\n",
    "}"
   ]
  },
  {
   "cell_type": "markdown",
   "metadata": {},
   "source": [
    "## Random indep vars.\n",
    "<a id='randIndVar'></a>\n",
    "We now plot the independent variables as a function of trial number in the task, to check randomization (at least eye-balling)."
   ]
  },
  {
   "cell_type": "code",
   "execution_count": null,
   "metadata": {},
   "outputs": [],
   "source": [
    "# control output figure size\n",
    "options(repr.plot.width=8, repr.plot.height=10)\n",
    "\n",
    "\n",
    "p1 <- ggplot(TRIALS[!is.na(validTrialCount)], aes(x=validTrialCount, y=dotsOff - dotsOn)) + \n",
    "    geom_line() +\n",
    "    labs(x=\"\", y=\"view. dur.\")\n",
    "\n",
    "\n",
    "p2 <- ggplot(TRIALS[!is.na(validTrialCount)], aes(x=validTrialCount, y=coherence)) +\n",
    "    geom_line() +\n",
    "    labs(x=\"\", y=\"coh.\")\n",
    "\n",
    "\n",
    "p3 <- ggplot(TRIALS[!is.na(validTrialCount) & validTrialCount < 50], \n",
    "             aes(x=validTrialCount, y=as.numeric(initDirection))) + \n",
    "    geom_line() + geom_point(aes(col=presenceCP), size=SMALL_DOT_SIZE) +\n",
    "    labs(x=\"\", y=\"init. dir.\", colour=\"CP\")\n",
    "\n",
    "\n",
    "p4 <- ggplot(TRIALS[!is.na(validTrialCount) & validTrialCount < 50], \n",
    "             aes(x=validTrialCount, y=as.numeric(endDirection))) + \n",
    "    geom_line() + geom_point(aes(col=presenceCP), size=SMALL_DOT_SIZE) +\n",
    "    labs(x=\"\", y=\"end dir.\", colour=\"CP\")\n",
    "\n",
    "\n",
    "p5 <- ggplot(TRIALS[!is.na(validTrialCount)], aes(x=validTrialCount, y=as.numeric(presenceCP))) + \n",
    "    geom_line() + \n",
    "    labs(x=\"Valid trial count\", y=\"CP\")\n",
    "\n",
    "grid.arrange(p1,p2,p3,p4,p5, nrow=5) "
   ]
  },
  {
   "cell_type": "markdown",
   "metadata": {},
   "source": [
    "## Match frame count across datasets\n",
    "<a id='frame_times'></a>"
   ]
  },
  {
   "cell_type": "code",
   "execution_count": null,
   "metadata": {},
   "outputs": [],
   "source": [
    "# we work on a custom data.table containing the frames data and a few columns from the TRIALS table\n",
    "\n",
    "# first we discard aborted trials\n",
    "frameTimes <- FRAMES[!is.na(validTrialCount),]\n",
    "\n",
    "# then we add some columns from TRIALS (the syntax is that of a right join)\n",
    "frameTimes <- FRAMES[TRIALS[!is.na(validTrialCount),\n",
    "                            .(trialStart, trialEnd,\n",
    "                              dotsOn, dotsOff, \n",
    "                              validTrialCount, \n",
    "                              numFrames)], on=\"validTrialCount\"]\n",
    "\n",
    "# only consider frames with onsetTime in-between dotsOn and dotsOff\n",
    "frameTimes <- frameTimes[onsetTime-trialStart>=dotsOn & onsetTime-trialStart <= dotsOff]"
   ]
  },
  {
   "cell_type": "code",
   "execution_count": null,
   "metadata": {},
   "outputs": [],
   "source": [
    "# we now create a custom data.table to hold the frame count from the three files.\n",
    "tmp_frames <- frameTimes[,.(FRAMESframeCount=.N), by=validTrialCount]\n",
    "tmp_trials <- unique(frameTimes[,.(TRIALSframeCount=numFrames), by=validTrialCount])\n",
    "tmp_dots <- DOTS[!is.na(validTrialCount),.(DOTSframeCount=max(frameIdx)),by=validTrialCount]\n",
    "\n",
    "# head(frameTimes)\n",
    "# head(tmp_frames)\n",
    "# head(tmp_trials)\n",
    "# head(tmp_dots)\n",
    "\n",
    "# merge the three data.tables above in a single call (inspiration from here https://stackoverflow.com/a/13274291)\n",
    "frameCounts <- Reduce(merge, list(tmp_frames,tmp_trials,tmp_dots))\n",
    "# head(frameCounts)"
   ]
  },
  {
   "cell_type": "code",
   "execution_count": null,
   "metadata": {},
   "outputs": [],
   "source": [
    "# add 2 cols for difference in frame count (see section 2a here: https://cran.r-project.org/web/packages/data.table/vignettes/datatable-reference-semantics.html)\n",
    "diffNumFrames <- melt(frameCounts[,`:=`(TRIALSvsDOTS = TRIALSframeCount - DOTSframeCount,\n",
    "                                        DOTSvsFRAMES = DOTSframeCount - FRAMESframeCount)],\n",
    "                      id.vars=c(\"validTrialCount\"),\n",
    "                      measure.vars=c(\"TRIALSvsDOTS\",\"DOTSvsFRAMES\"),\n",
    "                      value.name=\"diffFrameCount\", variable.name=\"FramePair\")\n",
    "\n",
    "# control output figure size\n",
    "options(repr.plot.width=8, repr.plot.height=3)\n",
    "\n",
    "# head(diffNumFrames)\n",
    "ggplot(diffNumFrames, aes(x=validTrialCount, y=diffFrameCount)) + geom_line(aes(col=FramePair)) +\n",
    "    ggtitle(\"difference in frame count per trial, across datasets\")"
   ]
  },
  {
   "cell_type": "markdown",
   "metadata": {},
   "source": [
    "From the columns above, we see that:\n",
    "- the `numFrames` field from the `TRIALS` table is not useful\n",
    "- counting the frames from the `FRAMES` dataset, filtering by timestamps, _runs the risk of being off by 1 frame_.\n",
    "- so for motion energy, I'll stick to the `DOTS` dataset for now."
   ]
  },
  {
   "cell_type": "markdown",
   "metadata": {},
   "source": [
    "## A deeper look at the timestamps fields"
   ]
  },
  {
   "cell_type": "code",
   "execution_count": null,
   "metadata": {},
   "outputs": [],
   "source": [
    "wideTimestamps <- TRIALS[!is.na(validTrialCount),.(trialStart=trialStart-trialStart,\n",
    "                                  trialEnd=trialEnd-trialStart,\n",
    "                                  dotsOn,\n",
    "                                  dotsOff,\n",
    "                                  tocDotsOn,\n",
    "                                  tocDotsOff,\n",
    "                                  nDotsOn=dotsOn - tocDotsOn,\n",
    "                                  nDotsOff=dotsOff - tocDotsOn,\n",
    "                                  nTocDotsOn=tocDotsOn - tocDotsOn,\n",
    "                                  nTocDotsOff=tocDotsOff - tocDotsOn,\n",
    "                                  targetOn,\n",
    "                                  fixationOn,\n",
    "                                  choiceTime,\n",
    "                                  presenceCP),by=validTrialCount]"
   ]
  },
  {
   "cell_type": "code",
   "execution_count": null,
   "metadata": {},
   "outputs": [],
   "source": [
    "# refTime <- wideTimestamps[,.(trialCount,\n",
    "#     trialStart, trialEnd, dotsOn, dotsOff, targetOn, fixationOn, choiceTime), \n",
    "#                         by=trialIndex]\n",
    "longTimestamps <- melt(wideTimestamps,\n",
    "                       id.vars=c(\"validTrialCount\"),\n",
    "                       measure.vars=c(\"trialStart\",\"fixationOn\",\"targetOn\",\"dotsOn\",\"dotsOff\",\n",
    "                                      \"choiceTime\",\"trialEnd\"),\n",
    "                       value.name=\"timestamp\", variable.name=\"Event\")\n",
    "# str(longTimestamps)"
   ]
  },
  {
   "cell_type": "markdown",
   "metadata": {},
   "source": [
    "Recall that in the plot below, `targetOn` corresponds to the display time of the targets, which requires first the subject to *hold fixation*."
   ]
  },
  {
   "cell_type": "code",
   "execution_count": null,
   "metadata": {},
   "outputs": [],
   "source": [
    "# since we have many trials, let's split the plots in 3\n",
    "longTimestamps[, sessionPeriod:='early']\n",
    "longTimestamps[validTrialCount > max(validTrialCount) / 3, sessionPeriod:='middle']\n",
    "longTimestamps[validTrialCount > 2 * max(validTrialCount) / 3, sessionPeriod:='late']\n",
    "longTimestamps[, sessionPeriod := factor(sessionPeriod, levels=c(\"early\", \"middle\", \"late\"))]\n",
    "# control output figure size\n",
    "options(repr.plot.width=8, repr.plot.height=12)\n",
    "\n",
    "# plot\n",
    "ggplot(longTimestamps, aes(x=validTrialCount, y=timestamp)) + #geom_point(aes(col=Event), size=2) +\n",
    "   geom_line(aes(col=Event),size=.5) +\n",
    "#    geom_hline(yintercept = frameDurations, linetype=\"dashed\") +\n",
    "    facet_wrap(~sessionPeriod, nrow=3, scales=\"free_x\") + \n",
    "    guides(colour = guide_legend(reverse=T)) +\n",
    "    labs(title=\"Trial Timestamps\",\n",
    "         subtitle=paste(\"From pilot\",PILOT_NUMBER,\" dataset\\n(only valid trials displayed)\",sep=\"\"),\n",
    "         y=\"Aligned Time (sec)\", x=\"trial in session\") + \n",
    "    theme(plot.title=element_text(size=PLOT_TITLE_FONT_SIZE, lineheight=1.2),  # title\n",
    "            plot.subtitle=element_text(size=PLOT_SUBTITLE_FONT_SIZE),  # subtitle\n",
    "            plot.caption=element_text(size=PLOT_SUBTITLE_FONT_SIZE),  # caption\n",
    "            axis.title.x=element_text(size=AXES_LABEL_FONT),  # X axis title\n",
    "            axis.title.y=element_text(size=AXES_LABEL_FONT),  # Y axis title\n",
    "            axis.text.x=element_text(size=AXES_FONT),  # X axis text\n",
    "            axis.text.y=element_text(size=AXES_FONT),\n",
    "             strip.text=element_text(size=PLOT_SUBTITLE_FONT_SIZE))  # Y axis text"
   ]
  },
  {
   "cell_type": "markdown",
   "metadata": {},
   "source": [
    "### Dots timing\n",
    "<a id='errorsVD'></a>\n",
    "We plot `(dotsOff - dotsOn) - viewingDuration`, across all trials, and overlay average durations of 1 and 2 frames (dashed lines)."
   ]
  },
  {
   "cell_type": "code",
   "execution_count": null,
   "metadata": {},
   "outputs": [],
   "source": [
    "durTable <- TRIALS[!is.na(validTrialCount),.(dotsDurationError = (dotsOff - dotsOn - viewingDuration) * 1000, \n",
    "                            presenceCP, \n",
    "                            viewingDuration), \n",
    "                        by=validTrialCount]\n",
    "\n",
    "horizLines <- c(FRAME_DURATION*1000,FRAME_DURATION * 2000)\n",
    "\n",
    "# control output figure size\n",
    "options(repr.plot.width=8, repr.plot.height=6)\n",
    "\n",
    "\n",
    "# call to ggplot()\n",
    "g <- ggplot(durTable, aes(x=validTrialCount, y=dotsDurationError)) + \n",
    "#   geom_line(size=.2) +  \n",
    "  geom_point(aes(shape=presenceCP, col=factor(viewingDuration)),size=POINT_SIZE) +\n",
    "  geom_hline(yintercept = horizLines, linetype=\"dashed\") +\n",
    "  annotate(\"text\", x=37, y=horizLines, vjust = 1.3, label = c(\"1 frame\",\"2 frames\"))\n",
    "# Add Title and Labels\n",
    "g + labs(title=\"Error in generated dots duration\", \n",
    "         subtitle=paste(\"From pilot\",PILOT_NUMBER,\" dataset\\n(only valid trials)\",sep=\"\"), \n",
    "         y=\"duration error (msec)\", \n",
    "         x=\"trial in session\",\n",
    "         colour=\"viewing dur.\", shape=\"CP\") + \n",
    "    guides(colour = guide_legend(reverse=T), shape=guide_legend(reverse=T)) +\n",
    "    theme(plot.title=element_text(size=PLOT_TITLE_FONT_SIZE, lineheight=1.2),  # title\n",
    "            plot.subtitle=element_text(size=PLOT_SUBTITLE_FONT_SIZE),  # subtitle\n",
    "            plot.caption=element_text(size=PLOT_SUBTITLE_FONT_SIZE),  # caption\n",
    "            axis.title.x=element_text(size=AXES_LABEL_FONT),  # X axis title\n",
    "            axis.title.y=element_text(size=AXES_LABEL_FONT),  # Y axis title\n",
    "            axis.text.x=element_text(size=AXES_FONT),  # X axis text\n",
    "            axis.text.y=element_text(size=AXES_FONT))  # Y axis text"
   ]
  },
  {
   "cell_type": "markdown",
   "metadata": {},
   "source": [
    "The plot above shows that most real viewing durations are roughly 20 msec longer than the intended ones.\n",
    "In a sizeable number of trials, the error rises to 40 msec, and this almost exclusively happens on change point trials.\n",
    "\n",
    "Below I try to estimate the mean errors, clustered. "
   ]
  },
  {
   "cell_type": "code",
   "execution_count": null,
   "metadata": {},
   "outputs": [],
   "source": [
    "print(\"empty for now\")\n",
    "# intervals <- bin(durTable[,.(dotsDurationError)], nbins = 3, method = \"cluster\")\n",
    "# names(intervals) <- \"interval\"\n",
    "\n",
    "# # add the bins as a factor to the data.table\n",
    "# durTable[, (\"interval\") := intervals]\n",
    "\n",
    "# # compute mean durations\n",
    "# unordered <- durTable[, .(num_trials=.N, meanDurationError = mean(dotsDurationError)), by = intervals]\n",
    "\n",
    "# # display results, with num_frame column\n",
    "# unordered[order(meanDurationError),.(num_trials, meanDurationError, num_frames = (meanDurationError * FRAME_RATE_ESTIMATE / 1000))]"
   ]
  },
  {
   "cell_type": "markdown",
   "metadata": {},
   "source": [
    "### Tic/toc dots durations\n",
    "Below I specifically compare the `dotsOn` and `dotsOff` values that I got from the task and from the `tic/toc` \n",
    "calls."
   ]
  },
  {
   "cell_type": "code",
   "execution_count": null,
   "metadata": {},
   "outputs": [],
   "source": [
    "# visualization in this cell not very interesting/readable\n",
    "# I switched to the boxplots below\n",
    "# longDotsOffTimestamps <- melt(wideTimestamps,\n",
    "#                        id.vars=c(\"validTrialCount\",\"presenceCP\"),\n",
    "#                        measure.vars=c(\"nTocDotsOn\",\"nDotsOn\",\"nTocDotsOff\",\"nDotsOff\"),\n",
    "#                        value.name=\"timestamp\", variable.name=\"Event\")\n",
    "\n",
    "# # control output figure size\n",
    "# options(repr.plot.width=8, repr.plot.height=8)\n",
    "\n",
    "# # plot\n",
    "# ggplot(longDotsOffTimestamps, aes(x=validTrialCount, y=timestamp)) + \n",
    "#    geom_point(aes(col=Event, shape=presenceCP), size=POINT_SIZE) +\n",
    "# #    geom_line(aes(col=Event),size=.2) +\n",
    "# #    geom_hline(yintercept = frameDurations, linetype=\"dashed\") +\n",
    "#     guides(colour = guide_legend(reverse=T)) +\n",
    "#     labs(title=\"Trial Timestamps\",\n",
    "#          subtitle=paste(\"From pilot\",PILOT_NUMBER,\" dataset\",sep=\"\"),\n",
    "#         shape=\"Change Point\") + theme(plot.title=element_text(size=20,\n",
    "#                                     lineheight=1.2),  # title\n",
    "#             plot.subtitle=element_text(size=15),  # subtitle\n",
    "#             plot.caption=element_text(size=15),  # caption\n",
    "#             axis.title.x=element_text(size=AXES_LABEL_FONT),  # X axis title\n",
    "#             axis.title.y=element_text(size=AXES_LABEL_FONT),  # Y axis title\n",
    "#             axis.text.x=element_text(size=AXES_FONT),  # X axis text\n",
    "#             axis.text.y=element_text(size=AXES_FONT))  # Y axis text\n",
    "\n"
   ]
  },
  {
   "cell_type": "code",
   "execution_count": null,
   "metadata": {},
   "outputs": [],
   "source": [
    "#inspecting levels\n",
    "# levels(melt(ticTocOffsets,\n",
    "#             id.vars=c(\"validTrialCount\"),\n",
    "#             measure.vars=c(\"dotsOnOffset\",\"dotsOffOffset\"),\n",
    "#             value.name=\"timestamp\", variable.name=\"Event\")[,Event])"
   ]
  },
  {
   "cell_type": "code",
   "execution_count": null,
   "metadata": {},
   "outputs": [],
   "source": [
    "ticTocOffsets <- wideTimestamps[,.(validTrialCount, \n",
    "                                   dotsOnOffset=nDotsOn-nTocDotsOn, \n",
    "                                   dotsOffOffset=nDotsOff-nTocDotsOff)]\n",
    "\n",
    "# control output figure size\n",
    "options(repr.plot.width=8, repr.plot.height=4)\n",
    "ggplot(melt(ticTocOffsets,\n",
    "            id.vars=c(\"validTrialCount\"),\n",
    "            measure.vars=c(\"dotsOnOffset\",\"dotsOffOffset\"),\n",
    "            value.name=\"timestamp\", variable.name=\"Event\"), \n",
    "       aes(Event, 1000*timestamp)) + \n",
    "    geom_boxplot(outlier.colour = \"red\", outlier.shape = 1) + #good ref https://ggplot2.tidyverse.org/reference/geom_boxplot.html\n",
    "    coord_flip() +\n",
    "    labs(title=\"Difference between snow-dots dotsOn/dotsOff\\nmeasures and tic/toc\",\n",
    "         subtitle=paste(\"From pilot\",PILOT_NUMBER,\" dataset\",sep=\"\"),\n",
    "         y=\"time diff. (msec)\") +\n",
    "    theme(plot.title=element_text(size=PLOT_TITLE_FONT_SIZE,\n",
    "                                    lineheight=1.2),  # title\n",
    "            plot.subtitle=element_text(size=PLOT_SUBTITLE_FONT_SIZE),  # subtitle\n",
    "            plot.caption=element_text(size=PLOT_SUBTITLE_FONT_SIZE),  # caption\n",
    "            axis.title.x=element_text(size=AXES_LABEL_FONT),  # X axis title\n",
    "            axis.title.y=element_text(size=AXES_LABEL_FONT),  # Y axis title\n",
    "            axis.text.x=element_text(size=AXES_FONT),  # X axis text\n",
    "            axis.text.y=element_text(size=AXES_FONT))  # Y axis text\n"
   ]
  },
  {
   "cell_type": "markdown",
   "metadata": {},
   "source": [
    "## Checking that the three datasets are consistent"
   ]
  },
  {
   "cell_type": "markdown",
   "metadata": {},
   "source": [
    "### Timing of trial vs. timing of frames"
   ]
  },
  {
   "cell_type": "markdown",
   "metadata": {},
   "source": [
    "#### Frame timings\n",
    "what time gaps do I observe between `dotsOn` and 1st frame `onsetTime`, and last frame `onsetTime` and `dotsOff`?"
   ]
  },
  {
   "cell_type": "code",
   "execution_count": null,
   "metadata": {},
   "outputs": [],
   "source": [
    "# get times of first and last frame in each trial, align everything to dotsOn\n",
    "# extremeFrameTimes <- frameTimes[,.(firstFrame=min(onsetTime-trialStart)-dotsOn, \n",
    "#                                    lastFrame=max(onsetTime-trialStart)-dotsOn,\n",
    "#                                    trialStart, \n",
    "#                                    dotsOn=dotsOn-dotsOn, \n",
    "#                                    dotsOff=dotsOff-dotsOn),\n",
    "#                                   by=validTrialCount]\n",
    "print(\"skipped for now\")\n",
    "# str(extremeFrameTimes)"
   ]
  },
  {
   "cell_type": "code",
   "execution_count": null,
   "metadata": {},
   "outputs": [],
   "source": [
    "# visualization in this cell not very interesting/readable\n",
    "# probably better to switch to the boxplots as above\n",
    "# transform to long format for ggplot \n",
    "# longTimeData <- melt(extremeFrameTimes, \n",
    "#                     id.vars=c(\"validTrialCount\"),\n",
    "#                     measure.vars=c(\"dotsOn\",\"firstFrame\",\"lastFrame\",\"dotsOff\"),\n",
    "#                     variable.name=\"Event\", value.name=\"timestamp\")\n",
    "# #str(longTimeData)\n",
    "\n",
    "\n",
    "# frameDurations <- c(6*FRAME_DURATION, 140*FRAME_DURATION)\n",
    "\n",
    "# # control output figure size\n",
    "# options(repr.plot.width=8, repr.plot.height=8)\n",
    "\n",
    "# # plot\n",
    "# ggplot(longTimeData, aes(x=validTrialCount, y=timestamp)) + \n",
    "#     geom_point(aes(col=Event), size=POINT_SIZE) +\n",
    "# #    geom_line(aes(col=Event),size=.2) +\n",
    "#    geom_hline(yintercept = FRAME_DURATION, linetype=\"dashed\") +\n",
    "#    annotate(\"text\", x=16, y=FRAME_DURATION, vjust = -1, label = c(\"1 frame\")) +\n",
    "#    guides(colour = guide_legend(reverse=T)) +\n",
    "#    labs(title=\"Stimulus Timestamps\",\n",
    "#          subtitle=paste(\"From pilot\",PILOT_NUMBER,\" dataset\",sep=\"\"),\n",
    "#          y=\"Aligned Time (sec)\") + \n",
    "#     theme(plot.title=element_text(size=PLOT_TITLE_FONT_SIZE, lineheight=1.2),  # title\n",
    "#             plot.subtitle=element_text(size=PLOT_SUBTITLE_FONT_SIZE),  # subtitle\n",
    "#             plot.caption=element_text(size=PLOT_SUBTITLE_FONT_SIZE),  # caption\n",
    "#             axis.title.x=element_text(size=AXES_LABEL_FONT),  # X axis title\n",
    "#             axis.title.y=element_text(size=AXES_LABEL_FONT),  # Y axis title\n",
    "#             axis.text.x=element_text(size=AXES_FONT),  # X axis text\n",
    "#             axis.text.y=element_text(size=AXES_FONT))  # Y axis text"
   ]
  },
  {
   "cell_type": "markdown",
   "metadata": {},
   "source": [
    "#### Tight/skipped frames \n",
    "<a id='tightFrames'></a>\n",
    "Exploration of `Tight` frames in each trial"
   ]
  },
  {
   "cell_type": "code",
   "execution_count": null,
   "metadata": {},
   "outputs": [],
   "source": [
    "# plot\n",
    "# recall that frameTimes is defined in section #frame_times\n",
    "# only produce plot if non-tight frames exist:\n",
    "if (nrow(frameTimes[isTight == 0])>0) {\n",
    "    cat('total of skipped frames = ',frameTimes[,sum(!isTight)])\n",
    "    ggplot(frameTimes, aes(x=validTrialCount, y=onsetTime-(dotsOn+trialStart))) + \n",
    "       geom_point(aes(col=factor(isTight)), size=2) +\n",
    "       labs(title=\"Tight/Untight Frames\",\n",
    "         subtitle=paste(\"From pilot\",PILOT_NUMBER,\" dataset\",sep=\"\"),\n",
    "         y=\"onsetTime aligned to dotsOn (sec)\",\n",
    "        color=\"Tight\") + \n",
    "       theme(plot.title=element_text(size=20, lineheight=1.2),  # title\n",
    "            plot.subtitle=element_text(size=15),  # subtitle\n",
    "            plot.caption=element_text(size=15),  # caption\n",
    "            axis.title.x=element_text(size=AXES_LABEL_FONT),  # X axis title\n",
    "            axis.title.y=element_text(size=AXES_LABEL_FONT),  # Y axis title\n",
    "            axis.text.x=element_text(size=AXES_FONT),  # X axis text\n",
    "            axis.text.y=element_text(size=AXES_FONT))  # Y axis text\n",
    "} else {\n",
    "    print(\"all frames are tight in the valid trials\")\n",
    "}\n"
   ]
  },
  {
   "cell_type": "markdown",
   "metadata": {},
   "source": [
    "# Accuracy analysis\n",
    "<a id='acc'></a>\n",
    "**NOTE:**\n",
    "The actual analysis of the psychophysical data is performed in the notebook `psychophysics.ipynb`. Here, we merely perform quick visualization and _create the_ `psychophysical_data.csv` _dataset_ used in the aforementioned notebook.  \n",
    "- Accuracy (% correct) on all trials with non-zero coherence"
   ]
  },
  {
   "cell_type": "code",
   "execution_count": null,
   "metadata": {},
   "outputs": [],
   "source": [
    "accuracy <- TRIALS[coherence > 0 & !is.na(validTrialCount),sum(correct)/.N]\n",
    "cat('accuracy on trials with non-zero coherence:', accuracy * 100,\"%\", sep = '')"
   ]
  },
  {
   "cell_type": "markdown",
   "metadata": {},
   "source": [
    "## Psychometric curves\n",
    "Recall that rightward motion corresponds to direction 0 degrees and choice 1.\n",
    "Below, we set the coherence to its negative counterpart every time \n",
    "the direction of motion at the end of the trial is leftward (180 degrees)."
   ]
  },
  {
   "cell_type": "code",
   "execution_count": null,
   "metadata": {},
   "outputs": [],
   "source": [
    "str(TRIALS)"
   ]
  },
  {
   "cell_type": "code",
   "execution_count": null,
   "metadata": {},
   "outputs": [],
   "source": [
    "# create a specific column signedCoherence\n",
    "TRIALS[, signedCoherence := coherence]\n",
    "TRIALS[endDirection==180, signedCoherence := -coherence]\n",
    "# set values to NA when there is a change point or when trial is not valid\n",
    "TRIALS[presenceCP | is.na(validTrialCount), signedCoherence := NA_integer_]\n",
    "# str(TRIALS)"
   ]
  },
  {
   "cell_type": "markdown",
   "metadata": {},
   "source": [
    "**Here we dump a .csv file for psychophysical data analysis**"
   ]
  },
  {
   "cell_type": "code",
   "execution_count": null,
   "metadata": {},
   "outputs": [],
   "source": [
    "pp_dump <- TRIALS[!is.na(validTrialCount)]\n",
    "\n",
    "pp_dump[,choice:=droplevels(choice)]        # drop unused level \"NA\" for choice variable\n",
    "\n",
    "# print(nrow(pp_dump[choice==\"1\"]))\n",
    "levels(pp_dump$choice) <- c('left','right') # rename remaining levels\n",
    "# print(nrow(pp_dump[choice==\"right\"]))\n",
    "\n",
    "# treat presenceCP as factor and rename the labels\n",
    "# print(nrow(pp_dump[presenceCP==TRUE]))\n",
    "pp_dump[,presenceCP:=as.factor(presenceCP)]\n",
    "# print(nrow(pp_dump[presenceCP==\"TRUE\"]))\n",
    "levels(pp_dump$presenceCP) <- c('no','yes')\n",
    "# print(nrow(pp_dump[presenceCP==\"yes\"]))\n",
    "\n",
    "fwrite(pp_dump[,.(validTrialCount, \n",
    "               choice, \n",
    "               correct, \n",
    "               presenceCP, \n",
    "               viewingDuration, \n",
    "               signedCoherence, \n",
    "               coherence, \n",
    "               choice_time = choiceTime - dotsOff,\n",
    "               exactVD = dotsOff - dotsOn)], file = \"psychophysical_data.csv\", na=\"NA\")"
   ]
  },
  {
   "cell_type": "code",
   "execution_count": null,
   "metadata": {},
   "outputs": [],
   "source": [
    "z <- 1.96 # For 95% confidence intervals\n",
    "# create new data.table with columns \"propChooseRight\" and \"se\" (for standard error)\n",
    "ppTable1 <- TRIALS[!is.na(validTrialCount), .(propChooseRight=sum(choice==\"1\")/.N, n=.N), by=signedCoherence]\n",
    "ppTable1[,se:=sqrt(propChooseRight*(1-propChooseRight)/n)]\n",
    "ppTable1[,ci:=z*se]"
   ]
  },
  {
   "cell_type": "code",
   "execution_count": null,
   "metadata": {},
   "outputs": [],
   "source": [
    "# control output figure size\n",
    "options(repr.plot.width=8, repr.plot.height=5)\n",
    "ggplot(ppTable1, aes(x=signedCoherence, y=propChooseRight)) +\n",
    "    geom_errorbar(aes(ymin=propChooseRight-ci, ymax=propChooseRight+ci), width=ERROR_WIDTH) +\n",
    "    geom_line() +\n",
    "    geom_point() +\n",
    "    ggtitle(\"Psychometric curve\\nwith 95% confidence intervals\") +\n",
    "    theme(plot.title=element_text(size=20, lineheight=1.2),  # title\n",
    "            plot.subtitle=element_text(size=15, family=\"American Typewriter\"),  # subtitle\n",
    "            plot.caption=element_text(size=15),  # caption\n",
    "            axis.title.x=element_text(size=AXES_LABEL_FONT),  # X axis title\n",
    "            axis.title.y=element_text(size=AXES_LABEL_FONT),  # Y axis title\n",
    "            axis.text.x=element_text(size=AXES_FONT),  # X axis text\n",
    "            axis.text.y=element_text(size=AXES_FONT))  # Y axis text"
   ]
  },
  {
   "cell_type": "markdown",
   "metadata": {},
   "source": [
    "### Psychometric curves grouped by change-point condition\n",
    "Let's compute the same curve, separating CP and non-CP trials"
   ]
  },
  {
   "cell_type": "code",
   "execution_count": null,
   "metadata": {},
   "outputs": [],
   "source": [
    "ppTableCP <- TRIALS[!is.na(validTrialCount) & presenceCP==1, .(propChooseRightCP=sum(choice == \"1\")/.N, nCP=.N), by=signedCoherence]\n",
    "ppTableCP[,seCP:=sqrt(propChooseRightCP*(1-propChooseRightCP)/nCP)]\n",
    "ppTableNonCP <- TRIALS[!is.na(validTrialCount) & presenceCP==0, .(propChooseRightNonCP=sum(choice == \"1\")/.N, nNonCP=.N), by=signedCoherence]\n",
    "ppTableNonCP[,seNonCP:=sqrt(propChooseRightNonCP*(1-propChooseRightNonCP)/nNonCP)]"
   ]
  },
  {
   "cell_type": "code",
   "execution_count": null,
   "metadata": {},
   "outputs": [],
   "source": [
    "# merge the two tables and put them in long format\n",
    "setkey(ppTableCP, signedCoherence)\n",
    "setkey(ppTableNonCP, signedCoherence)\n",
    "\n",
    "# Full OUTER JOIN (see https://rstudio-pubs-static.s3.amazonaws.com/52230_5ae0d25125b544caab32f75f0360e775.html)\n",
    "psychophys <- merge(ppTableCP,ppTableNonCP,all=TRUE)\n",
    "\n",
    "# convert to long format\n",
    "longPsychophys <- melt(psychophys, \n",
    "                    id.vars=c(\"signedCoherence\",\"seCP\",\"seNonCP\"),\n",
    "                    measure.vars=c(\"propChooseRightCP\",\"propChooseRightNonCP\"),\n",
    "                    variable.name=\"CPcategory\", value.name=\"propChooseRight\")\n",
    "\n",
    "# add se col\n",
    "longPsychophys[,se:=seCP]\n",
    "longPsychophys[CPcategory=='propChooseRightNonCP', se:=seNonCP]\n",
    "longPsychophys[,ci:=z*se]\n",
    "\n",
    "# head(psychophys)\n",
    "# head(longPsychophys)"
   ]
  },
  {
   "cell_type": "code",
   "execution_count": null,
   "metadata": {},
   "outputs": [],
   "source": [
    "# control output figure size\n",
    "options(repr.plot.width=8, repr.plot.height=5)\n",
    "\n",
    "# ref on error bars\n",
    "# http://www.cookbook-r.com/Graphs/Plotting_means_and_error_bars_(ggplot2)/\n",
    "\n",
    "pd <- position_dodge(1.5)\n",
    "# ggplot(longPsychophys, aes(x=signedCoherence, y=propChooseRight)) +\n",
    "#     geom_errorbar(aes(ymin=propChooseRight-ci, ymax=propChooseRight+ci, col=CPcategory), width=.1, position=pd) +\n",
    "#     geom_line(aes(col=CPcategory),position=pd) +\n",
    "#     geom_point(aes(col=CPcategory),position=pd)\n",
    "\n",
    "ggplot(longPsychophys, aes(x=signedCoherence, y=propChooseRight, colour=CPcategory, group=CPcategory)) + \n",
    "    geom_errorbar(aes(ymin=propChooseRight-ci, ymax=propChooseRight+ci), colour=\"black\", width=ERROR_WIDTH, position=pd) +\n",
    "    geom_line(position=pd, size=LINE_WIDTH) +\n",
    "    geom_point(position=pd, size=3, shape=21, fill=\"white\") + # 21 is filled circle\n",
    "    xlab(\"% coherence (+- for direction)\") +\n",
    "    ylab(\"Proportion Choose Right\") +\n",
    "    scale_colour_hue(name=\"Trial type\",    # Legend label, use darker colors\n",
    "                     breaks=c(\"propChooseRightCP\", \"propChooseRightNonCP\"),\n",
    "                     labels=c(\"CP\", \"No CP\"),\n",
    "                     l=40) +                    # Use darker colors, lightness=40\n",
    "    ggtitle(\"Psychometric curves grouped by CP presence\\nwith 95% confidence intervals\") +\n",
    "    expand_limits(y=0) +                        # Expand y range\n",
    "    scale_y_continuous(breaks=c(0,.25,0.5,0.75,1)) +         # Set tick every 4\n",
    "    theme_bw() +\n",
    "    theme(plot.title=element_text(size=20, lineheight=1.2),  # title\n",
    "          plot.subtitle=element_text(size=15, family=\"American Typewriter\"),  # subtitle\n",
    "          plot.caption=element_text(size=15),  # caption\n",
    "          axis.title.x=element_text(size=AXES_LABEL_FONT),  # X axis title\n",
    "          axis.title.y=element_text(size=AXES_LABEL_FONT),  # Y axis title\n",
    "          axis.text.x=element_text(size=AXES_FONT),  # X axis text\n",
    "          axis.text.y=element_text(size=AXES_FONT),  # Y axis text\n",
    "          legend.justification=c(1,0),\n",
    "          legend.position=c(1,0))               # Position legend in bottom right"
   ]
  },
  {
   "cell_type": "markdown",
   "metadata": {},
   "source": [
    "## Accuracy as a function of viewing duration"
   ]
  },
  {
   "cell_type": "code",
   "execution_count": null,
   "metadata": {},
   "outputs": [],
   "source": [
    "# first get marginal frequencies\n",
    "toDisplay <- TRIALS[!is.na(validTrialCount) & coherence > 0,.(freq = .N, correct = sum(correct)), by=viewingDuration]\n",
    "\n",
    "# then add the accuracy column\n",
    "toDisplay[,accuracy := correct/freq]\n",
    "toDisplay[,se := sqrt(accuracy * (1-accuracy)/ freq)]\n",
    "\n",
    "# head(toDisplay)\n",
    "\n",
    "pd <- position_dodge(0)\n",
    "ggplot(toDisplay, aes(x=viewingDuration, y=accuracy)) +\n",
    "    geom_errorbar(aes(ymin=accuracy-z*se, ymax=accuracy+z*se), width=0.03, position=pd) +\n",
    "    geom_line(position=pd) +\n",
    "    geom_point(position=pd) +\n",
    "    ggtitle(\"Percent correct on non-zero coherence trials\\n 95% confidence intervals\") +\n",
    "    theme(plot.title=element_text(size=20, lineheight=1.2),  # title\n",
    "            plot.subtitle=element_text(size=15, family=\"American Typewriter\"),  # subtitle\n",
    "            plot.caption=element_text(size=15),  # caption\n",
    "            axis.title.x=element_text(size=AXES_LABEL_FONT),  # X axis title\n",
    "            axis.title.y=element_text(size=AXES_LABEL_FONT),  # Y axis title\n",
    "            axis.text.x=element_text(size=AXES_FONT),  # X axis text\n",
    "            axis.text.y=element_text(size=AXES_FONT))  # Y axis text"
   ]
  },
  {
   "cell_type": "markdown",
   "metadata": {},
   "source": [
    "### Grouped by change-point condition\n",
    "And now separating according to change point trials:"
   ]
  },
  {
   "cell_type": "code",
   "execution_count": null,
   "metadata": {},
   "outputs": [],
   "source": [
    "# first get marginal frequencies\n",
    "accDuration <- TRIALS[!is.na(validTrialCount) & coherence > 0,.(freq = .N, correct = sum(correct)), by=.(viewingDuration,presenceCP)]\n",
    "\n",
    "\n",
    "# then add the accuracy column\n",
    "accDuration[,accuracy := correct/freq]\n",
    "\n",
    "# head(accDuration)\n",
    "\n",
    "# # conver to long format\n",
    "# longAccDuration <- melt(accDuration, \n",
    "#                     id.vars=c(\"viewingDuration\"),\n",
    "#                     measure.vars=c(\"accuracy\"),\n",
    "#                     variable.name=\"CPcategory\", value.name=\"accuracy\")\n",
    "\n",
    "# head(longAccDuration)\n",
    "\n",
    "# add standard error column\n",
    "accDuration[,se := sqrt(accuracy * (1-accuracy)/ freq)]\n",
    "\n",
    "# set presenceCP to factor variable\n",
    "accDuration[,presenceCP := as.factor(presenceCP)]\n",
    "\n",
    "# head(toDisplay)\n",
    "\n",
    "# control output figure size\n",
    "options(repr.plot.width=8, repr.plot.height=7)\n",
    "\n",
    "pd <- position_dodge(.01)\n",
    "\n",
    "ggplot(accDuration, aes(x=viewingDuration, y=accuracy, colour=presenceCP, group=presenceCP)) + \n",
    "    geom_errorbar(aes(ymin=accuracy-z*se, ymax=accuracy+z*se), width=SMALL_ERROR_WIDTH, colour=\"black\", position=pd) +\n",
    "    geom_line(position=pd, size=LINE_WIDTH) +\n",
    "    geom_point(position=pd, size=3, shape=21, fill=\"white\") + # 21 is filled circle\n",
    "    xlab(\"viewing duration (sec)\") +\n",
    "    ylab(\"Percent Correct\") +\n",
    "    scale_colour_hue(name=\"CP presence\",    # Legend label, use darker colors\n",
    "#                      breaks=c(\"propChooseRightCP\", \"propChooseRightNonCP\"),\n",
    "#                      labels=c(\"CP\", \"No CP\"),\n",
    "                     l=40) +                    # Use darker colors, lightness=40\n",
    "    ggtitle(\"Accuracy as function of viewing duration\\nwith 95% confidence intervals (and 0%-coh excluded)\") +\n",
    "    expand_limits(y=c(0.5,1)) +                        # Expand y range\n",
    "    scale_y_continuous(breaks=c(0.5,0.75,1)) +         # Set tick every 4\n",
    "    theme_bw() +\n",
    "    theme(plot.title=element_text(size=20, lineheight=1.2),  # title\n",
    "          plot.subtitle=element_text(size=15, family=\"American Typewriter\"),  # subtitle\n",
    "          plot.caption=element_text(size=15),  # caption\n",
    "          axis.title.x=element_text(size=AXES_LABEL_FONT),  # X axis title\n",
    "          axis.title.y=element_text(size=AXES_LABEL_FONT),  # Y axis title\n",
    "          axis.text.x=element_text(size=AXES_FONT),  # X axis text\n",
    "          axis.text.y=element_text(size=AXES_FONT),  # Y axis text\n",
    "          legend.justification=c(1,0),\n",
    "          legend.position=c(1,0))               # Position legend in bottom right\n",
    "  "
   ]
  },
  {
   "cell_type": "markdown",
   "metadata": {},
   "source": [
    "## Accuracy as a function of coherence level"
   ]
  },
  {
   "cell_type": "code",
   "execution_count": null,
   "metadata": {},
   "outputs": [],
   "source": [
    "# first get marginal frequencies\n",
    "accCoh <- TRIALS[!is.na(validTrialCount),.(freq = .N, correct = sum(correct)), by=coherence]\n",
    "\n",
    "# then add the accuracy column\n",
    "accCoh[,accuracy := correct/freq]\n",
    "accCoh[,se := sqrt(accuracy * (1-accuracy)/ freq)]\n",
    "# deal with coh=0 artificially\n",
    "accCoh[coherence==0, accuracy:=0.5]\n",
    "accCoh[coherence==0, se:=0]\n",
    "\n",
    "# control output figure size\n",
    "options(repr.plot.width=8, repr.plot.height=5)\n",
    "\n",
    "# pd <- position_dodge(0)\n",
    "ggplot(accCoh, aes(x=coherence, y=accuracy)) +\n",
    "    geom_errorbar(aes(ymin=accuracy-z*se, ymax=accuracy+z*se), width=ERROR_WIDTH) +\n",
    "    geom_line(size=.8*LINE_WIDTH) +\n",
    "    geom_point(size=1.6*POINT_SIZE, fill=\"white\", shape=21) +\n",
    "    ggtitle(\"Percent correct as a function of coherence\\n 95% confidence intervals\") +\n",
    "    theme(plot.title=element_text(size=20, lineheight=1.2),  # title\n",
    "            plot.subtitle=element_text(size=15, family=\"American Typewriter\"),  # subtitle\n",
    "            plot.caption=element_text(size=15),  # caption\n",
    "            axis.title.x=element_text(size=AXES_LABEL_FONT),  # X axis title\n",
    "            axis.title.y=element_text(size=AXES_LABEL_FONT),  # Y axis title\n",
    "            axis.text.x=element_text(size=AXES_FONT),  # X axis text\n",
    "            axis.text.y=element_text(size=AXES_FONT))  # Y axis text"
   ]
  },
  {
   "cell_type": "markdown",
   "metadata": {},
   "source": [
    "# Autocorrelation of choices\n",
    "<a id='autocorr'></a>"
   ]
  },
  {
   "cell_type": "code",
   "execution_count": null,
   "metadata": {},
   "outputs": [],
   "source": [
    "# control output figure size\n",
    "options(repr.plot.width=6, repr.plot.height=4)\n",
    "\n",
    "acf(TRIALS[!is.na(validTrialCount), choice, by=validTrialCount]$choice)"
   ]
  },
  {
   "cell_type": "markdown",
   "metadata": {},
   "source": [
    "And of trials' `endDirection`."
   ]
  },
  {
   "cell_type": "code",
   "execution_count": null,
   "metadata": {},
   "outputs": [],
   "source": [
    "acf(TRIALS[!is.na(validTrialCount), endDirection, by=validTrialCount]$endDirection)"
   ]
  },
  {
   "cell_type": "markdown",
   "metadata": {},
   "source": [
    "# Dot count in hemifields for 0-coherence trials\n",
    "<a id='dotcount'></a>"
   ]
  },
  {
   "cell_type": "markdown",
   "metadata": {},
   "source": [
    "I wonder whether the difference between the number of dots in the right and left halves of the stimulus aperture predicts subject's responses on 0-coherence trials."
   ]
  },
  {
   "cell_type": "code",
   "execution_count": null,
   "metadata": {},
   "outputs": [],
   "source": [
    "zeroCohTrials <- TRIALS[!is.na(validTrialCount) & coherence == 0, .(choice, viewingDuration), by=validTrialCount]\n",
    "setkey(zeroCohTrials, validTrialCount)\n",
    "setkey(DOTS, validTrialCount)\n",
    "\n",
    "# inner join syntax\n",
    "zeroCohDots <- zeroCohTrials[DOTS, nomatch=0]\n",
    "# nrow(zeroCohTrials)\n",
    "# nrow(zeroCohDots[,.N,by=trialCount])\n",
    "\n",
    "# add boolean columns to flag hemifield location of dots\n",
    "zeroCohDots[,`:=`(rightDots = xpos>=0.5 & isActive, leftDots = xpos < 0.5 & isActive)]\n",
    "diffDots <- zeroCohDots[,diffDots:=sum(rightDots)-sum(leftDots), by=trialCount]\n",
    "\n",
    "\n",
    "# control output figure size\n",
    "options(repr.plot.width=8, repr.plot.height=5)\n",
    "\n",
    "ggplot(diffDots, aes(x=trialCount, y=diffDots)) +\n",
    "    geom_point(aes(shape=factor(choice))) + \n",
    "    facet_wrap( ~ viewingDuration) + \n",
    "    guides(shape = guide_legend(reverse=T)) +\n",
    "    labs(shape=\"choice\")"
   ]
  },
  {
   "cell_type": "code",
   "execution_count": null,
   "metadata": {},
   "outputs": [],
   "source": [
    "# control output figure size\n",
    "options(repr.plot.width=5, repr.plot.height=3)\n",
    "\n",
    "print(\"Should I use lm or a Spearman rank correlation test instead?\")\n",
    "#refs on Spearman rank correlation test\n",
    "# http://www.biostathandbook.com/spearman.html\n",
    "# http://rcompanion.org/rcompanion/e_02.html\n",
    "# summary(lm(diffDots ~ factor(choice), diffDots))\n",
    "\n",
    "ggplot(diffDots, aes(x=choice, y=diffDots)) +\n",
    "    geom_point() "
   ]
  },
  {
   "cell_type": "markdown",
   "metadata": {},
   "source": [
    "# Miscellaneous\n",
    "##  Explore random seed"
   ]
  },
  {
   "cell_type": "code",
   "execution_count": null,
   "metadata": {},
   "outputs": [],
   "source": [
    "seedTable <- TRIALS[!is.na(validTrialCount),.(randSeedBase),by=validTrialCount]\n",
    "\n",
    "# control output figure size\n",
    "options(repr.plot.width=7, repr.plot.height=6)\n",
    "\n",
    "g <- ggplot(seedTable, aes(x=validTrialCount, y=randSeedBase)) + \n",
    "  geom_line(size=.2) #+  geom_point(aes(shape=factor(presenceCP), col=factor(viewingDuration)),size=3) \n",
    "\n",
    "# Add Title and Labels\n",
    "g + labs(title=\"Random seed base\", \n",
    "         subtitle=paste(\"From pilot\",PILOT_NUMBER,\" dataset\",sep=\"\"), \n",
    "         y=\"randSeedBase\", \n",
    "         x=\"trial (in session order)\") + theme(plot.title=element_text(size=20, \n",
    "                                    color=\"tomato\",\n",
    "                                    lineheight=1.2),  # title\n",
    "            plot.subtitle=element_text(size=15),  # subtitle\n",
    "            plot.caption=element_text(size=15),  # caption\n",
    "            axis.title.x=element_text(size=AXES_LABEL_FONT),  # X axis title\n",
    "            axis.title.y=element_text(size=AXES_LABEL_FONT),  # Y axis title\n",
    "            axis.text.x=element_text(size=AXES_FONT),  # X axis text\n",
    "            axis.text.y=element_text(size=AXES_FONT))  # Y axis text"
   ]
  },
  {
   "cell_type": "code",
   "execution_count": null,
   "metadata": {},
   "outputs": [],
   "source": []
  }
 ],
 "metadata": {
  "kernelspec": {
   "display_name": "R",
   "language": "R",
   "name": "ir"
  },
  "language_info": {
   "codemirror_mode": "r",
   "file_extension": ".r",
   "mimetype": "text/x-r-source",
   "name": "R",
   "pygments_lexer": "r",
   "version": "3.4.3"
  },
  "toc": {
   "base_numbering": 1,
   "nav_menu": {
    "height": "587px",
    "width": "790px"
   },
   "number_sections": true,
   "sideBar": true,
   "skip_h1_title": false,
   "title_cell": "Table of Contents",
   "title_sidebar": "Contents",
   "toc_cell": false,
   "toc_position": {},
   "toc_section_display": true,
   "toc_window_display": false
  }
 },
 "nbformat": 4,
 "nbformat_minor": 2
}
