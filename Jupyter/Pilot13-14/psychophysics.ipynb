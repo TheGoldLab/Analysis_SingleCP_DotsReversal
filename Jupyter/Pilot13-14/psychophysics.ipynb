{
 "cells": [
  {
   "cell_type": "markdown",
   "metadata": {
    "toc": true
   },
   "source": [
    "<h1>Table of Contents<span class=\"tocSkip\"></span></h1>\n",
    "<div class=\"toc\"><ul class=\"toc-item\"><li><span><a href=\"#Dataset-handling\" data-toc-modified-id=\"Dataset-handling-1\"><span class=\"toc-item-num\">1&nbsp;&nbsp;</span>Dataset handling</a></span></li><li><span><a href=\"#Simple-psychometric-fits\" data-toc-modified-id=\"Simple-psychometric-fits-2\"><span class=\"toc-item-num\">2&nbsp;&nbsp;</span>Simple psychometric fits</a></span></li><li><span><a href=\"#Simplest-effects-of-CP-on-percent-correct\" data-toc-modified-id=\"Simplest-effects-of-CP-on-percent-correct-3\"><span class=\"toc-item-num\">3&nbsp;&nbsp;</span>Simplest effects of CP on percent correct</a></span></li><li><span><a href=\"#Logistic-regression\" data-toc-modified-id=\"Logistic-regression-4\"><span class=\"toc-item-num\">4&nbsp;&nbsp;</span>Logistic regression</a></span><ul class=\"toc-item\"><li><span><a href=\"#Single-predictor\" data-toc-modified-id=\"Single-predictor-4.1\"><span class=\"toc-item-num\">4.1&nbsp;&nbsp;</span>Single predictor</a></span><ul class=\"toc-item\"><li><span><a href=\"#Signed-coherence\" data-toc-modified-id=\"Signed-coherence-4.1.1\"><span class=\"toc-item-num\">4.1.1&nbsp;&nbsp;</span>Signed coherence</a></span></li><li><span><a href=\"#Viewing-duration\" data-toc-modified-id=\"Viewing-duration-4.1.2\"><span class=\"toc-item-num\">4.1.2&nbsp;&nbsp;</span>Viewing duration</a></span></li><li><span><a href=\"#VD-x-signedCoh\" data-toc-modified-id=\"VD-x-signedCoh-4.1.3\"><span class=\"toc-item-num\">4.1.3&nbsp;&nbsp;</span>VD x signedCoh</a></span></li></ul></li><li><span><a href=\"#Two-predictors\" data-toc-modified-id=\"Two-predictors-4.2\"><span class=\"toc-item-num\">4.2&nbsp;&nbsp;</span>Two predictors</a></span></li></ul></li><li><span><a href=\"#With-quickpsy-package\" data-toc-modified-id=\"With-quickpsy-package-5\"><span class=\"toc-item-num\">5&nbsp;&nbsp;</span>With <code>quickpsy</code> package</a></span></li><li><span><a href=\"#With-glm-function\" data-toc-modified-id=\"With-glm-function-6\"><span class=\"toc-item-num\">6&nbsp;&nbsp;</span>With <code>glm</code> function</a></span></li></ul></div>"
   ]
  },
  {
   "cell_type": "markdown",
   "metadata": {},
   "source": [
    "<!--\n",
    "IRdisplay::display_html(file='../code_hiding.html')\n",
    "if the line above generates an error, it could be due to this:\n",
    "https://github.com/IRkernel/IRdisplay/issues/41\n",
    "In the meantime, the code below is enough; it works on nbviewer but not on the notebook directly\n",
    "-->\n",
    "\n",
    "<script>\n",
    "  code_show=true;\n",
    "  function code_toggle() {\n",
    "    if (code_show){\n",
    "      $('div.input').hide();\n",
    "    } else {\n",
    "      $('div.input').show();\n",
    "    }\n",
    "    code_show = !code_show\n",
    "  } \n",
    "  $( document ).ready(code_toggle);\n",
    "</script>\n",
    "<font size=4>\n",
    "<a href=\"javascript:code_toggle()\">Toggle ON/OFF</a>\n",
    "code cells.\n",
    "</font>"
   ]
  },
  {
   "cell_type": "markdown",
   "metadata": {},
   "source": [
    "# Fitting psychometric functions"
   ]
  },
  {
   "cell_type": "markdown",
   "metadata": {},
   "source": [
    "This notebook analyzes data from `Pilot 11` dataset."
   ]
  },
  {
   "cell_type": "code",
   "execution_count": 1,
   "metadata": {},
   "outputs": [],
   "source": [
    "library(data.table)\n",
    "library(ggplot2)        "
   ]
  },
  {
   "cell_type": "code",
   "execution_count": 2,
   "metadata": {},
   "outputs": [],
   "source": [
    "# library(tidyverse) # masks data.table, so not good for now"
   ]
  },
  {
   "cell_type": "code",
   "execution_count": 3,
   "metadata": {},
   "outputs": [],
   "source": [
    "# library(psych)\n",
    "my_logistic <- function(x_vals, linear_func) {\n",
    "    return(exp(linear_func(x_vals))/(1+exp(linear_func(x_vals))))\n",
    "}"
   ]
  },
  {
   "cell_type": "code",
   "execution_count": 4,
   "metadata": {},
   "outputs": [],
   "source": [
    "linear_func <- function(coefs) {\n",
    "    f <- function(x) {\n",
    "        return(coefs[1]+coefs[2]*x)\n",
    "    }\n",
    "    return(f)\n",
    "}"
   ]
  },
  {
   "cell_type": "code",
   "execution_count": 5,
   "metadata": {},
   "outputs": [],
   "source": [
    "fit_logistic_single_pred <- function(datatable, response, response_value, predictor) {\n",
    "    logistic_fit <- substitute(glm(response ~ predictor, family=binomial(), data=datatable))\n",
    "    print(summary(eval(logistic_fit)))\n",
    "    betas <- coef(eval(logistic_fit))\n",
    "#     print(betas)\n",
    "    x <- substitute(\n",
    "        unique(datatable[order(predictor),.(predictor),by=.(predictor)][,predictor])\n",
    "        )\n",
    "    fit_prop <- my_logistic(eval(x), linear_func(betas))\n",
    "    fitted_curve <- data.table(x=eval(x), y=fit_prop)\n",
    "    \n",
    "    # control output figure size\n",
    "    options(repr.plot.width=8, repr.plot.height=4)\n",
    "    g <- substitute(\n",
    "        ggplot(datatable[,.(prop=sum(response==response_value)/.N),by=predictor], aes(x=predictor, y=prop)) + \n",
    "        geom_point() +\n",
    "        geom_line(aes(x=x, y=y),data=fitted_curve,inherit.aes=FALSE) +\n",
    "        ylim(0,1)\n",
    "        )\n",
    "    return(eval(g))\n",
    "}"
   ]
  },
  {
   "cell_type": "markdown",
   "metadata": {},
   "source": [
    "## Dataset handling"
   ]
  },
  {
   "cell_type": "markdown",
   "metadata": {},
   "source": [
    "Let's load and inspect the dataset."
   ]
  },
  {
   "cell_type": "code",
   "execution_count": 6,
   "metadata": {},
   "outputs": [],
   "source": [
    "# load dataset\n",
    "data <- fread('../../data/Pilot13-14/psychophysical_data.csv')\n",
    "data[,presenceCP:=as.factor(presenceCP)]\n",
    "data[,choice:=as.factor(choice)]"
   ]
  },
  {
   "cell_type": "code",
   "execution_count": 7,
   "metadata": {},
   "outputs": [],
   "source": [
    "data[,signedCohLast := coherence]\n",
    "data[signedCoherence < 0, signedCohLast := signedCoherence]\n",
    "data[choice==\"left\" & presenceCP==\"yes\" & correct, signedCohLast:= - coherence]\n",
    "data[choice==\"right\" & presenceCP==\"yes\" & !correct, signedCohLast:= - coherence]"
   ]
  },
  {
   "cell_type": "code",
   "execution_count": 8,
   "metadata": {},
   "outputs": [
    {
     "name": "stdout",
     "output_type": "stream",
     "text": [
      "Classes ‘data.table’ and 'data.frame':\t977 obs. of  12 variables:\n",
      " $ pilotID        : int  13 13 13 13 13 13 13 13 13 13 ...\n",
      " $ taskID         : int  1 1 1 1 1 1 1 1 1 1 ...\n",
      " $ validTrialCount: int  1 2 3 4 5 6 7 8 9 10 ...\n",
      " $ choice         : Factor w/ 2 levels \"left\",\"right\": 2 1 1 2 2 1 2 1 2 2 ...\n",
      " $ correct        : logi  TRUE FALSE TRUE TRUE TRUE TRUE ...\n",
      " $ presenceCP     : Factor w/ 2 levels \"no\",\"yes\": 1 1 1 1 1 1 1 1 1 1 ...\n",
      " $ viewingDuration: num  0.2 0.2 0.2 0.2 0.2 0.2 0.2 0.2 0.2 0.2 ...\n",
      " $ signedCoherence: num  50 50 -57 57 56 -56 56 -55 55 55 ...\n",
      " $ coherence      : num  50 50 57 57 56 56 56 55 55 55 ...\n",
      " $ choice_time    : num  0.363 0.833 0.578 0.572 0.633 ...\n",
      " $ exactVD        : num  0.22 0.203 0.203 0.219 0.219 ...\n",
      " $ signedCohLast  : num  50 50 -57 57 56 -56 56 -55 55 55 ...\n",
      " - attr(*, \".internal.selfref\")=<externalptr> \n"
     ]
    }
   ],
   "source": [
    "str(data)"
   ]
  },
  {
   "cell_type": "code",
   "execution_count": 9,
   "metadata": {
    "scrolled": true
   },
   "outputs": [
    {
     "name": "stdout",
     "output_type": "stream",
     "text": [
      "[1] \"first 6 rows of data.table\"\n"
     ]
    },
    {
     "data": {
      "text/html": [
       "<table>\n",
       "<thead><tr><th scope=col>pilotID</th><th scope=col>taskID</th><th scope=col>validTrialCount</th><th scope=col>choice</th><th scope=col>correct</th><th scope=col>presenceCP</th><th scope=col>viewingDuration</th><th scope=col>signedCoherence</th><th scope=col>coherence</th><th scope=col>choice_time</th><th scope=col>exactVD</th><th scope=col>signedCohLast</th></tr></thead>\n",
       "<tbody>\n",
       "\t<tr><td>13       </td><td>1        </td><td>1        </td><td>right    </td><td> TRUE    </td><td>no       </td><td>0.2      </td><td> 50      </td><td>50       </td><td>0.3633654</td><td>0.2203390</td><td> 50      </td></tr>\n",
       "\t<tr><td>13       </td><td>1        </td><td>2        </td><td>left     </td><td>FALSE    </td><td>no       </td><td>0.2      </td><td> 50      </td><td>50       </td><td>0.8330632</td><td>0.2033898</td><td> 50      </td></tr>\n",
       "\t<tr><td>13       </td><td>1        </td><td>3        </td><td>left     </td><td> TRUE    </td><td>no       </td><td>0.2      </td><td>-57      </td><td>57       </td><td>0.5782815</td><td>0.2033898</td><td>-57      </td></tr>\n",
       "\t<tr><td>13       </td><td>1        </td><td>4        </td><td>right    </td><td> TRUE    </td><td>no       </td><td>0.2      </td><td> 57      </td><td>57       </td><td>0.5724611</td><td>0.2193786</td><td> 57      </td></tr>\n",
       "\t<tr><td>13       </td><td>1        </td><td>5        </td><td>right    </td><td> TRUE    </td><td>no       </td><td>0.2      </td><td> 56      </td><td>56       </td><td>0.6325272</td><td>0.2188400</td><td> 56      </td></tr>\n",
       "\t<tr><td>13       </td><td>1        </td><td>6        </td><td>left     </td><td> TRUE    </td><td>no       </td><td>0.2      </td><td>-56      </td><td>56       </td><td>0.6130831</td><td>0.2033898</td><td>-56      </td></tr>\n",
       "</tbody>\n",
       "</table>\n"
      ],
      "text/latex": [
       "\\begin{tabular}{r|llllllllllll}\n",
       " pilotID & taskID & validTrialCount & choice & correct & presenceCP & viewingDuration & signedCoherence & coherence & choice\\_time & exactVD & signedCohLast\\\\\n",
       "\\hline\n",
       "\t 13        & 1         & 1         & right     &  TRUE     & no        & 0.2       &  50       & 50        & 0.3633654 & 0.2203390 &  50      \\\\\n",
       "\t 13        & 1         & 2         & left      & FALSE     & no        & 0.2       &  50       & 50        & 0.8330632 & 0.2033898 &  50      \\\\\n",
       "\t 13        & 1         & 3         & left      &  TRUE     & no        & 0.2       & -57       & 57        & 0.5782815 & 0.2033898 & -57      \\\\\n",
       "\t 13        & 1         & 4         & right     &  TRUE     & no        & 0.2       &  57       & 57        & 0.5724611 & 0.2193786 &  57      \\\\\n",
       "\t 13        & 1         & 5         & right     &  TRUE     & no        & 0.2       &  56       & 56        & 0.6325272 & 0.2188400 &  56      \\\\\n",
       "\t 13        & 1         & 6         & left      &  TRUE     & no        & 0.2       & -56       & 56        & 0.6130831 & 0.2033898 & -56      \\\\\n",
       "\\end{tabular}\n"
      ],
      "text/markdown": [
       "\n",
       "| pilotID | taskID | validTrialCount | choice | correct | presenceCP | viewingDuration | signedCoherence | coherence | choice_time | exactVD | signedCohLast |\n",
       "|---|---|---|---|---|---|---|---|---|---|---|---|\n",
       "| 13        | 1         | 1         | right     |  TRUE     | no        | 0.2       |  50       | 50        | 0.3633654 | 0.2203390 |  50       |\n",
       "| 13        | 1         | 2         | left      | FALSE     | no        | 0.2       |  50       | 50        | 0.8330632 | 0.2033898 |  50       |\n",
       "| 13        | 1         | 3         | left      |  TRUE     | no        | 0.2       | -57       | 57        | 0.5782815 | 0.2033898 | -57       |\n",
       "| 13        | 1         | 4         | right     |  TRUE     | no        | 0.2       |  57       | 57        | 0.5724611 | 0.2193786 |  57       |\n",
       "| 13        | 1         | 5         | right     |  TRUE     | no        | 0.2       |  56       | 56        | 0.6325272 | 0.2188400 |  56       |\n",
       "| 13        | 1         | 6         | left      |  TRUE     | no        | 0.2       | -56       | 56        | 0.6130831 | 0.2033898 | -56       |\n",
       "\n"
      ],
      "text/plain": [
       "  pilotID taskID validTrialCount choice correct presenceCP viewingDuration\n",
       "1 13      1      1               right   TRUE   no         0.2            \n",
       "2 13      1      2               left   FALSE   no         0.2            \n",
       "3 13      1      3               left    TRUE   no         0.2            \n",
       "4 13      1      4               right   TRUE   no         0.2            \n",
       "5 13      1      5               right   TRUE   no         0.2            \n",
       "6 13      1      6               left    TRUE   no         0.2            \n",
       "  signedCoherence coherence choice_time exactVD   signedCohLast\n",
       "1  50             50        0.3633654   0.2203390  50          \n",
       "2  50             50        0.8330632   0.2033898  50          \n",
       "3 -57             57        0.5782815   0.2033898 -57          \n",
       "4  57             57        0.5724611   0.2193786  57          \n",
       "5  56             56        0.6325272   0.2188400  56          \n",
       "6 -56             56        0.6130831   0.2033898 -56          "
      ]
     },
     "metadata": {},
     "output_type": "display_data"
    }
   ],
   "source": [
    "print('first 6 rows of data.table')\n",
    "head(data)"
   ]
  },
  {
   "cell_type": "markdown",
   "metadata": {},
   "source": [
    "## Simple psychometric fits "
   ]
  },
  {
   "cell_type": "markdown",
   "metadata": {},
   "source": [
    "Is the percent correct as a function of coherence value in the task node similar to the one estimated in the Quest node?"
   ]
  },
  {
   "cell_type": "markdown",
   "metadata": {},
   "source": [
    "## Simplest effects of CP on percent correct"
   ]
  },
  {
   "cell_type": "markdown",
   "metadata": {},
   "source": [
    "**Question:** Does the physical presence of a CP affect state inference?  \n",
    "**Hypotheses:** At fixed viewing duration the (physical) presence of a CP will decrease accuracy.  \n",
    "**Method:** Hypothesis testing, i.e. is the difference in percent correct between the `CP` and `nonCP` conditions significantly different from 0?"
   ]
  },
  {
   "cell_type": "markdown",
   "metadata": {},
   "source": [
    "Let's build a contingency table and perform [Fisher's exact test](https://en.wikipedia.org/wiki/Fisher%27s_exact_test#Example)."
   ]
  },
  {
   "cell_type": "code",
   "execution_count": 10,
   "metadata": {},
   "outputs": [
    {
     "name": "stdout",
     "output_type": "stream",
     "text": [
      "max coh for subject 13 on task 2 is 51.81503 \n"
     ]
    },
    {
     "data": {
      "text/html": [
       "<table>\n",
       "<thead><tr><th></th><th scope=col>yes</th><th scope=col>no</th></tr></thead>\n",
       "<tbody>\n",
       "\t<tr><th scope=row>Corrrect</th><td>24</td><td>15</td></tr>\n",
       "\t<tr><th scope=row>Incorrect</th><td> 2</td><td> 3</td></tr>\n",
       "</tbody>\n",
       "</table>\n"
      ],
      "text/latex": [
       "\\begin{tabular}{r|ll}\n",
       "  & yes & no\\\\\n",
       "\\hline\n",
       "\tCorrrect & 24 & 15\\\\\n",
       "\tIncorrect &  2 &  3\\\\\n",
       "\\end{tabular}\n"
      ],
      "text/markdown": [
       "\n",
       "| <!--/--> | yes | no |\n",
       "|---|---|---|\n",
       "| Corrrect | 24 | 15 |\n",
       "| Incorrect |  2 |  3 |\n",
       "\n"
      ],
      "text/plain": [
       "          yes no\n",
       "Corrrect  24  15\n",
       "Incorrect  2   3"
      ]
     },
     "metadata": {},
     "output_type": "display_data"
    },
    {
     "data": {
      "text/plain": [
       "\n",
       "\tFisher's Exact Test for Count Data\n",
       "\n",
       "data:  t(contingency)\n",
       "p-value = 0.3859\n",
       "alternative hypothesis: true odds ratio is not equal to 1\n",
       "95 percent confidence interval:\n",
       "  0.2398253 31.2533056\n",
       "sample estimates:\n",
       "odds ratio \n",
       "  2.351029 \n"
      ]
     },
     "metadata": {},
     "output_type": "display_data"
    }
   ],
   "source": [
    "subj <- '13'\n",
    "task <- '2'\n",
    "vd <- .4\n",
    "maxCoh <- as.numeric(data[pilotID==subj & taskID==task, max(coherence)])\n",
    "cat('max coh for subject', subj, 'on task', task, 'is', maxCoh, '\\n')\n",
    "contingency <- as.matrix(data[viewingDuration==vd & pilotID==subj & taskID==task & coherence>0 & coherence < maxCoh, \n",
    "                              .(Corrrect=sum(correct),Incorrect=sum(!correct)), by=presenceCP], rownames=TRUE)\n",
    "t(contingency)\n",
    "fisher.test(t(contingency)) # two-sided test; see ?fisher.test for help"
   ]
  },
  {
   "cell_type": "code",
   "execution_count": 11,
   "metadata": {},
   "outputs": [
    {
     "name": "stdout",
     "output_type": "stream",
     "text": [
      "max coh for subject 14 on task 2 is 32.20934 \n"
     ]
    },
    {
     "data": {
      "text/html": [
       "<table>\n",
       "<thead><tr><th></th><th scope=col>yes</th><th scope=col>no</th></tr></thead>\n",
       "<tbody>\n",
       "\t<tr><th scope=row>Corrrect</th><td>17</td><td>17</td></tr>\n",
       "\t<tr><th scope=row>Incorrect</th><td> 6</td><td> 4</td></tr>\n",
       "</tbody>\n",
       "</table>\n"
      ],
      "text/latex": [
       "\\begin{tabular}{r|ll}\n",
       "  & yes & no\\\\\n",
       "\\hline\n",
       "\tCorrrect & 17 & 17\\\\\n",
       "\tIncorrect &  6 &  4\\\\\n",
       "\\end{tabular}\n"
      ],
      "text/markdown": [
       "\n",
       "| <!--/--> | yes | no |\n",
       "|---|---|---|\n",
       "| Corrrect | 17 | 17 |\n",
       "| Incorrect |  6 |  4 |\n",
       "\n"
      ],
      "text/plain": [
       "          yes no\n",
       "Corrrect  17  17\n",
       "Incorrect  6   4"
      ]
     },
     "metadata": {},
     "output_type": "display_data"
    },
    {
     "data": {
      "text/plain": [
       "\n",
       "\tFisher's Exact Test for Count Data\n",
       "\n",
       "data:  t(contingency)\n",
       "p-value = 0.724\n",
       "alternative hypothesis: true odds ratio is not equal to 1\n",
       "95 percent confidence interval:\n",
       " 0.1172459 3.4452526\n",
       "sample estimates:\n",
       "odds ratio \n",
       " 0.6728156 \n"
      ]
     },
     "metadata": {},
     "output_type": "display_data"
    }
   ],
   "source": [
    "subj <- '14'\n",
    "maxCoh <- as.numeric(data[pilotID==subj & taskID==task, max(coherence)])\n",
    "cat('max coh for subject', subj, 'on task', task, 'is', maxCoh, '\\n')\n",
    "contingency <- as.matrix(data[viewingDuration==vd & pilotID==subj & taskID==task & coherence>0 & coherence < maxCoh, \n",
    "                              .(Corrrect=sum(correct),Incorrect=sum(!correct)), by=presenceCP], rownames=TRUE)\n",
    "t(contingency)\n",
    "fisher.test(t(contingency)) # two-sided test; see ?fisher.test for help"
   ]
  },
  {
   "cell_type": "markdown",
   "metadata": {},
   "source": [
    "We conclude that the test is not significant, i.e., we do **not** reject the null hypothesis that percent correct is the same with and without change points."
   ]
  },
  {
   "cell_type": "code",
   "execution_count": null,
   "metadata": {},
   "outputs": [],
   "source": [
    "# we could run the same test for a higher coherence value (uncomment the following)\n",
    "# contingency2 <- as.matrix(data[coherence==48, .(Corrrect=sum(correct),Incorrect=sum(!correct)), by=presenceCP], rownames=TRUE)\n",
    "# fisher.test(t(contingency2)) "
   ]
  },
  {
   "cell_type": "code",
   "execution_count": null,
   "metadata": {},
   "outputs": [],
   "source": [
    "# fisher.test(t(contingency), alternative=\"less\")"
   ]
  },
  {
   "cell_type": "code",
   "execution_count": null,
   "metadata": {},
   "outputs": [],
   "source": [
    "# fisher.test(t(contingency), alternative=\"greater\")"
   ]
  },
  {
   "cell_type": "markdown",
   "metadata": {},
   "source": [
    "## Logistic regression"
   ]
  },
  {
   "cell_type": "markdown",
   "metadata": {},
   "source": [
    "### Single predictor"
   ]
  },
  {
   "cell_type": "markdown",
   "metadata": {},
   "source": [
    "#### Signed coherence\n",
    "<a id=\"cohpred\"></a>"
   ]
  },
  {
   "cell_type": "markdown",
   "metadata": {},
   "source": [
    "We start super simple with the equation:\n",
    "$$\\log\\frac{p_i}{1-p_i}=\\beta_0+\\beta_1x^\\text{sc}_i$$\n",
    "where $p_i$ is the proportion of right choices at stimulus level $i$ and $x^\\text{sc}$ is the signed coherence value.\n",
    "The current data (Pilot 11) has 11 stimulus levels, which correspond to the 11 signed coherence values: "
   ]
  },
  {
   "cell_type": "code",
   "execution_count": null,
   "metadata": {},
   "outputs": [],
   "source": [
    "subj <- '13'\n",
    "task <- '2'"
   ]
  },
  {
   "cell_type": "code",
   "execution_count": null,
   "metadata": {},
   "outputs": [],
   "source": [
    "unique(data[pilotID==subj & taskID==task & order(signedCohLast),.(signedCohLast)][,signedCohLast])"
   ]
  },
  {
   "cell_type": "code",
   "execution_count": null,
   "metadata": {},
   "outputs": [],
   "source": [
    "fit_logistic_single_pred(data[pilotID==subj & taskID==task], choice, \"right\", signedCohLast)"
   ]
  },
  {
   "cell_type": "code",
   "execution_count": null,
   "metadata": {},
   "outputs": [],
   "source": [
    "subj <- '14'\n",
    "unique(data[pilotID==subj & taskID==task & order(signedCohLast),.(signedCohLast)][,signedCohLast])"
   ]
  },
  {
   "cell_type": "code",
   "execution_count": null,
   "metadata": {},
   "outputs": [],
   "source": [
    "fit_logistic_single_pred(data[pilotID==subj & taskID==task], choice, \"right\", signedCohLast)"
   ]
  },
  {
   "cell_type": "markdown",
   "metadata": {},
   "source": [
    "The z-value for the intercept term $\\beta_0$ is usually not useful. However, for the $\\beta_1$ term, it allows us to test the null hypothesis that $\\beta_1=0$. Since the p-value is extremely small ($<10^{-16}$), the test is significant and we reject the null hypothesis. In other words, **there is an effect of signed coherence on the likelihood for the subject to choose \"right\".**"
   ]
  },
  {
   "cell_type": "markdown",
   "metadata": {},
   "source": [
    "Plotting the fitted curve together with the raw data yields:"
   ]
  },
  {
   "cell_type": "markdown",
   "metadata": {},
   "source": [
    "#### Viewing duration"
   ]
  },
  {
   "cell_type": "markdown",
   "metadata": {},
   "source": [
    "**With prob(choose right)**"
   ]
  },
  {
   "cell_type": "markdown",
   "metadata": {},
   "source": [
    "Now, what does the same fitting procedure look like if we change the predictor to be viewing duration (note that now, $i$ denotes the various exact viewing durations)?\n",
    "$$\\log\\frac{p_i}{1-p_i}=\\beta_0+\\beta_1x^\\text{vd}_i$$\n"
   ]
  },
  {
   "cell_type": "code",
   "execution_count": null,
   "metadata": {},
   "outputs": [],
   "source": [
    "fit_logistic_single_pred(data, choice, \"right\", viewingDuration)"
   ]
  },
  {
   "cell_type": "markdown",
   "metadata": {},
   "source": [
    "**With percent correct**"
   ]
  },
  {
   "cell_type": "markdown",
   "metadata": {},
   "source": [
    "It could make more sense to look at percentage correct. Note how, now, the intercept coefficient will be interpretable:"
   ]
  },
  {
   "cell_type": "code",
   "execution_count": null,
   "metadata": {},
   "outputs": [],
   "source": [
    "fit_logistic_single_pred(data, correct, TRUE, viewingDuration)"
   ]
  },
  {
   "cell_type": "markdown",
   "metadata": {},
   "source": [
    "Fitting a line to the plot above looks quite indistinguishable."
   ]
  },
  {
   "cell_type": "code",
   "execution_count": null,
   "metadata": {},
   "outputs": [],
   "source": [
    "# control output figure size\n",
    "options(repr.plot.width=8, repr.plot.height=4)\n",
    "ggplot(data[, .(pCorrect=sum(correct)/.N), by=viewingDuration], aes(x=viewingDuration, y=pCorrect)) +\n",
    "    geom_point() +\n",
    "    geom_smooth(se = FALSE, method = lm, show.legend=TRUE) +\n",
    "    ylim(0,1)"
   ]
  },
  {
   "cell_type": "markdown",
   "metadata": {},
   "source": [
    "**percent correct with log(VD)**"
   ]
  },
  {
   "cell_type": "markdown",
   "metadata": {},
   "source": [
    "Let's first redo the last fit with the log of the viewing duration."
   ]
  },
  {
   "cell_type": "code",
   "execution_count": null,
   "metadata": {},
   "outputs": [],
   "source": [
    "# logistic_fit_3_log <- glm(correct ~ log(viewingDuration), family=binomial(), data=data)\n",
    "# summary(logistic_fit_3_log)\n",
    "# betas_3_log <- coef(logistic_fit_3_log)\n",
    "# print(betas_3_log)\n",
    "# x_3_log <- log(x_3)\n",
    "# fit_3_prop_log <- my_logistic(x_3_log, linear_func(betas_3_log))\n",
    "# fitted_curve_3_log <- data.table(x=x_3_log, y=fit_3_prop_log)"
   ]
  },
  {
   "cell_type": "code",
   "execution_count": null,
   "metadata": {},
   "outputs": [],
   "source": [
    "# # control output figure size\n",
    "# options(repr.plot.width=8, repr.plot.height=5)\n",
    "# ggplot(data[,.(pCorrect=sum(correct)/.N),by=viewingDuration], aes(x=log(viewingDuration), y=pCorrect)) + \n",
    "#     geom_point() +\n",
    "#     geom_line(aes(x=x, y=y),data=fitted_curve_3_log,inherit.aes=FALSE) +\n",
    "#     ylim(0,1)"
   ]
  },
  {
   "cell_type": "markdown",
   "metadata": {},
   "source": [
    "This looks the same. Not sure how to interpret the intercept."
   ]
  },
  {
   "cell_type": "markdown",
   "metadata": {},
   "source": [
    "#### VD x signedCoh "
   ]
  },
  {
   "cell_type": "markdown",
   "metadata": {},
   "source": [
    "Here, $i$ is the level of signed coherence, and $x^\\text{prod}$ is the product of VD and signed coherence.\n",
    "$$\\log\\frac{p_i}{1-p_i}=\\beta_0+\\beta_1x^\\text{prod}_i$$ "
   ]
  },
  {
   "cell_type": "code",
   "execution_count": null,
   "metadata": {},
   "outputs": [],
   "source": [
    "data[,prod:=signedCohLast * viewingDuration]\n",
    "str(data)"
   ]
  },
  {
   "cell_type": "code",
   "execution_count": null,
   "metadata": {},
   "outputs": [],
   "source": [
    "fit_logistic_single_pred(data, choice, \"right\", prod)"
   ]
  },
  {
   "cell_type": "markdown",
   "metadata": {},
   "source": [
    "Fit definitely seems poorer than [here](#cohpred)."
   ]
  },
  {
   "cell_type": "markdown",
   "metadata": {},
   "source": [
    "### Two predictors"
   ]
  },
  {
   "cell_type": "markdown",
   "metadata": {},
   "source": [
    "## With `quickpsy` package"
   ]
  },
  {
   "cell_type": "code",
   "execution_count": null,
   "metadata": {},
   "outputs": [],
   "source": [
    "# for an explanation of masked objects, see here:\n",
    "# https://stackoverflow.com/a/39137111\n",
    "library(quickpsy)"
   ]
  },
  {
   "cell_type": "code",
   "execution_count": null,
   "metadata": {},
   "outputs": [],
   "source": [
    "# let's set presenceCP as factor variable in a temporary data.table before upcoming grouping\n",
    "tmp <- data[,`:=`(presenceCP=as.factor(presenceCP))]\n",
    "\n",
    "# build data.table used by the quickpsy package\n",
    "psychometric <- tmp[, \n",
    "                    .(numCorrect=sum(correct), N=.N), \n",
    "                    by=.(coherence, viewingDuration, presenceCP)]\n",
    "psychometric[coherence==0, numCorrect:=as.integer(N/2)]\n",
    "str(psychometric)"
   ]
  },
  {
   "cell_type": "markdown",
   "metadata": {},
   "source": [
    "$$\\psi(x)=\\gamma + (1-\\gamma-\\lambda) * F(x)$$\n",
    "where $\\gamma$ is the guess rate, $\\lambda$ is the lapse rate and $F$ is a sigmoidal-shape function with asymptotes at 0 and 1."
   ]
  },
  {
   "cell_type": "code",
   "execution_count": null,
   "metadata": {},
   "outputs": [],
   "source": [
    "fitWithLapses <- quickpsy(psychometric, \n",
    "                          coherence, \n",
    "                          numCorrect, N,\n",
    "                          grouping = c(viewingDuration, presenceCP), lapses  = T, bootstrap = 'none') \n",
    "\n",
    "ggplot() +\n",
    "  facet_grid(viewingDuration~presenceCP) +\n",
    "  geom_point(data = fitWithLapses$averages, \n",
    "             aes(x = coherence, y = prob)) +\n",
    "  geom_line(data = fitWithLapses$curves, \n",
    "            aes(x = x, y = y)) +\n",
    "  ylim(0, 1.25) # we include ggplot ylim to be able to visualize what is going on"
   ]
  },
  {
   "cell_type": "code",
   "execution_count": null,
   "metadata": {},
   "outputs": [],
   "source": [
    "# perform the fits\n",
    "# ref here:\n",
    "# http://dlinares.org/lapsesquickpsy.html\n",
    "fit <- quickpsy(psychometric, coherence, numCorrect, N, grouping = .(viewingDuration, presenceCP),\n",
    "               log=FALSE, fun=logistic_fun, lapses=TRUE, bootstrap=\"nonparametric\")"
   ]
  },
  {
   "cell_type": "code",
   "execution_count": null,
   "metadata": {},
   "outputs": [],
   "source": [
    "str(fit)"
   ]
  },
  {
   "cell_type": "code",
   "execution_count": null,
   "metadata": {},
   "outputs": [],
   "source": [
    "# control output figure size\n",
    "options(repr.plot.width=8, repr.plot.height=5)\n",
    "plot(fit) + xlim(c(0,60))"
   ]
  },
  {
   "cell_type": "code",
   "execution_count": null,
   "metadata": {},
   "outputs": [],
   "source": [
    "# control output figure size\n",
    "options(repr.plot.width=8, repr.plot.height=3)\n",
    "plotpar(fit) #+ ylim(c(0,.25))"
   ]
  },
  {
   "cell_type": "code",
   "execution_count": null,
   "metadata": {},
   "outputs": [],
   "source": [
    "plotthresholds(fit) + ylim(c(-60,60))"
   ]
  },
  {
   "cell_type": "markdown",
   "metadata": {},
   "source": [
    "\n",
    "## With `glm` function"
   ]
  },
  {
   "cell_type": "code",
   "execution_count": null,
   "metadata": {},
   "outputs": [],
   "source": [
    "# psychometric[,numChooseLeft := N - numChooseRight]\n",
    "# str(psychometric)"
   ]
  },
  {
   "cell_type": "code",
   "execution_count": null,
   "metadata": {},
   "outputs": [],
   "source": [
    "# # let's first follow this example:\n",
    "# # http://www.dlinares.org/psychopract.html#fitting-using-generalized-linear-models\n",
    "# model <- glm( cbind(numChooseRight, numChooseLeft) ~ signedCoherence, \n",
    "#              data= psychometric, \n",
    "#              family = binomial(probit))\n",
    "\n",
    "# xseq <- seq(-60, 60, 1)\n",
    "# yseq <- predict(model, data.frame(signedCoherence = xseq), type = 'response')\n",
    "# curve <- data.frame(xseq, yseq)\n",
    "\n",
    "# p <- ggplot() +\n",
    "#   geom_point(data = psychometric[,.(signedCoherence, chooseRight=numChooseRight / N)], \n",
    "#              aes(x = signedCoherence, y = chooseRight)) +\n",
    "#   geom_line(data = curve,aes(x = xseq, y = yseq))\n",
    "# p"
   ]
  },
  {
   "cell_type": "markdown",
   "metadata": {},
   "source": [
    "The problem here is that I have a single regressor, namely, `signedCoherence`. This is not what I want."
   ]
  },
  {
   "cell_type": "code",
   "execution_count": null,
   "metadata": {},
   "outputs": [],
   "source": [
    "# Try instead this example\n",
    "#https://www.statmethods.net/advstats/glm.html\n",
    "# with good interpretation here:\n",
    "# https://stats.idre.ucla.edu/r/dae/logit-regression/"
   ]
  },
  {
   "cell_type": "code",
   "execution_count": null,
   "metadata": {},
   "outputs": [],
   "source": [
    "fit2 <- glm(choice ~ signedCohLast * exactVD + presenceCP, data = data, family=binomial())"
   ]
  },
  {
   "cell_type": "code",
   "execution_count": null,
   "metadata": {},
   "outputs": [],
   "source": [
    "summary(fit2)"
   ]
  },
  {
   "cell_type": "code",
   "execution_count": null,
   "metadata": {},
   "outputs": [],
   "source": [
    "anova(fit2)"
   ]
  },
  {
   "cell_type": "code",
   "execution_count": null,
   "metadata": {},
   "outputs": [],
   "source": [
    "confint(fit2) # 95% CI for the coefficients, using profiled log-likelihood\n",
    "confint.default(fit2)  # CIs using standard errors"
   ]
  },
  {
   "cell_type": "code",
   "execution_count": null,
   "metadata": {},
   "outputs": [],
   "source": [
    "# odds ratios and 95% CI\n",
    "exp(cbind(OddsRatio = coef(fit2), confint(fit2)))"
   ]
  },
  {
   "cell_type": "code",
   "execution_count": null,
   "metadata": {},
   "outputs": [],
   "source": [
    "library(\"aod\")\n",
    "wald.test(b = coef(fit2), Sigma = vcov(fit2), Terms = 4)"
   ]
  },
  {
   "cell_type": "code",
   "execution_count": null,
   "metadata": {},
   "outputs": [],
   "source": [
    "# better to use this\n",
    "# https://stats.idre.ucla.edu/r/dae/logit-regression/\n",
    "predict(fit2, type=\"response\") # predicted values\n",
    "residuals(fit2, type=\"deviance\") # residuals"
   ]
  },
  {
   "cell_type": "code",
   "execution_count": null,
   "metadata": {},
   "outputs": [],
   "source": [
    "cdplot(choice~signedCoherence, data=tmp_glm) "
   ]
  },
  {
   "cell_type": "code",
   "execution_count": null,
   "metadata": {},
   "outputs": [],
   "source": [
    "cdplot(choice~viewingDuration, data=tmp_glm) "
   ]
  },
  {
   "cell_type": "code",
   "execution_count": null,
   "metadata": {},
   "outputs": [],
   "source": [
    "# now try this\n",
    "#https://datascienceplus.com/perform-logistic-regression-in-r/"
   ]
  },
  {
   "cell_type": "markdown",
   "metadata": {},
   "source": [
    "# Psychophysics tutorial"
   ]
  }
 ],
 "metadata": {
  "kernelspec": {
   "display_name": "R",
   "language": "R",
   "name": "ir"
  },
  "language_info": {
   "codemirror_mode": "r",
   "file_extension": ".r",
   "mimetype": "text/x-r-source",
   "name": "R",
   "pygments_lexer": "r",
   "version": "3.4.3"
  },
  "toc": {
   "base_numbering": 1,
   "nav_menu": {},
   "number_sections": true,
   "sideBar": true,
   "skip_h1_title": true,
   "title_cell": "Table of Contents",
   "title_sidebar": "Contents",
   "toc_cell": true,
   "toc_position": {},
   "toc_section_display": true,
   "toc_window_display": true
  }
 },
 "nbformat": 4,
 "nbformat_minor": 2
}
