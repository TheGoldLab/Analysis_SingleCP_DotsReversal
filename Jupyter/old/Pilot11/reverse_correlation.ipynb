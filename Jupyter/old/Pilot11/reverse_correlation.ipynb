{
 "cells": [
  {
   "cell_type": "markdown",
   "metadata": {},
   "source": [
    "# Reverse Correlation Analysis\n",
    "<a id='revker'></a>"
   ]
  },
  {
   "cell_type": "markdown",
   "metadata": {},
   "source": [
    "## Number of coherent dots per frame"
   ]
  },
  {
   "cell_type": "markdown",
   "metadata": {},
   "source": [
    "Let's display the number of coherent dots on each frames, grouping by subject's choice."
   ]
  },
  {
   "cell_type": "code",
   "execution_count": null,
   "metadata": {},
   "outputs": [],
   "source": [
    "# count coherent dots on each frame\n",
    "cohDots <- unique(DOTS[!is.na(validTrialCount),\n",
    "                       .(numCohDots=sum(isCoherent), \n",
    "                       initDirection, \n",
    "                       endDirection, \n",
    "                       presenceCP, \n",
    "                       correct,\n",
    "                       coherence,\n",
    "                       viewingDuration,\n",
    "                       choice),\n",
    "                       by=.(frameIdx, validTrialCount)]) # I should not have to call unique() here... :(\n",
    "\n",
    "# see if some frames have 0 coherent dots\n",
    "# unique(cohDots[numCohDots == 0,.(validTrialCount)])"
   ]
  },
  {
   "cell_type": "code",
   "execution_count": null,
   "metadata": {},
   "outputs": [],
   "source": [
    "# let's try to sign numCohDots according to the direction of motion (+ for R and - for L)\n",
    "## add a copy of numCohDots column named signedNumCohDots, and an ID col that just indexes the rows\n",
    "cohDots[,\"signedNumCohDots\" := .(numCohDots)]"
   ]
  },
  {
   "cell_type": "code",
   "execution_count": null,
   "metadata": {},
   "outputs": [],
   "source": [
    "## on non-cp trials, adjust sign according to initDirection\n",
    "cohDots[initDirection == \"180\" & !presenceCP, signedNumCohDots := -numCohDots] "
   ]
  },
  {
   "cell_type": "code",
   "execution_count": null,
   "metadata": {},
   "outputs": [],
   "source": [
    "## on cp-trials,\n",
    "    # rough estimate of number of frames that are before the CP (for now)\n",
    "if (length(unique(TRIALS$timeCP)) == 1) {\n",
    "    foreFrameCount <- TRIALS[,timeCP][1] * FRAME_RATE_ESTIMATE\n",
    "} "
   ]
  },
  {
   "cell_type": "code",
   "execution_count": null,
   "metadata": {},
   "outputs": [],
   "source": [
    "foreFrameCount"
   ]
  },
  {
   "cell_type": "code",
   "execution_count": null,
   "metadata": {},
   "outputs": [],
   "source": [
    "rows <- cohDots[, .(rowNumber=.I[initDirection==\"180\" & presenceCP]), by=.(validTrialCount,frameIdx)]\n",
    "cohDots[[\"signedNumCohDots\"]][\n",
    "    rows[frameIdx <= foreFrameCount,rowNumber]] <- -cohDots[[\"numCohDots\"]][\n",
    "        rows[frameIdx <= foreFrameCount,rowNumber]]"
   ]
  },
  {
   "cell_type": "code",
   "execution_count": null,
   "metadata": {},
   "outputs": [],
   "source": [
    "rows <- cohDots[, .(rowNumber=.I[initDirection==\"0\" & presenceCP]), by=.(validTrialCount,frameIdx)]\n",
    "cohDots[[\"signedNumCohDots\"]][\n",
    "    rows[frameIdx > foreFrameCount,rowNumber]] <- -cohDots[[\"numCohDots\"]][\n",
    "        rows[frameIdx > foreFrameCount,rowNumber]]"
   ]
  },
  {
   "cell_type": "code",
   "execution_count": null,
   "metadata": {},
   "outputs": [],
   "source": [
    "# diagnostic\n",
    "# unique(cohDots[presenceCP == TRUE,\n",
    "#                .(initDirection,endDirection,presenceCP,numCohDots,signedNumCohDots) ,\n",
    "#                by=.(frameIdx,validTrialCount)])"
   ]
  },
  {
   "cell_type": "code",
   "execution_count": null,
   "metadata": {},
   "outputs": [],
   "source": [
    "# control output figure size\n",
    "options(repr.plot.width=8, repr.plot.height=10)\n",
    "\n",
    "\n",
    "# plot\n",
    "ggplot(cohDots[validTrialCount > 466], aes(x=frameIdx, y=signedNumCohDots)) + \n",
    "    geom_point(aes(col=correct, shape=presenceCP), size=SMALL_DOT_SIZE) +\n",
    "    facet_grid(validTrialCount~coherence) +\n",
    "#    geom_line(aes(col=Event),size=.2) +\n",
    "    geom_hline(yintercept = 0) +\n",
    "    guides(colour = guide_legend(reverse=T), shape = guide_legend(reverse=T)) +\n",
    "    labs(title=\"Signed # of Coherent Dots per Frames per Trials\",\n",
    "         subtitle=paste(\"From pilot\",PILOT_NUMBER,\" dataset\",sep=\"\"),\n",
    "         y=\"# Coherent Dots\",\n",
    "         x=\"Frame #\",\n",
    "         color=\"Correct\", shape=\"Change Point\") + \n",
    "    theme(plot.title=element_text(size=PLOT_TITLE_FONT_SIZE, lineheight=1.2),  # title\n",
    "            plot.subtitle=element_text(size=PLOT_SUBTITLE_FONT_SIZE),  # subtitle\n",
    "            plot.caption=element_text(size=PLOT_SUBTITLE_FONT_SIZE),                                 # caption\n",
    "            axis.title.x=element_text(size=AXES_LABEL_FONT),  # X axis title\n",
    "            axis.title.y=element_text(size=AXES_LABEL_FONT),  # Y axis title\n",
    "            axis.text.x=element_text(size=AXES_FONT),  # X axis text\n",
    "            axis.text.y=element_text(size=AXES_FONT))  # Y axis text"
   ]
  },
  {
   "cell_type": "markdown",
   "metadata": {},
   "source": [
    "### Attempt at reverse kernels"
   ]
  },
  {
   "cell_type": "markdown",
   "metadata": {},
   "source": [
    "What I will attempt here is the following:  \n",
    "*display the average across trials, frame-by-frame, of the ME measure, conditioned on the subject's choice, and grouped by CP presence and viewing duration.*"
   ]
  },
  {
   "cell_type": "code",
   "execution_count": null,
   "metadata": {},
   "outputs": [],
   "source": [
    "revKerNumCohDots <- cohDots[, .(ME=mean(signedNumCohDots), \n",
    "                                numTrials=.N,\n",
    "                                sem=sd(signedNumCohDots) / sqrt(.N)), \n",
    "                            by=.(viewingDuration, presenceCP, frameIdx, choice)]"
   ]
  },
  {
   "cell_type": "code",
   "execution_count": null,
   "metadata": {},
   "outputs": [],
   "source": [
    "head(revKerNumCohDots)"
   ]
  },
  {
   "cell_type": "code",
   "execution_count": null,
   "metadata": {},
   "outputs": [],
   "source": [
    "revKerNumCohDots[,.(min(numTrials),max(numTrials))]"
   ]
  },
  {
   "cell_type": "code",
   "execution_count": null,
   "metadata": {},
   "outputs": [],
   "source": [
    "str(cohDots)"
   ]
  },
  {
   "cell_type": "code",
   "execution_count": null,
   "metadata": {},
   "outputs": [],
   "source": [
    "unique(revKerNumCohDots[numTrials < 5])[order(viewingDuration)]"
   ]
  },
  {
   "cell_type": "code",
   "execution_count": null,
   "metadata": {},
   "outputs": [],
   "source": [
    "# control output figure size\n",
    "options(repr.plot.width=8, repr.plot.height=14)\n",
    "\n",
    "ggplot(revKerNumCohDots,aes(x=frameIdx,y=ME), colour=choice, group=choice) +\n",
    "    geom_line(aes(col=choice), size=LINE_WIDTH) + \n",
    "    geom_ribbon(aes(ymin=ME-2*sem, ymax=ME+2*sem, col=choice), linetype=2, alpha=0.1) +\n",
    "#     geom_errorbar(aes(ymin=ME-2*sem, ymax=ME+2*sem), colour=\"black\", width=SMALL_ERROR_WIDTH)+\n",
    "    facet_grid(viewingDuration~presenceCP) +\n",
    "    guides(colour = guide_legend(reverse=T)) +\n",
    "    labs(title=\"Left-aligned reverse kernels\")"
   ]
  },
  {
   "cell_type": "code",
   "execution_count": null,
   "metadata": {},
   "outputs": [],
   "source": [
    "print(\"Unfortunately, some CP trials have one more frame than non-CP trials:\")\n",
    "cohDots[order(viewingDuration, presenceCP),.(maxNumFrame=max(frameIdx)),by=.(viewingDuration, presenceCP)][viewingDuration>.2]"
   ]
  },
  {
   "cell_type": "markdown",
   "metadata": {},
   "source": [
    "Not sure what I should do with these kernels. Should I trim one of their ends? Should I try to right-align them somehow?"
   ]
  },
  {
   "cell_type": "code",
   "execution_count": null,
   "metadata": {},
   "outputs": [],
   "source": []
  }
 ],
 "metadata": {
  "kernelspec": {
   "display_name": "R",
   "language": "R",
   "name": "ir"
  },
  "language_info": {
   "codemirror_mode": "r",
   "file_extension": ".r",
   "mimetype": "text/x-r-source",
   "name": "R",
   "pygments_lexer": "r",
   "version": "3.4.3"
  }
 },
 "nbformat": 4,
 "nbformat_minor": 2
}
