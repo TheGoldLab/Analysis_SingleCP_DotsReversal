{
 "cells": [
  {
   "cell_type": "markdown",
   "metadata": {},
   "source": [
    "<!--\n",
    "IRdisplay::display_html(file='code_hiding.html')\n",
    "if the line above generates an error, it could be due to this:\n",
    "https://github.com/IRkernel/IRdisplay/issues/41\n",
    "In the meantime, the code below is enough; it works on nbviewer but not on the notebook directly\n",
    "-->\n",
    "<script>\n",
    "  code_show=true;\n",
    "  function code_toggle() {\n",
    "    if (code_show){\n",
    "      $('div.input').hide();\n",
    "    } else {\n",
    "      $('div.input').show();\n",
    "    }\n",
    "    code_show = !code_show\n",
    "  } \n",
    "  $( document ).ready(code_toggle);\n",
    "</script>\n",
    "<font size=4>\n",
    "<a href=\"javascript:code_toggle()\">Toggle ON/OFF</a>\n",
    "code cells.\n",
    "</font>"
   ]
  },
  {
   "cell_type": "markdown",
   "metadata": {},
   "source": [
    "**Author**: Adrian Ernesto Radillo  \n",
    "**Date**: 05 May 2019"
   ]
  },
  {
   "cell_type": "markdown",
   "metadata": {},
   "source": [
    "Aim of this notebook is to:  \n",
    "1. classify trials into invalid and valid ones\n",
    "2. assign a unique id to each valid trial, for all subjects and all tasks\n",
    "3. use this unique id as a foreign key in the dots table\n",
    "4. perform an outer JOIN between dots and trials\n",
    "5. write the result of the JOIN into a .csv file"
   ]
  },
  {
   "cell_type": "code",
   "execution_count": 1,
   "metadata": {},
   "outputs": [],
   "source": [
    "# load packages \n",
    "\n",
    "# Note:\n",
    "# if one of the packages below is not installed, type, once, in another cell\n",
    "# install.packages(\"<package_name>\", lib=\"<path_to_installation_folder>\")\n",
    "# note that if you don't put the lib arg above, it will default to first item in .libPaths()\n",
    "# ref:https://www.rdocumentation.org/packages/utils/versions/3.5.2/topics/install.packages\n",
    "\n",
    "# I can't load the conflicted package here :(\n",
    "# library(conflicted)\n",
    "# https://github.com/r-lib/conflicted/issues/26\n",
    "\n",
    "library(data.table)     # see https://cran.r-project.org/web/packages/data.table/vignettes/datatable-intro.html for reference\n",
    "library(ggplot2)        # for plots\n",
    "library(repr)           # for resizing figures\n",
    "# library(OneR)           # to use the function 'bin'\n",
    "library(gridExtra)      # to use grid.arrange()\n",
    "\n",
    "source(\"../../R/R_functions.r\") # custom functions"
   ]
  },
  {
   "cell_type": "code",
   "execution_count": 2,
   "metadata": {},
   "outputs": [],
   "source": [
    "# DEFINE CONSTANTS\n",
    "# folder/file-specific constants\n",
    "PILOT_NUMBERS <- list(15, 16, 17, 18, 19)\n",
    "PILOT_NUMBER <- paste(PILOT_NUMBERS, collapse = '-')\n",
    "\n",
    "DATA_FOLDER <- \"../../data/\"\n",
    "FIRA_TAG <- \"FIRA\"\n",
    "\n",
    "# data-related constants\n",
    "FIRST_TRIALS_TO_DISCARD <- 4\n",
    "\n",
    "# plot-specific constants\n",
    "PLOT_TITLE_FONT_SIZE <- 18\n",
    "PLOT_SUBTITLE_FONT_SIZE <- 13 \n",
    "AXES_LABEL_FONT <- 14\n",
    "AXES_FONT <- 13\n",
    "\n",
    "ERROR_WIDTH <- 4\n",
    "SMALL_ERROR_WIDTH <- .01*ERROR_WIDTH\n",
    "\n",
    "LINE_WIDTH <- 1.4\n",
    "POINT_SIZE <- 2\n",
    "SMALL_DOT_SIZE <- 1\n",
    "\n",
    "# other variables\n",
    "FRAME_RATE_ESTIMATE <- 60 # Hz\n",
    "FRAME_DURATION <- (1 / FRAME_RATE_ESTIMATE) # sec"
   ]
  },
  {
   "cell_type": "code",
   "execution_count": 3,
   "metadata": {},
   "outputs": [],
   "source": [
    "# load csv file into data.table\n",
    "TRIALS <- fread(file=\"../../data/Pilot15-19/fixed_FIRA_TRIALS.csv\", header=TRUE, sep=',')"
   ]
  },
  {
   "cell_type": "code",
   "execution_count": 4,
   "metadata": {},
   "outputs": [],
   "source": [
    "NODES = unique(TRIALS[,taskID])\n",
    "NUM_NODES = length(NODES)"
   ]
  },
  {
   "cell_type": "code",
   "execution_count": 5,
   "metadata": {},
   "outputs": [],
   "source": [
    "NUM_SUBJECTS <- length(PILOT_NUMBERS)"
   ]
  },
  {
   "cell_type": "markdown",
   "metadata": {},
   "source": [
    "# Data pre-processing\n",
    "<a id='preproc'></a>\n",
    "## Summary of `TRIALS` dataset (`*FIRA.csv` file)"
   ]
  },
  {
   "cell_type": "code",
   "execution_count": 6,
   "metadata": {
    "scrolled": true
   },
   "outputs": [],
   "source": [
    "# set some variables to \"factor\"\n",
    "TRIALS[,`:=`(\n",
    "            choice=as.factor(choice), \n",
    "            correct=as.logical(correct), # probably a bad idea to have this be a factor variable\n",
    "            initDirection=as.factor(initDirection),\n",
    "            endDirection=as.factor(endDirection),\n",
    "            presenceCP=as.logical(presenceCP))]\n",
    "# put back in missing values\n",
    "TRIALS[choice == 'NaN' | correct == 'NaN', `:=`(choice = NA, correct = NA)] \n",
    "\n",
    "# display summary for reference\n",
    "# str(TRIALS)"
   ]
  },
  {
   "cell_type": "markdown",
   "metadata": {},
   "source": [
    "## Classify trials\n",
    "We classify trials as follows:\n",
    "- `valid` means that the trial is kept in the analysis\n",
    "- `skipped` means that no answer was recorded (this could be linked to fixation break for instance)\n",
    "- `bug` means the code itself renders the trial unusable (for instance the 1st trial, because of our timing bug)\n",
    "- `early` means that an answer was provided before the end of the viewing duration\n",
    "\n",
    "Currently, I don't control for the fact that a single trial might fall into more than one non-valid category. I just make sure all `valid` trials are indeed valid."
   ]
  },
  {
   "cell_type": "code",
   "execution_count": 7,
   "metadata": {},
   "outputs": [],
   "source": [
    "setkey(TRIALS, 'trialStart')\n",
    "for (subject in PILOT_NUMBERS) {\n",
    "    for (node in NODES) {\n",
    "        TRIALS[pilotID==subject & taskID==node, trialInSession:=.I]\n",
    "    }\n",
    "}\n",
    "\n",
    "TRIALS[,`:=`(trialClass='valid')]"
   ]
  },
  {
   "cell_type": "code",
   "execution_count": 8,
   "metadata": {},
   "outputs": [],
   "source": [
    "TRIALS[is.na(choice), trialClass:='skipped']\n",
    "TRIALS[trialInSession <= FIRST_TRIALS_TO_DISCARD, trialClass:='bug']\n",
    "TRIALS[RT <= 0, trialClass:='early']\n",
    "TRIALS[,trialClass:=as.factor(trialClass)]"
   ]
  },
  {
   "cell_type": "markdown",
   "metadata": {},
   "source": [
    "Let's introduce a `validTrialCount` column in all datasets, with invalid trials flagged `validTrialCount=NA_integer_`."
   ]
  },
  {
   "cell_type": "code",
   "execution_count": 9,
   "metadata": {},
   "outputs": [],
   "source": [
    "for (node in NODES) {    \n",
    "    for (subj in PILOT_NUMBERS) {\n",
    "        TRIALS[trialClass == 'valid' & taskID==node & pilotID==subj, validTrialCount:=.I]\n",
    "    }\n",
    "}"
   ]
  },
  {
   "cell_type": "code",
   "execution_count": 10,
   "metadata": {},
   "outputs": [],
   "source": [
    "TRIALS[trialClass != 'valid', validTrialCount := NA_integer_]"
   ]
  },
  {
   "cell_type": "code",
   "execution_count": 11,
   "metadata": {},
   "outputs": [],
   "source": [
    "# create a specific column signedCoherence\n",
    "TRIALS[, `:=`(\n",
    "    taskID=as.factor(taskID),\n",
    "    pilotID=as.factor(pilotID),\n",
    "    signedCoherence=coherence)]\n",
    "TRIALS[endDirection==180, signedCoherence := -coherence]\n",
    "# set values to NA when there is a change point or when trial is not valid\n",
    "TRIALS[presenceCP | is.na(validTrialCount), signedCoherence := NA_integer_]\n",
    "# str(TRIALS)"
   ]
  },
  {
   "cell_type": "code",
   "execution_count": 12,
   "metadata": {},
   "outputs": [
    {
     "name": "stdout",
     "output_type": "stream",
     "text": [
      "Classes ‘data.table’ and 'data.frame':\t2360 obs. of  29 variables:\n",
      " $ taskID         : Factor w/ 3 levels \"1\",\"2\",\"3\": 1 1 1 1 1 1 1 1 1 1 ...\n",
      " $ trialIndex     : int  5 25 40 2 37 38 14 18 26 50 ...\n",
      " $ trialStart     : num  333 339 345 349 355 ...\n",
      " $ trialEnd       : num  339 345 349 355 360 ...\n",
      " $ RT             : num  NA 0.476 0.639 NA 0.489 ...\n",
      " $ choice         : Factor w/ 2 levels \"0\",\"1\": NA 2 1 NA 2 1 1 1 1 1 ...\n",
      " $ correct        : logi  NA TRUE TRUE NA TRUE TRUE ...\n",
      " $ initDirection  : Factor w/ 2 levels \"0\",\"180\": 1 1 2 2 1 2 2 2 2 2 ...\n",
      " $ endDirection   : Factor w/ 2 levels \"0\",\"180\": 1 1 2 2 1 2 2 2 2 2 ...\n",
      " $ presenceCP     : logi  FALSE FALSE FALSE FALSE FALSE FALSE ...\n",
      " $ coherence      : num  23 23 21 18 23 16 14 11 9 7 ...\n",
      " $ viewingDuration: num  0.4 0.4 0.4 0.4 0.4 0.4 0.4 0.4 0.4 0.4 ...\n",
      " $ probCP         : num  0 0 0 0 0 0 0 0 0 0 ...\n",
      " $ timeCP         : num  0.2 0.2 0.2 0.2 0.2 0.2 0.2 0.2 0.2 0.2 ...\n",
      " $ randSeedBase   : int  573 2013 1425 9522 7635 5039 5448 2163 5215 6334 ...\n",
      " $ fixationOn     : num  0.1492 0.0918 0.0937 0.0999 0.0908 ...\n",
      " $ fixationStart  : logi  NA NA NA NA NA NA ...\n",
      " $ targetOn       : num  NA 2.52 1.18 NA 3.16 ...\n",
      " $ dotsOn         : num  NA 2.94 2.01 NA 3.4 ...\n",
      " $ dotsOff        : num  NA 3.35 2.42 NA 3.82 ...\n",
      " $ choiceTime     : num  NA 3.82 3.06 NA 4.31 ...\n",
      " $ targetOff      : logi  NA NA NA NA NA NA ...\n",
      " $ fixationOff    : logi  NA NA NA NA NA NA ...\n",
      " $ feedbackOn     : logi  NA NA NA NA NA NA ...\n",
      " $ pilotID        : Factor w/ 5 levels \"15\",\"16\",\"17\",..: 4 4 4 4 4 4 4 4 4 4 ...\n",
      " $ trialInSession : int  1 2 3 4 5 6 7 8 9 10 ...\n",
      " $ trialClass     : Factor w/ 4 levels \"bug\",\"early\",..: 1 1 1 1 4 4 4 4 4 4 ...\n",
      " $ validTrialCount: int  NA NA NA NA 1 2 3 4 5 6 ...\n",
      " $ signedCoherence: num  NA NA NA NA 23 -16 -14 -11 -9 -7 ...\n",
      " - attr(*, \".internal.selfref\")=<externalptr> \n",
      " - attr(*, \"sorted\")= chr \"trialStart\"\n",
      " - attr(*, \"index\")= int \n"
     ]
    }
   ],
   "source": [
    "str(TRIALS)"
   ]
  },
  {
   "cell_type": "markdown",
   "metadata": {},
   "source": [
    "**Here we dump a .csv file for psychophysical data analysis**"
   ]
  },
  {
   "cell_type": "code",
   "execution_count": 14,
   "metadata": {},
   "outputs": [],
   "source": [
    "valid_trials <- TRIALS[!is.na(validTrialCount)]\n",
    "\n",
    "valid_trials[,choice:=droplevels(choice)]        # drop unused level \"NA\" for choice variable\n",
    "\n",
    "# print(nrow(pp_dump[choice==\"1\"]))\n",
    "levels(valid_trials$choice) <- c('left','right') # rename remaining levels\n",
    "# print(nrow(pp_dump[choice==\"right\"]))\n",
    "\n",
    "# treat presenceCP as factor and rename the labels\n",
    "# print(nrow(pp_dump[presenceCP==TRUE]))\n",
    "valid_trials[,presenceCP:=as.factor(presenceCP)]\n",
    "# print(nrow(pp_dump[presenceCP==\"TRUE\"]))\n",
    "levels(valid_trials$presenceCP) <- c('no','yes')\n",
    "# print(nrow(pp_dump[presenceCP==\"yes\"]))\n",
    "\n",
    "valid_trials[,`:=`(targetOff=NULL, fixationOff=NULL, feedbackOn=NULL, seqDumpTime=NA_real_)]"
   ]
  },
  {
   "cell_type": "code",
   "execution_count": 15,
   "metadata": {},
   "outputs": [
    {
     "name": "stdout",
     "output_type": "stream",
     "text": [
      "Classes ‘data.table’ and 'data.frame':\t2193 obs. of  27 variables:\n",
      " $ taskID         : Factor w/ 3 levels \"1\",\"2\",\"3\": 1 1 1 1 1 1 1 1 1 1 ...\n",
      " $ trialIndex     : int  37 38 14 18 26 50 24 36 49 46 ...\n",
      " $ trialStart     : num  355 360 364 369 372 ...\n",
      " $ trialEnd       : num  360 364 369 372 376 ...\n",
      " $ RT             : num  0.489 0.321 0.647 0.528 0.481 ...\n",
      " $ choice         : Factor w/ 2 levels \"left\",\"right\": 2 1 1 1 1 1 2 1 2 1 ...\n",
      " $ correct        : logi  TRUE TRUE TRUE TRUE TRUE TRUE ...\n",
      " $ initDirection  : Factor w/ 2 levels \"0\",\"180\": 1 2 2 2 2 2 2 2 1 2 ...\n",
      " $ endDirection   : Factor w/ 2 levels \"0\",\"180\": 1 2 2 2 2 2 2 2 1 2 ...\n",
      " $ presenceCP     : Factor w/ 2 levels \"no\",\"yes\": 1 1 1 1 1 1 1 1 1 1 ...\n",
      " $ coherence      : num  23 16 14 11 9 7 6 16 14 13 ...\n",
      " $ viewingDuration: num  0.4 0.4 0.4 0.4 0.4 0.4 0.4 0.4 0.4 0.4 ...\n",
      " $ probCP         : num  0 0 0 0 0 0 0 0 0 0 ...\n",
      " $ timeCP         : num  0.2 0.2 0.2 0.2 0.2 0.2 0.2 0.2 0.2 0.2 ...\n",
      " $ randSeedBase   : int  7635 5039 5448 2163 5215 6334 958 6653 525 8229 ...\n",
      " $ fixationOn     : num  0.0908 0.0996 0.1147 0.1067 0.1046 ...\n",
      " $ fixationStart  : logi  NA NA NA NA NA NA ...\n",
      " $ targetOn       : num  3.159 0.896 1.86 0.971 0.935 ...\n",
      " $ dotsOn         : num  3.4 1.47 2.86 1.33 1.29 ...\n",
      " $ dotsOff        : num  3.82 1.89 3.27 1.75 1.7 ...\n",
      " $ choiceTime     : num  4.31 2.21 3.91 2.28 2.18 ...\n",
      " $ pilotID        : Factor w/ 5 levels \"15\",\"16\",\"17\",..: 4 4 4 4 4 4 4 4 4 4 ...\n",
      " $ trialInSession : int  5 6 7 8 9 10 11 12 13 14 ...\n",
      " $ trialClass     : Factor w/ 4 levels \"bug\",\"early\",..: 4 4 4 4 4 4 4 4 4 4 ...\n",
      " $ validTrialCount: int  1 2 3 4 5 6 7 8 9 10 ...\n",
      " $ signedCoherence: num  23 -16 -14 -11 -9 -7 -6 -16 14 -13 ...\n",
      " $ seqDumpTime    : num  NA NA NA NA NA NA NA NA NA NA ...\n",
      " - attr(*, \"sorted\")= chr \"trialStart\"\n",
      " - attr(*, \".internal.selfref\")=<externalptr> \n"
     ]
    }
   ],
   "source": [
    "str(valid_trials)"
   ]
  },
  {
   "cell_type": "markdown",
   "metadata": {},
   "source": [
    "Up to here, `valid_trials` contains all the relevant data of valid trials, and the unique identifier of each trial is a combination of `(validTrialCount, pilotID, taskID)`. But really, the JOIN with the dots table will be performed thanks to the column seqDumpTime, which will act as a foreign key."
   ]
  },
  {
   "cell_type": "markdown",
   "metadata": {},
   "source": [
    "# Load dots files"
   ]
  },
  {
   "cell_type": "code",
   "execution_count": 18,
   "metadata": {},
   "outputs": [],
   "source": [
    "list_of_dots <- list()\n",
    "for (subj in PILOT_NUMBERS) {\n",
    "    pilot <- toString(subj)\n",
    "    dots <- fread(file=paste(DATA_FOLDER,\"Pilot\",pilot,\"/pilot\",pilot,\"_dotsPositions.csv\", sep=''), header=TRUE, sep=',')\n",
    "    list_of_dots <- c(list_of_dots, list(dots))\n",
    "}\n",
    "DOTS <- rbindlist(list_of_dots)"
   ]
  },
  {
   "cell_type": "code",
   "execution_count": 19,
   "metadata": {},
   "outputs": [
    {
     "name": "stdout",
     "output_type": "stream",
     "text": [
      "Classes ‘data.table’ and 'data.frame':\t1938026 obs. of  8 variables:\n",
      " $ xpos       : num  0.5997 0.0315 0.4435 0.2796 0.0924 ...\n",
      " $ ypos       : num  0.496 0.352 0.5 0.151 0.933 ...\n",
      " $ isActive   : int  1 0 0 1 0 0 1 0 0 1 ...\n",
      " $ isCoherent : int  1 0 0 1 0 0 0 0 0 0 ...\n",
      " $ frameIdx   : int  1 1 1 1 1 1 1 1 1 1 ...\n",
      " $ seqDumpTime: num  6049 6049 6049 6049 6049 ...\n",
      " $ pilotID    : int  15 15 15 15 15 15 15 15 15 15 ...\n",
      " $ taskID     : int  1 1 1 1 1 1 1 1 1 1 ...\n",
      " - attr(*, \".internal.selfref\")=<externalptr> \n"
     ]
    }
   ],
   "source": [
    "str(DOTS)"
   ]
  },
  {
   "cell_type": "code",
   "execution_count": 24,
   "metadata": {},
   "outputs": [],
   "source": [
    "for (subject in PILOT_NUMBERS) {\n",
    "    for (node in NODES) {\n",
    "        startEndTimes <- valid_trials[pilotID==subject & taskID==node, .(trialStart, trialEnd)]\n",
    "        for (row in seq(startEndTimes[,.N])) {\n",
    "            tstart <- startEndTimes[row,trialStart]\n",
    "            tend <- startEndTimes[row,trialEnd]\n",
    "            valid_trials[pilotID==subject & taskID==node & trialStart==tstart & trialEnd==tend, \n",
    "                     seqDumpTime:=unique(\n",
    "                         DOTS[pilotID==subject & taskID==node & seqDumpTime < tend & seqDumpTime > tstart,\n",
    "                              seqDumpTime])]\n",
    "        }\n",
    "    }\n",
    "}"
   ]
  },
  {
   "cell_type": "code",
   "execution_count": 25,
   "metadata": {},
   "outputs": [
    {
     "name": "stdout",
     "output_type": "stream",
     "text": [
      "Classes ‘data.table’ and 'data.frame':\t2193 obs. of  27 variables:\n",
      " $ taskID         : Factor w/ 3 levels \"1\",\"2\",\"3\": 1 1 1 1 1 1 1 1 1 1 ...\n",
      " $ trialIndex     : int  37 38 14 18 26 50 24 36 49 46 ...\n",
      " $ trialStart     : num  355 360 364 369 372 ...\n",
      " $ trialEnd       : num  360 364 369 372 376 ...\n",
      " $ RT             : num  0.489 0.321 0.647 0.528 0.481 ...\n",
      " $ choice         : Factor w/ 2 levels \"left\",\"right\": 2 1 1 1 1 1 2 1 2 1 ...\n",
      " $ correct        : logi  TRUE TRUE TRUE TRUE TRUE TRUE ...\n",
      " $ initDirection  : Factor w/ 2 levels \"0\",\"180\": 1 2 2 2 2 2 2 2 1 2 ...\n",
      " $ endDirection   : Factor w/ 2 levels \"0\",\"180\": 1 2 2 2 2 2 2 2 1 2 ...\n",
      " $ presenceCP     : Factor w/ 2 levels \"no\",\"yes\": 1 1 1 1 1 1 1 1 1 1 ...\n",
      " $ coherence      : num  23 16 14 11 9 7 6 16 14 13 ...\n",
      " $ viewingDuration: num  0.4 0.4 0.4 0.4 0.4 0.4 0.4 0.4 0.4 0.4 ...\n",
      " $ probCP         : num  0 0 0 0 0 0 0 0 0 0 ...\n",
      " $ timeCP         : num  0.2 0.2 0.2 0.2 0.2 0.2 0.2 0.2 0.2 0.2 ...\n",
      " $ randSeedBase   : int  7635 5039 5448 2163 5215 6334 958 6653 525 8229 ...\n",
      " $ fixationOn     : num  0.0908 0.0996 0.1147 0.1067 0.1046 ...\n",
      " $ fixationStart  : logi  NA NA NA NA NA NA ...\n",
      " $ targetOn       : num  3.159 0.896 1.86 0.971 0.935 ...\n",
      " $ dotsOn         : num  3.4 1.47 2.86 1.33 1.29 ...\n",
      " $ dotsOff        : num  3.82 1.89 3.27 1.75 1.7 ...\n",
      " $ choiceTime     : num  4.31 2.21 3.91 2.28 2.18 ...\n",
      " $ pilotID        : Factor w/ 5 levels \"15\",\"16\",\"17\",..: 4 4 4 4 4 4 4 4 4 4 ...\n",
      " $ trialInSession : int  5 6 7 8 9 10 11 12 13 14 ...\n",
      " $ trialClass     : Factor w/ 4 levels \"bug\",\"early\",..: 4 4 4 4 4 4 4 4 4 4 ...\n",
      " $ validTrialCount: int  1 2 3 4 5 6 7 8 9 10 ...\n",
      " $ signedCoherence: num  23 -16 -14 -11 -9 -7 -6 -16 14 -13 ...\n",
      " $ seqDumpTime    : num  360 364 369 372 376 ...\n",
      " - attr(*, \"sorted\")= chr \"trialStart\"\n",
      " - attr(*, \".internal.selfref\")=<externalptr> \n"
     ]
    }
   ],
   "source": [
    "str(valid_trials)"
   ]
  },
  {
   "cell_type": "code",
   "execution_count": 30,
   "metadata": {},
   "outputs": [
    {
     "name": "stdout",
     "output_type": "stream",
     "text": [
      "            NAME      NROW NCOL MB\n",
      "1:          dots   391,092    8 16\n",
      "2:          DOTS 1,938,026    8 81\n",
      "3: startEndTimes       196    2  0\n",
      "4:        TRIALS     2,360   29  0\n",
      "5:  valid_trials     2,193   27  0\n",
      "                                                     COLS         KEY\n",
      "1: xpos,ypos,isActive,isCoherent,frameIdx,seqDumpTime,...            \n",
      "2: xpos,ypos,isActive,isCoherent,frameIdx,seqDumpTime,... seqDumpTime\n",
      "3:                                    trialStart,trialEnd  trialStart\n",
      "4:    taskID,trialIndex,trialStart,trialEnd,RT,choice,...  trialStart\n",
      "5:    taskID,trialIndex,trialStart,trialEnd,RT,choice,... seqDumpTime\n",
      "Total: 97MB\n"
     ]
    }
   ],
   "source": [
    "setkey(valid_trials, seqDumpTime)\n",
    "setkey(DOTS, seqDumpTime)\n",
    "tables()"
   ]
  },
  {
   "cell_type": "code",
   "execution_count": 31,
   "metadata": {},
   "outputs": [
    {
     "name": "stdout",
     "output_type": "stream",
     "text": [
      "Classes ‘data.table’ and 'data.frame':\t1886506 obs. of  34 variables:\n",
      " $ xpos           : num  0.479 0.831 0.405 0.79 0.752 ...\n",
      " $ ypos           : num  0.452 0.533 0.918 0.382 0.628 ...\n",
      " $ isActive       : int  0 0 1 0 0 1 0 0 1 0 ...\n",
      " $ isCoherent     : int  0 0 1 0 0 1 0 0 1 0 ...\n",
      " $ frameIdx       : int  1 1 1 1 1 1 1 1 1 1 ...\n",
      " $ seqDumpTime    : num  360 360 360 360 360 ...\n",
      " $ pilotID        : int  18 18 18 18 18 18 18 18 18 18 ...\n",
      " $ taskID         : int  1 1 1 1 1 1 1 1 1 1 ...\n",
      " $ i.taskID       : Factor w/ 3 levels \"1\",\"2\",\"3\": 1 1 1 1 1 1 1 1 1 1 ...\n",
      " $ trialIndex     : int  37 37 37 37 37 37 37 37 37 37 ...\n",
      " $ trialStart     : num  355 355 355 355 355 ...\n",
      " $ trialEnd       : num  360 360 360 360 360 ...\n",
      " $ RT             : num  0.489 0.489 0.489 0.489 0.489 ...\n",
      " $ choice         : Factor w/ 2 levels \"left\",\"right\": 2 2 2 2 2 2 2 2 2 2 ...\n",
      " $ correct        : logi  TRUE TRUE TRUE TRUE TRUE TRUE ...\n",
      " $ initDirection  : Factor w/ 2 levels \"0\",\"180\": 1 1 1 1 1 1 1 1 1 1 ...\n",
      " $ endDirection   : Factor w/ 2 levels \"0\",\"180\": 1 1 1 1 1 1 1 1 1 1 ...\n",
      " $ presenceCP     : Factor w/ 2 levels \"no\",\"yes\": 1 1 1 1 1 1 1 1 1 1 ...\n",
      " $ coherence      : num  23 23 23 23 23 23 23 23 23 23 ...\n",
      " $ viewingDuration: num  0.4 0.4 0.4 0.4 0.4 0.4 0.4 0.4 0.4 0.4 ...\n",
      " $ probCP         : num  0 0 0 0 0 0 0 0 0 0 ...\n",
      " $ timeCP         : num  0.2 0.2 0.2 0.2 0.2 0.2 0.2 0.2 0.2 0.2 ...\n",
      " $ randSeedBase   : int  7635 7635 7635 7635 7635 7635 7635 7635 7635 7635 ...\n",
      " $ fixationOn     : num  0.0908 0.0908 0.0908 0.0908 0.0908 ...\n",
      " $ fixationStart  : logi  NA NA NA NA NA NA ...\n",
      " $ targetOn       : num  3.16 3.16 3.16 3.16 3.16 ...\n",
      " $ dotsOn         : num  3.4 3.4 3.4 3.4 3.4 ...\n",
      " $ dotsOff        : num  3.82 3.82 3.82 3.82 3.82 ...\n",
      " $ choiceTime     : num  4.31 4.31 4.31 4.31 4.31 ...\n",
      " $ i.pilotID      : Factor w/ 5 levels \"15\",\"16\",\"17\",..: 4 4 4 4 4 4 4 4 4 4 ...\n",
      " $ trialInSession : int  5 5 5 5 5 5 5 5 5 5 ...\n",
      " $ trialClass     : Factor w/ 4 levels \"bug\",\"early\",..: 4 4 4 4 4 4 4 4 4 4 ...\n",
      " $ validTrialCount: int  1 1 1 1 1 1 1 1 1 1 ...\n",
      " $ signedCoherence: num  23 23 23 23 23 23 23 23 23 23 ...\n",
      " - attr(*, \"sorted\")= chr \"seqDumpTime\"\n",
      " - attr(*, \".internal.selfref\")=<externalptr> \n"
     ]
    }
   ],
   "source": [
    "# inner join\n",
    "dots_join_trials <- DOTS[valid_trials, nomatch=0]\n",
    "str(dots_join_trials)"
   ]
  },
  {
   "cell_type": "code",
   "execution_count": 32,
   "metadata": {},
   "outputs": [],
   "source": [
    "fwrite(dots_join_trials, file = paste(DATA_FOLDER,\"Pilot15-19/dots_join_valid_trials.csv\", sep=''), na=\"NA\")"
   ]
  }
 ],
 "metadata": {
  "kernelspec": {
   "display_name": "R",
   "language": "R",
   "name": "ir"
  },
  "language_info": {
   "codemirror_mode": "r",
   "file_extension": ".r",
   "mimetype": "text/x-r-source",
   "name": "R",
   "pygments_lexer": "r",
   "version": "3.5.3"
  },
  "toc": {
   "base_numbering": 1,
   "nav_menu": {
    "height": "587px",
    "width": "790px"
   },
   "number_sections": true,
   "sideBar": true,
   "skip_h1_title": false,
   "title_cell": "Table of Contents",
   "title_sidebar": "Contents",
   "toc_cell": false,
   "toc_position": {},
   "toc_section_display": true,
   "toc_window_display": false
  }
 },
 "nbformat": 4,
 "nbformat_minor": 2
}
