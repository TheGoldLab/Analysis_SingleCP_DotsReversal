{
 "cells": [
  {
   "cell_type": "markdown",
   "metadata": {
    "toc": true
   },
   "source": [
    "<h1>Table of Contents<span class=\"tocSkip\"></span></h1>\n",
    "<div class=\"toc\"><ul class=\"toc-item\"><li><span><a href=\"#Simple-psychometric-functions\" data-toc-modified-id=\"Simple-psychometric-functions-1\"><span class=\"toc-item-num\">1&nbsp;&nbsp;</span>Simple psychometric functions</a></span></li><li><span><a href=\"#Logistic-regression\" data-toc-modified-id=\"Logistic-regression-2\"><span class=\"toc-item-num\">2&nbsp;&nbsp;</span>Logistic regression</a></span><ul class=\"toc-item\"><li><span><a href=\"#Single-predictor\" data-toc-modified-id=\"Single-predictor-2.1\"><span class=\"toc-item-num\">2.1&nbsp;&nbsp;</span>Single predictor</a></span></li></ul></li></ul></div>"
   ]
  },
  {
   "cell_type": "code",
   "execution_count": 1,
   "metadata": {},
   "outputs": [],
   "source": [
    "from IPython.display import HTML\n",
    "from ipywidgets import interact\n",
    "import numpy as np\n",
    "import matplotlib.pyplot as plt"
   ]
  },
  {
   "cell_type": "code",
   "execution_count": 2,
   "metadata": {},
   "outputs": [
    {
     "data": {
      "text/html": [
       "<script>\n",
       "code_show=true; \n",
       "function code_toggle() {\n",
       " if (code_show){\n",
       " $('div.input').hide();\n",
       " } else {\n",
       " $('div.input').show();\n",
       " }\n",
       " code_show = !code_show\n",
       "} \n",
       "$( document ).ready(code_toggle);\n",
       "</script>\n",
       "<a href=\"javascript:code_toggle()\">Toggle code cells ON/OFF</a>."
      ],
      "text/plain": [
       "<IPython.core.display.HTML object>"
      ]
     },
     "execution_count": 2,
     "metadata": {},
     "output_type": "execute_result"
    }
   ],
   "source": [
    "HTML('''<script>\n",
    "code_show=true; \n",
    "function code_toggle() {\n",
    " if (code_show){\n",
    " $('div.input').hide();\n",
    " } else {\n",
    " $('div.input').show();\n",
    " }\n",
    " code_show = !code_show\n",
    "} \n",
    "$( document ).ready(code_toggle);\n",
    "</script>\n",
    "<a href=\"javascript:code_toggle()\">Toggle code cells ON/OFF</a>.''')"
   ]
  },
  {
   "cell_type": "code",
   "execution_count": 3,
   "metadata": {},
   "outputs": [],
   "source": [
    "plt.rcParams['figure.figsize'] = [14, 7]\n",
    "plt.rcParams.update({'font.size': 19})"
   ]
  },
  {
   "cell_type": "markdown",
   "metadata": {},
   "source": [
    "## Simple psychometric functions"
   ]
  },
  {
   "cell_type": "markdown",
   "metadata": {},
   "source": [
    "Weibull function:\n",
    "$$F_W(|x|;\\alpha_W, \\beta_W)=1-\\exp\\left(-\\left(\\frac{|x|}{\\alpha_W}\\right)^{\\beta_W}\\right), \\quad \\alpha_W, \\beta_W > 0$$"
   ]
  },
  {
   "cell_type": "code",
   "execution_count": 4,
   "metadata": {},
   "outputs": [],
   "source": [
    "def F_W(x, a, b):\n",
    "    return 1-np.exp(-((x/a)**b))"
   ]
  },
  {
   "cell_type": "code",
   "execution_count": 5,
   "metadata": {},
   "outputs": [],
   "source": [
    "def psi(x, l, g, F, a, b):\n",
    "    return g+(1-g-l)*F(x, a, b)"
   ]
  },
  {
   "cell_type": "markdown",
   "metadata": {},
   "source": [
    "Corresponding psychometric function (interactive widget below):\n",
    "$$\\psi_\\text{corr}(|x|;\\theta_\\text{corr})=\\gamma_\\text{corr}+(1-\\gamma_\\text{corr}-\\lambda_\\text{corr})F_W(|x|;\\alpha_W, \\beta_W)$$"
   ]
  },
  {
   "cell_type": "code",
   "execution_count": 6,
   "metadata": {},
   "outputs": [],
   "source": [
    "plt.rcParams['figure.figsize'] = [10, 7]"
   ]
  },
  {
   "cell_type": "code",
   "execution_count": 7,
   "metadata": {},
   "outputs": [
    {
     "data": {
      "application/vnd.jupyter.widget-view+json": {
       "model_id": "055bc14306034f889f398b606800d1cc",
       "version_major": 2,
       "version_minor": 0
      },
      "text/plain": [
       "A Jupyter Widget"
      ]
     },
     "metadata": {},
     "output_type": "display_data"
    }
   ],
   "source": [
    "@interact\n",
    "def psi_corr(threshold=(.01, 100, 1), slope=(.01, 20, 1), lapse=(0,.1,.01)):\n",
    "    g=1/2\n",
    "    x = np.linspace(0,100,200)\n",
    "#     fig=plt.figure(figsize=(18, 16), dpi= 80, facecolor='w', edgecolor='k')\n",
    "    _, ax = plt.subplots()\n",
    "    ax.plot(x, 100 * psi(x, lapse, g, F_W, threshold, slope), linewidth=3)\n",
    "    ax.plot([threshold, threshold], [50, 100*psi(threshold, lapse, g, F_W, threshold, slope)], color='green')\n",
    "    ax.set(xlim=(0, 100), ylim=(50,100),\n",
    "           xlabel=\"coherence\",\n",
    "           ylabel=\"percent correct\",\n",
    "           title=\"Weibull + lapses\")"
   ]
  },
  {
   "cell_type": "markdown",
   "metadata": {},
   "source": [
    "Logistic function:\n",
    "$$\\displaystyle\n",
    "F_L(x;\\alpha_L, \\beta_L)=\\frac{1}{1+\\exp\\left(-\\beta_L(x-\\alpha_L)\\right)}, \\quad \\alpha_L\\in\\mathbb{R}, \\beta_L > 0$$"
   ]
  },
  {
   "cell_type": "code",
   "execution_count": 8,
   "metadata": {},
   "outputs": [],
   "source": [
    "def logistic_base(x, f=None):\n",
    "    \"\"\"\n",
    "    Base function to apply a logistic transformation. \n",
    "    \n",
    "    :param x: values at which logistic function should be evaluated\n",
    "    :param f: a function. If None, identity is used\n",
    "    \"\"\"\n",
    "    if f is None:\n",
    "        f = lambda b: b  # f is the identity function\n",
    "    return 1/(1+np.exp(-f(x)))"
   ]
  },
  {
   "cell_type": "code",
   "execution_count": 9,
   "metadata": {},
   "outputs": [],
   "source": [
    "def F_L(x, a, b):\n",
    "    exp_arg = lambda x: b*(x-a)\n",
    "    return logistic_base(x, exp_arg)"
   ]
  },
  {
   "cell_type": "markdown",
   "metadata": {},
   "source": [
    "Corresponding psychometric function (interactive widget below):\n",
    "$$\\psi_\\text{choice}(x;\\theta_\\text{choice})=\\lambda_\\text{choice}+(1-2\\lambda_\\text{choice})F_L(x;\\alpha_L, \\beta_L)$$"
   ]
  },
  {
   "cell_type": "code",
   "execution_count": 10,
   "metadata": {},
   "outputs": [],
   "source": [
    "plt.rcParams['figure.figsize'] = [10, 7]"
   ]
  },
  {
   "cell_type": "code",
   "execution_count": 11,
   "metadata": {},
   "outputs": [
    {
     "data": {
      "application/vnd.jupyter.widget-view+json": {
       "model_id": "93755d4b2ae340f09e534e29d7f0a7be",
       "version_major": 2,
       "version_minor": 0
      },
      "text/plain": [
       "A Jupyter Widget"
      ]
     },
     "metadata": {},
     "output_type": "display_data"
    }
   ],
   "source": [
    "@interact\n",
    "def psi_choice(threshold=(-100, 100, 1), slope=(.01, .8, .05), lapse=(0,.1,.01)):\n",
    "    g=lapse\n",
    "    x = np.linspace(-100,100,200)\n",
    "    _, ax = plt.subplots()\n",
    "    ax.plot(x, 100 * psi(x, lapse, g, F_L, threshold, slope), linewidth=3)\n",
    "    ax.plot([threshold, threshold], [0, 100*psi(threshold, lapse, g, F_L, threshold, slope)], color='green')\n",
    "    ax.set(xlim=(-100, 100), ylim=(0,100),\n",
    "           xlabel=\"signed coherence\",\n",
    "           ylabel=\"percent choose 'right'\",\n",
    "           title=\"Logistic + lapses\")"
   ]
  },
  {
   "cell_type": "markdown",
   "metadata": {},
   "source": [
    "Illustration of how the two psychometric functions relate:"
   ]
  },
  {
   "cell_type": "code",
   "execution_count": 12,
   "metadata": {},
   "outputs": [],
   "source": [
    "plt.rcParams['figure.figsize'] = [14, 7]"
   ]
  },
  {
   "cell_type": "code",
   "execution_count": 13,
   "metadata": {},
   "outputs": [
    {
     "data": {
      "application/vnd.jupyter.widget-view+json": {
       "model_id": "2b40566d3f3347a9b70292d2fb3a6917",
       "version_major": 2,
       "version_minor": 0
      },
      "text/plain": [
       "A Jupyter Widget"
      ]
     },
     "metadata": {},
     "output_type": "display_data"
    }
   ],
   "source": [
    "@interact\n",
    "def psi_choice_corr(thr_corr=(0.001,100,1),\n",
    "                    slope_corr=(.01,20,1),\n",
    "                    thr_choice=(-100, 100, 1), \n",
    "                    slope_choice=(.01, .8, .05), \n",
    "                    lapse=(0,.1,.01)):\n",
    "    g = {'corr': 1/2, 'choice': lapse}\n",
    "    x = {'choice': np.linspace(-100,100, 200), 'corr': np.linspace(0,100,200)}\n",
    "    F = {'logistic': F_L, 'Weibull': F_W, 'choice': F_L, 'corr': F_W}\n",
    "    threshold = {'choice': thr_choice, 'corr': thr_corr}\n",
    "    slope = {'choice': slope_choice, 'corr': slope_corr}\n",
    "    _, (ax1,ax2) = plt.subplots(1,2)\n",
    "    ax = {'choice': ax2, 'corr': ax1}\n",
    "    for case in ('choice', 'corr'):\n",
    "#         print(case)\n",
    "        ax[case].plot(x[case], \n",
    "                          100 * psi(x[case], lapse, g[case], F[case], \n",
    "                                    threshold[case], slope[case]), \n",
    "                      linewidth=3, \n",
    "                      color='red' if case == 'choice' else 'blue')\n",
    "        if case == 'corr':\n",
    "            c = 1/2 * (psi(abs(x[case]), lapse, g['choice'], F['logistic'], threshold['choice'], slope['choice']) + \n",
    "                       (1-psi(-abs(x[case]), lapse, g['choice'], F['logistic'], threshold['choice'], slope['choice'])))\n",
    "#             print(type(c), c.shape)\n",
    "            ax[case].plot(x[case], 100*c, color='red', linewidth=3)\n",
    "        lylim = 45 if case == 'corr' else 0\n",
    "        ax[case].plot([threshold[case], threshold[case]], \n",
    "                          [lylim, 100*psi(threshold[case], lapse, g[case], F[case], \n",
    "                                       threshold[case], slope[case])], color='green')\n",
    "        ax[case].set(xlim=(0, 100) if case == 'corr' else (-100,100), \n",
    "                     ylim=(lylim, 100),\n",
    "               xlabel=\"coherence\" if case == 'corr' else \"signed coherence\",\n",
    "               ylabel=\"percent choose 'right'\" if case == 'choice' else 'percent correct',\n",
    "                    title=\"choose 'right'\" if case == 'choice' else 'percent correct')\n"
   ]
  },
  {
   "cell_type": "markdown",
   "metadata": {},
   "source": [
    "## Logistic regression"
   ]
  },
  {
   "cell_type": "markdown",
   "metadata": {},
   "source": [
    "### Single predictor"
   ]
  },
  {
   "cell_type": "code",
   "execution_count": 14,
   "metadata": {},
   "outputs": [],
   "source": [
    "plt.rcParams['figure.figsize'] = [14, 7]"
   ]
  },
  {
   "cell_type": "markdown",
   "metadata": {},
   "source": [
    "The interactive widget below illustrates how the intercept and slope parameters $\\beta_0$ and $\\beta_1$ in a single predictor logistic regression affect the psychometric function (red). The equation is:\n",
    "$$logit(P(\\text{choose right})):=\\log \\frac{P(\\text{choose right})}{1-P(\\text{choose right})}=\\beta_0+\\beta_1 x$$"
   ]
  },
  {
   "cell_type": "code",
   "execution_count": 15,
   "metadata": {},
   "outputs": [
    {
     "data": {
      "application/vnd.jupyter.widget-view+json": {
       "model_id": "a58477795bd34830ad0a2ac2f4d2ee92",
       "version_major": 2,
       "version_minor": 0
      },
      "text/plain": [
       "A Jupyter Widget"
      ]
     },
     "metadata": {},
     "output_type": "display_data"
    }
   ],
   "source": [
    "@interact\n",
    "def psi_logit(intercept=(-6, 6, 1), slope=(.01, .8, .05)):\n",
    "    x = {'choice': np.linspace(-100,100, 200), 'logit': np.linspace(-100,100,200)}\n",
    "    \n",
    "    lin_func = lambda c: intercept + slope * c\n",
    "    y = {'choice': logistic_base(x['choice'], lin_func), 'logit': lin_func(x['logit'])}\n",
    "\n",
    "    _, (ax1,ax2) = plt.subplots(1,2)\n",
    "    ax = {'choice': ax2, 'logit': ax1}\n",
    "    for case in ('choice', 'logit'):\n",
    "        ax[case].plot(x[case], y[case], \n",
    "                      linewidth=3, \n",
    "                      color='red' if case == 'choice' else 'blue')\n",
    "        ylim = (-50,50) if case == 'logit' else (0,1)\n",
    "        ax[case].set(xlim=(-100, 100), ylim=ylim, xlabel=\"signed coherence\",\n",
    "                     ylabel=\"percent choose 'right'\" if case == 'choice' else 'log[p/(1-p)]',\n",
    "                     title=\"psychometric\" if case == 'choice' else 'logit(p)')\n",
    "        horiz_line = 0 if case == 'logit' else 0.5\n",
    "        ax[case].hlines(horiz_line, *plt.xlim())\n",
    "        ax[case].vlines(0, *ylim)"
   ]
  },
  {
   "cell_type": "code",
   "execution_count": null,
   "metadata": {},
   "outputs": [],
   "source": []
  }
 ],
 "metadata": {
  "kernelspec": {
   "display_name": "r-env (&Py3.7.2)",
   "language": "python",
   "name": "r-env"
  },
  "language_info": {
   "codemirror_mode": {
    "name": "ipython",
    "version": 3
   },
   "file_extension": ".py",
   "mimetype": "text/x-python",
   "name": "python",
   "nbconvert_exporter": "python",
   "pygments_lexer": "ipython3",
   "version": "3.6.5"
  },
  "toc": {
   "base_numbering": 1,
   "nav_menu": {},
   "number_sections": true,
   "sideBar": true,
   "skip_h1_title": true,
   "title_cell": "Table of Contents",
   "title_sidebar": "Contents",
   "toc_cell": true,
   "toc_position": {},
   "toc_section_display": true,
   "toc_window_display": true
  }
 },
 "nbformat": 4,
 "nbformat_minor": 2
}
