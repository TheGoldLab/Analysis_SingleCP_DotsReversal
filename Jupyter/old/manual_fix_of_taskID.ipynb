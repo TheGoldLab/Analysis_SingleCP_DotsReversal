{
 "cells": [
  {
   "cell_type": "markdown",
   "metadata": {},
   "source": [
    "<!--\n",
    "IRdisplay::display_html(file='code_hiding.html')\n",
    "if the line above generates an error, it could be due to this:\n",
    "https://github.com/IRkernel/IRdisplay/issues/41\n",
    "In the meantime, the code below is enough; it works on nbviewer but not on the notebook directly\n",
    "-->\n",
    "<script>\n",
    "  code_show=true;\n",
    "  function code_toggle() {\n",
    "    if (code_show){\n",
    "      $('div.input').hide();\n",
    "    } else {\n",
    "      $('div.input').show();\n",
    "    }\n",
    "    code_show = !code_show\n",
    "  } \n",
    "  $( document ).ready(code_toggle);\n",
    "</script>\n",
    "<font size=4>\n",
    "<a href=\"javascript:code_toggle()\">Toggle ON/OFF</a>\n",
    "code cells.\n",
    "</font>"
   ]
  },
  {
   "cell_type": "markdown",
   "metadata": {},
   "source": [
    "**Author**: Adrian Ernesto Radillo  \n",
    "**Date**: 30 Apr 2019  \n",
    "The purpose of this notebook is to manually fix the taskID field from the csv files corresponding to the FIRA data from pilot data 15 through 19. See [issue 1](https://github.com/TheGoldLab/Task_SingleCP_DotsReversal/issues/1)"
   ]
  },
  {
   "cell_type": "code",
   "execution_count": 1,
   "metadata": {},
   "outputs": [],
   "source": [
    "# load packages \n",
    "\n",
    "# Note:\n",
    "# if one of the packages below is not installed, type, once, in another cell\n",
    "# install.packages(\"<package_name>\", lib=\"<path_to_installation_folder>\")\n",
    "# note that if you don't put the lib arg above, it will default to first item in .libPaths()\n",
    "# ref:https://www.rdocumentation.org/packages/utils/versions/3.5.2/topics/install.packages\n",
    "\n",
    "# I can't load the conflicted package here :(\n",
    "# library(conflicted)\n",
    "# https://github.com/r-lib/conflicted/issues/26\n",
    "\n",
    "library(data.table)     # see https://cran.r-project.org/web/packages/data.table/vignettes/datatable-intro.html for reference\n",
    "library(ggplot2)        # for plots\n",
    "library(repr)           # for resizing figures\n",
    "library(OneR)           # to use the function 'bin'\n",
    "library(gridExtra)      # to use grid.arrange()\n",
    "\n",
    "source(\"../R/R_functions.r\") # custom functions"
   ]
  },
  {
   "cell_type": "code",
   "execution_count": 2,
   "metadata": {},
   "outputs": [],
   "source": [
    "# DEFINE CONSTANTS\n",
    "# folder/file-specific constants\n",
    "PILOT_NUMBERS <- list(15, 16, 17, 18, 19)\n",
    "PILOT_NUMBER <- paste(PILOT_NUMBERS, collapse = '-')\n",
    "\n",
    "DATA_FOLDER <- \"../data/\"\n",
    "FIRA_TAG <- \"FIRA\"\n",
    "SUFFIX <- \"_prefix\""
   ]
  },
  {
   "cell_type": "code",
   "execution_count": 3,
   "metadata": {},
   "outputs": [],
   "source": [
    "# load csv files into data.tables\n",
    "TRIALS <- loadMultiplePilotCSV(PILOT_NUMBERS, DATA_FOLDER, FIRA_TAG, SUFFIX)"
   ]
  },
  {
   "cell_type": "code",
   "execution_count": 4,
   "metadata": {},
   "outputs": [],
   "source": [
    "NODES = unique(TRIALS[,taskID])\n",
    "NUM_NODES = length(NODES)"
   ]
  },
  {
   "cell_type": "code",
   "execution_count": 5,
   "metadata": {},
   "outputs": [],
   "source": [
    "NUM_SUBJECTS <- length(PILOT_NUMBERS)"
   ]
  },
  {
   "cell_type": "code",
   "execution_count": 6,
   "metadata": {},
   "outputs": [
    {
     "data": {
      "text/html": [
       "<ol class=list-inline>\n",
       "\t<li>1</li>\n",
       "\t<li>2</li>\n",
       "</ol>\n"
      ],
      "text/latex": [
       "\\begin{enumerate*}\n",
       "\\item 1\n",
       "\\item 2\n",
       "\\end{enumerate*}\n"
      ],
      "text/markdown": [
       "1. 1\n",
       "2. 2\n",
       "\n",
       "\n"
      ],
      "text/plain": [
       "[1] 1 2"
      ]
     },
     "metadata": {},
     "output_type": "display_data"
    }
   ],
   "source": [
    "NODES"
   ]
  },
  {
   "cell_type": "code",
   "execution_count": 7,
   "metadata": {},
   "outputs": [
    {
     "data": {
      "text/html": [
       "5"
      ],
      "text/latex": [
       "5"
      ],
      "text/markdown": [
       "5"
      ],
      "text/plain": [
       "[1] 5"
      ]
     },
     "metadata": {},
     "output_type": "display_data"
    }
   ],
   "source": [
    "NUM_SUBJECTS"
   ]
  },
  {
   "cell_type": "code",
   "execution_count": 8,
   "metadata": {},
   "outputs": [
    {
     "name": "stdout",
     "output_type": "stream",
     "text": [
      "pilot  15  last_row= 200 break_row= 201 \n",
      "pilot  16  last_row= 200 break_row= 201 \n",
      "pilot  17  last_row= 201 break_row= 202 \n",
      "pilot  18  last_row= 201 break_row= 202 \n",
      "pilot  19  last_row= 265 break_row= 266 \n"
     ]
    }
   ],
   "source": [
    "# To manually relabel taskID, I need to loop through trialIndex and look at either:\n",
    "#     the first trial where the valid trial number 200 is reached: this is 'last_row' below\n",
    "#     the first time where a trialIndex is repeated after having been valid: this is 'break_row' below\n",
    "for (subject in PILOT_NUMBERS) {\n",
    "    st <- TRIALS[taskID==2 & pilotID==subject]\n",
    "    st[,is_valid:=!(is.na(choice))]\n",
    "    st[,valid_count:=cumsum(is_valid)]\n",
    "    st[,row_idx:=.I]\n",
    "    last_row <- st[valid_count==200, row_idx]\n",
    "    if (length(last_row) > 1) {\n",
    "        last_row <- last_row[1]\n",
    "    }\n",
    "    memory_dt <- data.table(trial_index=seq(200), valid_passed=FALSE, visited=FALSE)\n",
    "    for (ridx in seq(st[,.N])) {\n",
    "        trial_idx <- st[row_idx==ridx, trialIndex]\n",
    "        is_valid <- st[row_idx==ridx, is_valid]\n",
    "\n",
    "        was_visited <- memory_dt[trial_index==trial_idx, visited]\n",
    "        was_valid_passed <- memory_dt[trial_index==trial_idx, valid_passed]\n",
    "\n",
    "        if (was_visited & was_valid_passed) {\n",
    "            break_row <- ridx\n",
    "            break\n",
    "        } else {\n",
    "            memory_dt[trial_index==trial_idx, `:=`(visited=TRUE, valid_passed=is_valid)]\n",
    "        }\n",
    "    }\n",
    "    cat('pilot ', subject, ' last_row=', last_row, 'break_row=', break_row,'\\n')\n",
    "}"
   ]
  },
  {
   "cell_type": "markdown",
   "metadata": {},
   "source": [
    "Since the two checks (last_row and break_row) above are consistent, we reuse the previous loop to now update the taskID column."
   ]
  },
  {
   "cell_type": "code",
   "execution_count": 9,
   "metadata": {},
   "outputs": [],
   "source": [
    "last_rows <- c(200, 200, 201, 201, 265)\n",
    "iter <- 1\n",
    "for (subject in PILOT_NUMBERS) {\n",
    "    last_row <- last_rows[iter]\n",
    "    iter <- iter + 1\n",
    "    TRIALS[taskID==2 & pilotID==subject, tmp_idx:=.I]\n",
    "    TRIALS[taskID==2 & pilotID==subject & (tmp_idx > last_row), taskID:=3]\n",
    "    TRIALS[,tmp_idx:=NULL]\n",
    "}"
   ]
  },
  {
   "cell_type": "code",
   "execution_count": 10,
   "metadata": {},
   "outputs": [
    {
     "name": "stdout",
     "output_type": "stream",
     "text": [
      "Classes ‘data.table’ and 'data.frame':\t2360 obs. of  25 variables:\n",
      " $ taskID         : int  1 1 1 1 1 1 1 1 1 1 ...\n",
      " $ trialIndex     : int  12 20 31 41 48 27 33 5 15 3 ...\n",
      " $ trialStart     : num  6037 6043 6049 6053 6058 ...\n",
      " $ trialEnd       : num  6043 6049 6053 6058 6067 ...\n",
      " $ RT             : num  NaN 1.08 1.28 1.3 2.09 ...\n",
      " $ choice         : num  NaN 0 0 1 0 1 0 0 1 0 ...\n",
      " $ correct        : num  NaN 1 0 1 1 1 0 0 1 0 ...\n",
      " $ initDirection  : int  180 180 0 0 180 0 0 0 0 0 ...\n",
      " $ endDirection   : int  180 180 0 0 180 0 0 0 0 0 ...\n",
      " $ presenceCP     : int  0 0 0 0 0 0 0 0 0 0 ...\n",
      " $ coherence      : num  23 23 21 40 39 39 38 49 57 57 ...\n",
      " $ viewingDuration: num  0.4 0.4 0.4 0.4 0.4 0.4 0.4 0.4 0.4 0.4 ...\n",
      " $ probCP         : num  0 0 0 0 0 0 0 0 0 0 ...\n",
      " $ timeCP         : num  0.2 0.2 0.2 0.2 0.2 0.2 0.2 0.2 0.2 0.2 ...\n",
      " $ randSeedBase   : int  8196 6504 1910 5103 7650 4513 6099 3907 2406 1395 ...\n",
      " $ fixationOn     : num  0.1512 0.0956 0.0865 0.0844 0.0965 ...\n",
      " $ fixationStart  : num  NaN NaN NaN NaN NaN NaN NaN NaN NaN NaN ...\n",
      " $ targetOn       : num  NaN 1.86 1.71 1.17 1.91 ...\n",
      " $ dotsOn         : num  NaN 3.25 1.98 1.83 5.16 ...\n",
      " $ dotsOff        : num  NaN 3.65 2.4 2.24 5.59 ...\n",
      " $ choiceTime     : num  NaN 4.73 3.68 3.54 7.68 ...\n",
      " $ targetOff      : num  NaN NaN NaN NaN NaN NaN NaN NaN NaN NaN ...\n",
      " $ fixationOff    : num  NaN NaN NaN NaN NaN NaN NaN NaN NaN NaN ...\n",
      " $ feedbackOn     : num  NaN NaN NaN NaN NaN NaN NaN NaN NaN NaN ...\n",
      " $ pilotID        : num  15 15 15 15 15 15 15 15 15 15 ...\n",
      " - attr(*, \".internal.selfref\")=<externalptr> \n",
      " - attr(*, \"index\")= int \n",
      "  ..- attr(*, \"__pilotID\")= int \n"
     ]
    }
   ],
   "source": [
    "str(TRIALS)"
   ]
  },
  {
   "cell_type": "code",
   "execution_count": 11,
   "metadata": {},
   "outputs": [
    {
     "data": {
      "text/html": [
       "<ol class=list-inline>\n",
       "\t<li>1</li>\n",
       "\t<li>2</li>\n",
       "\t<li>3</li>\n",
       "</ol>\n"
      ],
      "text/latex": [
       "\\begin{enumerate*}\n",
       "\\item 1\n",
       "\\item 2\n",
       "\\item 3\n",
       "\\end{enumerate*}\n"
      ],
      "text/markdown": [
       "1. 1\n",
       "2. 2\n",
       "3. 3\n",
       "\n",
       "\n"
      ],
      "text/plain": [
       "[1] 1 2 3"
      ]
     },
     "metadata": {},
     "output_type": "display_data"
    }
   ],
   "source": [
    "unique(TRIALS[,taskID])"
   ]
  },
  {
   "cell_type": "code",
   "execution_count": 13,
   "metadata": {},
   "outputs": [],
   "source": [
    "fwrite(TRIALS, file = \"../data/Pilot15-19/fixed_FIRA_TRIALS.csv\", na=\"NA\")"
   ]
  }
 ],
 "metadata": {
  "kernelspec": {
   "display_name": "R",
   "language": "R",
   "name": "ir"
  },
  "language_info": {
   "codemirror_mode": "r",
   "file_extension": ".r",
   "mimetype": "text/x-r-source",
   "name": "R",
   "pygments_lexer": "r",
   "version": "3.5.3"
  },
  "toc": {
   "base_numbering": 1,
   "nav_menu": {
    "height": "587px",
    "width": "790px"
   },
   "number_sections": true,
   "sideBar": true,
   "skip_h1_title": false,
   "title_cell": "Table of Contents",
   "title_sidebar": "Contents",
   "toc_cell": false,
   "toc_position": {},
   "toc_section_display": true,
   "toc_window_display": false
  }
 },
 "nbformat": 4,
 "nbformat_minor": 2
}
