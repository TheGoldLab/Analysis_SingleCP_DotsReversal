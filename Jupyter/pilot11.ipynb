{
 "cells": [
  {
   "cell_type": "code",
   "execution_count": 1,
   "metadata": {},
   "outputs": [
    {
     "data": {
      "text/html": [
       "<script>\n",
       "  code_show=true;\n",
       "  function code_toggle() {\n",
       "    if (code_show){\n",
       "      $('div.input').hide();\n",
       "    } else {\n",
       "      $('div.input').show();\n",
       "    }\n",
       "    code_show = !code_show\n",
       "  } \n",
       "  $( document ).ready(code_toggle);\n",
       "</script>\n",
       "<font size=4>\n",
       "<a href=\"javascript:code_toggle()\">Toggle ON/OFF</a>\n",
       "code cells.\n",
       "</font>\n"
      ]
     },
     "metadata": {},
     "output_type": "display_data"
    }
   ],
   "source": [
    "IRdisplay::display_html(file='code_hiding.html')"
   ]
  },
  {
   "cell_type": "markdown",
   "metadata": {},
   "source": [
    "**Author**: Adrian Ernesto Radillo\n",
    "**Date**: 19 Feb 2019\n",
    "\n",
    "# Introduction\n",
    "## Notebook's goals\n",
    "\n",
    "Analyze data collected on myself. Two subgoals:\n",
    "1. make sure the task and stimulus behave as we want, to the smallest detail\n",
    "2. start building up an analysis pipeline for the actual study\n",
    "\n",
    "### Immediate results\n",
    "1. First trial shows _weird_ timing, and first five to ten trials in general have an abnormally long delay between `trialStart` and `fixationOn`. So, based on some tolerance level, we should discard the first few trials.\n",
    "2. This document is a series of basic questions that I ask about the data, and that I try to answer (with graphs when I can)\n",
    "\n",
    "## A word on the data for this notebook\n",
    "The tag for this data is `Pilot 11`. It was collected in the psychophysics booth with [this code](https://github.com/TheGoldLab/SingleCP_DotsReversal_Task/releases/tag/pilot11.mat).\n",
    "\n",
    "I timed with my phone the elapsed time between launching the task via the GUI and the time of closing the GUI.\n",
    "This roughly amounted to 31 minutes.\n",
    "\n",
    "## Feedback about my own impressions doing the task\n",
    "- Luminance on booth's screen is too high (almost hurts my eyes)\n",
    "- As dots coherence changes, so does the effective speed of the dots. I perceived much faster moving/fluctuating dots at low coherence levels than at high ones. This might be a problem...\n",
    "- I usually need a few minutes of break every 5 to 10 minutes. I guess it will be the same for the subjects.\n",
    "- sometimes, and involuntary head or eye movement during stimulus presentation changes the perception of the dots (they become lines). I don't know if the eye-tracker will pick up on that, but if it doesn't it is an issue.\n",
    "- Getting comfy in front of the screen is ultra important, and not so easy to achieve\n",
    "- Thus, doing several trials (at least 40) in presence of the experimenter to give him oral, real-time feedback, is really important.\n",
    "\n",
    "\n",
    "## Data analysis workflow description\n",
    "1. Task is run with repo [SingleCP_DotsReversal_Task](https://github.com/TheGoldLab/SingleCP_DotsReversal_Task/) (appropriate branch must be chosen).\n",
    "  1. A `.mat` data file is outputted\n",
    "  2. I usually manually rename this file `pilot#.mat` and upload it to PennBox (location = Data/Psychophysics/Radillo_SingleCP_DotsReversal/)\n",
    "2. Data is analyzed with repo [SingleCP_DotsReversal_DataAnalaysis](https://github.com/aernesto/SingleCP_DotsReversal_DataAnalysis)(again, with the appropriate branch).\n",
    "  1. The first step is to convert data from the .mat file into CSV format with [this script](https://github.com/aernesto/SingleCP_DotsReversal_DataAnalysis/blob/02109ab98b956f2aad4ac15f01e1d373260c8af0/MATLAB_scripts/mat2csv.m) \n",
    "    - `pilot#_framesInfo.csv` [Fields description](https://github.com/aernesto/SingleCP_DotsReversal_DataAnalysis/wiki/Fields-description-of-*framesInfo.csv-file).\n",
    "    - `pilot#_FIRA.csv`  [Fields description](https://github.com/aernesto/SingleCP_DotsReversal_DataAnalysis/wiki/Fields-Description-of-*FIRA.csv-files).\n",
    "    - `pilot#_dotsPositions.csv` [Fields description](https://github.com/aernesto/SingleCP_DotsReversal_DataAnalysis/wiki/Fields-descriptions-for-*dotsPositions.csv-file).\n",
    "\n",
    "**TO-DO**\n",
    "- There is a clear problem in the way my code defines change points. This needs to be fixed.\n",
    "- Write detailed explanation of each column in each `.csv` file (i.e. update the [Wiki](https://github.com/aernesto/SingleCP_DotsReversal_DataAnalysis/wiki))\n",
    "- With 345 trials, dotsPositions.csv file is already around 80 MB big with more than a million rows! This is too much.\n",
    "    - I could remove a lot of the 'dumping'\n",
    "    - I could try to adopt the [NWB](https://www.nwb.org/) data format.\n",
    "\n",
    "## Unordered Q&A\n",
    "**Q:** How many frames are skipped on each trial, and where in the trial do they occur?  \n",
    "**A:** No frames are skipped (see figure in [this section](#tightFrames))  \n",
    "\n",
    "**Q:** Plot indep var. as fcn of trial count, to ensure real randomization was implemented by the task algorithm.  \n",
    "**A:** Things look fine [here](#randIndVar).\n",
    "    \n",
    "**Q:** Why [this pattern of errors](#errorsVD) in `(dotsOff-dotsOn) - viewingDuration`?  \n",
    "**A: Unanswered**  \n",
    "\n",
    "\n",
    "**Q:** Why [these dots counts](#numDots)?  \n",
    "**A: Unanswered**  \n",
    "\n",
    "**Q:** Do subjects display a tendency to repeat the answer from the last trial?  \n",
    "**A: Unanswered**  \n",
    "\n",
    "\n",
    "**Q:** Do subjects use the dot count in each half of the screen to make up their mind at low coherence levels?  \n",
    "**A: Unanswered**\n",
    "\n",
    "\n",
    "**Q:** Compute reverse kernels with the (signed) number of coherent dots as a proxy for motion energy  \n",
    "**A: Unanswered**"
   ]
  },
  {
   "cell_type": "code",
   "execution_count": 2,
   "metadata": {},
   "outputs": [],
   "source": [
    "# load packages and define constants\n",
    "library(data.table)     # see https://cran.r-project.org/web/packages/data.table/vignettes/datatable-intro.html for reference\n",
    "library(ggplot2)        # for plots\n",
    "library(repr)           # for resizing figures\n",
    "library(OneR)           # to use the function 'bin'\n",
    "library(gridExtra)      # to use grid.arrange()\n",
    "source(\"R_functions.r\") # custom functions\n",
    "\n",
    "# folder/file-specific constants\n",
    "PILOT_NUMBER <- 11\n",
    "DATA_FOLDER <- \"~/programing/data/psychophys/\"\n",
    "FIRA_TAG <- \"FIRA\"\n",
    "FRAMES_TAG <- \"framesInfo\"\n",
    "DOTS_TAG <- \"dotsPositions\"\n",
    "\n",
    "# plot-specific constants\n",
    "AXES_LABEL_FONT <- 18\n",
    "AXES_FONT <- 15\n",
    "ERROR_WIDTH <- 4\n",
    "SMALL_ERROR_WIDTH <- .01*ERROR_WIDTH\n",
    "LINE_WIDTH <- 1.4\n",
    "POINT_SIZE <- 2\n",
    "\n",
    "# other variables\n",
    "FRAME_RATE_ESTIMATE <- 60 # Hz\n",
    "FRAME_DURATION <- (1 / FRAME_RATE_ESTIMATE) # sec"
   ]
  },
  {
   "cell_type": "code",
   "execution_count": 3,
   "metadata": {},
   "outputs": [],
   "source": [
    "# load csv files into data.tables\n",
    "# key-specific constants \n",
    "TRIALS <- loadPilotCSV(PILOT_NUMBER, DATA_FOLDER, FIRA_TAG)\n",
    "FRAMES <- loadPilotCSV(PILOT_NUMBER, DATA_FOLDER, FRAMES_TAG)\n",
    "DOTS <- loadPilotCSV(PILOT_NUMBER, DATA_FOLDER, DOTS_TAG)"
   ]
  },
  {
   "cell_type": "markdown",
   "metadata": {},
   "source": [
    "# Data pre-processing\n",
    "## Summary of `TRIALS` dataset (`*FIRA.csv` file)"
   ]
  },
  {
   "cell_type": "code",
   "execution_count": 4,
   "metadata": {
    "scrolled": true
   },
   "outputs": [
    {
     "name": "stdout",
     "output_type": "stream",
     "text": [
      "Classes ‘data.table’ and 'data.frame':\t504 obs. of  27 variables:\n",
      " $ taskID         : int  2 2 2 2 2 2 2 2 2 2 ...\n",
      " $ trialIndex     : int  887 300 281 564 112 279 892 879 351 184 ...\n",
      " $ trialStart     : num  1211394 1211400 1211405 1211409 1211414 ...\n",
      " $ trialEnd       : num  1211400 1211405 1211409 1211414 1211418 ...\n",
      " $ RT             : num  1.275 0.921 0.86 1.125 0.875 ...\n",
      " $ choice         : num  1 0 0 0 0 0 0 1 1 1 ...\n",
      " $ correct        : num  1 1 1 1 0 1 0 1 1 0 ...\n",
      " $ initDirection  : int  0 180 0 180 180 0 180 0 0 180 ...\n",
      " $ endDirection   : int  0 180 180 180 0 180 0 0 0 180 ...\n",
      " $ presenceCP     : int  0 0 1 0 1 1 1 0 0 0 ...\n",
      " $ coherence      : int  60 60 24 60 12 12 12 12 12 12 ...\n",
      " $ viewingDuration: num  0.4 0.5 0.4 0.2 0.5 0.4 0.5 0.4 0.5 0.1 ...\n",
      " $ probCP         : num  0.5 0.5 0.5 0.5 0.5 0.5 0.5 0.5 0.5 0.5 ...\n",
      " $ timeCP         : num  0.2 0.2 0.2 0.2 0.2 0.2 0.2 0.2 0.2 0.2 ...\n",
      " $ randSeedBase   : int  7792 1799 73 7113 1651 4120 5616 3316 6353 9185 ...\n",
      " $ fixationOn     : num  0.375 0.183 0.147 0.127 0.179 ...\n",
      " $ fixationStart  : num  NaN NaN NaN NaN NaN NaN NaN NaN NaN NaN ...\n",
      " $ targetOn       : num  3.54 1.98 1.16 1.23 1.2 ...\n",
      " $ dotsOn         : num  3.73 2.49 1.57 1.77 1.92 ...\n",
      " $ dotsOff        : num  4.12 3.01 1.99 1.97 2.45 ...\n",
      " $ choiceTime     : num  5.4 3.93 2.85 3.1 3.33 ...\n",
      " $ targetOff      : num  NaN NaN NaN NaN NaN NaN NaN NaN NaN NaN ...\n",
      " $ fixationOff    : num  NaN NaN NaN NaN NaN NaN NaN NaN NaN NaN ...\n",
      " $ feedbackOn     : num  NaN NaN NaN NaN NaN NaN NaN NaN NaN NaN ...\n",
      " $ numFrames      : int  28 36 31 17 36 29 35 29 36 11 ...\n",
      " $ tocDotsOn      : num  3.68 2.47 1.55 1.75 1.89 ...\n",
      " $ tocDotsOff     : num  4.1 2.99 1.97 1.95 2.42 ...\n",
      " - attr(*, \".internal.selfref\")=<externalptr> \n"
     ]
    }
   ],
   "source": [
    "str(TRIALS)"
   ]
  },
  {
   "cell_type": "markdown",
   "metadata": {},
   "source": [
    "## Summary of `FRAMES` dataset (`*framesInfo.csv` file)"
   ]
  },
  {
   "cell_type": "code",
   "execution_count": 5,
   "metadata": {},
   "outputs": [
    {
     "name": "stdout",
     "output_type": "stream",
     "text": [
      "Classes ‘data.table’ and 'data.frame':\t11353 obs. of  6 variables:\n",
      " $ frameTotCount: int  3 4 5 6 7 8 9 10 11 12 ...\n",
      " $ onsetTime    : num  1211394 1211397 1211397 1211397 1211397 ...\n",
      " $ onsetFrame   : int  205 392 400 403 404 405 406 407 408 409 ...\n",
      " $ swapTime     : num  1211394 1211397 1211397 1211397 1211397 ...\n",
      " $ isTight      : int  0 0 0 0 1 1 1 1 1 1 ...\n",
      " $ trialIndex   : int  887 887 887 887 887 887 887 887 887 887 ...\n",
      " - attr(*, \".internal.selfref\")=<externalptr> \n"
     ]
    }
   ],
   "source": [
    "str(FRAMES)"
   ]
  },
  {
   "cell_type": "markdown",
   "metadata": {},
   "source": [
    "## Summary of `DOTS` dataset (`*dotsPositions.csv` file)"
   ]
  },
  {
   "cell_type": "code",
   "execution_count": 6,
   "metadata": {},
   "outputs": [
    {
     "name": "stdout",
     "output_type": "stream",
     "text": [
      "Classes ‘data.table’ and 'data.frame':\t1713348 obs. of  6 variables:\n",
      " $ xpos      : num  0.201 0.322 0.205 0.548 0.362 ...\n",
      " $ ypos      : num  0.465 0.293 0.105 0.341 0.515 ...\n",
      " $ isActive  : int  1 0 0 1 0 0 1 0 0 1 ...\n",
      " $ isCoherent: int  1 0 0 1 0 0 1 0 0 1 ...\n",
      " $ frameIdx  : int  1 1 1 1 1 1 1 1 1 1 ...\n",
      " $ trialCount: int  1 1 1 1 1 1 1 1 1 1 ...\n",
      " - attr(*, \".internal.selfref\")=<externalptr> \n"
     ]
    }
   ],
   "source": [
    "str(DOTS)"
   ]
  },
  {
   "cell_type": "markdown",
   "metadata": {},
   "source": [
    "<a id='numDots'>TODO: investigate why two numbers instead of one below.</a>"
   ]
  },
  {
   "cell_type": "code",
   "execution_count": 7,
   "metadata": {},
   "outputs": [
    {
     "name": "stdout",
     "output_type": "stream",
     "text": [
      "number of active dots per frame appearing across trials 61 60 \n"
     ]
    }
   ],
   "source": [
    "cat(\"number of active dots per frame appearing across trials\",\n",
    "    unique(DOTS[,.(numDots=sum(isActive)), by=.(trialCount,frameIdx)][,numDots])\n",
    "    ,\"\\n\")"
   ]
  },
  {
   "cell_type": "markdown",
   "metadata": {},
   "source": [
    "## Match trials across datasets"
   ]
  },
  {
   "cell_type": "markdown",
   "metadata": {},
   "source": [
    "How many trials were produced in each dataset?"
   ]
  },
  {
   "cell_type": "code",
   "execution_count": 8,
   "metadata": {},
   "outputs": [
    {
     "name": "stdout",
     "output_type": "stream",
     "text": [
      "TRIALS 504 \n",
      "DOTS   478 \n",
      "FRAMES 496"
     ]
    }
   ],
   "source": [
    "cat('TRIALS',nrow(TRIALS),\n",
    "   '\\nDOTS  ',DOTS[,max(trialCount)],\n",
    "   '\\nFRAMES',nrow(FRAMES[,.N,by=trialIndex]))"
   ]
  },
  {
   "cell_type": "markdown",
   "metadata": {},
   "source": [
    "We need to get the trials to match across datasets. The trial count from the `DOTS` dataset is the most reliable of the three, in the sense that it is the number of trials which actually resulted in the presentation of the dots stimulus."
   ]
  },
  {
   "cell_type": "code",
   "execution_count": 9,
   "metadata": {},
   "outputs": [
    {
     "name": "stdout",
     "output_type": "stream",
     "text": [
      "trial count with non-NA choice in TRIALS dataset =  478"
     ]
    }
   ],
   "source": [
    "cat('trial count with non-NA choice in TRIALS dataset = ',nrow(TRIALS[!is.na(choice)]))"
   ]
  },
  {
   "cell_type": "markdown",
   "metadata": {},
   "source": [
    "The above is a start. We are able to match trials between `TRIALS` and `DOTS` datasets. Thus, let's introduce a `trialCount` column in `TRIALS` to match with `DOTS`. For invalid trials, `trialCount=NA`."
   ]
  },
  {
   "cell_type": "code",
   "execution_count": 10,
   "metadata": {},
   "outputs": [],
   "source": [
    "TRIALS[!is.na(choice), trialCount:=.I]\n",
    "TRIALS[is.na(choice), trialCount := NA_integer_]"
   ]
  },
  {
   "cell_type": "code",
   "execution_count": 11,
   "metadata": {},
   "outputs": [
    {
     "name": "stdout",
     "output_type": "stream",
     "text": [
      "discarding frame from row  11353 in FRAMES\n",
      "new trial count in FRAMES after time filtering 478"
     ]
    }
   ],
   "source": [
    "# to match TRIALS to FRAMES, we use timestamps. \n",
    "\n",
    "# add the trialCount col to FRAMES, with 0 entries for now\n",
    "FRAMES[,trialCount:=0]\n",
    "# str(FRAMES)\n",
    "\n",
    "# NOTE: following for loop is SLOW, but I don't know of a way to speed things up\n",
    "\n",
    "# loop through rows in FRAMES and set trialCount appropriately\n",
    "for (numRow in 1:nrow(FRAMES)) {\n",
    "    frameOnset <- FRAMES[numRow, onsetTime]\n",
    "    if (length(TRIALS[trialStart <= frameOnset & trialEnd >= frameOnset,trialCount]) == 0) {\n",
    "        cat('discarding frame from row ',numRow, 'in FRAMES\\n')\n",
    "        FRAMES[numRow, \"trialCount\"] <- NA_integer_\n",
    "    } else {\n",
    "        FRAMES[numRow, \"trialCount\"] <- TRIALS[trialStart <= frameOnset & trialEnd >= frameOnset,trialCount]\n",
    "    }\n",
    "}\n",
    "\n",
    "cat('new trial count in FRAMES after time filtering',\n",
    "nrow(FRAMES[!is.na(trialCount),.N,by=trialCount]))"
   ]
  },
  {
   "cell_type": "markdown",
   "metadata": {},
   "source": [
    "Hurray, we managed to match `FRAMES` and `TRIALS`!"
   ]
  },
  {
   "cell_type": "markdown",
   "metadata": {},
   "source": [
    "# Timing and trial checks\n",
    "How long did the session last?"
   ]
  },
  {
   "cell_type": "code",
   "execution_count": null,
   "metadata": {},
   "outputs": [],
   "source": [
    "cat( round(TRIALS[,sum(trialEnd - trialStart)] / 60, digits = 2), \"min\" )"
   ]
  },
  {
   "cell_type": "markdown",
   "metadata": {},
   "source": [
    "## Aborted trials\n",
    "Did any trial fail?"
   ]
  },
  {
   "cell_type": "code",
   "execution_count": null,
   "metadata": {},
   "outputs": [],
   "source": [
    "cat('there are',nrow(TRIALS[is.na(choice)]),'trials where choice = NA:')\n",
    "\n",
    "# add two columns to TRIALS for convenience in following plot:\n",
    "TRIALS[order(trialStart),trialInSession:=.I]\n",
    "TRIALS[,aborted:=is.na(trialCount)]\n",
    "\n",
    "# control output figure size\n",
    "options(repr.plot.width=8, repr.plot.height=3)\n",
    "\n",
    "ggplot(TRIALS, aes(x=trialInSession, y=aborted)) + \n",
    "    geom_point(aes(col=aborted)) +\n",
    "    ggtitle(\"Aborted Trials in Session\") +\n",
    "    theme(plot.title=element_text(size=20, lineheight=1.2),  # title\n",
    "          plot.subtitle=element_text(size=15,family=\"American Typewriter\"),  # subtitle\n",
    "          plot.caption=element_text(size=15),  # caption\n",
    "          axis.title.x=element_text(size=AXES_LABEL_FONT),  # X axis title\n",
    "          axis.title.y=element_text(size=AXES_LABEL_FONT),  # Y axis title\n",
    "          axis.text.x=element_text(size=AXES_FONT),  # X axis text\n",
    "          axis.text.y=element_text(size=AXES_FONT)) + # Y axis text\n",
    "    guides(colour = guide_legend(reverse=T))"
   ]
  },
  {
   "cell_type": "markdown",
   "metadata": {},
   "source": [
    "<!-- this is not so important anymore.\n",
    "Were some trials presented again after failure? -->"
   ]
  },
  {
   "cell_type": "code",
   "execution_count": null,
   "metadata": {},
   "outputs": [],
   "source": [
    "# print(\"below are the trial counts corresponding to trials that were presented a second time (lapse)\")\n",
    "# TRIALS[,.(trialIndex, trialCount)][duplicated(TRIALS[,.(trialIndex)])]"
   ]
  },
  {
   "cell_type": "markdown",
   "metadata": {},
   "source": [
    "- How many trials were produced per combination of factors? **(TODO: any better way of displaying these results?)**"
   ]
  },
  {
   "cell_type": "code",
   "execution_count": null,
   "metadata": {},
   "outputs": [],
   "source": [
    "indepVarNames <- c(\"initDirection\",\"presenceCP\",\"coherence\",\"viewingDuration\",\"probCP\",\"timeCP\")\n",
    "combFactors <- getFreq(TRIALS, indepVarNames)\n",
    "combFactors"
   ]
  },
  {
   "cell_type": "markdown",
   "metadata": {},
   "source": [
    "- What were the marginal frequencies? **(TODO:improve visualization)**"
   ]
  },
  {
   "cell_type": "code",
   "execution_count": null,
   "metadata": {},
   "outputs": [],
   "source": [
    "for (i in 1:length(indepVarNames)) {\n",
    "  print(getFreq(TRIALS, indepVarNames[i]))\n",
    "}"
   ]
  },
  {
   "cell_type": "markdown",
   "metadata": {},
   "source": [
    "## Random indep vars.\n",
    "<a id='randIndVar'></a>\n",
    "We now plot the independent variables as a function of trial number in the task, to check randomization (at least eye-balling)."
   ]
  },
  {
   "cell_type": "code",
   "execution_count": null,
   "metadata": {},
   "outputs": [],
   "source": [
    "p1 <- ggplot(TRIALS, aes(x=trialCount, y=dotsOff - dotsOn)) + geom_line()\n",
    "p2 <- ggplot(TRIALS, aes(x=trialCount, y=coherence)) + geom_line()\n",
    "p3 <- ggplot(TRIALS[trialCount < 50], aes(x=trialCount, y=initDirection)) + geom_line() + geom_point(aes(col=factor(presenceCP)))\n",
    "p4 <- ggplot(TRIALS[trialCount < 50], aes(x=trialCount, y=endDirection)) + geom_line() + geom_point(aes(col=factor(presenceCP)))\n",
    "p5 <- ggplot(TRIALS, aes(x=trialCount, y=presenceCP)) + geom_line()\n",
    "grid.arrange(p1,p2,p3,p4,p5, nrow=5) "
   ]
  },
  {
   "cell_type": "markdown",
   "metadata": {},
   "source": [
    "## Match frame count across datasets"
   ]
  },
  {
   "cell_type": "code",
   "execution_count": 14,
   "metadata": {},
   "outputs": [],
   "source": [
    "# we work on a custom data.table containing the frames data and a few columns from the TRIALS table\n",
    "\n",
    "# first we discard aborted trials\n",
    "frameTimes <- FRAMES[!is.na(trialCount),]\n",
    "\n",
    "# then we add some columns from TRIALS (the syntax is that of a right join)\n",
    "frameTimes <- FRAMES[TRIALS[!is.na(trialCount),\n",
    "                            .(trialStart, trialEnd,\n",
    "                              dotsOn, dotsOff, \n",
    "                              trialCount, \n",
    "                              numFrames)], on=\"trialCount\"]\n",
    "\n",
    "# only consider frames with onsetTime in-between dotsOn and dotsOff\n",
    "frameTimes <- frameTimes[onsetTime-trialStart>=dotsOn & onsetTime-trialStart <= dotsOff]"
   ]
  },
  {
   "cell_type": "markdown",
   "metadata": {},
   "source": [
    "- does the \"number of frames\" match across the three files? **THERE IS A PB BELOW!**"
   ]
  },
  {
   "cell_type": "code",
   "execution_count": 22,
   "metadata": {},
   "outputs": [
    {
     "data": {
      "text/html": [
       "<table>\n",
       "<thead><tr><th scope=col>frameTotCount</th><th scope=col>onsetTime</th><th scope=col>onsetFrame</th><th scope=col>swapTime</th><th scope=col>isTight</th><th scope=col>trialIndex</th><th scope=col>trialCount</th><th scope=col>trialStart</th><th scope=col>trialEnd</th><th scope=col>dotsOn</th><th scope=col>dotsOff</th><th scope=col>numFrames</th></tr></thead>\n",
       "<tbody>\n",
       "\t<tr><td> 6     </td><td>1211397</td><td>403    </td><td>1211397</td><td>0      </td><td>887    </td><td>1      </td><td>1211394</td><td>1211400</td><td>3.73108</td><td>4.12091</td><td>28     </td></tr>\n",
       "\t<tr><td> 7     </td><td>1211397</td><td>404    </td><td>1211397</td><td>1      </td><td>887    </td><td>1      </td><td>1211394</td><td>1211400</td><td>3.73108</td><td>4.12091</td><td>28     </td></tr>\n",
       "\t<tr><td> 8     </td><td>1211397</td><td>405    </td><td>1211397</td><td>1      </td><td>887    </td><td>1      </td><td>1211394</td><td>1211400</td><td>3.73108</td><td>4.12091</td><td>28     </td></tr>\n",
       "\t<tr><td> 9     </td><td>1211397</td><td>406    </td><td>1211397</td><td>1      </td><td>887    </td><td>1      </td><td>1211394</td><td>1211400</td><td>3.73108</td><td>4.12091</td><td>28     </td></tr>\n",
       "\t<tr><td>10     </td><td>1211397</td><td>407    </td><td>1211397</td><td>1      </td><td>887    </td><td>1      </td><td>1211394</td><td>1211400</td><td>3.73108</td><td>4.12091</td><td>28     </td></tr>\n",
       "\t<tr><td>11     </td><td>1211398</td><td>408    </td><td>1211397</td><td>1      </td><td>887    </td><td>1      </td><td>1211394</td><td>1211400</td><td>3.73108</td><td>4.12091</td><td>28     </td></tr>\n",
       "</tbody>\n",
       "</table>\n"
      ],
      "text/latex": [
       "\\begin{tabular}{r|llllllllllll}\n",
       " frameTotCount & onsetTime & onsetFrame & swapTime & isTight & trialIndex & trialCount & trialStart & trialEnd & dotsOn & dotsOff & numFrames\\\\\n",
       "\\hline\n",
       "\t  6      & 1211397 & 403     & 1211397 & 0       & 887     & 1       & 1211394 & 1211400 & 3.73108 & 4.12091 & 28     \\\\\n",
       "\t  7      & 1211397 & 404     & 1211397 & 1       & 887     & 1       & 1211394 & 1211400 & 3.73108 & 4.12091 & 28     \\\\\n",
       "\t  8      & 1211397 & 405     & 1211397 & 1       & 887     & 1       & 1211394 & 1211400 & 3.73108 & 4.12091 & 28     \\\\\n",
       "\t  9      & 1211397 & 406     & 1211397 & 1       & 887     & 1       & 1211394 & 1211400 & 3.73108 & 4.12091 & 28     \\\\\n",
       "\t 10      & 1211397 & 407     & 1211397 & 1       & 887     & 1       & 1211394 & 1211400 & 3.73108 & 4.12091 & 28     \\\\\n",
       "\t 11      & 1211398 & 408     & 1211397 & 1       & 887     & 1       & 1211394 & 1211400 & 3.73108 & 4.12091 & 28     \\\\\n",
       "\\end{tabular}\n"
      ],
      "text/markdown": [
       "\n",
       "| frameTotCount | onsetTime | onsetFrame | swapTime | isTight | trialIndex | trialCount | trialStart | trialEnd | dotsOn | dotsOff | numFrames |\n",
       "|---|---|---|---|---|---|---|---|---|---|---|---|\n",
       "|  6      | 1211397 | 403     | 1211397 | 0       | 887     | 1       | 1211394 | 1211400 | 3.73108 | 4.12091 | 28      |\n",
       "|  7      | 1211397 | 404     | 1211397 | 1       | 887     | 1       | 1211394 | 1211400 | 3.73108 | 4.12091 | 28      |\n",
       "|  8      | 1211397 | 405     | 1211397 | 1       | 887     | 1       | 1211394 | 1211400 | 3.73108 | 4.12091 | 28      |\n",
       "|  9      | 1211397 | 406     | 1211397 | 1       | 887     | 1       | 1211394 | 1211400 | 3.73108 | 4.12091 | 28      |\n",
       "| 10      | 1211397 | 407     | 1211397 | 1       | 887     | 1       | 1211394 | 1211400 | 3.73108 | 4.12091 | 28      |\n",
       "| 11      | 1211398 | 408     | 1211397 | 1       | 887     | 1       | 1211394 | 1211400 | 3.73108 | 4.12091 | 28      |\n",
       "\n"
      ],
      "text/plain": [
       "  frameTotCount onsetTime onsetFrame swapTime isTight trialIndex trialCount\n",
       "1  6            1211397   403        1211397  0       887        1         \n",
       "2  7            1211397   404        1211397  1       887        1         \n",
       "3  8            1211397   405        1211397  1       887        1         \n",
       "4  9            1211397   406        1211397  1       887        1         \n",
       "5 10            1211397   407        1211397  1       887        1         \n",
       "6 11            1211398   408        1211397  1       887        1         \n",
       "  trialStart trialEnd dotsOn  dotsOff numFrames\n",
       "1 1211394    1211400  3.73108 4.12091 28       \n",
       "2 1211394    1211400  3.73108 4.12091 28       \n",
       "3 1211394    1211400  3.73108 4.12091 28       \n",
       "4 1211394    1211400  3.73108 4.12091 28       \n",
       "5 1211394    1211400  3.73108 4.12091 28       \n",
       "6 1211394    1211400  3.73108 4.12091 28       "
      ]
     },
     "metadata": {},
     "output_type": "display_data"
    },
    {
     "data": {
      "text/html": [
       "<table>\n",
       "<thead><tr><th scope=col>trialCount</th><th scope=col>FRAMESframeCount</th></tr></thead>\n",
       "<tbody>\n",
       "\t<tr><td>1 </td><td>24</td></tr>\n",
       "\t<tr><td>2 </td><td>32</td></tr>\n",
       "\t<tr><td>3 </td><td>27</td></tr>\n",
       "\t<tr><td>4 </td><td>13</td></tr>\n",
       "\t<tr><td>5 </td><td>32</td></tr>\n",
       "\t<tr><td>6 </td><td>25</td></tr>\n",
       "</tbody>\n",
       "</table>\n"
      ],
      "text/latex": [
       "\\begin{tabular}{r|ll}\n",
       " trialCount & FRAMESframeCount\\\\\n",
       "\\hline\n",
       "\t 1  & 24\\\\\n",
       "\t 2  & 32\\\\\n",
       "\t 3  & 27\\\\\n",
       "\t 4  & 13\\\\\n",
       "\t 5  & 32\\\\\n",
       "\t 6  & 25\\\\\n",
       "\\end{tabular}\n"
      ],
      "text/markdown": [
       "\n",
       "| trialCount | FRAMESframeCount |\n",
       "|---|---|\n",
       "| 1  | 24 |\n",
       "| 2  | 32 |\n",
       "| 3  | 27 |\n",
       "| 4  | 13 |\n",
       "| 5  | 32 |\n",
       "| 6  | 25 |\n",
       "\n"
      ],
      "text/plain": [
       "  trialCount FRAMESframeCount\n",
       "1 1          24              \n",
       "2 2          32              \n",
       "3 3          27              \n",
       "4 4          13              \n",
       "5 5          32              \n",
       "6 6          25              "
      ]
     },
     "metadata": {},
     "output_type": "display_data"
    }
   ],
   "source": [
    "# we now create a custom data.table to hold the frame count from the three files.\n",
    "frameCounts <- frameTimes[,.(FRAMESframeCount=.N), by=trialCount]\n",
    "head(frameTimes)\n",
    "head(frameCounts)"
   ]
  },
  {
   "cell_type": "markdown",
   "metadata": {},
   "source": [
    "**TODO: find a way to include `numFrames` from `TRIAL`**"
   ]
  },
  {
   "cell_type": "code",
   "execution_count": null,
   "metadata": {},
   "outputs": [],
   "source": [
    "# and we add the frame count from the DOTS table\n",
    "frameCounts <- frameCounts[DOTS[!is.na(trialCount),.(DOTSframeCount=max(frameIdx)),by=trialCount], \n",
    "                           on=\"trialCount\"]\n",
    "head(frameCounts)\n",
    "print(\"Trials on which frame counts between DOTS and FRAMES don't match\")\n",
    "ggplot(frameCounts[FRAMESframeCount != DOTSframeCount,], aes(x=trialCount))"
   ]
  },
  {
   "cell_type": "markdown",
   "metadata": {},
   "source": [
    "From the columns above, we see that:\n",
    "- the `numFrames` field from the `TRIALS` table is not useful\n",
    "- I should match dots and frames using timestamps"
   ]
  },
  {
   "cell_type": "markdown",
   "metadata": {},
   "source": [
    "## A deeper look at the timestamps fields"
   ]
  },
  {
   "cell_type": "code",
   "execution_count": null,
   "metadata": {},
   "outputs": [],
   "source": [
    "wideTimestamps <- TRIALS[,.(trialStart=trialStart-trialStart,\n",
    "                                  trialEnd=trialEnd-trialStart,\n",
    "                                  dotsOn,\n",
    "                                  dotsOff,\n",
    "                                  tocDotsOn,\n",
    "                                  tocDotsOff,\n",
    "                                  nDotsOn=dotsOn - tocDotsOn,\n",
    "                                  nDotsOff=dotsOff - tocDotsOn,\n",
    "                                  nTocDotsOn=tocDotsOn - tocDotsOn,\n",
    "                                  nTocDotsOff=tocDotsOff - tocDotsOn,\n",
    "                                  targetOn,\n",
    "                                  fixationOn,\n",
    "                                  choiceTime,\n",
    "                                  trialCount,\n",
    "                                  presenceCP),by=trialIndex]"
   ]
  },
  {
   "cell_type": "code",
   "execution_count": null,
   "metadata": {},
   "outputs": [],
   "source": [
    "# refTime <- wideTimestamps[,.(trialCount,\n",
    "#     trialStart, trialEnd, dotsOn, dotsOff, targetOn, fixationOn, choiceTime), \n",
    "#                         by=trialIndex]\n",
    "longTimestamps <- melt(wideTimestamps,\n",
    "                       id.vars=c(\"trialCount\"),\n",
    "                       measure.vars=c(\"trialStart\",\"fixationOn\",\"targetOn\",\"dotsOn\",\"dotsOff\",\n",
    "                                      \"choiceTime\",\"trialEnd\"),\n",
    "                       value.name=\"timestamp\", variable.name=\"Event\")\n",
    "# str(longTimestamps)"
   ]
  },
  {
   "cell_type": "code",
   "execution_count": null,
   "metadata": {},
   "outputs": [],
   "source": [
    "# control output figure size\n",
    "options(repr.plot.width=8, repr.plot.height=8)\n",
    "# plot\n",
    "ggplot(longTimestamps, aes(x=trialCount, y=timestamp)) + geom_point(aes(col=Event), size=2) +\n",
    "   geom_line(aes(col=Event),size=.2) +\n",
    "#    geom_hline(yintercept = frameDurations, linetype=\"dashed\") +\n",
    "    guides(colour = guide_legend(reverse=T)) +\n",
    "    labs(title=\"Trial Timestamps\",\n",
    "         subtitle=paste(\"From pilot\",PILOT_NUMBER,\" dataset\",sep=\"\"),\n",
    "         y=\"Aligned Time (sec)\") + theme(plot.title=element_text(size=20,\n",
    "                                    lineheight=1.2),  # title\n",
    "            plot.subtitle=element_text(size=15,\n",
    "                                       family=\"American Typewriter\"),  # subtitle\n",
    "            plot.caption=element_text(size=15),  # caption\n",
    "            axis.title.x=element_text(size=AXES_LABEL_FONT),  # X axis title\n",
    "            axis.title.y=element_text(size=AXES_LABEL_FONT),  # Y axis title\n",
    "            axis.text.x=element_text(size=AXES_FONT),  # X axis text\n",
    "            axis.text.y=element_text(size=AXES_FONT))  # Y axis text"
   ]
  },
  {
   "cell_type": "markdown",
   "metadata": {},
   "source": [
    "### Dots timing\n",
    "<a id='errorsVD'></a>\n",
    "We plot `(dotsOff - dotsOn) - viewingDuration`, across all trials, and overlay average durations of 1 and 2 frames (dashed lines)."
   ]
  },
  {
   "cell_type": "code",
   "execution_count": null,
   "metadata": {},
   "outputs": [],
   "source": [
    "durTable <- TRIALS[,.(dotsDurationError = (dotsOff - dotsOn - viewingDuration) * 1000, \n",
    "                            presenceCP, \n",
    "                            viewingDuration), \n",
    "                        by=trialCount]\n",
    "\n",
    "horizLines <- c(FRAME_DURATION*1000,FRAME_DURATION * 2000)\n",
    "\n",
    "# call to ggplot()\n",
    "g <- ggplot(durTable, aes(x=trialCount, y=dotsDurationError)) + \n",
    "#   geom_line(size=.2) +  \n",
    "  geom_point(aes(shape=factor(presenceCP), col=factor(viewingDuration)),size=3) +\n",
    "  geom_hline(yintercept = horizLines, linetype=\"dashed\") +\n",
    "  annotate(\"text\", x=37, y=horizLines, vjust = 1.3, label = c(\"1 frame\",\"2 frames\"))\n",
    "# Add Title and Labels\n",
    "g + labs(title=\"Error in generated dots duration\", \n",
    "         subtitle=paste(\"From pilot\",PILOT_NUMBER,\" dataset\",sep=\"\"), \n",
    "         y=\"duration error (msec)\", \n",
    "         x=\"trial (in session order)\",\n",
    "         color=\"viewing dur.\", shape=\"CP\") + theme(plot.title=element_text(size=20, \n",
    "                                    family=\"American Typewriter\",\n",
    "                                    lineheight=1.2),  # title\n",
    "            plot.subtitle=element_text(size=15, \n",
    "                                       family=\"American Typewriter\"),  # subtitle\n",
    "            plot.caption=element_text(size=15),  # caption\n",
    "            axis.title.x=element_text(size=AXES_LABEL_FONT),  # X axis title\n",
    "            axis.title.y=element_text(size=AXES_LABEL_FONT),  # Y axis title\n",
    "            axis.text.x=element_text(size=AXES_FONT),  # X axis text\n",
    "            axis.text.y=element_text(size=AXES_FONT))  # Y axis text"
   ]
  },
  {
   "cell_type": "markdown",
   "metadata": {},
   "source": [
    "Below I try to estimate the mean errors, clustered. "
   ]
  },
  {
   "cell_type": "code",
   "execution_count": null,
   "metadata": {},
   "outputs": [],
   "source": [
    "print(\"empty for now\")\n",
    "# intervals <- bin(durTable[,.(dotsDurationError)], nbins = 3, method = \"cluster\")\n",
    "# names(intervals) <- \"interval\"\n",
    "\n",
    "# # add the bins as a factor to the data.table\n",
    "# durTable[, (\"interval\") := intervals]\n",
    "\n",
    "# # compute mean durations\n",
    "# unordered <- durTable[, .(num_trials=.N, meanDurationError = mean(dotsDurationError)), by = intervals]\n",
    "\n",
    "# # display results, with num_frame column\n",
    "# unordered[order(meanDurationError),.(num_trials, meanDurationError, num_frames = (meanDurationError * FRAME_RATE_ESTIMATE / 1000))]"
   ]
  },
  {
   "cell_type": "markdown",
   "metadata": {},
   "source": [
    "### Tic/toc dots durations\n",
    "Below I specifically compare the `dotsOn` and `dotsOff` values that I got from the task and from the `tic/toc` \n",
    "calls."
   ]
  },
  {
   "cell_type": "code",
   "execution_count": null,
   "metadata": {},
   "outputs": [],
   "source": [
    "longDotsOffTimestamps <- melt(wideTimestamps,\n",
    "                       id.vars=c(\"trialIndex\",\"presenceCP\"),\n",
    "                       measure.vars=c(\"nTocDotsOn\",\"nDotsOn\",\"nTocDotsOff\",\"nDotsOff\"),\n",
    "                       value.name=\"timestamp\", variable.name=\"Event\")\n",
    "\n",
    "# control output figure size\n",
    "options(repr.plot.width=8, repr.plot.height=8)\n",
    "\n",
    "# plot\n",
    "ggplot(longDotsOffTimestamps, aes(x=trialIndex, y=timestamp)) + \n",
    "   geom_point(aes(col=Event, shape=factor(presenceCP)), size=2) +\n",
    "#    geom_line(aes(col=Event),size=.2) +\n",
    "#    geom_hline(yintercept = frameDurations, linetype=\"dashed\") +\n",
    "    guides(colour = guide_legend(reverse=T)) +\n",
    "    labs(title=\"Trial Timestamps\",\n",
    "         subtitle=paste(\"From pilot\",PILOT_NUMBER,\" dataset\",sep=\"\"),\n",
    "        shape=\"Change Point\") + theme(plot.title=element_text(size=20,\n",
    "                                    lineheight=1.2),  # title\n",
    "            plot.subtitle=element_text(size=15,\n",
    "                                       family=\"American Typewriter\"),  # subtitle\n",
    "            plot.caption=element_text(size=15),  # caption\n",
    "            axis.title.x=element_text(size=AXES_LABEL_FONT),  # X axis title\n",
    "            axis.title.y=element_text(size=AXES_LABEL_FONT),  # Y axis title\n",
    "            axis.text.x=element_text(size=AXES_FONT),  # X axis text\n",
    "            axis.text.y=element_text(size=AXES_FONT))  # Y axis text"
   ]
  },
  {
   "cell_type": "markdown",
   "metadata": {},
   "source": [
    "# Checking that the three datasets are consistent"
   ]
  },
  {
   "cell_type": "markdown",
   "metadata": {},
   "source": [
    "## Timing of trial vs. timing of frames"
   ]
  },
  {
   "cell_type": "markdown",
   "metadata": {},
   "source": [
    "### Frame timings\n",
    "what time gaps do I observe between `dotsOn` and 1st frame `onsetTime`, and last frame `onsetTime` and `dotsOff`?"
   ]
  },
  {
   "cell_type": "code",
   "execution_count": null,
   "metadata": {},
   "outputs": [],
   "source": [
    "# get times of first and last frame in each trial, align everything to dotsOn\n",
    "extremeFrameTimes <- frameTimes[,.(firstFrame=min(onsetTime-trialStart)-dotsOn, \n",
    "                                   lastFrame=max(onsetTime-trialStart)-dotsOn,\n",
    "                                   trialStart, \n",
    "                                   dotsOn=dotsOn-dotsOn, \n",
    "                                   dotsOff=dotsOff-dotsOn,\n",
    "                                   trialCount),\n",
    "                                  by=trialIndex]\n",
    "# str(extremeFrameTimes)"
   ]
  },
  {
   "cell_type": "code",
   "execution_count": null,
   "metadata": {},
   "outputs": [],
   "source": [
    "1.3# transform to long format for ggplot \n",
    "longTimeData <- melt(extremeFrameTimes, \n",
    "                    id.vars=c(\"trialIndex\"),\n",
    "                    measure.vars=c(\"dotsOn\",\"firstFrame\",\"lastFrame\",\"dotsOff\"),\n",
    "                    variable.name=\"Event\", value.name=\"timestamp\")\n",
    "#str(longTimeData)\n",
    "\n",
    "\n",
    "frameDurations <- c(6*FRAME_DURATION, 140*FRAME_DURATION)\n",
    "\n",
    "# control output figure size\n",
    "options(repr.plot.width=8, repr.plot.height=8)\n",
    "\n",
    "# plot\n",
    "ggplot(longTimeData, aes(x=trialIndex, y=timestamp)) + geom_point(aes(col=Event), size=2) +\n",
    "#    geom_line(aes(col=Event),size=.2) +\n",
    "   geom_hline(yintercept = FRAME_DURATION, linetype=\"dashed\") +\n",
    "   annotate(\"text\", x=16, y=FRAME_DURATION, vjust = -1, label = c(\"1 frame\")) +\n",
    "   guides(colour = guide_legend(reverse=T)) +\n",
    "   labs(title=\"Stimulus Timestamps\",\n",
    "         subtitle=paste(\"From pilot\",PILOT_NUMBER,\" dataset\",sep=\"\"),\n",
    "         y=\"Aligned Time (sec)\") + theme(plot.title=element_text(size=20,\n",
    "                                    lineheight=1.2),  # title\n",
    "            plot.subtitle=element_text(size=15,\n",
    "                                       family=\"American Typewriter\"),  # subtitle\n",
    "            plot.caption=element_text(size=15),  # caption\n",
    "            axis.title.x=element_text(size=AXES_LABEL_FONT),  # X axis title\n",
    "            axis.title.y=element_text(size=AXES_LABEL_FONT),  # Y axis title\n",
    "            axis.text.x=element_text(size=AXES_FONT),  # X axis text\n",
    "            axis.text.y=element_text(size=AXES_FONT))  # Y axis text"
   ]
  },
  {
   "cell_type": "markdown",
   "metadata": {},
   "source": [
    "### Tight/skipped frames \n",
    "<a id='tightFrames'></a>\n",
    "Exploration of `Tight` frames in each trial"
   ]
  },
  {
   "cell_type": "code",
   "execution_count": null,
   "metadata": {},
   "outputs": [],
   "source": [
    "# plot\n",
    "ggplot(frameTimes, aes(x=trialIndex, y=onsetTime-(dotsOn+trialStart))) + \n",
    "   geom_point(aes(col=factor(isTight)), size=2) +\n",
    "#    geom_line(aes(col=Event),size=.2) +\n",
    "#    geom_hline(yintercept = frameDurations, linetype=\"dashed\") +\n",
    "#    guides(colour = guide_legend(reverse=T)) +\n",
    "   labs(title=\"Tight/Untight Frames\",\n",
    "         subtitle=paste(\"From pilot\",PILOT_NUMBER,\" dataset\",sep=\"\"),\n",
    "         y=\"onsetTime aligned to dotsOn (sec)\",\n",
    "        color=\"Tight\") + \n",
    "   theme(plot.title=element_text(size=20, lineheight=1.2),  # title\n",
    "            plot.subtitle=element_text(size=15, family=\"American Typewriter\"),  # subtitle\n",
    "            plot.caption=element_text(size=15),  # caption\n",
    "            axis.title.x=element_text(size=AXES_LABEL_FONT),  # X axis title\n",
    "            axis.title.y=element_text(size=AXES_LABEL_FONT),  # Y axis title\n",
    "            axis.text.x=element_text(size=AXES_FONT),  # X axis text\n",
    "            axis.text.y=element_text(size=AXES_FONT))  # Y axis text"
   ]
  },
  {
   "cell_type": "code",
   "execution_count": null,
   "metadata": {},
   "outputs": [],
   "source": [
    "cat('total of skipped frames = ',frameTimes[,sum(!isTight)])"
   ]
  },
  {
   "cell_type": "code",
   "execution_count": null,
   "metadata": {},
   "outputs": [],
   "source": [
    "frameTimes[isTight == 0, .(trialIndex, trialCount)]"
   ]
  },
  {
   "cell_type": "markdown",
   "metadata": {},
   "source": [
    "# Accuracy analysis\n",
    "- Accuracy (% correct) on all trials with non-zero coherence"
   ]
  },
  {
   "cell_type": "code",
   "execution_count": null,
   "metadata": {},
   "outputs": [],
   "source": [
    "accuracy <- sum(TRIALS[coherence > 0,correct])/numTrials\n",
    "cat('accuracy on trials with non-zero coherence:', accuracy * 100,\"%\", sep = '')"
   ]
  },
  {
   "cell_type": "markdown",
   "metadata": {},
   "source": [
    "## Psychophysical curves\n",
    "Recall that rightward motion corresponds to direction 0 degrees and choice 1.\n",
    "Below, we set the coherence to its negative counterpart every time \n",
    "the direction of motion at the end of the trial is leftward (180 degrees)."
   ]
  },
  {
   "cell_type": "code",
   "execution_count": null,
   "metadata": {},
   "outputs": [],
   "source": [
    "# create a specific column signedCoherence\n",
    "TRIALS[, signedCoherence := coherence]\n",
    "TRIALS[endDirection==180, signedCoherence := -coherence]\n",
    "\n",
    "z <- 1.96 # For 95% confidence intervals\n",
    "# create new data.table with columns \"propChooseRight\" and \"se\" (for standard error)\n",
    "ppTable1 <- TRIALS[, .(propChooseRight=sum(choice)/.N, n=.N), by=signedCoherence]\n",
    "ppTable1[,se:=sqrt(propChooseRight*(1-propChooseRight)/n)]\n",
    "ppTable1[,ci:=z*se]"
   ]
  },
  {
   "cell_type": "code",
   "execution_count": null,
   "metadata": {},
   "outputs": [],
   "source": [
    "# control output figure size\n",
    "options(repr.plot.width=8, repr.plot.height=5)\n",
    "ggplot(ppTable1, aes(x=signedCoherence, y=propChooseRight)) +\n",
    "    geom_errorbar(aes(ymin=propChooseRight-ci, ymax=propChooseRight+ci), width=ERROR_WIDTH) +\n",
    "    geom_line() +\n",
    "    geom_point() +\n",
    "    ggtitle(\"Psychophysical curve\\nwith 95% confidence intervals\") +\n",
    "    theme(plot.title=element_text(size=20, lineheight=1.2),  # title\n",
    "            plot.subtitle=element_text(size=15, family=\"American Typewriter\"),  # subtitle\n",
    "            plot.caption=element_text(size=15),  # caption\n",
    "            axis.title.x=element_text(size=AXES_LABEL_FONT),  # X axis title\n",
    "            axis.title.y=element_text(size=AXES_LABEL_FONT),  # Y axis title\n",
    "            axis.text.x=element_text(size=AXES_FONT),  # X axis text\n",
    "            axis.text.y=element_text(size=AXES_FONT))  # Y axis text"
   ]
  },
  {
   "cell_type": "markdown",
   "metadata": {},
   "source": [
    "### Psychophysical curves grouped by change-point condition\n",
    "Let's compute the same curve, separating CP and non-CP trials"
   ]
  },
  {
   "cell_type": "code",
   "execution_count": null,
   "metadata": {},
   "outputs": [],
   "source": [
    "ppTableCP <- TRIALS[presenceCP==1, .(propChooseRightCP=sum(choice)/.N, nCP=.N), by=signedCoherence]\n",
    "ppTableCP[,seCP:=sqrt(propChooseRightCP*(1-propChooseRightCP)/nCP)]\n",
    "ppTableNonCP <- TRIALS[presenceCP==0, .(propChooseRightNonCP=sum(choice)/.N, nNonCP=.N), by=signedCoherence]\n",
    "ppTableNonCP[,seNonCP:=sqrt(propChooseRightNonCP*(1-propChooseRightNonCP)/nNonCP)]"
   ]
  },
  {
   "cell_type": "code",
   "execution_count": null,
   "metadata": {},
   "outputs": [],
   "source": [
    "# merge the two tables and put them in long format\n",
    "setkey(ppTableCP, signedCoherence)\n",
    "setkey(ppTableNonCP, signedCoherence)\n",
    "\n",
    "# Full OUTER JOIN (see https://rstudio-pubs-static.s3.amazonaws.com/52230_5ae0d25125b544caab32f75f0360e775.html)\n",
    "psychophys <- merge(ppTableCP,ppTableNonCP,all=TRUE)\n",
    "\n",
    "# convert to long format\n",
    "longPsychophys <- melt(psychophys, \n",
    "                    id.vars=c(\"signedCoherence\",\"seCP\",\"seNonCP\"),\n",
    "                    measure.vars=c(\"propChooseRightCP\",\"propChooseRightNonCP\"),\n",
    "                    variable.name=\"CPcategory\", value.name=\"propChooseRight\")\n",
    "\n",
    "# add se col\n",
    "longPsychophys[,se:=seCP]\n",
    "longPsychophys[CPcategory=='propChooseRightNonCP', se:=seNonCP]\n",
    "longPsychophys[,ci:=z*se]\n",
    "\n",
    "# head(psychophys)\n",
    "# head(longPsychophys)"
   ]
  },
  {
   "cell_type": "code",
   "execution_count": null,
   "metadata": {},
   "outputs": [],
   "source": [
    "# control output figure size\n",
    "options(repr.plot.width=8, repr.plot.height=5)\n",
    "\n",
    "# ref on error bars\n",
    "# http://www.cookbook-r.com/Graphs/Plotting_means_and_error_bars_(ggplot2)/\n",
    "\n",
    "pd <- position_dodge(1.5)\n",
    "# ggplot(longPsychophys, aes(x=signedCoherence, y=propChooseRight)) +\n",
    "#     geom_errorbar(aes(ymin=propChooseRight-ci, ymax=propChooseRight+ci, col=CPcategory), width=.1, position=pd) +\n",
    "#     geom_line(aes(col=CPcategory),position=pd) +\n",
    "#     geom_point(aes(col=CPcategory),position=pd)\n",
    "\n",
    "ggplot(longPsychophys, aes(x=signedCoherence, y=propChooseRight, colour=CPcategory, group=CPcategory)) + \n",
    "    geom_errorbar(aes(ymin=propChooseRight-ci, ymax=propChooseRight+ci), colour=\"black\", width=ERROR_WIDTH, position=pd) +\n",
    "    geom_line(position=pd, size=LINE_WIDTH) +\n",
    "    geom_point(position=pd, size=3, shape=21, fill=\"white\") + # 21 is filled circle\n",
    "    xlab(\"% coherence (+- for direction)\") +\n",
    "    ylab(\"Proportion Choose Right\") +\n",
    "    scale_colour_hue(name=\"Trial type\",    # Legend label, use darker colors\n",
    "                     breaks=c(\"propChooseRightCP\", \"propChooseRightNonCP\"),\n",
    "                     labels=c(\"CP\", \"No CP\"),\n",
    "                     l=40) +                    # Use darker colors, lightness=40\n",
    "    ggtitle(\"Psychophysics curves grouped by CP presence\\nwith 95% confidence intervals\") +\n",
    "    expand_limits(y=0) +                        # Expand y range\n",
    "    scale_y_continuous(breaks=c(0,.25,0.5,0.75,1)) +         # Set tick every 4\n",
    "    theme_bw() +\n",
    "    theme(plot.title=element_text(size=20, lineheight=1.2),  # title\n",
    "          plot.subtitle=element_text(size=15, family=\"American Typewriter\"),  # subtitle\n",
    "          plot.caption=element_text(size=15),  # caption\n",
    "          axis.title.x=element_text(size=AXES_LABEL_FONT),  # X axis title\n",
    "          axis.title.y=element_text(size=AXES_LABEL_FONT),  # Y axis title\n",
    "          axis.text.x=element_text(size=AXES_FONT),  # X axis text\n",
    "          axis.text.y=element_text(size=AXES_FONT),  # Y axis text\n",
    "          legend.justification=c(1,0),\n",
    "          legend.position=c(1,0))               # Position legend in bottom right"
   ]
  },
  {
   "cell_type": "markdown",
   "metadata": {},
   "source": [
    "## Accuracy as a function of viewing duration"
   ]
  },
  {
   "cell_type": "code",
   "execution_count": null,
   "metadata": {},
   "outputs": [],
   "source": [
    "# first get marginal frequencies\n",
    "toDisplay <- TRIALS[coherence > 0,.(freq = .N, correct = sum(correct)), by=viewingDuration]\n",
    "\n",
    "# then add the accuracy column\n",
    "toDisplay[,accuracy := correct/freq]\n",
    "toDisplay[,se := sqrt(accuracy * (1-accuracy)/ freq)]\n",
    "\n",
    "# head(toDisplay)\n",
    "\n",
    "pd <- position_dodge(0)\n",
    "ggplot(toDisplay, aes(x=viewingDuration, y=accuracy)) +\n",
    "    geom_errorbar(aes(ymin=accuracy-z*se, ymax=accuracy+z*se), width=0.03, position=pd) +\n",
    "    geom_line(position=pd) +\n",
    "    geom_point(position=pd) +\n",
    "    ggtitle(\"Percent correct on non-zero coherence trials\\n 95% confidence intervals\") +\n",
    "    theme(plot.title=element_text(size=20, lineheight=1.2),  # title\n",
    "            plot.subtitle=element_text(size=15, family=\"American Typewriter\"),  # subtitle\n",
    "            plot.caption=element_text(size=15),  # caption\n",
    "            axis.title.x=element_text(size=AXES_LABEL_FONT),  # X axis title\n",
    "            axis.title.y=element_text(size=AXES_LABEL_FONT),  # Y axis title\n",
    "            axis.text.x=element_text(size=AXES_FONT),  # X axis text\n",
    "            axis.text.y=element_text(size=AXES_FONT))  # Y axis text"
   ]
  },
  {
   "cell_type": "markdown",
   "metadata": {},
   "source": [
    "### Grouped by change-point condition\n",
    "And now separating according to change point trials:"
   ]
  },
  {
   "cell_type": "code",
   "execution_count": null,
   "metadata": {},
   "outputs": [],
   "source": [
    "# first get marginal frequencies\n",
    "accDuration <- TRIALS[coherence > 0,.(freq = .N, correct = sum(correct)), by=.(viewingDuration,presenceCP)]\n",
    "\n",
    "\n",
    "# then add the accuracy column\n",
    "accDuration[,accuracy := correct/freq]\n",
    "\n",
    "# head(accDuration)\n",
    "\n",
    "# # conver to long format\n",
    "# longAccDuration <- melt(accDuration, \n",
    "#                     id.vars=c(\"viewingDuration\"),\n",
    "#                     measure.vars=c(\"accuracy\"),\n",
    "#                     variable.name=\"CPcategory\", value.name=\"accuracy\")\n",
    "\n",
    "# head(longAccDuration)\n",
    "\n",
    "# add standard error column\n",
    "accDuration[,se := sqrt(accuracy * (1-accuracy)/ freq)]\n",
    "\n",
    "# set presenceCP to factor variable\n",
    "accDuration[,presenceCP := as.factor(presenceCP)]\n",
    "\n",
    "# head(toDisplay)\n",
    "\n",
    "# control output figure size\n",
    "options(repr.plot.width=8, repr.plot.height=7)\n",
    "\n",
    "pd <- position_dodge(.01)\n",
    "\n",
    "ggplot(accDuration, aes(x=viewingDuration, y=accuracy, colour=presenceCP, group=presenceCP)) + \n",
    "    geom_errorbar(aes(ymin=accuracy-z*se, ymax=accuracy+z*se), width=SMALL_ERROR_WIDTH, colour=\"black\", position=pd) +\n",
    "    geom_line(position=pd, size=LINE_WIDTH) +\n",
    "    geom_point(position=pd, size=3, shape=21, fill=\"white\") + # 21 is filled circle\n",
    "    xlab(\"viewing duration (sec)\") +\n",
    "    ylab(\"Percent Correct\") +\n",
    "    scale_colour_hue(name=\"CP presence\",    # Legend label, use darker colors\n",
    "#                      breaks=c(\"propChooseRightCP\", \"propChooseRightNonCP\"),\n",
    "#                      labels=c(\"CP\", \"No CP\"),\n",
    "                     l=40) +                    # Use darker colors, lightness=40\n",
    "    ggtitle(\"Accuracy as function of viewing duration\\nwith 95% confidence intervals (and 0%-coh excluded)\") +\n",
    "    expand_limits(y=c(0.5,1)) +                        # Expand y range\n",
    "    scale_y_continuous(breaks=c(0.5,0.75,1)) +         # Set tick every 4\n",
    "    theme_bw() +\n",
    "    theme(plot.title=element_text(size=20, lineheight=1.2),  # title\n",
    "          plot.subtitle=element_text(size=15, family=\"American Typewriter\"),  # subtitle\n",
    "          plot.caption=element_text(size=15),  # caption\n",
    "          axis.title.x=element_text(size=AXES_LABEL_FONT),  # X axis title\n",
    "          axis.title.y=element_text(size=AXES_LABEL_FONT),  # Y axis title\n",
    "          axis.text.x=element_text(size=AXES_FONT),  # X axis text\n",
    "          axis.text.y=element_text(size=AXES_FONT),  # Y axis text\n",
    "          legend.justification=c(1,0),\n",
    "          legend.position=c(1,0))               # Position legend in bottom right\n",
    "  "
   ]
  },
  {
   "cell_type": "markdown",
   "metadata": {},
   "source": [
    "## Accuracy as a function of coherence level"
   ]
  },
  {
   "cell_type": "code",
   "execution_count": null,
   "metadata": {},
   "outputs": [],
   "source": [
    "# first get marginal frequencies\n",
    "accCoh <- TRIALS[,.(freq = .N, correct = sum(correct)), by=coherence]\n",
    "\n",
    "# then add the accuracy column\n",
    "accCoh[,accuracy := correct/freq]\n",
    "accCoh[,se := sqrt(accuracy * (1-accuracy)/ freq)]\n",
    "# deal with coh=0 artificially\n",
    "accCoh[coherence==0, accuracy:=0.5]\n",
    "accCoh[coherence==0, se:=0]\n",
    "\n",
    "# control output figure size\n",
    "options(repr.plot.width=8, repr.plot.height=5)\n",
    "\n",
    "# pd <- position_dodge(0)\n",
    "ggplot(accCoh, aes(x=coherence, y=accuracy)) +\n",
    "    geom_errorbar(aes(ymin=accuracy-z*se, ymax=accuracy+z*se), width=ERROR_WIDTH) +\n",
    "    geom_line(size=.8*LINE_WIDTH) +\n",
    "    geom_point(size=1.6*POINT_SIZE, fill=\"white\", shape=21) +\n",
    "    ggtitle(\"Percent correct as a 11:00amfunction of coherence\\n 95% confidence intervals\") +\n",
    "    theme(plot.title=element_text(size=20, lineheight=1.2),  # title\n",
    "            plot.subtitle=element_text(size=15, family=\"American Typewriter\"),  # subtitle\n",
    "            plot.caption=element_text(size=15),  # caption\n",
    "            axis.title.x=element_text(size=AXES_LABEL_FONT),  # X axis title\n",
    "            axis.title.y=element_text(size=AXES_LABEL_FONT),  # Y axis title\n",
    "            axis.text.x=element_text(size=AXES_FONT),  # X axis text\n",
    "            axis.text.y=element_text(size=AXES_FONT))  # Y axis text"
   ]
  },
  {
   "cell_type": "markdown",
   "metadata": {},
   "source": [
    "# Reverse Kernel Analysis"
   ]
  },
  {
   "cell_type": "code",
   "execution_count": null,
   "metadata": {},
   "outputs": [],
   "source": [
    "head(DOTS)"
   ]
  },
  {
   "cell_type": "code",
   "execution_count": null,
   "metadata": {},
   "outputs": [],
   "source": [
    "# control output figure size\n",
    "options(repr.plot.width=8, repr.plot.height=4)\n",
    "ggplot(DOTS[,.(numFrames=max(frameIdx)),by=trialCount],\n",
    "      aes(x=trialCount,y=numFrames)) + geom_line() + geom_point()"
   ]
  },
  {
   "cell_type": "code",
   "execution_count": null,
   "metadata": {},
   "outputs": [],
   "source": []
  },
  {
   "cell_type": "code",
   "execution_count": null,
   "metadata": {},
   "outputs": [],
   "source": []
  },
  {
   "cell_type": "code",
   "execution_count": null,
   "metadata": {},
   "outputs": [],
   "source": []
  },
  {
   "cell_type": "code",
   "execution_count": null,
   "metadata": {},
   "outputs": [],
   "source": []
  },
  {
   "cell_type": "code",
   "execution_count": null,
   "metadata": {},
   "outputs": [],
   "source": []
  },
  {
   "cell_type": "code",
   "execution_count": null,
   "metadata": {},
   "outputs": [],
   "source": []
  },
  {
   "cell_type": "markdown",
   "metadata": {},
   "source": [
    "Let's display the number of coherent dots on each frames, grouping by subject's choice."
   ]
  },
  {
   "cell_type": "code",
   "execution_count": null,
   "metadata": {},
   "outputs": [],
   "source": [
    "# count coherent dots on each frame\n",
    "cohDots <- DOTS[,\n",
    "                      .(numCohDots=sum(isCoherent), \n",
    "                        initDirection, \n",
    "                        endDirection, \n",
    "                        presenceCP),\n",
    "                      by=.(frameIdx, trialCount)]\n",
    "\n",
    "# see if some frames have 0 coherent dots\n",
    "unique(cohDots[numCohDots == 0,.(trialCount,frameIdx)])"
   ]
  },
  {
   "cell_type": "code",
   "execution_count": null,
   "metadata": {},
   "outputs": [],
   "source": [
    "# let's try to sign numCohDots according to the direction of motion (+ for R and - for L)\n",
    "## add a copy of numCohDots column named signedNumCohDots, and an ID col that just indexes the rows\n",
    "cohDots[,\"signedNumCohDots\" := .(numCohDots)]"
   ]
  },
  {
   "cell_type": "code",
   "execution_count": null,
   "metadata": {},
   "outputs": [],
   "source": [
    "## on non-cp trials, adjust sign according to initDirection\n",
    "cohDots[initDirection == 180 & presenceCP == 0, signedNumCohDots := -numCohDots] "
   ]
  },
  {
   "cell_type": "code",
   "execution_count": null,
   "metadata": {},
   "outputs": [],
   "source": [
    "## on cp-trials,\n",
    "    # rough estimate of number of frames that are before the CP (for now)\n",
    "if (length(unique(TRIALS$timeCP)) == 1) {\n",
    "    foreFrameCount <- TRIALS[,timeCP][1] * FRAME_RATE_ESTIMATE\n",
    "} "
   ]
  },
  {
   "cell_type": "code",
   "execution_count": null,
   "metadata": {},
   "outputs": [],
   "source": [
    "foreFrameCount"
   ]
  },
  {
   "cell_type": "code",
   "execution_count": null,
   "metadata": {},
   "outputs": [],
   "source": [
    "rows <- cohDots[, .(rowNumber=.I[initDirection==180 & presenceCP == 1]), by=.(trialCount,frameIdx)]\n",
    "cohDots[[\"signedNumCohDots\"]][\n",
    "    rows[frameIdx <= foreFrameCount,rowNumber]] <- -cohDots[[\"numCohDots\"]][\n",
    "        rows[frameIdx <= foreFrameCount,rowNumber]]"
   ]
  },
  {
   "cell_type": "code",
   "execution_count": null,
   "metadata": {},
   "outputs": [],
   "source": [
    "rows <- cohDots[, .(rowNumber=.I[initDirection==0 & presenceCP == 1]), by=.(trialCount,frameIdx)]\n",
    "cohDots[[\"signedNumCohDots\"]][\n",
    "    rows[frameIdx > foreFrameCount,rowNumber]] <- -cohDots[[\"numCohDots\"]][\n",
    "        rows[frameIdx > foreFrameCount,rowNumber]]"
   ]
  },
  {
   "cell_type": "code",
   "execution_count": null,
   "metadata": {},
   "outputs": [],
   "source": [
    "# diagnostic\n",
    "unique(cohDots[presenceCP == 1,\n",
    "               .(initDirection,endDirection,presenceCP,numCohDots,signedNumCohDots) ,\n",
    "               by=.(frameIdx,trialCount)])"
   ]
  },
  {
   "cell_type": "code",
   "execution_count": null,
   "metadata": {},
   "outputs": [],
   "source": [
    "# control output figure size\n",
    "options(repr.plot.width=8, repr.plot.height=60)\n",
    "\n",
    "# add ID col to DOTS and cohDots to perform a join\n",
    "DOTS[,ID:=.I]\n",
    "cohDots[,rowNumber := NULL]\n",
    "cohDots[,ID:=.I]\n",
    "\n",
    "# plot\n",
    "ggplot(DOTS[cohDots, on=c(\"ID\",\"frameIdx\",\"trialCount\")], aes(x=frameIdx, y=signedNumCohDots)) + \n",
    "    geom_point(aes(col=factor(correct), shape=factor(presenceCP)), size=2) +\n",
    "    facet_grid(trialIndex~coherence) +\n",
    "#    geom_line(aes(col=Event),size=.2) +\n",
    "    geom_hline(yintercept = 0) +\n",
    "    guides(colour = guide_legend(reverse=T), shape = guide_legend(reverse=T)) +\n",
    "    labs(title=\"Signed # of Coherent Dots per Frames per Trials\",\n",
    "         subtitle=paste(\"From pilot\",PILOT_NUMBER,\" dataset\",sep=\"\"),\n",
    "         y=\"# Coherent Dots\",\n",
    "         x=\"Frame #\",\n",
    "         color=\"Correct\", shape=\"Change Point\") + \n",
    "    theme(plot.title=element_text(size=20, lineheight=1.2),  # title\n",
    "            plot.subtitle=element_text(size=15, family=\"American Typewriter\"),  # subtitle\n",
    "            plot.caption=element_text(size=15),                                 # caption\n",
    "            axis.title.x=element_text(size=AXES_LABEL_FONT),  # X axis title\n",
    "            axis.title.y=element_text(size=AXES_LABEL_FONT),  # Y axis title\n",
    "            axis.text.x=element_text(size=AXES_FONT),  # X axis text\n",
    "            axis.text.y=element_text(size=AXES_FONT))  # Y axis text"
   ]
  },
  {
   "cell_type": "markdown",
   "metadata": {},
   "source": [
    "# Miscellaneous\n",
    "##  Explore random seed"
   ]
  },
  {
   "cell_type": "code",
   "execution_count": null,
   "metadata": {},
   "outputs": [],
   "source": [
    "seedTable <- TRIALS[,.(randSeedBase,trialIndex),by=trialCount]\n",
    "\n",
    "# control output figure size\n",
    "options(repr.plot.width=7, repr.plot.height=6)\n",
    "\n",
    "g <- ggplot(seedTable, aes(x=trialCount, y=randSeedBase)) + \n",
    "  geom_line(size=.2) #+  geom_point(aes(shape=factor(presenceCP), col=factor(viewingDuration)),size=3) \n",
    "\n",
    "# Add Title and Labels\n",
    "g + labs(title=\"Random seed base\", \n",
    "         subtitle=paste(\"From pilot\",PILOT_NUMBER,\" dataset\",sep=\"\"), \n",
    "         y=\"randSeedBase\", \n",
    "         x=\"trial (in session order)\") + theme(plot.title=element_text(size=20, \n",
    "                                    family=\"American Typewriter\",\n",
    "                                    color=\"tomato\",\n",
    "                                    lineheight=1.2),  # title\n",
    "            plot.subtitle=element_text(size=15, \n",
    "                                       family=\"American Typewriter\"),  # subtitle\n",
    "            plot.caption=element_text(size=15),  # caption\n",
    "            axis.title.x=element_text(size=AXES_LABEL_FONT),  # X axis title\n",
    "            axis.title.y=element_text(size=AXES_LABEL_FONT),  # Y axis title\n",
    "            axis.text.x=element_text(size=AXES_FONT),  # X axis text\n",
    "            axis.text.y=element_text(size=AXES_FONT))  # Y axis text"
   ]
  },
  {
   "cell_type": "code",
   "execution_count": null,
   "metadata": {},
   "outputs": [],
   "source": []
  }
 ],
 "metadata": {
  "kernelspec": {
   "display_name": "R",
   "language": "R",
   "name": "ir"
  },
  "language_info": {
   "codemirror_mode": "r",
   "file_extension": ".r",
   "mimetype": "text/x-r-source",
   "name": "R",
   "pygments_lexer": "r",
   "version": "3.5.2"
  },
  "toc": {
   "base_numbering": 1,
   "nav_menu": {
    "height": "587px",
    "width": "790px"
   },
   "number_sections": true,
   "sideBar": true,
   "skip_h1_title": false,
   "title_cell": "Table of Contents",
   "title_sidebar": "Contents",
   "toc_cell": false,
   "toc_position": {},
   "toc_section_display": true,
   "toc_window_display": false
  }
 },
 "nbformat": 4,
 "nbformat_minor": 2
}
