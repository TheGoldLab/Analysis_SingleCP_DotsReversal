{
 "cells": [
  {
   "cell_type": "code",
   "execution_count": 11,
   "metadata": {},
   "outputs": [
    {
     "data": {
      "text/html": [
       "<script>\n",
       "  code_show=true;\n",
       "  function code_toggle() {\n",
       "    if (code_show){\n",
       "      $('div.input').hide();\n",
       "    } else {\n",
       "      $('div.input').show();\n",
       "    }\n",
       "    code_show = !code_show\n",
       "  } \n",
       "  $( document ).ready(code_toggle);\n",
       "</script>\n",
       "<font size=4>\n",
       "<a href=\"javascript:code_toggle()\">Toggle ON/OFF</a>\n",
       "code cells.\n",
       "</font>\n"
      ]
     },
     "metadata": {},
     "output_type": "display_data"
    }
   ],
   "source": [
    "IRdisplay::display_html(file='code_hiding.html')"
   ]
  },
  {
   "cell_type": "code",
   "execution_count": 24,
   "metadata": {},
   "outputs": [],
   "source": [
    "# load packages and define constants\n",
    "library(data.table) # see https://cran.r-project.org/web/packages/data.table/vignettes/datatable-intro.html for reference\n",
    "library(ggplot2)\n",
    "source(\"R_functions.r\")\n",
    "\n",
    "# folder/file-specific constants\n",
    "PILOT_NUMBER <- 5\n",
    "DATA_FOLDER <- \"~/programing/data/psychophys/\"\n",
    "FIRA_TAG <- \"FIRA\"\n",
    "FRAMES_TAG <- \"framesInfo\"\n",
    "DOTS_TAG <- \"dotsPositions\"\n",
    "\n",
    "# key-specific constants \n",
    "TRIALS <- \"trials\"\n",
    "FRAMES <- \"frames\"\n",
    "DOTS <- \"dots\""
   ]
  },
  {
   "cell_type": "code",
   "execution_count": 25,
   "metadata": {},
   "outputs": [],
   "source": [
    "# load csv files into data.tables\n",
    "tb <- list(\n",
    "    loadPilotCSV(pilotNumber, dataFolder, FIRA_TAG),\n",
    "    loadPilotCSV(pilotNumber, dataFolder, FRAMES_TAG),\n",
    "    loadPilotCSV(pilotNumber, dataFolder, DOTS_TAG))\n",
    "names(tb) <- c(TRIALS, FRAMES, DOTS)"
   ]
  },
  {
   "cell_type": "markdown",
   "metadata": {},
   "source": [
    "# Notebook's goals\n",
    "\n",
    "Make sure the workflow from running the task to analyzing the data works.\n",
    "\n",
    "\n",
    "## Workflow description\n",
    "1. Task is run with repo [SingleCP_DotsReversal_Task](https://github.com/TheGoldLab/SingleCP_DotsReversal_Task/) (appropriate branch must be chosen).\n",
    "  1. A `.mat` data file is outputted\n",
    "  2. I usually manually rename this file `pilot_#.mat` and upload it to PennBox (Data/Psychophysics/Radillo_SingleCP_DotsReversal/)\n",
    "2. Data is analyzed with repo [SingleCP_DotsReversal_DataAnalaysis](https://github.com/aernesto/SingleCP_DotsReversal_DataAnalysis)(again, with the appropriate branch).\n",
    "  1. The first step is to convert data from the .mat file into CSV format\n",
    "    - `pilot#_framesInfo.csv` produced with [this script](https://github.com/aernesto/SingleCP_DotsReversal_DataAnalysis/blob/25d37b8a9cb2fb768359dd30be4452aed60b9c62/MATLAB_scripts/explore_data_file.m) as of 01/28/2019. [Fields description](https://github.com/aernesto/SingleCP_DotsReversal_DataAnalysis/wiki/Fields-description-of-*framesInfo.csv-file).\n",
    "    - `pilot#_FIRA.csv` produced with [this script](https://github.com/aernesto/SingleCP_DotsReversal_DataAnalysis/blob/25d37b8a9cb2fb768359dd30be4452aed60b9c62/MATLAB_scripts/explore_data_file.m) as of 01/28/2019. [Fields description](https://github.com/aernesto/SingleCP_DotsReversal_DataAnalysis/wiki/Fields-Description-of-*FIRA.csv-files).\n",
    "    - `pilot#_dotsPositions.csv` produced with same script as above, as of 01/28/2019. [Fields description](https://github.com/aernesto/SingleCP_DotsReversal_DataAnalysis/wiki/Fields-descriptions-for-*dotsPositions.csv-file).\n",
    "\n",
    "**TO-DO**\n",
    "- Write detailed explanation of each column in each `.csv` file (i.e. update the [Wiki](https://github.com/aernesto/SingleCP_DotsReversal_DataAnalysis/wiki))\n",
    "- Make sure data from the three `.csv` files is consistent\n",
    "\n",
    "## Specific questions\n",
    "1. How many frames are skipped on each trial, and where in the trial do they occur?\n",
    "2. Does this number match the offset in viewing duration per trial?\n",
    "3. Compute reverse kernels with the number of coherent dots as a proxy for motion energy\n",
    "\n",
    "# Exploring the data\n",
    "## The `*FIRA.csv` file (trials level)"
   ]
  },
  {
   "cell_type": "code",
   "execution_count": 26,
   "metadata": {
    "scrolled": true
   },
   "outputs": [
    {
     "name": "stdout",
     "output_type": "stream",
     "text": [
      "Classes ‘data.table’ and 'data.frame':\t18 obs. of  25 variables:\n",
      " $ taskID         : int  2 2 2 2 2 2 2 2 2 2 ...\n",
      " $ trialIndex     : int  13 11 2 17 16 5 1 10 8 12 ...\n",
      " $ trialStart     : num  35828 35834 35839 35845 35850 ...\n",
      " $ trialEnd       : num  35834 35839 35845 35850 35856 ...\n",
      " $ RT             : num  1.26 1.18 1.5 1.48 1.27 ...\n",
      " $ choice         : int  1 1 0 1 1 1 1 0 1 0 ...\n",
      " $ correct        : int  1 1 0 1 0 0 0 1 0 1 ...\n",
      " $ initDirection  : int  0 0 0 0 0 180 180 180 180 180 ...\n",
      " $ endDirection   : int  0 0 0 0 180 180 180 180 180 180 ...\n",
      " $ presenceCP     : int  0 0 0 0 1 0 0 0 0 0 ...\n",
      " $ coherence      : num  6.4 25.6 6.4 25.6 12.8 25.6 6.4 12.8 6.4 25.6 ...\n",
      " $ viewingDuration: num  0.3 0.2 0.1 0.3 0.3 0.1 0.1 0.2 0.2 0.2 ...\n",
      " $ probCP         : num  0.5 0.5 0.5 0.5 0.5 0.5 0.5 0.5 0.5 0.5 ...\n",
      " $ timeCP         : num  0.2 0.2 0.2 0.2 0.2 0.2 0.2 0.2 0.2 0.2 ...\n",
      " $ randSeedBase   : int  1385 3014 365 7065 6090 8825 8015 5250 2485 4081 ...\n",
      " $ fixationOn     : num  71658 71669 71679 71690 71701 ...\n",
      " $ fixationStart  : num  NaN NaN NaN NaN NaN NaN NaN NaN NaN NaN ...\n",
      " $ targetOn       : num  71660 71670 71681 71692 71703 ...\n",
      " $ dotsOn         : num  71660 71671 71681 71692 71703 ...\n",
      " $ dotsOff        : num  71660 71671 71681 71692 71703 ...\n",
      " $ choiceTime     : num  71661 71672 71683 71694 71705 ...\n",
      " $ targetOff      : num  NaN NaN NaN NaN NaN NaN NaN NaN NaN NaN ...\n",
      " $ fixationOff    : num  NaN NaN NaN NaN NaN NaN NaN NaN NaN NaN ...\n",
      " $ feedbackOn     : num  NaN NaN NaN NaN NaN NaN NaN NaN NaN NaN ...\n",
      " $ numFrames      : int  18 16 11 23 24 11 10 17 17 17 ...\n",
      " - attr(*, \".internal.selfref\")=<externalptr> \n"
     ]
    },
    {
     "data": {
      "text/html": [
       "<ol class=list-inline>\n",
       "\t<li>0.3</li>\n",
       "\t<li>0.2</li>\n",
       "\t<li>0.1</li>\n",
       "</ol>\n"
      ],
      "text/latex": [
       "\\begin{enumerate*}\n",
       "\\item 0.3\n",
       "\\item 0.2\n",
       "\\item 0.1\n",
       "\\end{enumerate*}\n"
      ],
      "text/markdown": [
       "1. 0.3\n",
       "2. 0.2\n",
       "3. 0.1\n",
       "\n",
       "\n"
      ],
      "text/plain": [
       "[1] 0.3 0.2 0.1"
      ]
     },
     "metadata": {},
     "output_type": "display_data"
    }
   ],
   "source": [
    "str(tb[[TRIALS]])\n",
    "unique(tb[[TRIALS]][,viewingDuration])"
   ]
  },
  {
   "cell_type": "markdown",
   "metadata": {},
   "source": [
    "## The `*framesInfo.csv` file (frames level)"
   ]
  },
  {
   "cell_type": "code",
   "execution_count": 33,
   "metadata": {},
   "outputs": [
    {
     "name": "stdout",
     "output_type": "stream",
     "text": [
      "Classes ‘data.table’ and 'data.frame':\t302 obs. of  6 variables:\n",
      " $ frameTotCount: int  3 4 5 6 7 8 9 10 11 12 ...\n",
      " $ onsetTime    : num  35830 35831 35832 35832 35832 ...\n",
      " $ onsetFrame   : int  375 493 495 500 502 503 504 506 507 507 ...\n",
      " $ swapTime     : num  35829 35831 35831 35832 35832 ...\n",
      " $ isTight      : int  0 0 0 0 0 1 1 0 1 1 ...\n",
      " $ trialIndex   : int  13 13 13 13 13 13 13 13 13 13 ...\n",
      " - attr(*, \".internal.selfref\")=<externalptr> \n"
     ]
    },
    {
     "data": {
      "text/html": [
       "<ol class=list-inline>\n",
       "\t<li>13</li>\n",
       "\t<li>11</li>\n",
       "\t<li>2</li>\n",
       "\t<li>17</li>\n",
       "\t<li>16</li>\n",
       "\t<li>5</li>\n",
       "\t<li>1</li>\n",
       "\t<li>10</li>\n",
       "\t<li>8</li>\n",
       "\t<li>12</li>\n",
       "\t<li>15</li>\n",
       "\t<li>14</li>\n",
       "\t<li>6</li>\n",
       "\t<li>7</li>\n",
       "\t<li>18</li>\n",
       "\t<li>4</li>\n",
       "\t<li>9</li>\n",
       "\t<li>3</li>\n",
       "</ol>\n"
      ],
      "text/latex": [
       "\\begin{enumerate*}\n",
       "\\item 13\n",
       "\\item 11\n",
       "\\item 2\n",
       "\\item 17\n",
       "\\item 16\n",
       "\\item 5\n",
       "\\item 1\n",
       "\\item 10\n",
       "\\item 8\n",
       "\\item 12\n",
       "\\item 15\n",
       "\\item 14\n",
       "\\item 6\n",
       "\\item 7\n",
       "\\item 18\n",
       "\\item 4\n",
       "\\item 9\n",
       "\\item 3\n",
       "\\end{enumerate*}\n"
      ],
      "text/markdown": [
       "1. 13\n",
       "2. 11\n",
       "3. 2\n",
       "4. 17\n",
       "5. 16\n",
       "6. 5\n",
       "7. 1\n",
       "8. 10\n",
       "9. 8\n",
       "10. 12\n",
       "11. 15\n",
       "12. 14\n",
       "13. 6\n",
       "14. 7\n",
       "15. 18\n",
       "16. 4\n",
       "17. 9\n",
       "18. 3\n",
       "\n",
       "\n"
      ],
      "text/plain": [
       " [1] 13 11  2 17 16  5  1 10  8 12 15 14  6  7 18  4  9  3"
      ]
     },
     "metadata": {},
     "output_type": "display_data"
    }
   ],
   "source": [
    "str(tb[[FRAMES]])\n",
    "unique(tb[[FRAMES]]$trialIndex)"
   ]
  },
  {
   "cell_type": "code",
   "execution_count": 47,
   "metadata": {},
   "outputs": [
    {
     "data": {
      "text/html": [
       "<table>\n",
       "<thead><tr><th scope=col>trialIndex</th><th scope=col>minOnset</th><th scope=col>maxOnset</th><th scope=col>numUniqueOnset</th></tr></thead>\n",
       "<tbody>\n",
       "\t<tr><td>13  </td><td> 375</td><td> 515</td><td>18  </td></tr>\n",
       "\t<tr><td>11  </td><td> 677</td><td> 824</td><td>16  </td></tr>\n",
       "\t<tr><td> 2  </td><td> 976</td><td>1126</td><td>11  </td></tr>\n",
       "\t<tr><td>17  </td><td>1296</td><td>1465</td><td>23  </td></tr>\n",
       "\t<tr><td>16  </td><td>1640</td><td>1794</td><td>24  </td></tr>\n",
       "\t<tr><td> 5  </td><td>1948</td><td>2092</td><td>11  </td></tr>\n",
       "\t<tr><td> 1  </td><td>2263</td><td>2410</td><td>10  </td></tr>\n",
       "\t<tr><td>10  </td><td>2570</td><td>2724</td><td>17  </td></tr>\n",
       "\t<tr><td> 8  </td><td>2896</td><td>3024</td><td>17  </td></tr>\n",
       "\t<tr><td>12  </td><td>3184</td><td>3314</td><td>17  </td></tr>\n",
       "\t<tr><td>15  </td><td>3485</td><td>3634</td><td>24  </td></tr>\n",
       "\t<tr><td>14  </td><td>3821</td><td>4076</td><td>23  </td></tr>\n",
       "\t<tr><td> 6  </td><td>4242</td><td>4436</td><td>11  </td></tr>\n",
       "\t<tr><td> 7  </td><td>4597</td><td>4763</td><td>17  </td></tr>\n",
       "\t<tr><td>18  </td><td>4955</td><td>5172</td><td>23  </td></tr>\n",
       "\t<tr><td> 4  </td><td>5351</td><td>5502</td><td>11  </td></tr>\n",
       "\t<tr><td> 9  </td><td>5672</td><td>5863</td><td>17  </td></tr>\n",
       "\t<tr><td> 3  </td><td>6019</td><td>6353</td><td>12  </td></tr>\n",
       "</tbody>\n",
       "</table>\n"
      ],
      "text/latex": [
       "\\begin{tabular}{r|llll}\n",
       " trialIndex & minOnset & maxOnset & numUniqueOnset\\\\\n",
       "\\hline\n",
       "\t 13   &  375 &  515 & 18  \\\\\n",
       "\t 11   &  677 &  824 & 16  \\\\\n",
       "\t  2   &  976 & 1126 & 11  \\\\\n",
       "\t 17   & 1296 & 1465 & 23  \\\\\n",
       "\t 16   & 1640 & 1794 & 24  \\\\\n",
       "\t  5   & 1948 & 2092 & 11  \\\\\n",
       "\t  1   & 2263 & 2410 & 10  \\\\\n",
       "\t 10   & 2570 & 2724 & 17  \\\\\n",
       "\t  8   & 2896 & 3024 & 17  \\\\\n",
       "\t 12   & 3184 & 3314 & 17  \\\\\n",
       "\t 15   & 3485 & 3634 & 24  \\\\\n",
       "\t 14   & 3821 & 4076 & 23  \\\\\n",
       "\t  6   & 4242 & 4436 & 11  \\\\\n",
       "\t  7   & 4597 & 4763 & 17  \\\\\n",
       "\t 18   & 4955 & 5172 & 23  \\\\\n",
       "\t  4   & 5351 & 5502 & 11  \\\\\n",
       "\t  9   & 5672 & 5863 & 17  \\\\\n",
       "\t  3   & 6019 & 6353 & 12  \\\\\n",
       "\\end{tabular}\n"
      ],
      "text/markdown": [
       "\n",
       "| trialIndex | minOnset | maxOnset | numUniqueOnset |\n",
       "|---|---|---|---|\n",
       "| 13   |  375 |  515 | 18   |\n",
       "| 11   |  677 |  824 | 16   |\n",
       "|  2   |  976 | 1126 | 11   |\n",
       "| 17   | 1296 | 1465 | 23   |\n",
       "| 16   | 1640 | 1794 | 24   |\n",
       "|  5   | 1948 | 2092 | 11   |\n",
       "|  1   | 2263 | 2410 | 10   |\n",
       "| 10   | 2570 | 2724 | 17   |\n",
       "|  8   | 2896 | 3024 | 17   |\n",
       "| 12   | 3184 | 3314 | 17   |\n",
       "| 15   | 3485 | 3634 | 24   |\n",
       "| 14   | 3821 | 4076 | 23   |\n",
       "|  6   | 4242 | 4436 | 11   |\n",
       "|  7   | 4597 | 4763 | 17   |\n",
       "| 18   | 4955 | 5172 | 23   |\n",
       "|  4   | 5351 | 5502 | 11   |\n",
       "|  9   | 5672 | 5863 | 17   |\n",
       "|  3   | 6019 | 6353 | 12   |\n",
       "\n"
      ],
      "text/plain": [
       "   trialIndex minOnset maxOnset numUniqueOnset\n",
       "1  13          375      515     18            \n",
       "2  11          677      824     16            \n",
       "3   2          976     1126     11            \n",
       "4  17         1296     1465     23            \n",
       "5  16         1640     1794     24            \n",
       "6   5         1948     2092     11            \n",
       "7   1         2263     2410     10            \n",
       "8  10         2570     2724     17            \n",
       "9   8         2896     3024     17            \n",
       "10 12         3184     3314     17            \n",
       "11 15         3485     3634     24            \n",
       "12 14         3821     4076     23            \n",
       "13  6         4242     4436     11            \n",
       "14  7         4597     4763     17            \n",
       "15 18         4955     5172     23            \n",
       "16  4         5351     5502     11            \n",
       "17  9         5672     5863     17            \n",
       "18  3         6019     6353     12            "
      ]
     },
     "metadata": {},
     "output_type": "display_data"
    }
   ],
   "source": [
    "tb[[FRAMES]][order(onsetFrame),.(minOnset=min(onsetFrame), maxOnset=max(onsetFrame), numUniqueOnset=.N), by=trialIndex]"
   ]
  },
  {
   "cell_type": "code",
   "execution_count": 55,
   "metadata": {},
   "outputs": [
    {
     "data": {
      "text/html": [
       "<table>\n",
       "<thead><tr><th scope=col>frameTotCount</th><th scope=col>onsetTime</th><th scope=col>onsetFrame</th><th scope=col>swapTime</th><th scope=col>isTight</th><th scope=col>trialIndex</th></tr></thead>\n",
       "<tbody>\n",
       "\t<tr><td>106     </td><td>35860.95</td><td>2263    </td><td>35860.94</td><td>0       </td><td>1       </td></tr>\n",
       "\t<tr><td>107     </td><td>35862.70</td><td>2368    </td><td>35862.70</td><td>0       </td><td>1       </td></tr>\n",
       "\t<tr><td>108     </td><td>35863.29</td><td>2403    </td><td>35863.28</td><td>0       </td><td>1       </td></tr>\n",
       "\t<tr><td>109     </td><td>35863.30</td><td>2404    </td><td>35863.30</td><td>1       </td><td>1       </td></tr>\n",
       "\t<tr><td>110     </td><td>35863.32</td><td>2405    </td><td>35863.31</td><td>1       </td><td>1       </td></tr>\n",
       "\t<tr><td>111     </td><td>35863.34</td><td>2406    </td><td>35863.33</td><td>1       </td><td>1       </td></tr>\n",
       "\t<tr><td>112     </td><td>35863.35</td><td>2407    </td><td>35863.35</td><td>1       </td><td>1       </td></tr>\n",
       "\t<tr><td>113     </td><td>35863.37</td><td>2408    </td><td>35863.38</td><td>1       </td><td>1       </td></tr>\n",
       "\t<tr><td>114     </td><td>35863.39</td><td>2409    </td><td>35863.40</td><td>1       </td><td>1       </td></tr>\n",
       "\t<tr><td>115     </td><td>35863.40</td><td>2410    </td><td>35863.41</td><td>1       </td><td>1       </td></tr>\n",
       "</tbody>\n",
       "</table>\n"
      ],
      "text/latex": [
       "\\begin{tabular}{r|llllll}\n",
       " frameTotCount & onsetTime & onsetFrame & swapTime & isTight & trialIndex\\\\\n",
       "\\hline\n",
       "\t 106      & 35860.95 & 2263     & 35860.94 & 0        & 1       \\\\\n",
       "\t 107      & 35862.70 & 2368     & 35862.70 & 0        & 1       \\\\\n",
       "\t 108      & 35863.29 & 2403     & 35863.28 & 0        & 1       \\\\\n",
       "\t 109      & 35863.30 & 2404     & 35863.30 & 1        & 1       \\\\\n",
       "\t 110      & 35863.32 & 2405     & 35863.31 & 1        & 1       \\\\\n",
       "\t 111      & 35863.34 & 2406     & 35863.33 & 1        & 1       \\\\\n",
       "\t 112      & 35863.35 & 2407     & 35863.35 & 1        & 1       \\\\\n",
       "\t 113      & 35863.37 & 2408     & 35863.38 & 1        & 1       \\\\\n",
       "\t 114      & 35863.39 & 2409     & 35863.40 & 1        & 1       \\\\\n",
       "\t 115      & 35863.40 & 2410     & 35863.41 & 1        & 1       \\\\\n",
       "\\end{tabular}\n"
      ],
      "text/markdown": [
       "\n",
       "| frameTotCount | onsetTime | onsetFrame | swapTime | isTight | trialIndex |\n",
       "|---|---|---|---|---|---|\n",
       "| 106      | 35860.95 | 2263     | 35860.94 | 0        | 1        |\n",
       "| 107      | 35862.70 | 2368     | 35862.70 | 0        | 1        |\n",
       "| 108      | 35863.29 | 2403     | 35863.28 | 0        | 1        |\n",
       "| 109      | 35863.30 | 2404     | 35863.30 | 1        | 1        |\n",
       "| 110      | 35863.32 | 2405     | 35863.31 | 1        | 1        |\n",
       "| 111      | 35863.34 | 2406     | 35863.33 | 1        | 1        |\n",
       "| 112      | 35863.35 | 2407     | 35863.35 | 1        | 1        |\n",
       "| 113      | 35863.37 | 2408     | 35863.38 | 1        | 1        |\n",
       "| 114      | 35863.39 | 2409     | 35863.40 | 1        | 1        |\n",
       "| 115      | 35863.40 | 2410     | 35863.41 | 1        | 1        |\n",
       "\n"
      ],
      "text/plain": [
       "   frameTotCount onsetTime onsetFrame swapTime isTight trialIndex\n",
       "1  106           35860.95  2263       35860.94 0       1         \n",
       "2  107           35862.70  2368       35862.70 0       1         \n",
       "3  108           35863.29  2403       35863.28 0       1         \n",
       "4  109           35863.30  2404       35863.30 1       1         \n",
       "5  110           35863.32  2405       35863.31 1       1         \n",
       "6  111           35863.34  2406       35863.33 1       1         \n",
       "7  112           35863.35  2407       35863.35 1       1         \n",
       "8  113           35863.37  2408       35863.38 1       1         \n",
       "9  114           35863.39  2409       35863.40 1       1         \n",
       "10 115           35863.40  2410       35863.41 1       1         "
      ]
     },
     "metadata": {},
     "output_type": "display_data"
    }
   ],
   "source": [
    "tb[[FRAMES]][trialIndex==1, ]"
   ]
  },
  {
   "cell_type": "markdown",
   "metadata": {},
   "source": [
    "## The `*dotsPositions.csv` file (dots level)"
   ]
  },
  {
   "cell_type": "code",
   "execution_count": 56,
   "metadata": {},
   "outputs": [
    {
     "data": {
      "text/html": [
       "<table>\n",
       "<thead><tr><th scope=col>frameIdx</th><th scope=col>N</th></tr></thead>\n",
       "<tbody>\n",
       "\t<tr><td>1  </td><td>182</td></tr>\n",
       "\t<tr><td>2  </td><td>182</td></tr>\n",
       "\t<tr><td>3  </td><td>182</td></tr>\n",
       "\t<tr><td>4  </td><td>182</td></tr>\n",
       "\t<tr><td>5  </td><td>182</td></tr>\n",
       "\t<tr><td>6  </td><td>182</td></tr>\n",
       "</tbody>\n",
       "</table>\n"
      ],
      "text/latex": [
       "\\begin{tabular}{r|ll}\n",
       " frameIdx & N\\\\\n",
       "\\hline\n",
       "\t 1   & 182\\\\\n",
       "\t 2   & 182\\\\\n",
       "\t 3   & 182\\\\\n",
       "\t 4   & 182\\\\\n",
       "\t 5   & 182\\\\\n",
       "\t 6   & 182\\\\\n",
       "\\end{tabular}\n"
      ],
      "text/markdown": [
       "\n",
       "| frameIdx | N |\n",
       "|---|---|\n",
       "| 1   | 182 |\n",
       "| 2   | 182 |\n",
       "| 3   | 182 |\n",
       "| 4   | 182 |\n",
       "| 5   | 182 |\n",
       "| 6   | 182 |\n",
       "\n"
      ],
      "text/plain": [
       "  frameIdx N  \n",
       "1 1        182\n",
       "2 2        182\n",
       "3 3        182\n",
       "4 4        182\n",
       "5 5        182\n",
       "6 6        182"
      ]
     },
     "metadata": {},
     "output_type": "display_data"
    }
   ],
   "source": [
    "tb[[DOTS]][trialCount == 7,.N,by=frameIdx]"
   ]
  },
  {
   "cell_type": "code",
   "execution_count": 28,
   "metadata": {},
   "outputs": [
    {
     "name": "stdout",
     "output_type": "stream",
     "text": [
      "Classes ‘data.table’ and 'data.frame':\t41678 obs. of  6 variables:\n",
      " $ xpos      : num  0.763 0.57 0.962 0.2 0.223 ...\n",
      " $ ypos      : num  0.322 0.387 0.931 0.445 0.578 ...\n",
      " $ isActive  : int  1 0 0 1 0 0 1 0 0 1 ...\n",
      " $ isCoherent: int  1 0 0 1 0 0 1 0 0 1 ...\n",
      " $ frameIdx  : int  1 1 1 1 1 1 1 1 1 1 ...\n",
      " $ trialCount: int  1 1 1 1 1 1 1 1 1 1 ...\n",
      " - attr(*, \".internal.selfref\")=<externalptr> \n"
     ]
    }
   ],
   "source": [
    "str(tb[[DOTS]])\n",
    "#tb[[DOTS]][,.(.N),by=.(frameIdx,trialCount)]"
   ]
  },
  {
   "cell_type": "markdown",
   "metadata": {},
   "source": [
    "# Checking that the three datasets are consistent\n",
    "As we can see, the `frameIdx` field is common to `tb[[FRAMES]]` and `tb[[DOTS]]`, and the `trialIdx` is common to `tb[[DOTS]]` and `tb[[TRIALS]]`. Let's check whether these common fields match in terms of their unique values in each dataset.\n",
    "## Exploring match between frames and dots levels"
   ]
  },
  {
   "cell_type": "code",
   "execution_count": 29,
   "metadata": {},
   "outputs": [
    {
     "data": {
      "text/html": [
       "302"
      ],
      "text/latex": [
       "302"
      ],
      "text/markdown": [
       "302"
      ],
      "text/plain": [
       "[1] 302"
      ]
     },
     "metadata": {},
     "output_type": "display_data"
    }
   ],
   "source": [
    "length(unique(tb[[FRAMES]][,frameTotCount]))"
   ]
  },
  {
   "cell_type": "code",
   "execution_count": 30,
   "metadata": {},
   "outputs": [
    {
     "data": {
      "text/html": [
       "<ol class=list-inline>\n",
       "\t<li>1</li>\n",
       "\t<li>2</li>\n",
       "\t<li>3</li>\n",
       "\t<li>4</li>\n",
       "\t<li>5</li>\n",
       "\t<li>6</li>\n",
       "\t<li>7</li>\n",
       "\t<li>8</li>\n",
       "\t<li>9</li>\n",
       "\t<li>10</li>\n",
       "\t<li>11</li>\n",
       "\t<li>12</li>\n",
       "\t<li>13</li>\n",
       "\t<li>14</li>\n",
       "\t<li>15</li>\n",
       "\t<li>16</li>\n",
       "\t<li>17</li>\n",
       "\t<li>18</li>\n",
       "\t<li>19</li>\n",
       "\t<li>20</li>\n",
       "</ol>\n"
      ],
      "text/latex": [
       "\\begin{enumerate*}\n",
       "\\item 1\n",
       "\\item 2\n",
       "\\item 3\n",
       "\\item 4\n",
       "\\item 5\n",
       "\\item 6\n",
       "\\item 7\n",
       "\\item 8\n",
       "\\item 9\n",
       "\\item 10\n",
       "\\item 11\n",
       "\\item 12\n",
       "\\item 13\n",
       "\\item 14\n",
       "\\item 15\n",
       "\\item 16\n",
       "\\item 17\n",
       "\\item 18\n",
       "\\item 19\n",
       "\\item 20\n",
       "\\end{enumerate*}\n"
      ],
      "text/markdown": [
       "1. 1\n",
       "2. 2\n",
       "3. 3\n",
       "4. 4\n",
       "5. 5\n",
       "6. 6\n",
       "7. 7\n",
       "8. 8\n",
       "9. 9\n",
       "10. 10\n",
       "11. 11\n",
       "12. 12\n",
       "13. 13\n",
       "14. 14\n",
       "15. 15\n",
       "16. 16\n",
       "17. 17\n",
       "18. 18\n",
       "19. 19\n",
       "20. 20\n",
       "\n",
       "\n"
      ],
      "text/plain": [
       " [1]  1  2  3  4  5  6  7  8  9 10 11 12 13 14 15 16 17 18 19 20"
      ]
     },
     "metadata": {},
     "output_type": "display_data"
    },
    {
     "data": {
      "text/html": [
       "20"
      ],
      "text/latex": [
       "20"
      ],
      "text/markdown": [
       "20"
      ],
      "text/plain": [
       "[1] 20"
      ]
     },
     "metadata": {},
     "output_type": "display_data"
    }
   ],
   "source": [
    "unique(tb[[DOTS]][,frameIdx])\n",
    "length(unique(tb[[DOTS]][,frameIdx]))"
   ]
  },
  {
   "cell_type": "markdown",
   "metadata": {},
   "source": [
    "## Exploring match between `DOTS` and `TRIALS` levels"
   ]
  },
  {
   "cell_type": "code",
   "execution_count": 31,
   "metadata": {},
   "outputs": [
    {
     "data": {
      "text/html": [
       "<ol class=list-inline>\n",
       "\t<li>1</li>\n",
       "\t<li>2</li>\n",
       "\t<li>3</li>\n",
       "\t<li>4</li>\n",
       "\t<li>5</li>\n",
       "\t<li>6</li>\n",
       "\t<li>7</li>\n",
       "\t<li>8</li>\n",
       "\t<li>9</li>\n",
       "\t<li>10</li>\n",
       "\t<li>11</li>\n",
       "\t<li>12</li>\n",
       "\t<li>13</li>\n",
       "\t<li>14</li>\n",
       "\t<li>15</li>\n",
       "\t<li>16</li>\n",
       "\t<li>17</li>\n",
       "\t<li>18</li>\n",
       "</ol>\n"
      ],
      "text/latex": [
       "\\begin{enumerate*}\n",
       "\\item 1\n",
       "\\item 2\n",
       "\\item 3\n",
       "\\item 4\n",
       "\\item 5\n",
       "\\item 6\n",
       "\\item 7\n",
       "\\item 8\n",
       "\\item 9\n",
       "\\item 10\n",
       "\\item 11\n",
       "\\item 12\n",
       "\\item 13\n",
       "\\item 14\n",
       "\\item 15\n",
       "\\item 16\n",
       "\\item 17\n",
       "\\item 18\n",
       "\\end{enumerate*}\n"
      ],
      "text/markdown": [
       "1. 1\n",
       "2. 2\n",
       "3. 3\n",
       "4. 4\n",
       "5. 5\n",
       "6. 6\n",
       "7. 7\n",
       "8. 8\n",
       "9. 9\n",
       "10. 10\n",
       "11. 11\n",
       "12. 12\n",
       "13. 13\n",
       "14. 14\n",
       "15. 15\n",
       "16. 16\n",
       "17. 17\n",
       "18. 18\n",
       "\n",
       "\n"
      ],
      "text/plain": [
       " [1]  1  2  3  4  5  6  7  8  9 10 11 12 13 14 15 16 17 18"
      ]
     },
     "metadata": {},
     "output_type": "display_data"
    }
   ],
   "source": [
    "unique(tb[[DOTS]][,trialCount])"
   ]
  },
  {
   "cell_type": "code",
   "execution_count": 32,
   "metadata": {},
   "outputs": [
    {
     "data": {
      "text/html": [
       "<ol class=list-inline>\n",
       "\t<li>13</li>\n",
       "\t<li>11</li>\n",
       "\t<li>2</li>\n",
       "\t<li>17</li>\n",
       "\t<li>16</li>\n",
       "\t<li>5</li>\n",
       "\t<li>1</li>\n",
       "\t<li>10</li>\n",
       "\t<li>8</li>\n",
       "\t<li>12</li>\n",
       "\t<li>15</li>\n",
       "\t<li>14</li>\n",
       "\t<li>6</li>\n",
       "\t<li>7</li>\n",
       "\t<li>18</li>\n",
       "\t<li>4</li>\n",
       "\t<li>9</li>\n",
       "\t<li>3</li>\n",
       "</ol>\n"
      ],
      "text/latex": [
       "\\begin{enumerate*}\n",
       "\\item 13\n",
       "\\item 11\n",
       "\\item 2\n",
       "\\item 17\n",
       "\\item 16\n",
       "\\item 5\n",
       "\\item 1\n",
       "\\item 10\n",
       "\\item 8\n",
       "\\item 12\n",
       "\\item 15\n",
       "\\item 14\n",
       "\\item 6\n",
       "\\item 7\n",
       "\\item 18\n",
       "\\item 4\n",
       "\\item 9\n",
       "\\item 3\n",
       "\\end{enumerate*}\n"
      ],
      "text/markdown": [
       "1. 13\n",
       "2. 11\n",
       "3. 2\n",
       "4. 17\n",
       "5. 16\n",
       "6. 5\n",
       "7. 1\n",
       "8. 10\n",
       "9. 8\n",
       "10. 12\n",
       "11. 15\n",
       "12. 14\n",
       "13. 6\n",
       "14. 7\n",
       "15. 18\n",
       "16. 4\n",
       "17. 9\n",
       "18. 3\n",
       "\n",
       "\n"
      ],
      "text/plain": [
       " [1] 13 11  2 17 16  5  1 10  8 12 15 14  6  7 18  4  9  3"
      ]
     },
     "metadata": {},
     "output_type": "display_data"
    },
    {
     "data": {
      "text/html": [
       "18"
      ],
      "text/latex": [
       "18"
      ],
      "text/markdown": [
       "18"
      ],
      "text/plain": [
       "[1] 18"
      ]
     },
     "metadata": {},
     "output_type": "display_data"
    },
    {
     "data": {
      "text/html": [
       "1"
      ],
      "text/latex": [
       "1"
      ],
      "text/markdown": [
       "1"
      ],
      "text/plain": [
       "[1] 1"
      ]
     },
     "metadata": {},
     "output_type": "display_data"
    },
    {
     "data": {
      "text/html": [
       "18"
      ],
      "text/latex": [
       "18"
      ],
      "text/markdown": [
       "18"
      ],
      "text/plain": [
       "[1] 18"
      ]
     },
     "metadata": {},
     "output_type": "display_data"
    }
   ],
   "source": [
    "unique(tb[[TRIALS]][,trialIndex])\n",
    "length(unique(tb[[TRIALS]][,trialIndex]))\n",
    "min(unique(tb[[TRIALS]][,trialIndex]))\n",
    "max(unique(tb[[TRIALS]][,trialIndex]))"
   ]
  },
  {
   "cell_type": "markdown",
   "metadata": {},
   "source": [
    "## Exploring match between `FRAMES` and `TRIALS` levels"
   ]
  },
  {
   "cell_type": "code",
   "execution_count": 41,
   "metadata": {},
   "outputs": [
    {
     "data": {
      "text/html": [
       "<table>\n",
       "<thead><tr><th scope=col>trialIndex</th><th scope=col>numFramesInFRAMES</th><th scope=col>numFramesInTRIALS</th><th scope=col>match</th></tr></thead>\n",
       "<tbody>\n",
       "\t<tr><td> 1   </td><td>10   </td><td>10   </td><td> TRUE</td></tr>\n",
       "\t<tr><td> 2   </td><td>11   </td><td>11   </td><td> TRUE</td></tr>\n",
       "\t<tr><td> 3   </td><td>12   </td><td>11   </td><td>FALSE</td></tr>\n",
       "\t<tr><td> 4   </td><td>11   </td><td>11   </td><td> TRUE</td></tr>\n",
       "\t<tr><td> 5   </td><td>11   </td><td>11   </td><td> TRUE</td></tr>\n",
       "\t<tr><td> 6   </td><td>11   </td><td>11   </td><td> TRUE</td></tr>\n",
       "\t<tr><td> 7   </td><td>17   </td><td>17   </td><td> TRUE</td></tr>\n",
       "\t<tr><td> 8   </td><td>17   </td><td>17   </td><td> TRUE</td></tr>\n",
       "\t<tr><td> 9   </td><td>17   </td><td>17   </td><td> TRUE</td></tr>\n",
       "\t<tr><td>10   </td><td>17   </td><td>17   </td><td> TRUE</td></tr>\n",
       "\t<tr><td>11   </td><td>16   </td><td>16   </td><td> TRUE</td></tr>\n",
       "\t<tr><td>12   </td><td>17   </td><td>17   </td><td> TRUE</td></tr>\n",
       "\t<tr><td>13   </td><td>18   </td><td>18   </td><td> TRUE</td></tr>\n",
       "\t<tr><td>14   </td><td>23   </td><td>23   </td><td> TRUE</td></tr>\n",
       "\t<tr><td>15   </td><td>24   </td><td>24   </td><td> TRUE</td></tr>\n",
       "\t<tr><td>16   </td><td>24   </td><td>24   </td><td> TRUE</td></tr>\n",
       "\t<tr><td>17   </td><td>23   </td><td>23   </td><td> TRUE</td></tr>\n",
       "\t<tr><td>18   </td><td>23   </td><td>23   </td><td> TRUE</td></tr>\n",
       "</tbody>\n",
       "</table>\n"
      ],
      "text/latex": [
       "\\begin{tabular}{r|llll}\n",
       " trialIndex & numFramesInFRAMES & numFramesInTRIALS & match\\\\\n",
       "\\hline\n",
       "\t  1    & 10    & 10    &  TRUE\\\\\n",
       "\t  2    & 11    & 11    &  TRUE\\\\\n",
       "\t  3    & 12    & 11    & FALSE\\\\\n",
       "\t  4    & 11    & 11    &  TRUE\\\\\n",
       "\t  5    & 11    & 11    &  TRUE\\\\\n",
       "\t  6    & 11    & 11    &  TRUE\\\\\n",
       "\t  7    & 17    & 17    &  TRUE\\\\\n",
       "\t  8    & 17    & 17    &  TRUE\\\\\n",
       "\t  9    & 17    & 17    &  TRUE\\\\\n",
       "\t 10    & 17    & 17    &  TRUE\\\\\n",
       "\t 11    & 16    & 16    &  TRUE\\\\\n",
       "\t 12    & 17    & 17    &  TRUE\\\\\n",
       "\t 13    & 18    & 18    &  TRUE\\\\\n",
       "\t 14    & 23    & 23    &  TRUE\\\\\n",
       "\t 15    & 24    & 24    &  TRUE\\\\\n",
       "\t 16    & 24    & 24    &  TRUE\\\\\n",
       "\t 17    & 23    & 23    &  TRUE\\\\\n",
       "\t 18    & 23    & 23    &  TRUE\\\\\n",
       "\\end{tabular}\n"
      ],
      "text/markdown": [
       "\n",
       "| trialIndex | numFramesInFRAMES | numFramesInTRIALS | match |\n",
       "|---|---|---|---|\n",
       "|  1    | 10    | 10    |  TRUE |\n",
       "|  2    | 11    | 11    |  TRUE |\n",
       "|  3    | 12    | 11    | FALSE |\n",
       "|  4    | 11    | 11    |  TRUE |\n",
       "|  5    | 11    | 11    |  TRUE |\n",
       "|  6    | 11    | 11    |  TRUE |\n",
       "|  7    | 17    | 17    |  TRUE |\n",
       "|  8    | 17    | 17    |  TRUE |\n",
       "|  9    | 17    | 17    |  TRUE |\n",
       "| 10    | 17    | 17    |  TRUE |\n",
       "| 11    | 16    | 16    |  TRUE |\n",
       "| 12    | 17    | 17    |  TRUE |\n",
       "| 13    | 18    | 18    |  TRUE |\n",
       "| 14    | 23    | 23    |  TRUE |\n",
       "| 15    | 24    | 24    |  TRUE |\n",
       "| 16    | 24    | 24    |  TRUE |\n",
       "| 17    | 23    | 23    |  TRUE |\n",
       "| 18    | 23    | 23    |  TRUE |\n",
       "\n"
      ],
      "text/plain": [
       "   trialIndex numFramesInFRAMES numFramesInTRIALS match\n",
       "1   1         10                10                 TRUE\n",
       "2   2         11                11                 TRUE\n",
       "3   3         12                11                FALSE\n",
       "4   4         11                11                 TRUE\n",
       "5   5         11                11                 TRUE\n",
       "6   6         11                11                 TRUE\n",
       "7   7         17                17                 TRUE\n",
       "8   8         17                17                 TRUE\n",
       "9   9         17                17                 TRUE\n",
       "10 10         17                17                 TRUE\n",
       "11 11         16                16                 TRUE\n",
       "12 12         17                17                 TRUE\n",
       "13 13         18                18                 TRUE\n",
       "14 14         23                23                 TRUE\n",
       "15 15         24                24                 TRUE\n",
       "16 16         24                24                 TRUE\n",
       "17 17         23                23                 TRUE\n",
       "18 18         23                23                 TRUE"
      ]
     },
     "metadata": {},
     "output_type": "display_data"
    }
   ],
   "source": [
    "setkey(tb[[FRAMES]], trialIndex)\n",
    "setkey(tb[[TRIALS]], trialIndex)\n",
    "\n",
    "# Full OUTER JOIN (see https://rstudio-pubs-static.s3.amazonaws.com/52230_5ae0d25125b544caab32f75f0360e775.html)\n",
    "frameCount <- merge(\n",
    "    tb[[FRAMES]][order(trialIndex),.(numFramesInFRAMES=.N),by=trialIndex],\n",
    "    tb[[TRIALS]][order(trialIndex),.(numFramesInTRIALS=numFrames),by=trialIndex],\n",
    "    all=TRUE)\n",
    "frameCount[,.(trialIndex, numFramesInFRAMES, numFramesInTRIALS, match=numFramesInFRAMES == numFramesInTRIALS)]"
   ]
  },
  {
   "cell_type": "markdown",
   "metadata": {},
   "source": [
    "Any non-match in the right-most column above signals an *issue*."
   ]
  }
 ],
 "metadata": {
  "kernelspec": {
   "display_name": "R",
   "language": "R",
   "name": "ir"
  },
  "language_info": {
   "codemirror_mode": "r",
   "file_extension": ".r",
   "mimetype": "text/x-r-source",
   "name": "R",
   "pygments_lexer": "r",
   "version": "3.5.2"
  }
 },
 "nbformat": 4,
 "nbformat_minor": 2
}
