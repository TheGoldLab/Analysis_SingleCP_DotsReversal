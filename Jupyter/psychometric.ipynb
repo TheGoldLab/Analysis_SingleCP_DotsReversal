{
 "cells": [
  {
   "cell_type": "markdown",
   "metadata": {
    "toc": true
   },
   "source": [
    "<h1>Table of Contents<span class=\"tocSkip\"></span></h1>\n",
    "<div class=\"toc\"><ul class=\"toc-item\"></ul></div>"
   ]
  },
  {
   "cell_type": "code",
   "execution_count": 1,
   "metadata": {},
   "outputs": [],
   "source": [
    "from IPython.display import HTML\n",
    "from ipywidgets import interact\n",
    "import numpy as np\n",
    "import matplotlib.pyplot as plt"
   ]
  },
  {
   "cell_type": "code",
   "execution_count": 2,
   "metadata": {},
   "outputs": [
    {
     "data": {
      "text/html": [
       "<script>\n",
       "code_show=true; \n",
       "function code_toggle() {\n",
       " if (code_show){\n",
       " $('div.input').hide();\n",
       " } else {\n",
       " $('div.input').show();\n",
       " }\n",
       " code_show = !code_show\n",
       "} \n",
       "$( document ).ready(code_toggle);\n",
       "</script>\n",
       "<a href=\"javascript:code_toggle()\">Toggle code cells ON/OFF</a>."
      ],
      "text/plain": [
       "<IPython.core.display.HTML object>"
      ]
     },
     "execution_count": 2,
     "metadata": {},
     "output_type": "execute_result"
    }
   ],
   "source": [
    "HTML('''<script>\n",
    "code_show=true; \n",
    "function code_toggle() {\n",
    " if (code_show){\n",
    " $('div.input').hide();\n",
    " } else {\n",
    " $('div.input').show();\n",
    " }\n",
    " code_show = !code_show\n",
    "} \n",
    "$( document ).ready(code_toggle);\n",
    "</script>\n",
    "<a href=\"javascript:code_toggle()\">Toggle code cells ON/OFF</a>.''')"
   ]
  },
  {
   "cell_type": "code",
   "execution_count": 3,
   "metadata": {},
   "outputs": [],
   "source": [
    "plt.rcParams['figure.figsize'] = [14, 7]\n",
    "plt.rcParams.update({'font.size': 19})"
   ]
  },
  {
   "cell_type": "code",
   "execution_count": 4,
   "metadata": {},
   "outputs": [],
   "source": [
    "def F_W(x, a, b):\n",
    "    return 1-np.exp(-((x/a)**b))"
   ]
  },
  {
   "cell_type": "code",
   "execution_count": 5,
   "metadata": {},
   "outputs": [],
   "source": [
    "def psi(x, l, g, F, a, b):\n",
    "    return g+(1-g-l)*F(x, a, b)"
   ]
  },
  {
   "cell_type": "code",
   "execution_count": 6,
   "metadata": {},
   "outputs": [
    {
     "data": {
      "application/vnd.jupyter.widget-view+json": {
       "model_id": "fa84788ff9a5456da6b3abaa3be7072f",
       "version_major": 2,
       "version_minor": 0
      },
      "text/plain": [
       "interactive(children=(FloatSlider(value=49.01, description='threshold', min=0.01, step=1.0), FloatSlider(value…"
      ]
     },
     "metadata": {},
     "output_type": "display_data"
    }
   ],
   "source": [
    "@interact\n",
    "def psi_corr(threshold=(.01, 100, 1), slope=(.01, 20, 1), lapse=(0,.1,.01)):\n",
    "    g=1/2\n",
    "    x = np.linspace(0,100,200)\n",
    "#     fig=plt.figure(figsize=(18, 16), dpi= 80, facecolor='w', edgecolor='k')\n",
    "    _, ax = plt.subplots()\n",
    "    ax.plot(x, 100 * psi(x, lapse, g, F_W, threshold, slope), linewidth=3)\n",
    "    ax.plot([threshold, threshold], [50, 100*psi(threshold, lapse, g, F_W, threshold, slope)], color='green')\n",
    "    ax.set(xlim=(0, 100), ylim=(50,100),\n",
    "           xlabel=\"coherence\",\n",
    "           ylabel=\"percent correct\",\n",
    "           title=\"Weibull + lapses\")"
   ]
  },
  {
   "cell_type": "code",
   "execution_count": 7,
   "metadata": {},
   "outputs": [],
   "source": [
    "def F_L(x, a, b):\n",
    "#     print('F_l called, ndim(x) is ', np.ndim(x))\n",
    "    exp_arg = -b*(x-a)\n",
    "    # set upper and lower bounds for argument to exponential\n",
    "#     ub = 13\n",
    "#     lb = -13\n",
    "#     if np.ndim(exp_arg) == 0: # exp_arg is a scalar\n",
    "#         exp_arg = ub if exp_arg > ub else exp_arg\n",
    "#         exp_arg = lb if exp_arg < lb else exp_arg     \n",
    "#     else:\n",
    "#         exp_arg[exp_arg > ub] = ub\n",
    "#         exp_arg[exp_arg < lb] = lb\n",
    "    return 1/(1+np.exp(exp_arg))"
   ]
  },
  {
   "cell_type": "code",
   "execution_count": 8,
   "metadata": {},
   "outputs": [
    {
     "data": {
      "application/vnd.jupyter.widget-view+json": {
       "model_id": "41180c3e2a0847808bb821b866c1861f",
       "version_major": 2,
       "version_minor": 0
      },
      "text/plain": [
       "interactive(children=(IntSlider(value=0, description='threshold', min=-100), FloatSlider(value=0.3600000000000…"
      ]
     },
     "metadata": {},
     "output_type": "display_data"
    }
   ],
   "source": [
    "@interact\n",
    "def psi_choice(threshold=(-100, 100, 1), slope=(.01, .8, .05), lapse=(0,.1,.01)):\n",
    "    g=lapse\n",
    "    x = np.linspace(-100,100,200)\n",
    "    _, ax = plt.subplots()\n",
    "    ax.plot(x, 100 * psi(x, lapse, g, F_L, threshold, slope), linewidth=3)\n",
    "    ax.plot([threshold, threshold], [0, 100*psi(threshold, lapse, g, F_L, threshold, slope)], color='green')\n",
    "    ax.set(xlim=(-100, 100), ylim=(0,100),\n",
    "           xlabel=\"signed coherence\",\n",
    "           ylabel=\"percent choose 'right'\",\n",
    "           title=\"Logistic + lapses\")"
   ]
  },
  {
   "cell_type": "code",
   "execution_count": 9,
   "metadata": {},
   "outputs": [
    {
     "data": {
      "application/vnd.jupyter.widget-view+json": {
       "model_id": "e3e8df8bb10448898153ebbe580f2314",
       "version_major": 2,
       "version_minor": 0
      },
      "text/plain": [
       "interactive(children=(FloatSlider(value=49.001, description='thr_corr', min=0.001, step=1.0), FloatSlider(valu…"
      ]
     },
     "metadata": {},
     "output_type": "display_data"
    }
   ],
   "source": [
    "@interact\n",
    "def psi_choice_corr(thr_corr=(0.001,100,1),\n",
    "                    slope_corr=(.01,20,1),\n",
    "                    thr_choice=(-100, 100, 1), \n",
    "                    slope_choice=(.01, .8, .05), \n",
    "                    lapse=(0,.1,.01)):\n",
    "    g = {'corr': 1/2, 'choice': lapse}\n",
    "    x = {'choice': np.linspace(-100,100, 200), 'corr': np.linspace(0,100,200)}\n",
    "    F = {'logistic': F_L, 'Weibull': F_W, 'choice': F_L, 'corr': F_W}\n",
    "    threshold = {'choice': thr_choice, 'corr': thr_corr}\n",
    "    slope = {'choice': slope_choice, 'corr': slope_corr}\n",
    "    _, (ax1,ax2) = plt.subplots(1,2)\n",
    "    ax = {'choice': ax2, 'corr': ax1}\n",
    "    for case in ('choice', 'corr'):\n",
    "#         print(case)\n",
    "        ax[case].plot(x[case], \n",
    "                          100 * psi(x[case], lapse, g[case], F[case], \n",
    "                                    threshold[case], slope[case]), \n",
    "                      linewidth=3, \n",
    "                      color='red' if case == 'choice' else 'blue')\n",
    "        if case == 'corr':\n",
    "            c = 1/2 * (psi(abs(x[case]), lapse, g['choice'], F['logistic'], threshold['choice'], slope['choice']) + \n",
    "                       (1-psi(-abs(x[case]), lapse, g['choice'], F['logistic'], threshold['choice'], slope['choice'])))\n",
    "#             print(type(c), c.shape)\n",
    "            ax[case].plot(x[case], 100*c, color='red', linewidth=3)\n",
    "        lylim = 45 if case == 'corr' else 0\n",
    "        ax[case].plot([threshold[case], threshold[case]], \n",
    "                          [lylim, 100*psi(threshold[case], lapse, g[case], F[case], \n",
    "                                       threshold[case], slope[case])], color='green')\n",
    "        ax[case].set(xlim=(0, 100) if case == 'corr' else (-100,100), \n",
    "                     ylim=(lylim, 100),\n",
    "               xlabel=\"coherence\" if case == 'corr' else \"signed coherence\",\n",
    "               ylabel=\"percent choose 'right'\" if case == 'choice' else 'percent correct',\n",
    "                    title=\"choose 'right'\" if case == 'choice' else 'percent correct')\n"
   ]
  },
  {
   "cell_type": "code",
   "execution_count": null,
   "metadata": {},
   "outputs": [],
   "source": []
  }
 ],
 "metadata": {
  "kernelspec": {
   "display_name": "Python 3.7 (DM_theory)",
   "language": "python",
   "name": "dm_theory"
  },
  "language_info": {
   "codemirror_mode": {
    "name": "ipython",
    "version": 3
   },
   "file_extension": ".py",
   "mimetype": "text/x-python",
   "name": "python",
   "nbconvert_exporter": "python",
   "pygments_lexer": "ipython3",
   "version": "3.6.5"
  },
  "toc": {
   "base_numbering": 1,
   "nav_menu": {},
   "number_sections": true,
   "sideBar": true,
   "skip_h1_title": true,
   "title_cell": "Table of Contents",
   "title_sidebar": "Contents",
   "toc_cell": true,
   "toc_position": {},
   "toc_section_display": true,
   "toc_window_display": true
  }
 },
 "nbformat": 4,
 "nbformat_minor": 2
}
