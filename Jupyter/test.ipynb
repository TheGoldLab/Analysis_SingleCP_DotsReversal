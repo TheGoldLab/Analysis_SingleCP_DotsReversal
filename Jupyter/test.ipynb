{
 "cells": [
  {
   "cell_type": "code",
   "execution_count": null,
   "metadata": {},
   "outputs": [],
   "source": [
    "IRdisplay::display_html(file='code_hiding.html')"
   ]
  },
  {
   "cell_type": "code",
   "execution_count": null,
   "metadata": {},
   "outputs": [],
   "source": [
    "#install.packages(\"gridExtra\")"
   ]
  },
  {
   "cell_type": "code",
   "execution_count": null,
   "metadata": {},
   "outputs": [],
   "source": [
    "#find.package(\"gridExtra\")"
   ]
  },
  {
   "cell_type": "code",
   "execution_count": 1,
   "metadata": {},
   "outputs": [],
   "source": [
    "# load packages and define constants\n",
    "library(data.table)     # see https://cran.r-project.org/web/packages/data.table/vignettes/datatable-intro.html for reference\n",
    "library(ggplot2)        # for plots\n",
    "library(repr)           # for resizing figures\n",
    "library(OneR)           # to use the function 'bin'\n",
    "library(gridExtra)      # to use grid.arrange()\n",
    "source(\"R_functions.r\") # custom functions\n",
    "\n",
    "# folder/file-specific constants\n",
    "PILOT_NUMBER <- 'test'\n",
    "DATA_FOLDER <- \"~/programing/data/psychophys/\"\n",
    "FIRA_TAG <- \"FIRA\"\n",
    "FRAMES_TAG <- \"framesInfo\"\n",
    "DOTS_TAG <- \"dotsPositions\"\n",
    "\n",
    "# key-specific constants \n",
    "TRIALS <- \"trials\"\n",
    "FRAMES <- \"frames\"\n",
    "DOTS <- \"dots\"\n",
    "\n",
    "# plot-specific constants\n",
    "AXES_LABEL_FONT <- 18\n",
    "AXES_FONT <- 15\n",
    "\n",
    "# other variables\n",
    "FRAME_RATE_ESTIMATE <- 60 # Hz\n",
    "FRAME_DURATION <- (1 / FRAME_RATE_ESTIMATE) # sec"
   ]
  },
  {
   "cell_type": "code",
   "execution_count": 2,
   "metadata": {},
   "outputs": [],
   "source": [
    "if (is.numeric(PILOT_NUMBER)) {\n",
    "    # load csv files into data.tables\n",
    "    tb <- list(\n",
    "        loadPilotCSV(PILOT_NUMBER, DATA_FOLDER, FIRA_TAG),\n",
    "        loadPilotCSV(PILOT_NUMBER, DATA_FOLDER, FRAMES_TAG),\n",
    "        loadPilotCSV(PILOT_NUMBER, DATA_FOLDER, DOTS_TAG))\n",
    "    names(tb) <- c(TRIALS, FRAMES, DOTS)\n",
    "} else if (is.character(PILOT_NUMBER)) {\n",
    "    # load csv files into data.tables\n",
    "    tb <- list(\n",
    "        loadTestCSV(DATA_FOLDER, FIRA_TAG),\n",
    "        loadTestCSV(DATA_FOLDER, FRAMES_TAG),\n",
    "        loadTestCSV(DATA_FOLDER, DOTS_TAG))\n",
    "    names(tb) <- c(TRIALS, FRAMES, DOTS)\n",
    "}\n",
    "\n",
    "# add a trialCount column to the TRIALS and FRAMES table\n",
    "tb[[TRIALS]][,trialCount:=.I]\n",
    "# tb[[FRAMES]] <- tb[[FRAMES]][tb[[TRIALS]][,.(trialCount, trialIndex)],on=\"trialIndex\"]\n",
    "\n",
    "# add all the fields from the TRIALS table to the DOTS table for Reverse Kernel analysis\n",
    "# tb[[DOTS]] <- tb[[DOTS]][tb[[TRIALS]],on=\"trialCount\"]"
   ]
  },
  {
   "cell_type": "markdown",
   "metadata": {},
   "source": [
    "**Author**: Adrian Ernesto Radillo\n",
    "**Date**: 15 Feb 2019\n",
    "\n",
    "# Introduction\n",
    "## Notebook's goals\n",
    "\n",
    "Analyze data collected on myself. Two subgoals:\n",
    "1. make sure the task and stimulus behave as we want, to the smallest detail\n",
    "2. start building up an analysis pipeline for the actual study\n",
    "\n",
    "## A word on the data for this notebook\n",
    "The tag for this data is `test`. It was collected in the office.<!-- with [this code](https://github.com/TheGoldLab/SingleCP_DotsReversal_Task/releases/tag/pilot10.mat).-->\n",
    "\n",
    "I timed with my phone the elapsed time between launching the task via the GUI and the time of closing the GUI.\n",
    "This roughly amounted to 22 minutes.\n",
    "\n",
    "## Feedback about my own impressions doing the task\n",
    "- luminance on booth's screen is too high (almost hurts my eyes)\n",
    "- 20 minutes of the task seems reasonable without any breaks. I would not ask subjects to do longer durations without breaks.\n",
    "- getting comfy is ultre important\n",
    "- and doing several trials (at least 40) in presence of the experimenter to give him oral, real-time feedback, is really important too.\n",
    "- a displeased subject, for any reason, is a no-go\n",
    "- hence I should have a way for the subject to trigger a pause when he/she needs it. Josh told me that breaking fixation does that automatically. I need to test it.\n",
    "\n",
    "\n",
    "## Data analysis workflow description\n",
    "1. Task is run with repo [SingleCP_DotsReversal_Task](https://github.com/TheGoldLab/SingleCP_DotsReversal_Task/) (appropriate branch must be chosen).\n",
    "  1. A `.mat` data file is outputted\n",
    "  2. I usually manually rename this file `pilot#.mat` and upload it to PennBox (location = Data/Psychophysics/Radillo_SingleCP_DotsReversal/)\n",
    "2. Data is analyzed with repo [SingleCP_DotsReversal_DataAnalaysis](https://github.com/aernesto/SingleCP_DotsReversal_DataAnalysis)(again, with the appropriate branch).\n",
    "  1. The first step is to convert data from the .mat file into CSV format with [this script](https://github.com/aernesto/SingleCP_DotsReversal_DataAnalysis/blob/02109ab98b956f2aad4ac15f01e1d373260c8af0/MATLAB_scripts/mat2csv.m) \n",
    "    - `pilot#_framesInfo.csv` [Fields description](https://github.com/aernesto/SingleCP_DotsReversal_DataAnalysis/wiki/Fields-description-of-*framesInfo.csv-file).\n",
    "    - `pilot#_FIRA.csv`  [Fields description](https://github.com/aernesto/SingleCP_DotsReversal_DataAnalysis/wiki/Fields-Description-of-*FIRA.csv-files).\n",
    "    - `pilot#_dotsPositions.csv` [Fields description](https://github.com/aernesto/SingleCP_DotsReversal_DataAnalysis/wiki/Fields-descriptions-for-*dotsPositions.csv-file).\n",
    "\n",
    "**TO-DO**\n",
    "- There is a clear problem in the way my code defines change points. This needs to be fixed.\n",
    "- Write detailed explanation of each column in each `.csv` file (i.e. update the [Wiki](https://github.com/aernesto/SingleCP_DotsReversal_DataAnalysis/wiki))\n",
    "- With 345 trials, dotsPositions.csv file is already around 50 MB big with 1.2 million rows! This is too much.\n",
    "    - I could remove a lot of the 'dumping'\n",
    "    - I could try to adopt the [NWB](https://www.nwb.org/) data format.\n",
    "\n",
    "## Unordered questions to address in this notebook\n",
    "1. How many frames are skipped on each trial, and where in the trial do they occur?\n",
    "    - Does this number match the offset in viewing duration per trial?\n",
    "1. Compute reverse kernels with the number of coherent dots as a proxy for motion energy\n",
    "1. Plot indep var. as fcn of trial count, to ensure real randomization was implemented by the task algorithm.\n",
    "\n",
    "\n",
    "# Exploring the data\n",
    "## The `*FIRA.csv` file (trials level)"
   ]
  },
  {
   "cell_type": "code",
   "execution_count": 3,
   "metadata": {
    "scrolled": true
   },
   "outputs": [
    {
     "name": "stdout",
     "output_type": "stream",
     "text": [
      "Classes ‘data.table’ and 'data.frame':\t12 obs. of  28 variables:\n",
      " $ taskID         : int  2 2 2 2 2 2 2 2 2 2 ...\n",
      " $ trialIndex     : int  7 1 11 2 10 12 9 6 8 4 ...\n",
      " $ trialStart     : num  30379 30384 30387 30391 30395 ...\n",
      " $ trialEnd       : num  30384 30387 30391 30395 30398 ...\n",
      " $ RT             : num  0.411 0.575 0.585 0.731 0.765 ...\n",
      " $ choice         : int  0 0 0 1 1 0 0 0 1 0 ...\n",
      " $ correct        : int  1 0 1 1 1 1 1 1 1 0 ...\n",
      " $ initDirection  : int  0 0 0 180 180 180 0 180 180 180 ...\n",
      " $ endDirection   : int  180 0 180 0 0 180 180 180 0 0 ...\n",
      " $ presenceCP     : int  1 0 1 1 1 0 1 0 1 1 ...\n",
      " $ coherence      : num  60 25.6 60 25.6 25.6 60 25.6 25.6 60 60 ...\n",
      " $ viewingDuration: num  0.5 0.5 0.5 0.5 0.5 0.5 0.5 0.5 0.5 0.5 ...\n",
      " $ probCP         : num  0.6 0.6 0.6 0.6 0.6 0.6 0.6 0.6 0.6 0.6 ...\n",
      " $ timeCP         : num  0.2 0.2 0.2 0.2 0.2 0.2 0.2 0.2 0.2 0.2 ...\n",
      " $ randSeedBase   : int  6194 3479 6952 8772 5634 5058 4168 7043 6004 2247 ...\n",
      " $ fixationOn     : num  0.887 0.28 0.247 0.187 0.271 ...\n",
      " $ fixationStart  : num  NaN NaN NaN NaN NaN NaN NaN NaN NaN NaN ...\n",
      " $ targetOn       : num  2.207 0.915 0.882 0.722 0.806 ...\n",
      " $ dotsOn         : num  2.34 1.18 1.58 1.21 1.09 ...\n",
      " $ dotsOff        : num  2.81 1.68 2.12 1.74 1.62 ...\n",
      " $ choiceTime     : num  3.22 2.26 2.7 2.47 2.39 ...\n",
      " $ targetOff      : num  NaN NaN NaN NaN NaN NaN NaN NaN NaN NaN ...\n",
      " $ fixationOff    : num  NaN NaN NaN NaN NaN NaN NaN NaN NaN NaN ...\n",
      " $ feedbackOn     : num  NaN NaN NaN NaN NaN NaN NaN NaN NaN NaN ...\n",
      " $ numFrames      : int  32 32 36 36 36 33 34 35 35 35 ...\n",
      " $ tocDotsOn      : num  2.25 1.16 1.56 1.18 1.06 ...\n",
      " $ tocDotsOff     : num  2.78 1.68 2.08 1.71 1.59 ...\n",
      " $ trialCount     : int  1 2 3 4 5 6 7 8 9 10 ...\n",
      " - attr(*, \".internal.selfref\")=<externalptr> \n"
     ]
    }
   ],
   "source": [
    "str(tb[[TRIALS]])"
   ]
  },
  {
   "cell_type": "markdown",
   "metadata": {},
   "source": [
    "## The `*framesInfo.csv` file (frames level)"
   ]
  },
  {
   "cell_type": "code",
   "execution_count": 4,
   "metadata": {},
   "outputs": [
    {
     "name": "stdout",
     "output_type": "stream",
     "text": [
      "Classes ‘data.table’ and 'data.frame':\t413 obs. of  6 variables:\n",
      " $ frameTotCount: int  597 598 599 600 601 602 603 604 605 606 ...\n",
      " $ onsetTime    : num  30380 30382 30382 30382 30382 ...\n",
      " $ onsetFrame   : int  885 964 967 972 973 974 975 976 977 978 ...\n",
      " $ swapTime     : num  30380 30382 30382 30382 30382 ...\n",
      " $ isTight      : int  0 0 0 0 1 1 1 1 1 1 ...\n",
      " $ trialIndex   : int  7 7 7 7 7 7 7 7 7 7 ...\n",
      " - attr(*, \".internal.selfref\")=<externalptr> \n"
     ]
    }
   ],
   "source": [
    "str(tb[[FRAMES]])"
   ]
  },
  {
   "cell_type": "markdown",
   "metadata": {},
   "source": [
    "## The `*dotsPositions.csv` file (dots level)"
   ]
  },
  {
   "cell_type": "code",
   "execution_count": 5,
   "metadata": {},
   "outputs": [
    {
     "name": "stdout",
     "output_type": "stream",
     "text": [
      "Classes ‘data.table’ and 'data.frame':\t66248 obs. of  6 variables:\n",
      " $ xpos      : num  0.3826 0.0383 0.1578 0.5403 0.9563 ...\n",
      " $ ypos      : num  0.3775 0.2884 0.0793 0.7164 0.7768 ...\n",
      " $ isActive  : int  1 0 0 1 0 0 1 0 0 1 ...\n",
      " $ isCoherent: int  1 0 0 1 0 0 1 0 0 1 ...\n",
      " $ frameIdx  : int  1 1 1 1 1 1 1 1 1 1 ...\n",
      " $ trialCount: int  1 1 1 1 1 1 1 1 1 1 ...\n",
      " - attr(*, \".internal.selfref\")=<externalptr> \n"
     ]
    }
   ],
   "source": [
    "str(tb[[DOTS]])\n",
    "#tb[[DOTS]][,.(.N),by=.(frameIdx,trialCount)]"
   ]
  },
  {
   "cell_type": "code",
   "execution_count": 6,
   "metadata": {},
   "outputs": [
    {
     "name": "stdout",
     "output_type": "stream",
     "text": [
      "number of active dots per frame appearing across trials 61 60 \n"
     ]
    }
   ],
   "source": [
    "cat(\"number of active dots per frame appearing across trials\",\n",
    "    unique(tb[[DOTS]][,.(numDots=sum(isActive)), by=.(trialCount,frameIdx)][,numDots])\n",
    "    ,\"\\n\")"
   ]
  },
  {
   "cell_type": "markdown",
   "metadata": {},
   "source": [
    "# Timing and trial checks\n",
    "How long did the session last?"
   ]
  },
  {
   "cell_type": "code",
   "execution_count": 7,
   "metadata": {},
   "outputs": [
    {
     "name": "stdout",
     "output_type": "stream",
     "text": [
      "0.75 min"
     ]
    }
   ],
   "source": [
    "cat( round(tb[[TRIALS]][,sum(trialEnd - trialStart)] / 60, digits = 2), \"min\" )"
   ]
  },
  {
   "cell_type": "markdown",
   "metadata": {},
   "source": [
    "How many trials were produced?"
   ]
  },
  {
   "cell_type": "code",
   "execution_count": 8,
   "metadata": {},
   "outputs": [
    {
     "data": {
      "text/html": [
       "12"
      ],
      "text/latex": [
       "12"
      ],
      "text/markdown": [
       "12"
      ],
      "text/plain": [
       "[1] 12"
      ]
     },
     "metadata": {},
     "output_type": "display_data"
    }
   ],
   "source": [
    "nrow(tb[[TRIALS]])"
   ]
  },
  {
   "cell_type": "markdown",
   "metadata": {},
   "source": [
    "Did any trial fail?"
   ]
  },
  {
   "cell_type": "code",
   "execution_count": 9,
   "metadata": {},
   "outputs": [
    {
     "name": "stdout",
     "output_type": "stream",
     "text": [
      "there are 0 trials where choice = NA:"
     ]
    },
    {
     "data": {
      "text/html": [
       "<table>\n",
       "<thead><tr><th scope=col>trialIndex</th><th scope=col>trialCount</th></tr></thead>\n",
       "<tbody>\n",
       "</tbody>\n",
       "</table>\n"
      ],
      "text/latex": [
       "\\begin{tabular}{r|ll}\n",
       " trialIndex & trialCount\\\\\n",
       "\\hline\n",
       "\\end{tabular}\n"
      ],
      "text/markdown": [
       "\n",
       "| trialIndex | trialCount |\n",
       "|---|---|\n",
       "\n"
      ],
      "text/plain": [
       "     trialIndex trialCount"
      ]
     },
     "metadata": {},
     "output_type": "display_data"
    }
   ],
   "source": [
    "cat('there are',nrow(tb[[TRIALS]][is.na(choice)]),'trials where choice = NA:')\n",
    "tb[[TRIALS]][is.na(choice),.(trialIndex, trialCount)]"
   ]
  },
  {
   "cell_type": "markdown",
   "metadata": {},
   "source": [
    "Were some trials presented again after failure?"
   ]
  },
  {
   "cell_type": "code",
   "execution_count": 10,
   "metadata": {},
   "outputs": [
    {
     "name": "stdout",
     "output_type": "stream",
     "text": [
      "trialIndex: "
     ]
    }
   ],
   "source": [
    "cat('trialIndex:',tb[[TRIALS]][,trialIndex][duplicated(tb[[TRIALS]][,.(trialIndex)])])"
   ]
  },
  {
   "cell_type": "code",
   "execution_count": 12,
   "metadata": {},
   "outputs": [],
   "source": [
    "# tb[[TRIALS]][trialIndex == 1 | trialIndex == 2 | trialIndex == 5][order(trialIndex)]"
   ]
  },
  {
   "cell_type": "markdown",
   "metadata": {},
   "source": [
    "**We get rid of failed trials.**"
   ]
  },
  {
   "cell_type": "code",
   "execution_count": 13,
   "metadata": {},
   "outputs": [],
   "source": [
    "tb[[TRIALS]] <- tb[[TRIALS]][!is.na(choice)]\n",
    "numTrials <- nrow(tb[[TRIALS]])"
   ]
  },
  {
   "cell_type": "markdown",
   "metadata": {},
   "source": [
    "- How many trials were produced per combination of factors?"
   ]
  },
  {
   "cell_type": "code",
   "execution_count": 14,
   "metadata": {},
   "outputs": [
    {
     "data": {
      "text/html": [
       "<table>\n",
       "<thead><tr><th scope=col>initDirection</th><th scope=col>presenceCP</th><th scope=col>coherence</th><th scope=col>viewingDuration</th><th scope=col>probCP</th><th scope=col>timeCP</th><th scope=col>freq.</th></tr></thead>\n",
       "<tbody>\n",
       "\t<tr><td>  0 </td><td>1   </td><td>60.0</td><td>0.5 </td><td>0.6 </td><td>0.2 </td><td>2   </td></tr>\n",
       "\t<tr><td>  0 </td><td>0   </td><td>25.6</td><td>0.5 </td><td>0.6 </td><td>0.2 </td><td>1   </td></tr>\n",
       "\t<tr><td>180 </td><td>1   </td><td>25.6</td><td>0.5 </td><td>0.6 </td><td>0.2 </td><td>2   </td></tr>\n",
       "\t<tr><td>180 </td><td>0   </td><td>60.0</td><td>0.5 </td><td>0.6 </td><td>0.2 </td><td>1   </td></tr>\n",
       "\t<tr><td>  0 </td><td>1   </td><td>25.6</td><td>0.5 </td><td>0.6 </td><td>0.2 </td><td>2   </td></tr>\n",
       "\t<tr><td>180 </td><td>0   </td><td>25.6</td><td>0.5 </td><td>0.6 </td><td>0.2 </td><td>1   </td></tr>\n",
       "\t<tr><td>180 </td><td>1   </td><td>60.0</td><td>0.5 </td><td>0.6 </td><td>0.2 </td><td>2   </td></tr>\n",
       "\t<tr><td>  0 </td><td>0   </td><td>60.0</td><td>0.5 </td><td>0.6 </td><td>0.2 </td><td>1   </td></tr>\n",
       "</tbody>\n",
       "</table>\n"
      ],
      "text/latex": [
       "\\begin{tabular}{r|lllllll}\n",
       " initDirection & presenceCP & coherence & viewingDuration & probCP & timeCP & freq.\\\\\n",
       "\\hline\n",
       "\t   0  & 1    & 60.0 & 0.5  & 0.6  & 0.2  & 2   \\\\\n",
       "\t   0  & 0    & 25.6 & 0.5  & 0.6  & 0.2  & 1   \\\\\n",
       "\t 180  & 1    & 25.6 & 0.5  & 0.6  & 0.2  & 2   \\\\\n",
       "\t 180  & 0    & 60.0 & 0.5  & 0.6  & 0.2  & 1   \\\\\n",
       "\t   0  & 1    & 25.6 & 0.5  & 0.6  & 0.2  & 2   \\\\\n",
       "\t 180  & 0    & 25.6 & 0.5  & 0.6  & 0.2  & 1   \\\\\n",
       "\t 180  & 1    & 60.0 & 0.5  & 0.6  & 0.2  & 2   \\\\\n",
       "\t   0  & 0    & 60.0 & 0.5  & 0.6  & 0.2  & 1   \\\\\n",
       "\\end{tabular}\n"
      ],
      "text/markdown": [
       "\n",
       "| initDirection | presenceCP | coherence | viewingDuration | probCP | timeCP | freq. |\n",
       "|---|---|---|---|---|---|---|\n",
       "|   0  | 1    | 60.0 | 0.5  | 0.6  | 0.2  | 2    |\n",
       "|   0  | 0    | 25.6 | 0.5  | 0.6  | 0.2  | 1    |\n",
       "| 180  | 1    | 25.6 | 0.5  | 0.6  | 0.2  | 2    |\n",
       "| 180  | 0    | 60.0 | 0.5  | 0.6  | 0.2  | 1    |\n",
       "|   0  | 1    | 25.6 | 0.5  | 0.6  | 0.2  | 2    |\n",
       "| 180  | 0    | 25.6 | 0.5  | 0.6  | 0.2  | 1    |\n",
       "| 180  | 1    | 60.0 | 0.5  | 0.6  | 0.2  | 2    |\n",
       "|   0  | 0    | 60.0 | 0.5  | 0.6  | 0.2  | 1    |\n",
       "\n"
      ],
      "text/plain": [
       "  initDirection presenceCP coherence viewingDuration probCP timeCP freq.\n",
       "1   0           1          60.0      0.5             0.6    0.2    2    \n",
       "2   0           0          25.6      0.5             0.6    0.2    1    \n",
       "3 180           1          25.6      0.5             0.6    0.2    2    \n",
       "4 180           0          60.0      0.5             0.6    0.2    1    \n",
       "5   0           1          25.6      0.5             0.6    0.2    2    \n",
       "6 180           0          25.6      0.5             0.6    0.2    1    \n",
       "7 180           1          60.0      0.5             0.6    0.2    2    \n",
       "8   0           0          60.0      0.5             0.6    0.2    1    "
      ]
     },
     "metadata": {},
     "output_type": "display_data"
    }
   ],
   "source": [
    "indepVarNames <- c(\"initDirection\",\"presenceCP\",\"coherence\",\"viewingDuration\",\"probCP\",\"timeCP\")\n",
    "combFactors <- getFreq(tb[[TRIALS]], indepVarNames)\n",
    "combFactors"
   ]
  },
  {
   "cell_type": "markdown",
   "metadata": {},
   "source": [
    "- What were the marginal frequencies?"
   ]
  },
  {
   "cell_type": "code",
   "execution_count": 15,
   "metadata": {},
   "outputs": [
    {
     "name": "stdout",
     "output_type": "stream",
     "text": [
      "   initDirection freq.\n",
      "1:             0     6\n",
      "2:           180     6\n",
      "   presenceCP freq.\n",
      "1:          1     8\n",
      "2:          0     4\n",
      "   coherence freq.\n",
      "1:      60.0     6\n",
      "2:      25.6     6\n",
      "   viewingDuration freq.\n",
      "1:             0.5    12\n",
      "   probCP freq.\n",
      "1:    0.6    12\n",
      "   timeCP freq.\n",
      "1:    0.2    12\n"
     ]
    }
   ],
   "source": [
    "for (i in 1:length(indepVarNames)) {\n",
    "  print(getFreq(tb[[TRIALS]], indepVarNames[i]))\n",
    "}"
   ]
  },
  {
   "cell_type": "markdown",
   "metadata": {},
   "source": [
    "We now plot the independent variables as a function of trial number in the task, to check randomization (at least eye-balling)."
   ]
  },
  {
   "cell_type": "code",
   "execution_count": null,
   "metadata": {},
   "outputs": [],
   "source": [
    "# longTRIALS <- melt(tb[[TRIALS]][,viewingDuration := dotsOff - dotsOn], id.vars=\"trialCount\", \n",
    "#                   measure.vars=c(\"viewingDuration\",\n",
    "#                                 \"coherence\",\n",
    "#                                 \"initDirection\",\n",
    "#                                 \"endDirection\",\n",
    "#                                 \"presenceCP\"),\n",
    "#                   variable.name=\"IndepVar\")"
   ]
  },
  {
   "cell_type": "code",
   "execution_count": 17,
   "metadata": {},
   "outputs": [
    {
     "data": {
      "image/png": "[encoded data removed]",
      "text/plain": [
       "plot without title"
      ]
     },
     "metadata": {},
     "output_type": "display_data"
    }
   ],
   "source": [
    "p1 <- ggplot(tb[[TRIALS]], aes(x=trialCount, y=dotsOff - dotsOn)) + geom_line()  + geom_point()\n",
    "p2 <- ggplot(tb[[TRIALS]], aes(x=trialCount, y=coherence)) + geom_line() + geom_point()\n",
    "p3 <- ggplot(tb[[TRIALS]], aes(x=trialCount, y=initDirection)) + geom_line()  + geom_point(aes(col=factor(presenceCP)))\n",
    "p4 <- ggplot(tb[[TRIALS]], aes(x=trialCount, y=endDirection))  + geom_line() + geom_point(aes(col=factor(presenceCP)))\n",
    "p5 <- ggplot(tb[[TRIALS]], aes(x=trialCount, y=presenceCP)) + geom_line()  + geom_point()\n",
    "grid.arrange(p1,p2,p3,p4,p5, nrow=5) "
   ]
  },
  {
   "cell_type": "markdown",
   "metadata": {},
   "source": [
    "Clearly there is a problem with my definition of change points :("
   ]
  },
  {
   "cell_type": "markdown",
   "metadata": {},
   "source": [
    "## A deeper look at the timestamps fields"
   ]
  },
  {
   "cell_type": "code",
   "execution_count": null,
   "metadata": {},
   "outputs": [],
   "source": [
    "# for this particular dataset, the timestamps of most columns have the wrong offset. This bug has been fixed since.\n",
    "# for now, we still need to manually correct the time values as follows:\n",
    "wideTimestamps <- tb[[TRIALS]][,.(trialStart=trialStart-trialStart,\n",
    "                                  trialEnd=trialEnd-trialStart,\n",
    "                                  dotsOn,\n",
    "                                  dotsOff,\n",
    "                                  tocDotsOn,\n",
    "                                  tocDotsOff,\n",
    "                                  nDotsOn=dotsOn - tocDotsOn,\n",
    "                                  nDotsOff=dotsOff - tocDotsOn,\n",
    "                                  nTocDotsOn=tocDotsOn - tocDotsOn,\n",
    "                                  nTocDotsOff=tocDotsOff - tocDotsOn,\n",
    "                                  targetOn,\n",
    "                                  fixationOn,\n",
    "                                  choiceTime,\n",
    "                                  trialCount,\n",
    "                                  presenceCP),by=trialIndex]"
   ]
  },
  {
   "cell_type": "code",
   "execution_count": null,
   "metadata": {},
   "outputs": [],
   "source": [
    "# refTime <- wideTimestamps[,.(trialCount,\n",
    "#     trialStart, trialEnd, dotsOn, dotsOff, targetOn, fixationOn, choiceTime), \n",
    "#                         by=trialIndex]\n",
    "longTimestamps <- melt(wideTimestamps,\n",
    "                       id.vars=c(\"trialCount\"),\n",
    "                       measure.vars=c(\"trialStart\",\"fixationOn\",\"targetOn\",\"dotsOn\",\"dotsOff\",\n",
    "                                      \"choiceTime\",\"trialEnd\"),\n",
    "                       value.name=\"timestamp\", variable.name=\"Event\")\n",
    "# str(longTimestamps)"
   ]
  },
  {
   "cell_type": "code",
   "execution_count": null,
   "metadata": {},
   "outputs": [],
   "source": [
    "# control output figure size\n",
    "options(repr.plot.width=8, repr.plot.height=8)\n",
    "# plot\n",
    "ggplot(longTimestamps, aes(x=trialCount, y=timestamp)) + geom_point(aes(col=Event), size=2) +\n",
    "   geom_line(aes(col=Event),size=.2) +\n",
    "#    geom_hline(yintercept = frameDurations, linetype=\"dashed\") +\n",
    "    guides(colour = guide_legend(reverse=T)) +\n",
    "    labs(title=\"Trial Timestamps\",\n",
    "         subtitle=paste(\"From pilot\",PILOT_NUMBER,\" dataset\",sep=\"\"),\n",
    "         y=\"Aligned Time (sec)\") + theme(plot.title=element_text(size=20,\n",
    "                                    lineheight=1.2),  # title\n",
    "            plot.subtitle=element_text(size=15,\n",
    "                                       family=\"American Typewriter\"),  # subtitle\n",
    "            plot.caption=element_text(size=15),  # caption\n",
    "            axis.title.x=element_text(size=AXES_LABEL_FONT),  # X axis title\n",
    "            axis.title.y=element_text(size=AXES_LABEL_FONT),  # Y axis title\n",
    "            axis.text.x=element_text(size=AXES_FONT),  # X axis text\n",
    "            axis.text.y=element_text(size=AXES_FONT))  # Y axis text"
   ]
  },
  {
   "cell_type": "markdown",
   "metadata": {},
   "source": [
    "- How precise were the dots timings?  \n",
    "\n",
    "We plot `(dotsOff - dotsOn) - viewingDuration`, across all trials, and overlay average durations of 1 and 2 frames (dashed lines)."
   ]
  },
  {
   "cell_type": "code",
   "execution_count": null,
   "metadata": {},
   "outputs": [],
   "source": [
    "durTable <- tb[[TRIALS]][,.(dotsDurationError = (dotsOff - dotsOn - viewingDuration) * 1000, \n",
    "                            presenceCP, \n",
    "                            viewingDuration), \n",
    "                        by=trialCount]\n",
    "# str(durTable)\n",
    "# call to ggplot()\n",
    "g <- ggplot(durTable, aes(x=trialCount, y=dotsDurationError)) + \n",
    "  geom_line(size=.2) +  \n",
    "  geom_point(aes(shape=factor(presenceCP), col=factor(viewingDuration)),size=3) +\n",
    "  geom_hline(yintercept = FRAME_DURATION*1000, linetype=\"dashed\") +\n",
    "  annotate(\"text\", x=37, y=FRAME_DURATION*1000, vjust = 1.3, label = c(\"1 frame\"))\n",
    "# Add Title and Labels\n",
    "g + labs(title=\"Error in generated dots duration\", \n",
    "         subtitle=paste(\"From pilot\",PILOT_NUMBER,\" dataset\",sep=\"\"), \n",
    "         y=\"duration error (msec)\", \n",
    "         x=\"trial (in session order)\",\n",
    "         color=\"viewing dur.\", shape=\"CP\") + theme(plot.title=element_text(size=20, \n",
    "                                    family=\"American Typewriter\",\n",
    "                                    lineheight=1.2),  # title\n",
    "            plot.subtitle=element_text(size=15, \n",
    "                                       family=\"American Typewriter\"),  # subtitle\n",
    "            plot.caption=element_text(size=15),  # caption\n",
    "            axis.title.x=element_text(size=AXES_LABEL_FONT),  # X axis title\n",
    "            axis.title.y=element_text(size=AXES_LABEL_FONT),  # Y axis title\n",
    "            axis.text.x=element_text(size=AXES_FONT),  # X axis text\n",
    "            axis.text.y=element_text(size=AXES_FONT))  # Y axis text"
   ]
  },
  {
   "cell_type": "markdown",
   "metadata": {},
   "source": [
    "Below I try to estimate the mean errors, clustered. "
   ]
  },
  {
   "cell_type": "code",
   "execution_count": null,
   "metadata": {},
   "outputs": [],
   "source": [
    "print(\"empty for now\")\n",
    "# intervals <- bin(durTable[,.(dotsDurationError)], nbins = 3, method = \"cluster\")\n",
    "# names(intervals) <- \"interval\"\n",
    "\n",
    "# # add the bins as a factor to the data.table\n",
    "# durTable[, (\"interval\") := intervals]\n",
    "\n",
    "# # compute mean durations\n",
    "# unordered <- durTable[, .(num_trials=.N, meanDurationError = mean(dotsDurationError)), by = intervals]\n",
    "\n",
    "# # display results, with num_frame column\n",
    "# unordered[order(meanDurationError),.(num_trials, meanDurationError, num_frames = (meanDurationError * FRAME_RATE_ESTIMATE / 1000))]"
   ]
  },
  {
   "cell_type": "markdown",
   "metadata": {},
   "source": [
    "Below I specifically compare the `dotsOn` and `dotsOff` values that I got from the task and from the `tic/toc` calls."
   ]
  },
  {
   "cell_type": "code",
   "execution_count": null,
   "metadata": {},
   "outputs": [],
   "source": [
    "longDotsOffTimestamps <- melt(wideTimestamps,\n",
    "                       id.vars=c(\"trialIndex\",\"presenceCP\"),\n",
    "                       measure.vars=c(\"nTocDotsOn\",\"nDotsOn\",\"nTocDotsOff\",\"nDotsOff\"),\n",
    "                       value.name=\"timestamp\", variable.name=\"Event\")\n",
    "\n",
    "# control output figure size\n",
    "options(repr.plot.width=8, repr.plot.height=8)\n",
    "\n",
    "# plot\n",
    "ggplot(longDotsOffTimestamps, aes(x=trialIndex, y=timestamp)) + \n",
    "   geom_point(aes(col=Event, shape=factor(presenceCP)), size=2) +\n",
    "   geom_line(aes(col=Event),size=.2) +\n",
    "#    geom_hline(yintercept = frameDurations, linetype=\"dashed\") +\n",
    "    guides(colour = guide_legend(reverse=T)) +\n",
    "    labs(title=\"Trial Timestamps\",\n",
    "         subtitle=paste(\"From pilot\",PILOT_NUMBER,\" dataset\",sep=\"\"),\n",
    "        shape=\"Change Point\") + theme(plot.title=element_text(size=20,\n",
    "                                    lineheight=1.2),  # title\n",
    "            plot.subtitle=element_text(size=15,\n",
    "                                       family=\"American Typewriter\"),  # subtitle\n",
    "            plot.caption=element_text(size=15),  # caption\n",
    "            axis.title.x=element_text(size=AXES_LABEL_FONT),  # X axis title\n",
    "            axis.title.y=element_text(size=AXES_LABEL_FONT),  # Y axis title\n",
    "            axis.text.x=element_text(size=AXES_FONT),  # X axis text\n",
    "            axis.text.y=element_text(size=AXES_FONT))  # Y axis text"
   ]
  },
  {
   "cell_type": "markdown",
   "metadata": {},
   "source": [
    "# Checking that the three datasets are consistent\n",
    "As we can see, the `frameIdx` field is common to `tb[[FRAMES]]` and `tb[[DOTS]]`, and the `trialIdx` is common to `tb[[DOTS]]` and `tb[[TRIALS]]`. Let's check whether these common fields match in terms of their unique values in each dataset."
   ]
  },
  {
   "cell_type": "markdown",
   "metadata": {},
   "source": [
    "## Exploring match between `DOTS` and `TRIALS` levels"
   ]
  },
  {
   "cell_type": "markdown",
   "metadata": {},
   "source": [
    "## Exploring match between `FRAMES` and `TRIALS` levels\n",
    "### Timing of trial vs. timing of frames"
   ]
  },
  {
   "cell_type": "code",
   "execution_count": null,
   "metadata": {},
   "outputs": [],
   "source": [
    "# add (bug-corrected) dotsOn, dotsOff values to filter swapTimes\n",
    "# add trialStart for future offset\n",
    "# the syntax is that of a right join\n",
    "frameTimes <- tb[[FRAMES]][tb[[TRIALS]][,.(trialStart, \n",
    "                                           dotsOn, \n",
    "                                           dotsOff, \n",
    "                                           trialIndex)], on=\"trialIndex\"]\n",
    "\n",
    "# only consider frames with onsetTime in-between dotsOn and dotsOff\n",
    "frameTimes <- frameTimes[onsetTime-trialStart>=dotsOn & onsetTime-trialStart <= dotsOff]\n",
    "# str(frameTimes)"
   ]
  },
  {
   "cell_type": "markdown",
   "metadata": {},
   "source": [
    "- does the \"number of frames\" match across the three files?"
   ]
  },
  {
   "cell_type": "code",
   "execution_count": null,
   "metadata": {},
   "outputs": [],
   "source": [
    "setkey(frameTimes, trialIndex)\n",
    "setkey(tb[[TRIALS]], trialIndex)\n",
    "\n",
    "# Full OUTER JOIN (see https://rstudio-pubs-static.s3.amazonaws.com/52230_5ae0d25125b544caab32f75f0360e775.html)\n",
    "frameCount <- merge(\n",
    "    tb[[TRIALS]][,.(numInTRIALS=numFrames, trialCount),by=trialIndex],\n",
    "    frameTimes[,.(numInFRAMES=.N),by=trialIndex],\n",
    "    all=TRUE)\n",
    "\n",
    "# str(frameCount)"
   ]
  },
  {
   "cell_type": "code",
   "execution_count": null,
   "metadata": {},
   "outputs": [],
   "source": [
    "frameCount <- frameCount[tb[[DOTS]][order(trialIndex),.(numInDOTS=max(frameIdx)),by=trialIndex],on=\"trialIndex\"]\n",
    "frameCount[,.(trialIndex, trialCount, numInTRIALS,numInFRAMES,numInDOTS,match=numInFRAMES == numInDOTS)]"
   ]
  },
  {
   "cell_type": "markdown",
   "metadata": {},
   "source": [
    "From the columns above, we see that:\n",
    "- the `numFrames` field from the `tb[[TRIALS]]` table is not useful\n",
    "- I should match dots and frames using timestamps"
   ]
  },
  {
   "cell_type": "markdown",
   "metadata": {},
   "source": [
    "- what time gaps do I observe between `dotsOn` and 1st frame `onsetTime`, and last frame `onsetTime` and `dotsOff`?"
   ]
  },
  {
   "cell_type": "code",
   "execution_count": null,
   "metadata": {},
   "outputs": [],
   "source": [
    "# get times of first and last frame in each trial, align everything to dotsOn\n",
    "extremeFrameTimes <- frameTimes[,.(firstFrame=min(onsetTime-trialStart)-dotsOn, \n",
    "                                   lastFrame=max(onsetTime-trialStart)-dotsOn,\n",
    "                                   trialStart, \n",
    "                                   dotsOn=dotsOn-dotsOn, \n",
    "                                   dotsOff=dotsOff-dotsOn,\n",
    "                                   trialCount),\n",
    "                                  by=trialIndex]\n",
    "# str(extremeFrameTimes)"
   ]
  },
  {
   "cell_type": "code",
   "execution_count": null,
   "metadata": {},
   "outputs": [],
   "source": [
    "1.3# transform to long format for ggplot \n",
    "longTimeData <- melt(extremeFrameTimes, \n",
    "                    id.vars=c(\"trialIndex\"),\n",
    "                    measure.vars=c(\"dotsOn\",\"firstFrame\",\"lastFrame\",\"dotsOff\"),\n",
    "                    variable.name=\"Event\", value.name=\"timestamp\")\n",
    "#str(longTimeData)\n",
    "\n",
    "\n",
    "frameDurations <- c(6*FRAME_DURATION, 140*FRAME_DURATION)\n",
    "\n",
    "# control output figure size\n",
    "options(repr.plot.width=8, repr.plot.height=8)\n",
    "\n",
    "# plot\n",
    "ggplot(longTimeData, aes(x=trialIndex, y=timestamp)) + geom_point(aes(col=Event), size=2) +\n",
    "   geom_line(aes(col=Event),size=.2) +\n",
    "   geom_hline(yintercept = FRAME_DURATION, linetype=\"dashed\") +\n",
    "   annotate(\"text\", x=16, y=FRAME_DURATION, vjust = -1, label = c(\"1 frame\")) +\n",
    "   guides(colour = guide_legend(reverse=T)) +\n",
    "   labs(title=\"Stimulus Timestamps\",\n",
    "         subtitle=paste(\"From pilot\",PILOT_NUMBER,\" dataset\",sep=\"\"),\n",
    "         y=\"Aligned Time (sec)\") + theme(plot.title=element_text(size=20,\n",
    "                                    lineheight=1.2),  # title\n",
    "            plot.subtitle=element_text(size=15,\n",
    "                                       family=\"American Typewriter\"),  # subtitle\n",
    "            plot.caption=element_text(size=15),  # caption\n",
    "            axis.title.x=element_text(size=AXES_LABEL_FONT),  # X axis title\n",
    "            axis.title.y=element_text(size=AXES_LABEL_FONT),  # Y axis title\n",
    "            axis.text.x=element_text(size=AXES_FONT),  # X axis text\n",
    "            axis.text.y=element_text(size=AXES_FONT))  # Y axis text"
   ]
  },
  {
   "cell_type": "markdown",
   "metadata": {},
   "source": [
    "- Exploration of `Tight` frames in each trial"
   ]
  },
  {
   "cell_type": "code",
   "execution_count": null,
   "metadata": {},
   "outputs": [],
   "source": [
    "# plot\n",
    "ggplot(frameTimes, aes(x=trialIndex, y=onsetTime-(dotsOn+trialStart))) + \n",
    "   geom_point(aes(col=factor(isTight)), size=2) +\n",
    "#    geom_line(aes(col=Event),size=.2) +\n",
    "#    geom_hline(yintercept = frameDurations, linetype=\"dashed\") +\n",
    "#    guides(colour = guide_legend(reverse=T)) +\n",
    "   labs(title=\"Tight/Untight Frames\",\n",
    "         subtitle=paste(\"From pilot\",PILOT_NUMBER,\" dataset\",sep=\"\"),\n",
    "         y=\"onsetTime aligned to dotsOn (sec)\",\n",
    "        color=\"Tight\") + \n",
    "   theme(plot.title=element_text(size=20, lineheight=1.2),  # title\n",
    "            plot.subtitle=element_text(size=15, family=\"American Typewriter\"),  # subtitle\n",
    "            plot.caption=element_text(size=15),  # caption\n",
    "            axis.title.x=element_text(size=AXES_LABEL_FONT),  # X axis title\n",
    "            axis.title.y=element_text(size=AXES_LABEL_FONT),  # Y axis title\n",
    "            axis.text.x=element_text(size=AXES_FONT),  # X axis text\n",
    "            axis.text.y=element_text(size=AXES_FONT))  # Y axis text"
   ]
  },
  {
   "cell_type": "markdown",
   "metadata": {},
   "source": [
    "## Exploring match between `FRAMES` and `DOTS`"
   ]
  },
  {
   "cell_type": "code",
   "execution_count": null,
   "metadata": {},
   "outputs": [],
   "source": [
    "# unique(tb[[DOTS]][,frameIdx])\n",
    "# tb[[DOTS]][order(trialIndex),.(frameIdx), by=.(trialIndex, frameIdx)]"
   ]
  },
  {
   "cell_type": "markdown",
   "metadata": {},
   "source": [
    "# Accuracy analysis\n",
    "- Accuracy (% correct) on the task"
   ]
  },
  {
   "cell_type": "code",
   "execution_count": null,
   "metadata": {},
   "outputs": [],
   "source": [
    "accuracy <- sum(tb[[TRIALS]][,correct])/numTrials\n",
    "cat(accuracy * 100,\"%\", sep = '')"
   ]
  },
  {
   "cell_type": "markdown",
   "metadata": {},
   "source": [
    "- Accuracy on CP vs. non-CP trials"
   ]
  },
  {
   "cell_type": "code",
   "execution_count": null,
   "metadata": {},
   "outputs": [],
   "source": [
    "# count CP and Non-CP trials\n",
    "cpGrouping <- getFreq(tb[[TRIALS]], \"presenceCP\")\n",
    "numCPtrials <- cpGrouping[presenceCP == 1, freq.]\n",
    "numNonCPtrials <- cpGrouping[presenceCP == 0, freq.]\n",
    "\n",
    "# compute accuracies in each group of trials\n",
    "accuracy_CP <- sum(tb[[TRIALS]][presenceCP == 1, correct])/numCPtrials * 100\n",
    "accuracy_nonCP <- sum(tb[[TRIALS]][presenceCP == 0, correct])/numNonCPtrials * 100\n",
    "# round to 2 decimals\n",
    "accuracy_CP <- round(accuracy_CP, digits = 2)\n",
    "accuracy_nonCP <- round(accuracy_nonCP, digits = 2)\n",
    "\n",
    "# display summarizing table\n",
    "toDisplay <- cpGrouping[, (\"accuracy\") := data.frame(\"accuracy\"=c(accuracy_nonCP, accuracy_CP))]\n",
    "print(toDisplay)\n",
    "# toDisplay # print a second time because of a bug that I don't fully understand (see https://github.com/IRkernel/IRkernel/issues/127 and https://github.com/rstudio/rmarkdown/issues/1002)"
   ]
  },
  {
   "cell_type": "markdown",
   "metadata": {},
   "source": [
    "- Accuracy as a function of viewing duration"
   ]
  },
  {
   "cell_type": "code",
   "execution_count": null,
   "metadata": {},
   "outputs": [],
   "source": [
    "# first get marginal frequencies\n",
    "toDisplay <- tb[[TRIALS]][order(viewingDuration),.(freq = .N, correct = sum(correct)), by=viewingDuration]\n",
    "\n",
    "# then add the accuracy column\n",
    "toDisplay <- toDisplay[,.(viewingDuration, freq, correct, accuracy = round(correct/freq*100,digits=2))]\n",
    "toDisplay"
   ]
  },
  {
   "cell_type": "markdown",
   "metadata": {},
   "source": [
    "- Accuracy as a function of coherence level"
   ]
  },
  {
   "cell_type": "code",
   "execution_count": null,
   "metadata": {},
   "outputs": [],
   "source": [
    "# first get marginal frequencies\n",
    "toDisplay <- tb[[TRIALS]][order(coherence),.(freq = .N, correct = sum(correct)), by=coherence]\n",
    "\n",
    "# then add the accuracy column\n",
    "toDisplay <- toDisplay[,.(coherence, freq, correct, accuracy = round(correct/freq*100,digits=2))]\n",
    "toDisplay"
   ]
  },
  {
   "cell_type": "markdown",
   "metadata": {},
   "source": [
    "- Group by change point presence after CP time"
   ]
  },
  {
   "cell_type": "code",
   "execution_count": null,
   "metadata": {},
   "outputs": [],
   "source": [
    "# first get marginal frequencies\n",
    "toDisplay <- tb[[TRIALS]][viewingDuration > .2,\n",
    "                  .(freq = .N, correct = sum(correct)), \n",
    "                  by=.(viewingDuration, presenceCP)]\n",
    "# then add the accuracy column\n",
    "toDisplay <- toDisplay[,.(viewingDuration, freq, correct, presenceCP,  accuracy = round(correct/freq*100,digits=2))]\n",
    "toDisplay"
   ]
  },
  {
   "cell_type": "markdown",
   "metadata": {},
   "source": [
    "# Reverse Kernel Analysis"
   ]
  },
  {
   "cell_type": "markdown",
   "metadata": {},
   "source": [
    "Let's display the number of coherent dots on each frames, grouping by subject's choice."
   ]
  },
  {
   "cell_type": "code",
   "execution_count": null,
   "metadata": {},
   "outputs": [],
   "source": [
    "# count coherent dots on each frame\n",
    "cohDots <- tb[[DOTS]][,\n",
    "                      .(numCohDots=sum(isCoherent), \n",
    "                        initDirection, \n",
    "                        endDirection, \n",
    "                        presenceCP),\n",
    "                      by=.(frameIdx, trialCount)]\n",
    "\n",
    "# see if some frames have 0 coherent dots\n",
    "unique(cohDots[numCohDots == 0,.(trialCount,frameIdx)])"
   ]
  },
  {
   "cell_type": "code",
   "execution_count": null,
   "metadata": {},
   "outputs": [],
   "source": [
    "# let's try to sign numCohDots according to the direction of motion (+ for R and - for L)\n",
    "## add a copy of numCohDots column named signedNumCohDots, and an ID col that just indexes the rows\n",
    "cohDots[,\"signedNumCohDots\" := .(numCohDots)]"
   ]
  },
  {
   "cell_type": "code",
   "execution_count": null,
   "metadata": {},
   "outputs": [],
   "source": [
    "## on non-cp trials, adjust sign according to initDirection\n",
    "cohDots[initDirection == 180 & presenceCP == 0, signedNumCohDots := -numCohDots] "
   ]
  },
  {
   "cell_type": "code",
   "execution_count": null,
   "metadata": {},
   "outputs": [],
   "source": [
    "## on cp-trials,\n",
    "    # rough estimate of number of frames that are before the CP (for now)\n",
    "if (length(unique(tb[[TRIALS]]$timeCP)) == 1) {\n",
    "    foreFrameCount <- tb[[TRIALS]][,timeCP][1] * FRAME_RATE_ESTIMATE\n",
    "} "
   ]
  },
  {
   "cell_type": "code",
   "execution_count": null,
   "metadata": {},
   "outputs": [],
   "source": [
    "foreFrameCount"
   ]
  },
  {
   "cell_type": "code",
   "execution_count": null,
   "metadata": {},
   "outputs": [],
   "source": [
    "rows <- cohDots[, .(rowNumber=.I[initDirection==180 & presenceCP == 1]), by=.(trialCount,frameIdx)]\n",
    "cohDots[[\"signedNumCohDots\"]][\n",
    "    rows[frameIdx <= foreFrameCount,rowNumber]] <- -cohDots[[\"numCohDots\"]][\n",
    "        rows[frameIdx <= foreFrameCount,rowNumber]]"
   ]
  },
  {
   "cell_type": "code",
   "execution_count": null,
   "metadata": {},
   "outputs": [],
   "source": [
    "rows <- cohDots[, .(rowNumber=.I[initDirection==0 & presenceCP == 1]), by=.(trialCount,frameIdx)]\n",
    "cohDots[[\"signedNumCohDots\"]][\n",
    "    rows[frameIdx > foreFrameCount,rowNumber]] <- -cohDots[[\"numCohDots\"]][\n",
    "        rows[frameIdx > foreFrameCount,rowNumber]]"
   ]
  },
  {
   "cell_type": "code",
   "execution_count": null,
   "metadata": {},
   "outputs": [],
   "source": [
    "# diagnostic\n",
    "unique(cohDots[presenceCP == 1,\n",
    "               .(initDirection,endDirection,presenceCP,numCohDots,signedNumCohDots) ,\n",
    "               by=.(frameIdx,trialCount)])"
   ]
  },
  {
   "cell_type": "code",
   "execution_count": null,
   "metadata": {},
   "outputs": [],
   "source": [
    "# control output figure size\n",
    "options(repr.plot.width=8, repr.plot.height=60)\n",
    "\n",
    "# add ID col to tb[[DOTS]] and cohDots to perform a join\n",
    "tb[[DOTS]][,ID:=.I]\n",
    "cohDots[,rowNumber := NULL]\n",
    "cohDots[,ID:=.I]\n",
    "\n",
    "# plot\n",
    "ggplot(tb[[DOTS]][cohDots, on=c(\"ID\",\"frameIdx\",\"trialCount\")], aes(x=frameIdx, y=signedNumCohDots)) + \n",
    "    geom_point(aes(col=factor(correct), shape=factor(presenceCP)), size=2) +\n",
    "    facet_grid(trialIndex~coherence) +\n",
    "#    geom_line(aes(col=Event),size=.2) +\n",
    "    geom_hline(yintercept = 0) +\n",
    "    guides(colour = guide_legend(reverse=T), shape = guide_legend(reverse=T)) +\n",
    "    labs(title=\"Signed # of Coherent Dots per Frames per Trials\",\n",
    "         subtitle=paste(\"From pilot\",PILOT_NUMBER,\" dataset\",sep=\"\"),\n",
    "         y=\"# Coherent Dots\",\n",
    "         x=\"Frame #\",\n",
    "         color=\"Correct\", shape=\"Change Point\") + \n",
    "    theme(plot.title=element_text(size=20, lineheight=1.2),  # title\n",
    "            plot.subtitle=element_text(size=15, family=\"American Typewriter\"),  # subtitle\n",
    "            plot.caption=element_text(size=15),                                 # caption\n",
    "            axis.title.x=element_text(size=AXES_LABEL_FONT),  # X axis title\n",
    "            axis.title.y=element_text(size=AXES_LABEL_FONT),  # Y axis title\n",
    "            axis.text.x=element_text(size=AXES_FONT),  # X axis text\n",
    "            axis.text.y=element_text(size=AXES_FONT))  # Y axis text"
   ]
  },
  {
   "cell_type": "markdown",
   "metadata": {},
   "source": [
    "# Miscellaneous\n",
    "##  Explore random seed"
   ]
  },
  {
   "cell_type": "code",
   "execution_count": null,
   "metadata": {},
   "outputs": [],
   "source": [
    "seedTable <- tb[[TRIALS]][,.(randSeedBase,trialIndex),by=trialCount]\n",
    "\n",
    "# control output figure size\n",
    "options(repr.plot.width=7, repr.plot.height=6)\n",
    "\n",
    "g <- ggplot(seedTable, aes(x=trialCount, y=randSeedBase)) + \n",
    "  geom_line(size=.2) #+  geom_point(aes(shape=factor(presenceCP), col=factor(viewingDuration)),size=3) \n",
    "\n",
    "# Add Title and Labels\n",
    "g + labs(title=\"Random seed base\", \n",
    "         subtitle=paste(\"From pilot\",PILOT_NUMBER,\" dataset\",sep=\"\"), \n",
    "         y=\"randSeedBase\", \n",
    "         x=\"trial (in session order)\") + theme(plot.title=element_text(size=20, \n",
    "                                    family=\"American Typewriter\",\n",
    "                                    color=\"tomato\",\n",
    "                                    lineheight=1.2),  # title\n",
    "            plot.subtitle=element_text(size=15, \n",
    "                                       family=\"American Typewriter\"),  # subtitle\n",
    "            plot.caption=element_text(size=15),  # caption\n",
    "            axis.title.x=element_text(size=AXES_LABEL_FONT),  # X axis title\n",
    "            axis.title.y=element_text(size=AXES_LABEL_FONT),  # Y axis title\n",
    "            axis.text.x=element_text(size=AXES_FONT),  # X axis text\n",
    "            axis.text.y=element_text(size=AXES_FONT))  # Y axis text"
   ]
  },
  {
   "cell_type": "code",
   "execution_count": null,
   "metadata": {},
   "outputs": [],
   "source": []
  }
 ],
 "metadata": {
  "kernelspec": {
   "display_name": "R",
   "language": "R",
   "name": "ir"
  },
  "language_info": {
   "codemirror_mode": "r",
   "file_extension": ".r",
   "mimetype": "text/x-r-source",
   "name": "R",
   "pygments_lexer": "r",
   "version": "3.5.2"
  },
  "toc": {
   "base_numbering": 1,
   "nav_menu": {
    "height": "587px",
    "width": "790px"
   },
   "number_sections": true,
   "sideBar": true,
   "skip_h1_title": false,
   "title_cell": "Table of Contents",
   "title_sidebar": "Contents",
   "toc_cell": false,
   "toc_position": {},
   "toc_section_display": true,
   "toc_window_display": false
  }
 },
 "nbformat": 4,
 "nbformat_minor": 2
}
