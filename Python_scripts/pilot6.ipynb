{
 "cells": [
  {
   "cell_type": "code",
   "execution_count": 66,
   "metadata": {},
   "outputs": [
    {
     "data": {
      "text/html": [
       "<script>\n",
       "  code_show=true;\n",
       "  function code_toggle() {\n",
       "    if (code_show){\n",
       "      $('div.input').hide();\n",
       "    } else {\n",
       "      $('div.input').show();\n",
       "    }\n",
       "    code_show = !code_show\n",
       "  } \n",
       "  $( document ).ready(code_toggle);\n",
       "</script>\n",
       "<font size=4>\n",
       "<a href=\"javascript:code_toggle()\">Toggle ON/OFF</a>\n",
       "code cells.\n",
       "</font>\n"
      ]
     },
     "metadata": {},
     "output_type": "display_data"
    }
   ],
   "source": [
    "IRdisplay::display_html(file='code_hiding.html')"
   ]
  },
  {
   "cell_type": "code",
   "execution_count": 52,
   "metadata": {},
   "outputs": [],
   "source": [
    "# load packages and define constants\n",
    "library(data.table) # see https://cran.r-project.org/web/packages/data.table/vignettes/datatable-intro.html for reference\n",
    "library(ggplot2)\n",
    "source(\"R_functions.r\")\n",
    "\n",
    "# folder/file-specific constants\n",
    "PILOT_NUMBER <- 6\n",
    "DATA_FOLDER <- \"~/programing/data/psychophys/\"\n",
    "FIRA_TAG <- \"FIRA\"\n",
    "FRAMES_TAG <- \"framesInfo\"\n",
    "DOTS_TAG <- \"dotsPositions\"\n",
    "\n",
    "# key-specific constants \n",
    "TRIALS <- \"trials\"\n",
    "FRAMES <- \"frames\"\n",
    "DOTS <- \"dots\"\n",
    "\n",
    "# plot-specific constants\n",
    "AXES_LABEL_FONT <- 18\n",
    "AXES_FONT <- 15"
   ]
  },
  {
   "cell_type": "code",
   "execution_count": 53,
   "metadata": {},
   "outputs": [],
   "source": [
    "# load csv files into data.tables\n",
    "tb <- list(\n",
    "    loadPilotCSV(PILOT_NUMBER, DATA_FOLDER, FIRA_TAG),\n",
    "    loadPilotCSV(PILOT_NUMBER, DATA_FOLDER, FRAMES_TAG),\n",
    "    loadPilotCSV(PILOT_NUMBER, DATA_FOLDER, DOTS_TAG))\n",
    "names(tb) <- c(TRIALS, FRAMES, DOTS)"
   ]
  },
  {
   "cell_type": "markdown",
   "metadata": {},
   "source": [
    "# Notebook's goals\n",
    "\n",
    "Make sure the workflow from running the task to analyzing the data works.\n",
    "\n",
    "\n",
    "## Workflow description\n",
    "1. Task is run with repo [SingleCP_DotsReversal_Task](https://github.com/TheGoldLab/SingleCP_DotsReversal_Task/) (appropriate branch must be chosen).\n",
    "  1. A `.mat` data file is outputted\n",
    "  2. I usually manually rename this file `pilot_#.mat` and upload it to PennBox (Data/Psychophysics/Radillo_SingleCP_DotsReversal/)\n",
    "2. Data is analyzed with repo [SingleCP_DotsReversal_DataAnalaysis](https://github.com/aernesto/SingleCP_DotsReversal_DataAnalysis)(again, with the appropriate branch).\n",
    "  1. The first step is to convert data from the .mat file into CSV format with [this script](https://github.com/aernesto/SingleCP_DotsReversal_DataAnalysis/blob/02109ab98b956f2aad4ac15f01e1d373260c8af0/MATLAB_scripts/mat2csv.m) \n",
    "    - `pilot#_framesInfo.csv` [Fields description](https://github.com/aernesto/SingleCP_DotsReversal_DataAnalysis/wiki/Fields-description-of-*framesInfo.csv-file).\n",
    "    - `pilot#_FIRA.csv`  [Fields description](https://github.com/aernesto/SingleCP_DotsReversal_DataAnalysis/wiki/Fields-Description-of-*FIRA.csv-files).\n",
    "    - `pilot#_dotsPositions.csv` [Fields description](https://github.com/aernesto/SingleCP_DotsReversal_DataAnalysis/wiki/Fields-descriptions-for-*dotsPositions.csv-file).\n",
    "\n",
    "**TO-DO**\n",
    "- Write detailed explanation of each column in each `.csv` file (i.e. update the [Wiki](https://github.com/aernesto/SingleCP_DotsReversal_DataAnalysis/wiki))\n",
    "- Make sure data from the three `.csv` files is consistent\n",
    "\n",
    "## Specific questions\n",
    "1. How many frames are skipped on each trial, and where in the trial do they occur?\n",
    "2. Does this number match the offset in viewing duration per trial?\n",
    "3. Compute reverse kernels with the number of coherent dots as a proxy for motion energy\n",
    "\n",
    "# Exploring the data\n",
    "## The `*FIRA.csv` file (trials level)"
   ]
  },
  {
   "cell_type": "code",
   "execution_count": 54,
   "metadata": {
    "scrolled": true
   },
   "outputs": [
    {
     "name": "stdout",
     "output_type": "stream",
     "text": [
      "Classes ‘data.table’ and 'data.frame':\t18 obs. of  25 variables:\n",
      " $ taskID         : int  2 2 2 2 2 2 2 2 2 2 ...\n",
      " $ trialIndex     : int  6 9 12 14 1 15 4 17 11 10 ...\n",
      " $ trialStart     : num  805061 805066 805071 805076 805081 ...\n",
      " $ trialEnd       : num  805066 805071 805076 805081 805085 ...\n",
      " $ RT             : num  1.222 1.223 1.1 0.703 1.228 ...\n",
      " $ choice         : int  1 0 0 0 0 1 0 1 1 0 ...\n",
      " $ correct        : int  1 0 0 1 1 0 1 1 1 0 ...\n",
      " $ initDirection  : int  0 0 0 0 180 180 180 180 0 0 ...\n",
      " $ endDirection   : int  0 0 0 180 180 180 180 0 0 0 ...\n",
      " $ presenceCP     : int  0 0 0 1 0 0 0 1 0 0 ...\n",
      " $ coherence      : num  25.6 12.8 25.6 6.4 6.4 12.8 12.8 25.6 25.6 12.8 ...\n",
      " $ viewingDuration: num  0.1 0.2 0.2 0.3 0.1 0.3 0.1 0.3 0.2 0.2 ...\n",
      " $ probCP         : num  0.5 0.5 0.5 0.5 0.5 0.5 0.5 0.5 0.5 0.5 ...\n",
      " $ timeCP         : num  0.2 0.2 0.2 0.2 0.2 0.2 0.2 0.2 0.2 0.2 ...\n",
      " $ randSeedBase   : int  7597 9958 1108 5553 2607 9306 2457 859 8670 7918 ...\n",
      " $ fixationOn     : num  1610123 1610133 1610143 1610152 1610161 ...\n",
      " $ fixationStart  : num  NaN NaN NaN NaN NaN NaN NaN NaN NaN NaN ...\n",
      " $ targetOn       : num  1610124 1610135 1610144 1610153 1610163 ...\n",
      " $ dotsOn         : num  1610125 1610135 1610145 1610154 1610163 ...\n",
      " $ dotsOff        : num  1610125 1610135 1610145 1610155 1610163 ...\n",
      " $ choiceTime     : num  1610127 1610137 1610146 1610155 1610165 ...\n",
      " $ targetOff      : num  NaN NaN NaN NaN NaN NaN NaN NaN NaN NaN ...\n",
      " $ fixationOff    : num  NaN NaN NaN NaN NaN NaN NaN NaN NaN NaN ...\n",
      " $ feedbackOn     : num  NaN NaN NaN NaN NaN NaN NaN NaN NaN NaN ...\n",
      " $ numFrames      : int  6 17 16 24 11 24 11 24 18 17 ...\n",
      " - attr(*, \".internal.selfref\")=<externalptr> \n"
     ]
    }
   ],
   "source": [
    "str(tb[[TRIALS]])"
   ]
  },
  {
   "cell_type": "markdown",
   "metadata": {},
   "source": [
    "## The `*framesInfo.csv` file (frames level)"
   ]
  },
  {
   "cell_type": "code",
   "execution_count": 55,
   "metadata": {},
   "outputs": [
    {
     "name": "stdout",
     "output_type": "stream",
     "text": [
      "Classes ‘data.table’ and 'data.frame':\t314 obs. of  6 variables:\n",
      " $ frameTotCount: int  3 4 5 6 7 8 9 10 11 12 ...\n",
      " $ onsetTime    : num  805062 805063 805064 805064 805064 ...\n",
      " $ onsetFrame   : int  215 290 345 351 352 353 508 600 624 625 ...\n",
      " $ swapTime     : num  805062 805063 805064 805064 805064 ...\n",
      " $ isTight      : int  0 0 0 0 1 1 0 0 0 1 ...\n",
      " $ trialIndex   : int  6 6 6 6 6 6 9 9 9 9 ...\n",
      " - attr(*, \".internal.selfref\")=<externalptr> \n"
     ]
    }
   ],
   "source": [
    "str(tb[[FRAMES]])"
   ]
  },
  {
   "cell_type": "code",
   "execution_count": 56,
   "metadata": {},
   "outputs": [],
   "source": [
    "#tb[[FRAMES]][order(onsetFrame),.(minOnset=min(onsetFrame), maxOnset=max(onsetFrame), numUniqueOnset=.N), by=trialIndex]"
   ]
  },
  {
   "cell_type": "markdown",
   "metadata": {},
   "source": [
    "## The `*dotsPositions.csv` file (dots level)"
   ]
  },
  {
   "cell_type": "code",
   "execution_count": 57,
   "metadata": {},
   "outputs": [
    {
     "name": "stdout",
     "output_type": "stream",
     "text": [
      "Classes ‘data.table’ and 'data.frame':\t43862 obs. of  6 variables:\n",
      " $ xpos      : num  0.7459 0.5048 0.8971 0.3443 0.0796 ...\n",
      " $ ypos      : num  0.2885 0.8416 0.5606 0.5963 0.0589 ...\n",
      " $ isActive  : int  1 0 0 1 0 0 1 0 0 1 ...\n",
      " $ isCoherent: int  1 0 0 1 0 0 1 0 0 1 ...\n",
      " $ frameIdx  : int  1 1 1 1 1 1 1 1 1 1 ...\n",
      " $ trialCount: int  1 1 1 1 1 1 1 1 1 1 ...\n",
      " - attr(*, \".internal.selfref\")=<externalptr> \n"
     ]
    }
   ],
   "source": [
    "str(tb[[DOTS]])\n",
    "#tb[[DOTS]][,.(.N),by=.(frameIdx,trialCount)]"
   ]
  },
  {
   "cell_type": "markdown",
   "metadata": {},
   "source": [
    "# Checking that the three datasets are consistent\n",
    "As we can see, the `frameIdx` field is common to `tb[[FRAMES]]` and `tb[[DOTS]]`, and the `trialIdx` is common to `tb[[DOTS]]` and `tb[[TRIALS]]`. Let's check whether these common fields match in terms of their unique values in each dataset.\n",
    "## Exploring match between frames and dots levels"
   ]
  },
  {
   "cell_type": "code",
   "execution_count": 58,
   "metadata": {},
   "outputs": [
    {
     "data": {
      "text/html": [
       "314"
      ],
      "text/latex": [
       "314"
      ],
      "text/markdown": [
       "314"
      ],
      "text/plain": [
       "[1] 314"
      ]
     },
     "metadata": {},
     "output_type": "display_data"
    }
   ],
   "source": [
    "length(unique(tb[[FRAMES]][,frameTotCount]))"
   ]
  },
  {
   "cell_type": "code",
   "execution_count": 59,
   "metadata": {},
   "outputs": [
    {
     "data": {
      "text/html": [
       "<ol class=list-inline>\n",
       "\t<li>1</li>\n",
       "\t<li>2</li>\n",
       "\t<li>3</li>\n",
       "\t<li>4</li>\n",
       "\t<li>5</li>\n",
       "\t<li>6</li>\n",
       "\t<li>7</li>\n",
       "\t<li>8</li>\n",
       "\t<li>9</li>\n",
       "\t<li>10</li>\n",
       "\t<li>11</li>\n",
       "\t<li>12</li>\n",
       "\t<li>13</li>\n",
       "\t<li>14</li>\n",
       "\t<li>15</li>\n",
       "\t<li>16</li>\n",
       "\t<li>17</li>\n",
       "\t<li>18</li>\n",
       "\t<li>19</li>\n",
       "\t<li>20</li>\n",
       "\t<li>21</li>\n",
       "</ol>\n"
      ],
      "text/latex": [
       "\\begin{enumerate*}\n",
       "\\item 1\n",
       "\\item 2\n",
       "\\item 3\n",
       "\\item 4\n",
       "\\item 5\n",
       "\\item 6\n",
       "\\item 7\n",
       "\\item 8\n",
       "\\item 9\n",
       "\\item 10\n",
       "\\item 11\n",
       "\\item 12\n",
       "\\item 13\n",
       "\\item 14\n",
       "\\item 15\n",
       "\\item 16\n",
       "\\item 17\n",
       "\\item 18\n",
       "\\item 19\n",
       "\\item 20\n",
       "\\item 21\n",
       "\\end{enumerate*}\n"
      ],
      "text/markdown": [
       "1. 1\n",
       "2. 2\n",
       "3. 3\n",
       "4. 4\n",
       "5. 5\n",
       "6. 6\n",
       "7. 7\n",
       "8. 8\n",
       "9. 9\n",
       "10. 10\n",
       "11. 11\n",
       "12. 12\n",
       "13. 13\n",
       "14. 14\n",
       "15. 15\n",
       "16. 16\n",
       "17. 17\n",
       "18. 18\n",
       "19. 19\n",
       "20. 20\n",
       "21. 21\n",
       "\n",
       "\n"
      ],
      "text/plain": [
       " [1]  1  2  3  4  5  6  7  8  9 10 11 12 13 14 15 16 17 18 19 20 21"
      ]
     },
     "metadata": {},
     "output_type": "display_data"
    },
    {
     "data": {
      "text/html": [
       "21"
      ],
      "text/latex": [
       "21"
      ],
      "text/markdown": [
       "21"
      ],
      "text/plain": [
       "[1] 21"
      ]
     },
     "metadata": {},
     "output_type": "display_data"
    }
   ],
   "source": [
    "unique(tb[[DOTS]][,frameIdx])\n",
    "length(unique(tb[[DOTS]][,frameIdx]))"
   ]
  },
  {
   "cell_type": "markdown",
   "metadata": {},
   "source": [
    "## Exploring match between `DOTS` and `TRIALS` levels"
   ]
  },
  {
   "cell_type": "code",
   "execution_count": 60,
   "metadata": {},
   "outputs": [
    {
     "data": {
      "text/html": [
       "<ol class=list-inline>\n",
       "\t<li>1</li>\n",
       "\t<li>2</li>\n",
       "\t<li>3</li>\n",
       "\t<li>4</li>\n",
       "\t<li>5</li>\n",
       "\t<li>6</li>\n",
       "\t<li>7</li>\n",
       "\t<li>8</li>\n",
       "\t<li>9</li>\n",
       "\t<li>10</li>\n",
       "\t<li>11</li>\n",
       "\t<li>12</li>\n",
       "\t<li>13</li>\n",
       "\t<li>14</li>\n",
       "\t<li>15</li>\n",
       "\t<li>16</li>\n",
       "\t<li>17</li>\n",
       "\t<li>18</li>\n",
       "</ol>\n"
      ],
      "text/latex": [
       "\\begin{enumerate*}\n",
       "\\item 1\n",
       "\\item 2\n",
       "\\item 3\n",
       "\\item 4\n",
       "\\item 5\n",
       "\\item 6\n",
       "\\item 7\n",
       "\\item 8\n",
       "\\item 9\n",
       "\\item 10\n",
       "\\item 11\n",
       "\\item 12\n",
       "\\item 13\n",
       "\\item 14\n",
       "\\item 15\n",
       "\\item 16\n",
       "\\item 17\n",
       "\\item 18\n",
       "\\end{enumerate*}\n"
      ],
      "text/markdown": [
       "1. 1\n",
       "2. 2\n",
       "3. 3\n",
       "4. 4\n",
       "5. 5\n",
       "6. 6\n",
       "7. 7\n",
       "8. 8\n",
       "9. 9\n",
       "10. 10\n",
       "11. 11\n",
       "12. 12\n",
       "13. 13\n",
       "14. 14\n",
       "15. 15\n",
       "16. 16\n",
       "17. 17\n",
       "18. 18\n",
       "\n",
       "\n"
      ],
      "text/plain": [
       " [1]  1  2  3  4  5  6  7  8  9 10 11 12 13 14 15 16 17 18"
      ]
     },
     "metadata": {},
     "output_type": "display_data"
    }
   ],
   "source": [
    "unique(tb[[DOTS]][,trialCount])"
   ]
  },
  {
   "cell_type": "code",
   "execution_count": 61,
   "metadata": {},
   "outputs": [
    {
     "data": {
      "text/html": [
       "<ol class=list-inline>\n",
       "\t<li>6</li>\n",
       "\t<li>9</li>\n",
       "\t<li>12</li>\n",
       "\t<li>14</li>\n",
       "\t<li>1</li>\n",
       "\t<li>15</li>\n",
       "\t<li>4</li>\n",
       "\t<li>17</li>\n",
       "\t<li>11</li>\n",
       "\t<li>10</li>\n",
       "\t<li>3</li>\n",
       "\t<li>5</li>\n",
       "\t<li>13</li>\n",
       "\t<li>8</li>\n",
       "\t<li>18</li>\n",
       "\t<li>2</li>\n",
       "\t<li>7</li>\n",
       "\t<li>16</li>\n",
       "</ol>\n"
      ],
      "text/latex": [
       "\\begin{enumerate*}\n",
       "\\item 6\n",
       "\\item 9\n",
       "\\item 12\n",
       "\\item 14\n",
       "\\item 1\n",
       "\\item 15\n",
       "\\item 4\n",
       "\\item 17\n",
       "\\item 11\n",
       "\\item 10\n",
       "\\item 3\n",
       "\\item 5\n",
       "\\item 13\n",
       "\\item 8\n",
       "\\item 18\n",
       "\\item 2\n",
       "\\item 7\n",
       "\\item 16\n",
       "\\end{enumerate*}\n"
      ],
      "text/markdown": [
       "1. 6\n",
       "2. 9\n",
       "3. 12\n",
       "4. 14\n",
       "5. 1\n",
       "6. 15\n",
       "7. 4\n",
       "8. 17\n",
       "9. 11\n",
       "10. 10\n",
       "11. 3\n",
       "12. 5\n",
       "13. 13\n",
       "14. 8\n",
       "15. 18\n",
       "16. 2\n",
       "17. 7\n",
       "18. 16\n",
       "\n",
       "\n"
      ],
      "text/plain": [
       " [1]  6  9 12 14  1 15  4 17 11 10  3  5 13  8 18  2  7 16"
      ]
     },
     "metadata": {},
     "output_type": "display_data"
    },
    {
     "data": {
      "text/html": [
       "18"
      ],
      "text/latex": [
       "18"
      ],
      "text/markdown": [
       "18"
      ],
      "text/plain": [
       "[1] 18"
      ]
     },
     "metadata": {},
     "output_type": "display_data"
    },
    {
     "data": {
      "text/html": [
       "1"
      ],
      "text/latex": [
       "1"
      ],
      "text/markdown": [
       "1"
      ],
      "text/plain": [
       "[1] 1"
      ]
     },
     "metadata": {},
     "output_type": "display_data"
    },
    {
     "data": {
      "text/html": [
       "18"
      ],
      "text/latex": [
       "18"
      ],
      "text/markdown": [
       "18"
      ],
      "text/plain": [
       "[1] 18"
      ]
     },
     "metadata": {},
     "output_type": "display_data"
    }
   ],
   "source": [
    "unique(tb[[TRIALS]][,trialIndex])\n",
    "length(unique(tb[[TRIALS]][,trialIndex]))\n",
    "min(unique(tb[[TRIALS]][,trialIndex]))\n",
    "max(unique(tb[[TRIALS]][,trialIndex]))"
   ]
  },
  {
   "cell_type": "markdown",
   "metadata": {},
   "source": [
    "## Exploring match between `FRAMES` and `TRIALS` levels\n",
    "### Frame count\n",
    "- does the number of frames assigned to each trial match the frame count of each trial (match col)?"
   ]
  },
  {
   "cell_type": "code",
   "execution_count": 62,
   "metadata": {},
   "outputs": [
    {
     "data": {
      "text/html": [
       "<table>\n",
       "<thead><tr><th scope=col>trialIndex</th><th scope=col>numInFRAMES</th><th scope=col>numInTRIALS</th><th scope=col>match</th></tr></thead>\n",
       "<tbody>\n",
       "\t<tr><td> 1   </td><td>11   </td><td>11   </td><td> TRUE</td></tr>\n",
       "\t<tr><td> 2   </td><td>11   </td><td>11   </td><td> TRUE</td></tr>\n",
       "\t<tr><td> 3   </td><td>11   </td><td>11   </td><td> TRUE</td></tr>\n",
       "\t<tr><td> 4   </td><td>11   </td><td>11   </td><td> TRUE</td></tr>\n",
       "\t<tr><td> 5   </td><td>12   </td><td>12   </td><td> TRUE</td></tr>\n",
       "\t<tr><td> 6   </td><td> 6   </td><td> 6   </td><td> TRUE</td></tr>\n",
       "\t<tr><td> 7   </td><td>18   </td><td>18   </td><td> TRUE</td></tr>\n",
       "\t<tr><td> 8   </td><td>19   </td><td>19   </td><td> TRUE</td></tr>\n",
       "\t<tr><td> 9   </td><td>17   </td><td>17   </td><td> TRUE</td></tr>\n",
       "\t<tr><td>10   </td><td>17   </td><td>17   </td><td> TRUE</td></tr>\n",
       "\t<tr><td>11   </td><td>18   </td><td>18   </td><td> TRUE</td></tr>\n",
       "\t<tr><td>12   </td><td>16   </td><td>16   </td><td> TRUE</td></tr>\n",
       "\t<tr><td>13   </td><td>24   </td><td>24   </td><td> TRUE</td></tr>\n",
       "\t<tr><td>14   </td><td>24   </td><td>24   </td><td> TRUE</td></tr>\n",
       "\t<tr><td>15   </td><td>24   </td><td>24   </td><td> TRUE</td></tr>\n",
       "\t<tr><td>16   </td><td>26   </td><td>25   </td><td>FALSE</td></tr>\n",
       "\t<tr><td>17   </td><td>24   </td><td>24   </td><td> TRUE</td></tr>\n",
       "\t<tr><td>18   </td><td>25   </td><td>25   </td><td> TRUE</td></tr>\n",
       "</tbody>\n",
       "</table>\n"
      ],
      "text/latex": [
       "\\begin{tabular}{r|llll}\n",
       " trialIndex & numInFRAMES & numInTRIALS & match\\\\\n",
       "\\hline\n",
       "\t  1    & 11    & 11    &  TRUE\\\\\n",
       "\t  2    & 11    & 11    &  TRUE\\\\\n",
       "\t  3    & 11    & 11    &  TRUE\\\\\n",
       "\t  4    & 11    & 11    &  TRUE\\\\\n",
       "\t  5    & 12    & 12    &  TRUE\\\\\n",
       "\t  6    &  6    &  6    &  TRUE\\\\\n",
       "\t  7    & 18    & 18    &  TRUE\\\\\n",
       "\t  8    & 19    & 19    &  TRUE\\\\\n",
       "\t  9    & 17    & 17    &  TRUE\\\\\n",
       "\t 10    & 17    & 17    &  TRUE\\\\\n",
       "\t 11    & 18    & 18    &  TRUE\\\\\n",
       "\t 12    & 16    & 16    &  TRUE\\\\\n",
       "\t 13    & 24    & 24    &  TRUE\\\\\n",
       "\t 14    & 24    & 24    &  TRUE\\\\\n",
       "\t 15    & 24    & 24    &  TRUE\\\\\n",
       "\t 16    & 26    & 25    & FALSE\\\\\n",
       "\t 17    & 24    & 24    &  TRUE\\\\\n",
       "\t 18    & 25    & 25    &  TRUE\\\\\n",
       "\\end{tabular}\n"
      ],
      "text/markdown": [
       "\n",
       "| trialIndex | numInFRAMES | numInTRIALS | match |\n",
       "|---|---|---|---|\n",
       "|  1    | 11    | 11    |  TRUE |\n",
       "|  2    | 11    | 11    |  TRUE |\n",
       "|  3    | 11    | 11    |  TRUE |\n",
       "|  4    | 11    | 11    |  TRUE |\n",
       "|  5    | 12    | 12    |  TRUE |\n",
       "|  6    |  6    |  6    |  TRUE |\n",
       "|  7    | 18    | 18    |  TRUE |\n",
       "|  8    | 19    | 19    |  TRUE |\n",
       "|  9    | 17    | 17    |  TRUE |\n",
       "| 10    | 17    | 17    |  TRUE |\n",
       "| 11    | 18    | 18    |  TRUE |\n",
       "| 12    | 16    | 16    |  TRUE |\n",
       "| 13    | 24    | 24    |  TRUE |\n",
       "| 14    | 24    | 24    |  TRUE |\n",
       "| 15    | 24    | 24    |  TRUE |\n",
       "| 16    | 26    | 25    | FALSE |\n",
       "| 17    | 24    | 24    |  TRUE |\n",
       "| 18    | 25    | 25    |  TRUE |\n",
       "\n"
      ],
      "text/plain": [
       "   trialIndex numInFRAMES numInTRIALS match\n",
       "1   1         11          11           TRUE\n",
       "2   2         11          11           TRUE\n",
       "3   3         11          11           TRUE\n",
       "4   4         11          11           TRUE\n",
       "5   5         12          12           TRUE\n",
       "6   6          6           6           TRUE\n",
       "7   7         18          18           TRUE\n",
       "8   8         19          19           TRUE\n",
       "9   9         17          17           TRUE\n",
       "10 10         17          17           TRUE\n",
       "11 11         18          18           TRUE\n",
       "12 12         16          16           TRUE\n",
       "13 13         24          24           TRUE\n",
       "14 14         24          24           TRUE\n",
       "15 15         24          24           TRUE\n",
       "16 16         26          25          FALSE\n",
       "17 17         24          24           TRUE\n",
       "18 18         25          25           TRUE"
      ]
     },
     "metadata": {},
     "output_type": "display_data"
    }
   ],
   "source": [
    "setkey(tb[[FRAMES]], trialIndex)\n",
    "setkey(tb[[TRIALS]], trialIndex)\n",
    "\n",
    "# Full OUTER JOIN (see https://rstudio-pubs-static.s3.amazonaws.com/52230_5ae0d25125b544caab32f75f0360e775.html)\n",
    "frameCount <- merge(\n",
    "    tb[[FRAMES]][order(trialIndex),.(numInFRAMES=.N),by=trialIndex],\n",
    "    tb[[TRIALS]][order(trialIndex),.(numInTRIALS=numFrames),by=trialIndex],\n",
    "    all=TRUE)\n",
    "frameCount[,.(trialIndex, numInFRAMES, numInTRIALS, match=numInFRAMES == numInTRIALS)]"
   ]
  },
  {
   "cell_type": "markdown",
   "metadata": {},
   "source": [
    "Any non-match in the right-most column above signals an *issue*."
   ]
  },
  {
   "cell_type": "markdown",
   "metadata": {},
   "source": [
    "### Timing of trial vs. timing of frames\n",
    "- what time gaps do I observe between trial start and 1st frame start, and last frame end and trial end?"
   ]
  },
  {
   "cell_type": "code",
   "execution_count": 63,
   "metadata": {},
   "outputs": [
    {
     "name": "stdout",
     "output_type": "stream",
     "text": [
      "Classes ‘data.table’ and 'data.frame':\t18 obs. of  5 variables:\n",
      " $ trialIndex: int  1 2 3 4 5 6 7 8 9 10 ...\n",
      " $ firstFrame: num  805081 805137 805111 805090 805117 ...\n",
      " $ lastFrame : num  805083 805139 805115 805093 805119 ...\n",
      " $ trialStart: num  805081 805137 805111 805090 805117 ...\n",
      " $ trialEnd  : num  805085 805141 805117 805096 805122 ...\n",
      " - attr(*, \"sorted\")= chr \"trialIndex\"\n",
      " - attr(*, \".internal.selfref\")=<externalptr> \n"
     ]
    }
   ],
   "source": [
    "# get times of first and last frame in each trial\n",
    "extremeFrameTimes <- tb[[FRAMES]][,.(firstFrame=min(swapTime), lastFrame=max(swapTime)),by=trialIndex]\n",
    "\n",
    "# add start and end times of each trial\n",
    "setkey(extremeFrameTimes, trialIndex)\n",
    "timeMatchFramesTrials <- merge(extremeFrameTimes,\n",
    "                   tb[[TRIALS]][,.(trialStart, trialEnd), by=trialIndex],\n",
    "                   all=TRUE)\n",
    "str(timeMatchFramesTrials)"
   ]
  },
  {
   "cell_type": "code",
   "execution_count": 64,
   "metadata": {},
   "outputs": [
    {
     "data": {
      "image/png": "[encoded data removed]",
      "text/plain": [
       "plot without title"
      ]
     },
     "metadata": {},
     "output_type": "display_data"
    }
   ],
   "source": [
    "# transform to long format for ggplot \n",
    "longTimeData <- melt(timeMatchFramesTrials[,\n",
    "                                           .(trialIndex, \n",
    "                                             earlyDelay=firstFrame - trialStart, \n",
    "                                             lateDelay=trialEnd - lastFrame)], \n",
    "                    id.vars=c(\"trialIndex\"),\n",
    "                    measure.vars=c(\"earlyDelay\", \"lateDelay\"),\n",
    "                    variable.name=\"delayType\", value.name=\"delay\")\n",
    "#str(longTimeData)\n",
    "\n",
    "frameRate <- 60 # rounded estimate obtained from dotsTheScreen.windowFrameRate\n",
    "frameDuration <- (1 / frameRate) # in msec\n",
    "frameDurations <- c(6*frameDuration, 140*frameDuration)\n",
    "\n",
    "# plot\n",
    "ggplot(longTimeData, aes(x=trialIndex, y=delay)) + geom_point(aes(col=delayType), size=2) +\n",
    "    geom_line(aes(col=delayType),size=.2) +\n",
    "    geom_hline(yintercept = frameDurations, linetype=\"dashed\") +\n",
    "    labs(title=\"Time Delay between extreme frames and trial ends\",\n",
    "         subtitle=paste(\"From pilot\",PILOT_NUMBER,\" dataset\",sep=\"\"),\n",
    "         y=\"Delay (sec)\",\n",
    "         x=\"Trial Index\") + theme(plot.title=element_text(size=20,\n",
    "                                    lineheight=1.2),  # title\n",
    "            plot.subtitle=element_text(size=15,\n",
    "                                       family=\"American Typewriter\"),  # subtitle\n",
    "            plot.caption=element_text(size=15),  # caption\n",
    "            axis.title.x=element_text(size=AXES_LABEL_FONT),  # X axis title\n",
    "            axis.title.y=element_text(size=AXES_LABEL_FONT),  # Y axis title\n",
    "            axis.text.x=element_text(size=AXES_FONT),  # X axis text\n",
    "            axis.text.y=element_text(size=AXES_FONT))  # Y axis text"
   ]
  },
  {
   "cell_type": "code",
   "execution_count": 65,
   "metadata": {},
   "outputs": [
    {
     "data": {
      "text/html": [
       "<table>\n",
       "<thead><tr><th scope=col>length</th></tr></thead>\n",
       "<tbody>\n",
       "\t<tr><td>4.450262</td></tr>\n",
       "\t<tr><td>4.288149</td></tr>\n",
       "\t<tr><td>5.577368</td></tr>\n",
       "\t<tr><td>5.585077</td></tr>\n",
       "\t<tr><td>4.777962</td></tr>\n",
       "\t<tr><td>5.185887</td></tr>\n",
       "\t<tr><td>4.627903</td></tr>\n",
       "\t<tr><td>4.712627</td></tr>\n",
       "\t<tr><td>4.807637</td></tr>\n",
       "\t<tr><td>5.084184</td></tr>\n",
       "\t<tr><td>4.785870</td></tr>\n",
       "\t<tr><td>4.491168</td></tr>\n",
       "\t<tr><td>5.676567</td></tr>\n",
       "\t<tr><td>4.828368</td></tr>\n",
       "\t<tr><td>5.142976</td></tr>\n",
       "\t<tr><td>4.284152</td></tr>\n",
       "\t<tr><td>5.669709</td></tr>\n",
       "\t<tr><td>4.751478</td></tr>\n",
       "</tbody>\n",
       "</table>\n"
      ],
      "text/latex": [
       "\\begin{tabular}{r|l}\n",
       " length\\\\\n",
       "\\hline\n",
       "\t 4.450262\\\\\n",
       "\t 4.288149\\\\\n",
       "\t 5.577368\\\\\n",
       "\t 5.585077\\\\\n",
       "\t 4.777962\\\\\n",
       "\t 5.185887\\\\\n",
       "\t 4.627903\\\\\n",
       "\t 4.712627\\\\\n",
       "\t 4.807637\\\\\n",
       "\t 5.084184\\\\\n",
       "\t 4.785870\\\\\n",
       "\t 4.491168\\\\\n",
       "\t 5.676567\\\\\n",
       "\t 4.828368\\\\\n",
       "\t 5.142976\\\\\n",
       "\t 4.284152\\\\\n",
       "\t 5.669709\\\\\n",
       "\t 4.751478\\\\\n",
       "\\end{tabular}\n"
      ],
      "text/markdown": [
       "\n",
       "| length |\n",
       "|---|\n",
       "| 4.450262 |\n",
       "| 4.288149 |\n",
       "| 5.577368 |\n",
       "| 5.585077 |\n",
       "| 4.777962 |\n",
       "| 5.185887 |\n",
       "| 4.627903 |\n",
       "| 4.712627 |\n",
       "| 4.807637 |\n",
       "| 5.084184 |\n",
       "| 4.785870 |\n",
       "| 4.491168 |\n",
       "| 5.676567 |\n",
       "| 4.828368 |\n",
       "| 5.142976 |\n",
       "| 4.284152 |\n",
       "| 5.669709 |\n",
       "| 4.751478 |\n",
       "\n"
      ],
      "text/plain": [
       "   length  \n",
       "1  4.450262\n",
       "2  4.288149\n",
       "3  5.577368\n",
       "4  5.585077\n",
       "5  4.777962\n",
       "6  5.185887\n",
       "7  4.627903\n",
       "8  4.712627\n",
       "9  4.807637\n",
       "10 5.084184\n",
       "11 4.785870\n",
       "12 4.491168\n",
       "13 5.676567\n",
       "14 4.828368\n",
       "15 5.142976\n",
       "16 4.284152\n",
       "17 5.669709\n",
       "18 4.751478"
      ]
     },
     "metadata": {},
     "output_type": "display_data"
    }
   ],
   "source": [
    "tb[[TRIALS]][, .(length=trialEnd - trialStart)]"
   ]
  }
 ],
 "metadata": {
  "kernelspec": {
   "display_name": "R",
   "language": "R",
   "name": "ir"
  },
  "language_info": {
   "codemirror_mode": "r",
   "file_extension": ".r",
   "mimetype": "text/x-r-source",
   "name": "R",
   "pygments_lexer": "r",
   "version": "3.5.2"
  }
 },
 "nbformat": 4,
 "nbformat_minor": 2
}
