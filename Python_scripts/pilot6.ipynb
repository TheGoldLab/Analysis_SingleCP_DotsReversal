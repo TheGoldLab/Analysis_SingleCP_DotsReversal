{
 "cells": [
  {
   "cell_type": "code",
   "execution_count": 20,
   "metadata": {},
   "outputs": [
    {
     "data": {
      "text/html": [
       "<script>\n",
       "  code_show=true;\n",
       "  function code_toggle() {\n",
       "    if (code_show){\n",
       "      $('div.input').hide();\n",
       "    } else {\n",
       "      $('div.input').show();\n",
       "    }\n",
       "    code_show = !code_show\n",
       "  } \n",
       "  $( document ).ready(code_toggle);\n",
       "</script>\n",
       "<font size=4>\n",
       "<a href=\"javascript:code_toggle()\">Toggle ON/OFF</a>\n",
       "code cells.\n",
       "</font>\n"
      ]
     },
     "metadata": {},
     "output_type": "display_data"
    }
   ],
   "source": [
    "IRdisplay::display_html(file='code_hiding.html')"
   ]
  },
  {
   "cell_type": "code",
   "execution_count": 1,
   "metadata": {},
   "outputs": [],
   "source": [
    "# load packages and define constants\n",
    "library(data.table) # see https://cran.r-project.org/web/packages/data.table/vignettes/datatable-intro.html for reference\n",
    "library(ggplot2)\n",
    "source(\"R_functions.r\")\n",
    "\n",
    "# folder/file-specific constants\n",
    "PILOT_NUMBER <- 6\n",
    "DATA_FOLDER <- \"~/programing/data/psychophys/\"\n",
    "FIRA_TAG <- \"FIRA\"\n",
    "FRAMES_TAG <- \"framesInfo\"\n",
    "DOTS_TAG <- \"dotsPositions\"\n",
    "\n",
    "# key-specific constants \n",
    "TRIALS <- \"trials\"\n",
    "FRAMES <- \"frames\"\n",
    "DOTS <- \"dots\""
   ]
  },
  {
   "cell_type": "code",
   "execution_count": 2,
   "metadata": {},
   "outputs": [],
   "source": [
    "# load csv files into data.tables\n",
    "tb <- list(\n",
    "    loadPilotCSV(PILOT_NUMBER, DATA_FOLDER, FIRA_TAG),\n",
    "    loadPilotCSV(PILOT_NUMBER, DATA_FOLDER, FRAMES_TAG),\n",
    "    loadPilotCSV(PILOT_NUMBER, DATA_FOLDER, DOTS_TAG))\n",
    "names(tb) <- c(TRIALS, FRAMES, DOTS)"
   ]
  },
  {
   "cell_type": "markdown",
   "metadata": {},
   "source": [
    "# Notebook's goals\n",
    "\n",
    "Make sure the workflow from running the task to analyzing the data works.\n",
    "\n",
    "\n",
    "## Workflow description\n",
    "1. Task is run with repo [SingleCP_DotsReversal_Task](https://github.com/TheGoldLab/SingleCP_DotsReversal_Task/) (appropriate branch must be chosen).\n",
    "  1. A `.mat` data file is outputted\n",
    "  2. I usually manually rename this file `pilot_#.mat` and upload it to PennBox (Data/Psychophysics/Radillo_SingleCP_DotsReversal/)\n",
    "2. Data is analyzed with repo [SingleCP_DotsReversal_DataAnalaysis](https://github.com/aernesto/SingleCP_DotsReversal_DataAnalysis)(again, with the appropriate branch).\n",
    "  1. The first step is to convert data from the .mat file into CSV format\n",
    "    - `pilot#_framesInfo.csv` produced with [this script](https://github.com/aernesto/SingleCP_DotsReversal_DataAnalysis/blob/25d37b8a9cb2fb768359dd30be4452aed60b9c62/MATLAB_scripts/explore_data_file.m) as of 01/28/2019. [Fields description](https://github.com/aernesto/SingleCP_DotsReversal_DataAnalysis/wiki/Fields-description-of-*framesInfo.csv-file).\n",
    "    - `pilot#_FIRA.csv` produced with [this script](https://github.com/aernesto/SingleCP_DotsReversal_DataAnalysis/blob/25d37b8a9cb2fb768359dd30be4452aed60b9c62/MATLAB_scripts/explore_data_file.m) as of 01/28/2019. [Fields description](https://github.com/aernesto/SingleCP_DotsReversal_DataAnalysis/wiki/Fields-Description-of-*FIRA.csv-files).\n",
    "    - `pilot#_dotsPositions.csv` produced with same script as above, as of 01/28/2019. [Fields description](https://github.com/aernesto/SingleCP_DotsReversal_DataAnalysis/wiki/Fields-descriptions-for-*dotsPositions.csv-file).\n",
    "\n",
    "**TO-DO**\n",
    "- Write detailed explanation of each column in each `.csv` file (i.e. update the [Wiki](https://github.com/aernesto/SingleCP_DotsReversal_DataAnalysis/wiki))\n",
    "- Make sure data from the three `.csv` files is consistent\n",
    "\n",
    "## Specific questions\n",
    "1. How many frames are skipped on each trial, and where in the trial do they occur?\n",
    "2. Does this number match the offset in viewing duration per trial?\n",
    "3. Compute reverse kernels with the number of coherent dots as a proxy for motion energy\n",
    "\n",
    "# Exploring the data\n",
    "## The `*FIRA.csv` file (trials level)"
   ]
  },
  {
   "cell_type": "code",
   "execution_count": 3,
   "metadata": {
    "scrolled": true
   },
   "outputs": [
    {
     "name": "stdout",
     "output_type": "stream",
     "text": [
      "Classes ‘data.table’ and 'data.frame':\t18 obs. of  25 variables:\n",
      " $ taskID         : int  2 2 2 2 2 2 2 2 2 2 ...\n",
      " $ trialIndex     : int  6 9 12 14 1 15 4 17 11 10 ...\n",
      " $ trialStart     : num  805061 805066 805071 805076 805081 ...\n",
      " $ trialEnd       : num  805066 805071 805076 805081 805085 ...\n",
      " $ RT             : num  1.222 1.223 1.1 0.703 1.228 ...\n",
      " $ choice         : int  1 0 0 0 0 1 0 1 1 0 ...\n",
      " $ correct        : int  1 0 0 1 1 0 1 1 1 0 ...\n",
      " $ initDirection  : int  0 0 0 0 180 180 180 180 0 0 ...\n",
      " $ endDirection   : int  0 0 0 180 180 180 180 0 0 0 ...\n",
      " $ presenceCP     : int  0 0 0 1 0 0 0 1 0 0 ...\n",
      " $ coherence      : num  25.6 12.8 25.6 6.4 6.4 12.8 12.8 25.6 25.6 12.8 ...\n",
      " $ viewingDuration: num  0.1 0.2 0.2 0.3 0.1 0.3 0.1 0.3 0.2 0.2 ...\n",
      " $ probCP         : num  0.5 0.5 0.5 0.5 0.5 0.5 0.5 0.5 0.5 0.5 ...\n",
      " $ timeCP         : num  0.2 0.2 0.2 0.2 0.2 0.2 0.2 0.2 0.2 0.2 ...\n",
      " $ randSeedBase   : int  7597 9958 1108 5553 2607 9306 2457 859 8670 7918 ...\n",
      " $ fixationOn     : num  1610123 1610133 1610143 1610152 1610161 ...\n",
      " $ fixationStart  : num  NaN NaN NaN NaN NaN NaN NaN NaN NaN NaN ...\n",
      " $ targetOn       : num  1610124 1610135 1610144 1610153 1610163 ...\n",
      " $ dotsOn         : num  1610125 1610135 1610145 1610154 1610163 ...\n",
      " $ dotsOff        : num  1610125 1610135 1610145 1610155 1610163 ...\n",
      " $ choiceTime     : num  1610127 1610137 1610146 1610155 1610165 ...\n",
      " $ targetOff      : num  NaN NaN NaN NaN NaN NaN NaN NaN NaN NaN ...\n",
      " $ fixationOff    : num  NaN NaN NaN NaN NaN NaN NaN NaN NaN NaN ...\n",
      " $ feedbackOn     : num  NaN NaN NaN NaN NaN NaN NaN NaN NaN NaN ...\n",
      " $ numFrames      : int  6 17 16 24 11 24 11 24 18 17 ...\n",
      " - attr(*, \".internal.selfref\")=<externalptr> \n"
     ]
    },
    {
     "data": {
      "text/html": [
       "<ol class=list-inline>\n",
       "\t<li>0.1</li>\n",
       "\t<li>0.2</li>\n",
       "\t<li>0.3</li>\n",
       "</ol>\n"
      ],
      "text/latex": [
       "\\begin{enumerate*}\n",
       "\\item 0.1\n",
       "\\item 0.2\n",
       "\\item 0.3\n",
       "\\end{enumerate*}\n"
      ],
      "text/markdown": [
       "1. 0.1\n",
       "2. 0.2\n",
       "3. 0.3\n",
       "\n",
       "\n"
      ],
      "text/plain": [
       "[1] 0.1 0.2 0.3"
      ]
     },
     "metadata": {},
     "output_type": "display_data"
    }
   ],
   "source": [
    "str(tb[[TRIALS]])\n",
    "unique(tb[[TRIALS]][,viewingDuration])"
   ]
  },
  {
   "cell_type": "markdown",
   "metadata": {},
   "source": [
    "## The `*framesInfo.csv` file (frames level)"
   ]
  },
  {
   "cell_type": "code",
   "execution_count": 4,
   "metadata": {},
   "outputs": [
    {
     "name": "stdout",
     "output_type": "stream",
     "text": [
      "Classes ‘data.table’ and 'data.frame':\t314 obs. of  6 variables:\n",
      " $ frameTotCount: int  3 4 5 6 7 8 9 10 11 12 ...\n",
      " $ onsetTime    : num  805062 805063 805064 805064 805064 ...\n",
      " $ onsetFrame   : int  215 290 345 351 352 353 508 600 624 625 ...\n",
      " $ swapTime     : num  805062 805063 805064 805064 805064 ...\n",
      " $ isTight      : int  0 0 0 0 1 1 0 0 0 1 ...\n",
      " $ trialIndex   : int  6 6 6 6 6 6 9 9 9 9 ...\n",
      " - attr(*, \".internal.selfref\")=<externalptr> \n"
     ]
    },
    {
     "data": {
      "text/html": [
       "<ol class=list-inline>\n",
       "\t<li>6</li>\n",
       "\t<li>9</li>\n",
       "\t<li>12</li>\n",
       "\t<li>14</li>\n",
       "\t<li>1</li>\n",
       "\t<li>15</li>\n",
       "\t<li>4</li>\n",
       "\t<li>17</li>\n",
       "\t<li>11</li>\n",
       "\t<li>10</li>\n",
       "\t<li>3</li>\n",
       "\t<li>5</li>\n",
       "\t<li>13</li>\n",
       "\t<li>8</li>\n",
       "\t<li>18</li>\n",
       "\t<li>2</li>\n",
       "\t<li>7</li>\n",
       "\t<li>16</li>\n",
       "</ol>\n"
      ],
      "text/latex": [
       "\\begin{enumerate*}\n",
       "\\item 6\n",
       "\\item 9\n",
       "\\item 12\n",
       "\\item 14\n",
       "\\item 1\n",
       "\\item 15\n",
       "\\item 4\n",
       "\\item 17\n",
       "\\item 11\n",
       "\\item 10\n",
       "\\item 3\n",
       "\\item 5\n",
       "\\item 13\n",
       "\\item 8\n",
       "\\item 18\n",
       "\\item 2\n",
       "\\item 7\n",
       "\\item 16\n",
       "\\end{enumerate*}\n"
      ],
      "text/markdown": [
       "1. 6\n",
       "2. 9\n",
       "3. 12\n",
       "4. 14\n",
       "5. 1\n",
       "6. 15\n",
       "7. 4\n",
       "8. 17\n",
       "9. 11\n",
       "10. 10\n",
       "11. 3\n",
       "12. 5\n",
       "13. 13\n",
       "14. 8\n",
       "15. 18\n",
       "16. 2\n",
       "17. 7\n",
       "18. 16\n",
       "\n",
       "\n"
      ],
      "text/plain": [
       " [1]  6  9 12 14  1 15  4 17 11 10  3  5 13  8 18  2  7 16"
      ]
     },
     "metadata": {},
     "output_type": "display_data"
    }
   ],
   "source": [
    "str(tb[[FRAMES]])\n",
    "unique(tb[[FRAMES]]$trialIndex)"
   ]
  },
  {
   "cell_type": "code",
   "execution_count": 5,
   "metadata": {},
   "outputs": [
    {
     "data": {
      "text/html": [
       "<table>\n",
       "<thead><tr><th scope=col>trialIndex</th><th scope=col>minOnset</th><th scope=col>maxOnset</th><th scope=col>numUniqueOnset</th></tr></thead>\n",
       "<tbody>\n",
       "\t<tr><td> 6  </td><td> 215</td><td> 353</td><td> 6  </td></tr>\n",
       "\t<tr><td> 9  </td><td> 508</td><td> 637</td><td>17  </td></tr>\n",
       "\t<tr><td>12  </td><td> 787</td><td> 911</td><td>16  </td></tr>\n",
       "\t<tr><td>14  </td><td>1068</td><td>1219</td><td>24  </td></tr>\n",
       "\t<tr><td> 1  </td><td>1342</td><td>1451</td><td>11  </td></tr>\n",
       "\t<tr><td>15  </td><td>1601</td><td>1748</td><td>24  </td></tr>\n",
       "\t<tr><td> 4  </td><td>1902</td><td>2082</td><td>11  </td></tr>\n",
       "\t<tr><td>17  </td><td>2232</td><td>2420</td><td>24  </td></tr>\n",
       "\t<tr><td>11  </td><td>2567</td><td>2709</td><td>18  </td></tr>\n",
       "\t<tr><td>10  </td><td>2849</td><td>3005</td><td>17  </td></tr>\n",
       "\t<tr><td> 3  </td><td>3149</td><td>3342</td><td>11  </td></tr>\n",
       "\t<tr><td> 5  </td><td>3479</td><td>3615</td><td>12  </td></tr>\n",
       "\t<tr><td>13  </td><td>3761</td><td>3953</td><td>24  </td></tr>\n",
       "\t<tr><td> 8  </td><td>4096</td><td>4224</td><td>19  </td></tr>\n",
       "\t<tr><td>18  </td><td>4374</td><td>4522</td><td>25  </td></tr>\n",
       "\t<tr><td> 2  </td><td>4655</td><td>4762</td><td>11  </td></tr>\n",
       "\t<tr><td> 7  </td><td>4908</td><td>5033</td><td>18  </td></tr>\n",
       "\t<tr><td>16  </td><td>5181</td><td>5434</td><td>26  </td></tr>\n",
       "</tbody>\n",
       "</table>\n"
      ],
      "text/latex": [
       "\\begin{tabular}{r|llll}\n",
       " trialIndex & minOnset & maxOnset & numUniqueOnset\\\\\n",
       "\\hline\n",
       "\t  6   &  215 &  353 &  6  \\\\\n",
       "\t  9   &  508 &  637 & 17  \\\\\n",
       "\t 12   &  787 &  911 & 16  \\\\\n",
       "\t 14   & 1068 & 1219 & 24  \\\\\n",
       "\t  1   & 1342 & 1451 & 11  \\\\\n",
       "\t 15   & 1601 & 1748 & 24  \\\\\n",
       "\t  4   & 1902 & 2082 & 11  \\\\\n",
       "\t 17   & 2232 & 2420 & 24  \\\\\n",
       "\t 11   & 2567 & 2709 & 18  \\\\\n",
       "\t 10   & 2849 & 3005 & 17  \\\\\n",
       "\t  3   & 3149 & 3342 & 11  \\\\\n",
       "\t  5   & 3479 & 3615 & 12  \\\\\n",
       "\t 13   & 3761 & 3953 & 24  \\\\\n",
       "\t  8   & 4096 & 4224 & 19  \\\\\n",
       "\t 18   & 4374 & 4522 & 25  \\\\\n",
       "\t  2   & 4655 & 4762 & 11  \\\\\n",
       "\t  7   & 4908 & 5033 & 18  \\\\\n",
       "\t 16   & 5181 & 5434 & 26  \\\\\n",
       "\\end{tabular}\n"
      ],
      "text/markdown": [
       "\n",
       "| trialIndex | minOnset | maxOnset | numUniqueOnset |\n",
       "|---|---|---|---|\n",
       "|  6   |  215 |  353 |  6   |\n",
       "|  9   |  508 |  637 | 17   |\n",
       "| 12   |  787 |  911 | 16   |\n",
       "| 14   | 1068 | 1219 | 24   |\n",
       "|  1   | 1342 | 1451 | 11   |\n",
       "| 15   | 1601 | 1748 | 24   |\n",
       "|  4   | 1902 | 2082 | 11   |\n",
       "| 17   | 2232 | 2420 | 24   |\n",
       "| 11   | 2567 | 2709 | 18   |\n",
       "| 10   | 2849 | 3005 | 17   |\n",
       "|  3   | 3149 | 3342 | 11   |\n",
       "|  5   | 3479 | 3615 | 12   |\n",
       "| 13   | 3761 | 3953 | 24   |\n",
       "|  8   | 4096 | 4224 | 19   |\n",
       "| 18   | 4374 | 4522 | 25   |\n",
       "|  2   | 4655 | 4762 | 11   |\n",
       "|  7   | 4908 | 5033 | 18   |\n",
       "| 16   | 5181 | 5434 | 26   |\n",
       "\n"
      ],
      "text/plain": [
       "   trialIndex minOnset maxOnset numUniqueOnset\n",
       "1   6          215      353      6            \n",
       "2   9          508      637     17            \n",
       "3  12          787      911     16            \n",
       "4  14         1068     1219     24            \n",
       "5   1         1342     1451     11            \n",
       "6  15         1601     1748     24            \n",
       "7   4         1902     2082     11            \n",
       "8  17         2232     2420     24            \n",
       "9  11         2567     2709     18            \n",
       "10 10         2849     3005     17            \n",
       "11  3         3149     3342     11            \n",
       "12  5         3479     3615     12            \n",
       "13 13         3761     3953     24            \n",
       "14  8         4096     4224     19            \n",
       "15 18         4374     4522     25            \n",
       "16  2         4655     4762     11            \n",
       "17  7         4908     5033     18            \n",
       "18 16         5181     5434     26            "
      ]
     },
     "metadata": {},
     "output_type": "display_data"
    }
   ],
   "source": [
    "tb[[FRAMES]][order(onsetFrame),.(minOnset=min(onsetFrame), maxOnset=max(onsetFrame), numUniqueOnset=.N), by=trialIndex]"
   ]
  },
  {
   "cell_type": "code",
   "execution_count": 19,
   "metadata": {},
   "outputs": [
    {
     "data": {
      "text/html": [
       "22"
      ],
      "text/latex": [
       "22"
      ],
      "text/markdown": [
       "22"
      ],
      "text/plain": [
       "[1] 22"
      ]
     },
     "metadata": {},
     "output_type": "display_data"
    }
   ],
   "source": [
    "tb[[FRAMES]][trialIndex==16,sum(isTight) ]"
   ]
  },
  {
   "cell_type": "markdown",
   "metadata": {},
   "source": [
    "## The `*dotsPositions.csv` file (dots level)"
   ]
  },
  {
   "cell_type": "code",
   "execution_count": 18,
   "metadata": {},
   "outputs": [
    {
     "data": {
      "text/html": [
       "<table>\n",
       "<thead><tr><th scope=col>frameIdx</th><th scope=col>N</th></tr></thead>\n",
       "<tbody>\n",
       "\t<tr><td> 1 </td><td>182</td></tr>\n",
       "\t<tr><td> 2 </td><td>182</td></tr>\n",
       "\t<tr><td> 3 </td><td>182</td></tr>\n",
       "\t<tr><td> 4 </td><td>182</td></tr>\n",
       "\t<tr><td> 5 </td><td>182</td></tr>\n",
       "\t<tr><td> 6 </td><td>182</td></tr>\n",
       "\t<tr><td> 7 </td><td>182</td></tr>\n",
       "\t<tr><td> 8 </td><td>182</td></tr>\n",
       "\t<tr><td> 9 </td><td>182</td></tr>\n",
       "\t<tr><td>10 </td><td>182</td></tr>\n",
       "\t<tr><td>11 </td><td>182</td></tr>\n",
       "\t<tr><td>12 </td><td>182</td></tr>\n",
       "\t<tr><td>13 </td><td>182</td></tr>\n",
       "\t<tr><td>14 </td><td>182</td></tr>\n",
       "\t<tr><td>15 </td><td>182</td></tr>\n",
       "\t<tr><td>16 </td><td>182</td></tr>\n",
       "\t<tr><td>17 </td><td>182</td></tr>\n",
       "\t<tr><td>18 </td><td>182</td></tr>\n",
       "\t<tr><td>19 </td><td>182</td></tr>\n",
       "\t<tr><td>20 </td><td>182</td></tr>\n",
       "\t<tr><td>21 </td><td>182</td></tr>\n",
       "</tbody>\n",
       "</table>\n"
      ],
      "text/latex": [
       "\\begin{tabular}{r|ll}\n",
       " frameIdx & N\\\\\n",
       "\\hline\n",
       "\t  1  & 182\\\\\n",
       "\t  2  & 182\\\\\n",
       "\t  3  & 182\\\\\n",
       "\t  4  & 182\\\\\n",
       "\t  5  & 182\\\\\n",
       "\t  6  & 182\\\\\n",
       "\t  7  & 182\\\\\n",
       "\t  8  & 182\\\\\n",
       "\t  9  & 182\\\\\n",
       "\t 10  & 182\\\\\n",
       "\t 11  & 182\\\\\n",
       "\t 12  & 182\\\\\n",
       "\t 13  & 182\\\\\n",
       "\t 14  & 182\\\\\n",
       "\t 15  & 182\\\\\n",
       "\t 16  & 182\\\\\n",
       "\t 17  & 182\\\\\n",
       "\t 18  & 182\\\\\n",
       "\t 19  & 182\\\\\n",
       "\t 20  & 182\\\\\n",
       "\t 21  & 182\\\\\n",
       "\\end{tabular}\n"
      ],
      "text/markdown": [
       "\n",
       "| frameIdx | N |\n",
       "|---|---|\n",
       "|  1  | 182 |\n",
       "|  2  | 182 |\n",
       "|  3  | 182 |\n",
       "|  4  | 182 |\n",
       "|  5  | 182 |\n",
       "|  6  | 182 |\n",
       "|  7  | 182 |\n",
       "|  8  | 182 |\n",
       "|  9  | 182 |\n",
       "| 10  | 182 |\n",
       "| 11  | 182 |\n",
       "| 12  | 182 |\n",
       "| 13  | 182 |\n",
       "| 14  | 182 |\n",
       "| 15  | 182 |\n",
       "| 16  | 182 |\n",
       "| 17  | 182 |\n",
       "| 18  | 182 |\n",
       "| 19  | 182 |\n",
       "| 20  | 182 |\n",
       "| 21  | 182 |\n",
       "\n"
      ],
      "text/plain": [
       "   frameIdx N  \n",
       "1   1       182\n",
       "2   2       182\n",
       "3   3       182\n",
       "4   4       182\n",
       "5   5       182\n",
       "6   6       182\n",
       "7   7       182\n",
       "8   8       182\n",
       "9   9       182\n",
       "10 10       182\n",
       "11 11       182\n",
       "12 12       182\n",
       "13 13       182\n",
       "14 14       182\n",
       "15 15       182\n",
       "16 16       182\n",
       "17 17       182\n",
       "18 18       182\n",
       "19 19       182\n",
       "20 20       182\n",
       "21 21       182"
      ]
     },
     "metadata": {},
     "output_type": "display_data"
    }
   ],
   "source": [
    "tb[[DOTS]][trialCount == 18,.N,by=frameIdx]"
   ]
  },
  {
   "cell_type": "code",
   "execution_count": 8,
   "metadata": {},
   "outputs": [
    {
     "name": "stdout",
     "output_type": "stream",
     "text": [
      "Classes ‘data.table’ and 'data.frame':\t43862 obs. of  6 variables:\n",
      " $ xpos      : num  0.7459 0.5048 0.8971 0.3443 0.0796 ...\n",
      " $ ypos      : num  0.2885 0.8416 0.5606 0.5963 0.0589 ...\n",
      " $ isActive  : int  1 0 0 1 0 0 1 0 0 1 ...\n",
      " $ isCoherent: int  1 0 0 1 0 0 1 0 0 1 ...\n",
      " $ frameIdx  : int  1 1 1 1 1 1 1 1 1 1 ...\n",
      " $ trialCount: int  1 1 1 1 1 1 1 1 1 1 ...\n",
      " - attr(*, \".internal.selfref\")=<externalptr> \n",
      " - attr(*, \"index\")= int \n",
      "  ..- attr(*, \"__trialCount\")= int \n"
     ]
    }
   ],
   "source": [
    "str(tb[[DOTS]])\n",
    "#tb[[DOTS]][,.(.N),by=.(frameIdx,trialCount)]"
   ]
  },
  {
   "cell_type": "markdown",
   "metadata": {},
   "source": [
    "# Checking that the three datasets are consistent\n",
    "As we can see, the `frameIdx` field is common to `tb[[FRAMES]]` and `tb[[DOTS]]`, and the `trialIdx` is common to `tb[[DOTS]]` and `tb[[TRIALS]]`. Let's check whether these common fields match in terms of their unique values in each dataset.\n",
    "## Exploring match between frames and dots levels"
   ]
  },
  {
   "cell_type": "code",
   "execution_count": 9,
   "metadata": {},
   "outputs": [
    {
     "data": {
      "text/html": [
       "314"
      ],
      "text/latex": [
       "314"
      ],
      "text/markdown": [
       "314"
      ],
      "text/plain": [
       "[1] 314"
      ]
     },
     "metadata": {},
     "output_type": "display_data"
    }
   ],
   "source": [
    "length(unique(tb[[FRAMES]][,frameTotCount]))"
   ]
  },
  {
   "cell_type": "code",
   "execution_count": 10,
   "metadata": {},
   "outputs": [
    {
     "data": {
      "text/html": [
       "<ol class=list-inline>\n",
       "\t<li>1</li>\n",
       "\t<li>2</li>\n",
       "\t<li>3</li>\n",
       "\t<li>4</li>\n",
       "\t<li>5</li>\n",
       "\t<li>6</li>\n",
       "\t<li>7</li>\n",
       "\t<li>8</li>\n",
       "\t<li>9</li>\n",
       "\t<li>10</li>\n",
       "\t<li>11</li>\n",
       "\t<li>12</li>\n",
       "\t<li>13</li>\n",
       "\t<li>14</li>\n",
       "\t<li>15</li>\n",
       "\t<li>16</li>\n",
       "\t<li>17</li>\n",
       "\t<li>18</li>\n",
       "\t<li>19</li>\n",
       "\t<li>20</li>\n",
       "\t<li>21</li>\n",
       "</ol>\n"
      ],
      "text/latex": [
       "\\begin{enumerate*}\n",
       "\\item 1\n",
       "\\item 2\n",
       "\\item 3\n",
       "\\item 4\n",
       "\\item 5\n",
       "\\item 6\n",
       "\\item 7\n",
       "\\item 8\n",
       "\\item 9\n",
       "\\item 10\n",
       "\\item 11\n",
       "\\item 12\n",
       "\\item 13\n",
       "\\item 14\n",
       "\\item 15\n",
       "\\item 16\n",
       "\\item 17\n",
       "\\item 18\n",
       "\\item 19\n",
       "\\item 20\n",
       "\\item 21\n",
       "\\end{enumerate*}\n"
      ],
      "text/markdown": [
       "1. 1\n",
       "2. 2\n",
       "3. 3\n",
       "4. 4\n",
       "5. 5\n",
       "6. 6\n",
       "7. 7\n",
       "8. 8\n",
       "9. 9\n",
       "10. 10\n",
       "11. 11\n",
       "12. 12\n",
       "13. 13\n",
       "14. 14\n",
       "15. 15\n",
       "16. 16\n",
       "17. 17\n",
       "18. 18\n",
       "19. 19\n",
       "20. 20\n",
       "21. 21\n",
       "\n",
       "\n"
      ],
      "text/plain": [
       " [1]  1  2  3  4  5  6  7  8  9 10 11 12 13 14 15 16 17 18 19 20 21"
      ]
     },
     "metadata": {},
     "output_type": "display_data"
    },
    {
     "data": {
      "text/html": [
       "21"
      ],
      "text/latex": [
       "21"
      ],
      "text/markdown": [
       "21"
      ],
      "text/plain": [
       "[1] 21"
      ]
     },
     "metadata": {},
     "output_type": "display_data"
    }
   ],
   "source": [
    "unique(tb[[DOTS]][,frameIdx])\n",
    "length(unique(tb[[DOTS]][,frameIdx]))"
   ]
  },
  {
   "cell_type": "markdown",
   "metadata": {},
   "source": [
    "## Exploring match between `DOTS` and `TRIALS` levels"
   ]
  },
  {
   "cell_type": "code",
   "execution_count": 11,
   "metadata": {},
   "outputs": [
    {
     "data": {
      "text/html": [
       "<ol class=list-inline>\n",
       "\t<li>1</li>\n",
       "\t<li>2</li>\n",
       "\t<li>3</li>\n",
       "\t<li>4</li>\n",
       "\t<li>5</li>\n",
       "\t<li>6</li>\n",
       "\t<li>7</li>\n",
       "\t<li>8</li>\n",
       "\t<li>9</li>\n",
       "\t<li>10</li>\n",
       "\t<li>11</li>\n",
       "\t<li>12</li>\n",
       "\t<li>13</li>\n",
       "\t<li>14</li>\n",
       "\t<li>15</li>\n",
       "\t<li>16</li>\n",
       "\t<li>17</li>\n",
       "\t<li>18</li>\n",
       "</ol>\n"
      ],
      "text/latex": [
       "\\begin{enumerate*}\n",
       "\\item 1\n",
       "\\item 2\n",
       "\\item 3\n",
       "\\item 4\n",
       "\\item 5\n",
       "\\item 6\n",
       "\\item 7\n",
       "\\item 8\n",
       "\\item 9\n",
       "\\item 10\n",
       "\\item 11\n",
       "\\item 12\n",
       "\\item 13\n",
       "\\item 14\n",
       "\\item 15\n",
       "\\item 16\n",
       "\\item 17\n",
       "\\item 18\n",
       "\\end{enumerate*}\n"
      ],
      "text/markdown": [
       "1. 1\n",
       "2. 2\n",
       "3. 3\n",
       "4. 4\n",
       "5. 5\n",
       "6. 6\n",
       "7. 7\n",
       "8. 8\n",
       "9. 9\n",
       "10. 10\n",
       "11. 11\n",
       "12. 12\n",
       "13. 13\n",
       "14. 14\n",
       "15. 15\n",
       "16. 16\n",
       "17. 17\n",
       "18. 18\n",
       "\n",
       "\n"
      ],
      "text/plain": [
       " [1]  1  2  3  4  5  6  7  8  9 10 11 12 13 14 15 16 17 18"
      ]
     },
     "metadata": {},
     "output_type": "display_data"
    }
   ],
   "source": [
    "unique(tb[[DOTS]][,trialCount])"
   ]
  },
  {
   "cell_type": "code",
   "execution_count": 12,
   "metadata": {},
   "outputs": [
    {
     "data": {
      "text/html": [
       "<ol class=list-inline>\n",
       "\t<li>6</li>\n",
       "\t<li>9</li>\n",
       "\t<li>12</li>\n",
       "\t<li>14</li>\n",
       "\t<li>1</li>\n",
       "\t<li>15</li>\n",
       "\t<li>4</li>\n",
       "\t<li>17</li>\n",
       "\t<li>11</li>\n",
       "\t<li>10</li>\n",
       "\t<li>3</li>\n",
       "\t<li>5</li>\n",
       "\t<li>13</li>\n",
       "\t<li>8</li>\n",
       "\t<li>18</li>\n",
       "\t<li>2</li>\n",
       "\t<li>7</li>\n",
       "\t<li>16</li>\n",
       "</ol>\n"
      ],
      "text/latex": [
       "\\begin{enumerate*}\n",
       "\\item 6\n",
       "\\item 9\n",
       "\\item 12\n",
       "\\item 14\n",
       "\\item 1\n",
       "\\item 15\n",
       "\\item 4\n",
       "\\item 17\n",
       "\\item 11\n",
       "\\item 10\n",
       "\\item 3\n",
       "\\item 5\n",
       "\\item 13\n",
       "\\item 8\n",
       "\\item 18\n",
       "\\item 2\n",
       "\\item 7\n",
       "\\item 16\n",
       "\\end{enumerate*}\n"
      ],
      "text/markdown": [
       "1. 6\n",
       "2. 9\n",
       "3. 12\n",
       "4. 14\n",
       "5. 1\n",
       "6. 15\n",
       "7. 4\n",
       "8. 17\n",
       "9. 11\n",
       "10. 10\n",
       "11. 3\n",
       "12. 5\n",
       "13. 13\n",
       "14. 8\n",
       "15. 18\n",
       "16. 2\n",
       "17. 7\n",
       "18. 16\n",
       "\n",
       "\n"
      ],
      "text/plain": [
       " [1]  6  9 12 14  1 15  4 17 11 10  3  5 13  8 18  2  7 16"
      ]
     },
     "metadata": {},
     "output_type": "display_data"
    },
    {
     "data": {
      "text/html": [
       "18"
      ],
      "text/latex": [
       "18"
      ],
      "text/markdown": [
       "18"
      ],
      "text/plain": [
       "[1] 18"
      ]
     },
     "metadata": {},
     "output_type": "display_data"
    },
    {
     "data": {
      "text/html": [
       "1"
      ],
      "text/latex": [
       "1"
      ],
      "text/markdown": [
       "1"
      ],
      "text/plain": [
       "[1] 1"
      ]
     },
     "metadata": {},
     "output_type": "display_data"
    },
    {
     "data": {
      "text/html": [
       "18"
      ],
      "text/latex": [
       "18"
      ],
      "text/markdown": [
       "18"
      ],
      "text/plain": [
       "[1] 18"
      ]
     },
     "metadata": {},
     "output_type": "display_data"
    }
   ],
   "source": [
    "unique(tb[[TRIALS]][,trialIndex])\n",
    "length(unique(tb[[TRIALS]][,trialIndex]))\n",
    "min(unique(tb[[TRIALS]][,trialIndex]))\n",
    "max(unique(tb[[TRIALS]][,trialIndex]))"
   ]
  },
  {
   "cell_type": "markdown",
   "metadata": {},
   "source": [
    "## Exploring match between `FRAMES` and `TRIALS` levels"
   ]
  },
  {
   "cell_type": "code",
   "execution_count": 13,
   "metadata": {},
   "outputs": [
    {
     "data": {
      "text/html": [
       "<table>\n",
       "<thead><tr><th scope=col>trialIndex</th><th scope=col>numFramesInFRAMES</th><th scope=col>numFramesInTRIALS</th><th scope=col>match</th></tr></thead>\n",
       "<tbody>\n",
       "\t<tr><td> 1   </td><td>11   </td><td>11   </td><td> TRUE</td></tr>\n",
       "\t<tr><td> 2   </td><td>11   </td><td>11   </td><td> TRUE</td></tr>\n",
       "\t<tr><td> 3   </td><td>11   </td><td>11   </td><td> TRUE</td></tr>\n",
       "\t<tr><td> 4   </td><td>11   </td><td>11   </td><td> TRUE</td></tr>\n",
       "\t<tr><td> 5   </td><td>12   </td><td>12   </td><td> TRUE</td></tr>\n",
       "\t<tr><td> 6   </td><td> 6   </td><td> 6   </td><td> TRUE</td></tr>\n",
       "\t<tr><td> 7   </td><td>18   </td><td>18   </td><td> TRUE</td></tr>\n",
       "\t<tr><td> 8   </td><td>19   </td><td>19   </td><td> TRUE</td></tr>\n",
       "\t<tr><td> 9   </td><td>17   </td><td>17   </td><td> TRUE</td></tr>\n",
       "\t<tr><td>10   </td><td>17   </td><td>17   </td><td> TRUE</td></tr>\n",
       "\t<tr><td>11   </td><td>18   </td><td>18   </td><td> TRUE</td></tr>\n",
       "\t<tr><td>12   </td><td>16   </td><td>16   </td><td> TRUE</td></tr>\n",
       "\t<tr><td>13   </td><td>24   </td><td>24   </td><td> TRUE</td></tr>\n",
       "\t<tr><td>14   </td><td>24   </td><td>24   </td><td> TRUE</td></tr>\n",
       "\t<tr><td>15   </td><td>24   </td><td>24   </td><td> TRUE</td></tr>\n",
       "\t<tr><td>16   </td><td>26   </td><td>25   </td><td>FALSE</td></tr>\n",
       "\t<tr><td>17   </td><td>24   </td><td>24   </td><td> TRUE</td></tr>\n",
       "\t<tr><td>18   </td><td>25   </td><td>25   </td><td> TRUE</td></tr>\n",
       "</tbody>\n",
       "</table>\n"
      ],
      "text/latex": [
       "\\begin{tabular}{r|llll}\n",
       " trialIndex & numFramesInFRAMES & numFramesInTRIALS & match\\\\\n",
       "\\hline\n",
       "\t  1    & 11    & 11    &  TRUE\\\\\n",
       "\t  2    & 11    & 11    &  TRUE\\\\\n",
       "\t  3    & 11    & 11    &  TRUE\\\\\n",
       "\t  4    & 11    & 11    &  TRUE\\\\\n",
       "\t  5    & 12    & 12    &  TRUE\\\\\n",
       "\t  6    &  6    &  6    &  TRUE\\\\\n",
       "\t  7    & 18    & 18    &  TRUE\\\\\n",
       "\t  8    & 19    & 19    &  TRUE\\\\\n",
       "\t  9    & 17    & 17    &  TRUE\\\\\n",
       "\t 10    & 17    & 17    &  TRUE\\\\\n",
       "\t 11    & 18    & 18    &  TRUE\\\\\n",
       "\t 12    & 16    & 16    &  TRUE\\\\\n",
       "\t 13    & 24    & 24    &  TRUE\\\\\n",
       "\t 14    & 24    & 24    &  TRUE\\\\\n",
       "\t 15    & 24    & 24    &  TRUE\\\\\n",
       "\t 16    & 26    & 25    & FALSE\\\\\n",
       "\t 17    & 24    & 24    &  TRUE\\\\\n",
       "\t 18    & 25    & 25    &  TRUE\\\\\n",
       "\\end{tabular}\n"
      ],
      "text/markdown": [
       "\n",
       "| trialIndex | numFramesInFRAMES | numFramesInTRIALS | match |\n",
       "|---|---|---|---|\n",
       "|  1    | 11    | 11    |  TRUE |\n",
       "|  2    | 11    | 11    |  TRUE |\n",
       "|  3    | 11    | 11    |  TRUE |\n",
       "|  4    | 11    | 11    |  TRUE |\n",
       "|  5    | 12    | 12    |  TRUE |\n",
       "|  6    |  6    |  6    |  TRUE |\n",
       "|  7    | 18    | 18    |  TRUE |\n",
       "|  8    | 19    | 19    |  TRUE |\n",
       "|  9    | 17    | 17    |  TRUE |\n",
       "| 10    | 17    | 17    |  TRUE |\n",
       "| 11    | 18    | 18    |  TRUE |\n",
       "| 12    | 16    | 16    |  TRUE |\n",
       "| 13    | 24    | 24    |  TRUE |\n",
       "| 14    | 24    | 24    |  TRUE |\n",
       "| 15    | 24    | 24    |  TRUE |\n",
       "| 16    | 26    | 25    | FALSE |\n",
       "| 17    | 24    | 24    |  TRUE |\n",
       "| 18    | 25    | 25    |  TRUE |\n",
       "\n"
      ],
      "text/plain": [
       "   trialIndex numFramesInFRAMES numFramesInTRIALS match\n",
       "1   1         11                11                 TRUE\n",
       "2   2         11                11                 TRUE\n",
       "3   3         11                11                 TRUE\n",
       "4   4         11                11                 TRUE\n",
       "5   5         12                12                 TRUE\n",
       "6   6          6                 6                 TRUE\n",
       "7   7         18                18                 TRUE\n",
       "8   8         19                19                 TRUE\n",
       "9   9         17                17                 TRUE\n",
       "10 10         17                17                 TRUE\n",
       "11 11         18                18                 TRUE\n",
       "12 12         16                16                 TRUE\n",
       "13 13         24                24                 TRUE\n",
       "14 14         24                24                 TRUE\n",
       "15 15         24                24                 TRUE\n",
       "16 16         26                25                FALSE\n",
       "17 17         24                24                 TRUE\n",
       "18 18         25                25                 TRUE"
      ]
     },
     "metadata": {},
     "output_type": "display_data"
    }
   ],
   "source": [
    "setkey(tb[[FRAMES]], trialIndex)\n",
    "setkey(tb[[TRIALS]], trialIndex)\n",
    "\n",
    "# Full OUTER JOIN (see https://rstudio-pubs-static.s3.amazonaws.com/52230_5ae0d25125b544caab32f75f0360e775.html)\n",
    "frameCount <- merge(\n",
    "    tb[[FRAMES]][order(trialIndex),.(numFramesInFRAMES=.N),by=trialIndex],\n",
    "    tb[[TRIALS]][order(trialIndex),.(numFramesInTRIALS=numFrames),by=trialIndex],\n",
    "    all=TRUE)\n",
    "frameCount[,.(trialIndex, numFramesInFRAMES, numFramesInTRIALS, match=numFramesInFRAMES == numFramesInTRIALS)]"
   ]
  },
  {
   "cell_type": "markdown",
   "metadata": {},
   "source": [
    "Any non-match in the right-most column above signals an *issue*."
   ]
  }
 ],
 "metadata": {
  "kernelspec": {
   "display_name": "R",
   "language": "R",
   "name": "ir"
  },
  "language_info": {
   "codemirror_mode": "r",
   "file_extension": ".r",
   "mimetype": "text/x-r-source",
   "name": "R",
   "pygments_lexer": "r",
   "version": "3.5.2"
  }
 },
 "nbformat": 4,
 "nbformat_minor": 2
}
