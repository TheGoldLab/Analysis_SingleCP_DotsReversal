{
 "cells": [
  {
   "cell_type": "code",
   "execution_count": 1,
   "metadata": {},
   "outputs": [
    {
     "data": {
      "text/html": [
       "<script>\n",
       "  code_show=true;\n",
       "  function code_toggle() {\n",
       "    if (code_show){\n",
       "      $('div.input').hide();\n",
       "    } else {\n",
       "      $('div.input').show();\n",
       "    }\n",
       "    code_show = !code_show\n",
       "  } \n",
       "  $( document ).ready(code_toggle);\n",
       "</script>\n",
       "<font size=4>\n",
       "<a href=\"javascript:code_toggle()\">Toggle ON/OFF</a>\n",
       "code cells.\n",
       "</font>\n"
      ]
     },
     "metadata": {},
     "output_type": "display_data"
    }
   ],
   "source": [
    "IRdisplay::display_html(file='code_hiding.html')"
   ]
  },
  {
   "cell_type": "markdown",
   "metadata": {},
   "source": [
    "# Notebook's goals\n",
    "\n",
    "Make sure the workflow from running the task to analyzing the data works.\n",
    "\n",
    "\n",
    "## Workflow description\n",
    "1. Task is run with repo [SingleCP_DotsReversal_Task](https://github.com/TheGoldLab/SingleCP_DotsReversal_Task/) (appropriate branch must be chosen).\n",
    "  1. A `.mat` data file is outputted\n",
    "  2. I usually manually rename this file `pilot_#.mat` and upload it to PennBox (Data/Psychophysics/Radillo_SingleCP_DotsReversal/)\n",
    "2. Data is analyzed with repo [SingleCP_DotsReversal_DataAnalaysis](https://github.com/aernesto/SingleCP_DotsReversal_DataAnalysis)(again, with the appropriate branch).\n",
    "  1. The first step is to convert data from the .mat file into CSV format\n",
    "    - `pilot#_framesInfo.csv` produced with [this script](https://github.com/aernesto/SingleCP_DotsReversal_DataAnalysis/blob/25d37b8a9cb2fb768359dd30be4452aed60b9c62/MATLAB_scripts/explore_data_file.m) as of 01/28/2019. [Fields description](https://github.com/aernesto/SingleCP_DotsReversal_DataAnalysis/wiki/Fields-description-of-*framesInfo.csv-file).\n",
    "    - `pilot#_FIRA.csv` produced with [this script](https://github.com/aernesto/SingleCP_DotsReversal_DataAnalysis/blob/25d37b8a9cb2fb768359dd30be4452aed60b9c62/MATLAB_scripts/explore_data_file.m) as of 01/28/2019. [Fields description](https://github.com/aernesto/SingleCP_DotsReversal_DataAnalysis/wiki/Fields-Description-of-*FIRA.csv-files).\n",
    "    - `pilot#_dotsPositions.csv` produced with same script as above, as of 01/28/2019. [Fields description](https://github.com/aernesto/SingleCP_DotsReversal_DataAnalysis/wiki/Fields-descriptions-for-*dotsPositions.csv-file).\n",
    "\n",
    "**TO-DO**\n",
    "- Write detailed explanation of each column in each `.csv` file (i.e. update the [Wiki](https://github.com/aernesto/SingleCP_DotsReversal_DataAnalysis/wiki))\n",
    "- Make sure data from the three `.csv` files is consistent\n",
    "\n",
    "## Specific questions\n",
    "1. How many frames are skipped on each trial, and where in the trial do they occur?\n",
    "2. Does this number match the offset in viewing duration per trial?\n",
    "3. Compute reverse kernels with the number of coherent dots as a proxy for motion energy\n",
    "\n",
    "# Exploring the data\n",
    "## The `*FIRA.csv` file"
   ]
  },
  {
   "cell_type": "code",
   "execution_count": 14,
   "metadata": {
    "scrolled": true
   },
   "outputs": [
    {
     "name": "stdout",
     "output_type": "stream",
     "text": [
      "Classes ‘data.table’ and 'data.frame':\t5 obs. of  24 variables:\n",
      " $ taskID         : int  2 2 2 2 2\n",
      " $ trialIndex     : int  5 7 6 11 18\n",
      " $ trialStart     : num  3371 3376 3381 3386 3391\n",
      " $ trialEnd       : num  3376 3381 3386 3391 3397\n",
      " $ RT             : num  0.98 0.709 -0.223 0.956 NaN\n",
      " $ choice         : num  1 0 1 0 NaN\n",
      " $ correct        : num  1 0 1 0 NaN\n",
      " $ initDirection  : int  0 0 0 0 0\n",
      " $ endDirection   : int  0 0 0 0 180\n",
      " $ presenceCP     : int  0 0 0 0 1\n",
      " $ coherence      : num  25.6 6.4 25.6 25.6 25.6\n",
      " $ viewingDuration: num  0.1 0.2 0.1 0.2 0.3\n",
      " $ probCP         : num  0.5 0.5 0.5 0.5 0.5\n",
      " $ timeCP         : num  0.2 0.2 0.2 0.2 0.2\n",
      " $ randSeedBase   : int  5609 9732 2657 5092 852\n",
      " $ fixationOn     : num  6742 6753 6763 6771 6782\n",
      " $ fixationStart  : num  NaN NaN NaN NaN NaN\n",
      " $ targetOn       : num  6744 6754 6765 6774 NaN\n",
      " $ dotsOn         : num  6745 6755 6766 6774 NaN\n",
      " $ dotsOff        : num  6745 6756 6766 6774 NaN\n",
      " $ choiceTime     : num  6746 6756 6766 6775 NaN\n",
      " $ targetOff      : num  NaN NaN NaN NaN NaN\n",
      " $ fixationOff    : num  NaN NaN NaN NaN NaN\n",
      " $ feedbackOn     : num  NaN NaN NaN NaN NaN\n",
      " - attr(*, \".internal.selfref\")=<externalptr> \n"
     ]
    },
    {
     "data": {
      "text/html": [
       "<ol class=list-inline>\n",
       "\t<li>0.1</li>\n",
       "\t<li>0.2</li>\n",
       "\t<li>0.3</li>\n",
       "</ol>\n"
      ],
      "text/latex": [
       "\\begin{enumerate*}\n",
       "\\item 0.1\n",
       "\\item 0.2\n",
       "\\item 0.3\n",
       "\\end{enumerate*}\n"
      ],
      "text/markdown": [
       "1. 0.1\n",
       "2. 0.2\n",
       "3. 0.3\n",
       "\n",
       "\n"
      ],
      "text/plain": [
       "[1] 0.1 0.2 0.3"
      ]
     },
     "metadata": {},
     "output_type": "display_data"
    }
   ],
   "source": [
    "library(data.table) # see https://cran.r-project.org/web/packages/data.table/vignettes/datatable-intro.html for reference\n",
    "library(ggplot2)\n",
    "dataTag <- \"pilot4_FIRA\"\n",
    "datafile <- paste(\"~/programing/data/psychophys/Pilot4/\",dataTag,\".csv\",sep='')\n",
    "data <- fread(file=datafile, header=TRUE, sep=\",\")\n",
    "str(data)\n",
    "unique(data[,viewingDuration])"
   ]
  },
  {
   "cell_type": "markdown",
   "metadata": {},
   "source": [
    "## The `*framesInfo.csv` file"
   ]
  },
  {
   "cell_type": "code",
   "execution_count": 3,
   "metadata": {},
   "outputs": [
    {
     "name": "stdout",
     "output_type": "stream",
     "text": [
      "Classes ‘data.table’ and 'data.frame':\t55 obs. of  5 variables:\n",
      " $ frameIdx  : int  1 2 3 4 5 6 7 8 9 10 ...\n",
      " $ onsetTime : num  3367 3369 3372 3374 3374 ...\n",
      " $ onsetFrame: int  7 114 285 409 411 415 417 418 564 669 ...\n",
      " $ swapTime  : num  3367 3369 3372 3374 3374 ...\n",
      " $ isTight   : int  0 0 0 0 0 0 0 1 0 0 ...\n",
      " - attr(*, \".internal.selfref\")=<externalptr> \n"
     ]
    }
   ],
   "source": [
    "framesTag <- \"pilot4_framesInfo\"\n",
    "framesDataFile <- paste(\"~/programing/data/psychophys/Pilot4/\",framesTag,\".csv\",sep='')\n",
    "framesData <- fread(file=framesDataFile, header=TRUE, sep=\",\")\n",
    "str(framesData)"
   ]
  },
  {
   "cell_type": "markdown",
   "metadata": {},
   "source": [
    "## The `*dotsPositions.csv` file"
   ]
  },
  {
   "cell_type": "code",
   "execution_count": 13,
   "metadata": {},
   "outputs": [
    {
     "name": "stdout",
     "output_type": "stream",
     "text": [
      "Classes ‘data.table’ and 'data.frame':\t6370 obs. of  6 variables:\n",
      " $ xpos      : num  0.1073 0.2115 0.0657 0.2308 0.844 ...\n",
      " $ ypos      : num  0.573 0.808 0.974 0.872 0.959 ...\n",
      " $ isActive  : int  1 0 0 1 0 0 1 0 0 1 ...\n",
      " $ isCoherent: int  1 0 0 1 0 0 1 0 0 1 ...\n",
      " $ frameIdx  : int  1 1 1 1 1 1 1 1 1 1 ...\n",
      " $ trialIdx  : int  1 1 1 1 1 1 1 1 1 1 ...\n",
      " - attr(*, \".internal.selfref\")=<externalptr> \n"
     ]
    },
    {
     "data": {
      "text/html": [
       "<table>\n",
       "<thead><tr><th scope=col>frameIdx</th><th scope=col>trialIdx</th><th scope=col>N</th></tr></thead>\n",
       "<tbody>\n",
       "\t<tr><td> 1 </td><td>1  </td><td>182</td></tr>\n",
       "\t<tr><td> 2 </td><td>1  </td><td>182</td></tr>\n",
       "\t<tr><td> 1 </td><td>2  </td><td>182</td></tr>\n",
       "\t<tr><td> 2 </td><td>2  </td><td>182</td></tr>\n",
       "\t<tr><td> 3 </td><td>2  </td><td>182</td></tr>\n",
       "\t<tr><td> 4 </td><td>2  </td><td>182</td></tr>\n",
       "\t<tr><td> 5 </td><td>2  </td><td>182</td></tr>\n",
       "\t<tr><td> 6 </td><td>2  </td><td>182</td></tr>\n",
       "\t<tr><td> 7 </td><td>2  </td><td>182</td></tr>\n",
       "\t<tr><td> 8 </td><td>2  </td><td>182</td></tr>\n",
       "\t<tr><td> 9 </td><td>2  </td><td>182</td></tr>\n",
       "\t<tr><td>10 </td><td>2  </td><td>182</td></tr>\n",
       "\t<tr><td>11 </td><td>2  </td><td>182</td></tr>\n",
       "\t<tr><td>12 </td><td>2  </td><td>182</td></tr>\n",
       "\t<tr><td>13 </td><td>2  </td><td>182</td></tr>\n",
       "\t<tr><td> 1 </td><td>3  </td><td>182</td></tr>\n",
       "\t<tr><td> 2 </td><td>3  </td><td>182</td></tr>\n",
       "\t<tr><td> 3 </td><td>3  </td><td>182</td></tr>\n",
       "\t<tr><td> 4 </td><td>3  </td><td>182</td></tr>\n",
       "\t<tr><td> 5 </td><td>3  </td><td>182</td></tr>\n",
       "\t<tr><td> 6 </td><td>3  </td><td>182</td></tr>\n",
       "\t<tr><td> 7 </td><td>3  </td><td>182</td></tr>\n",
       "\t<tr><td> 1 </td><td>4  </td><td>182</td></tr>\n",
       "\t<tr><td> 2 </td><td>4  </td><td>182</td></tr>\n",
       "\t<tr><td> 3 </td><td>4  </td><td>182</td></tr>\n",
       "\t<tr><td> 4 </td><td>4  </td><td>182</td></tr>\n",
       "\t<tr><td> 5 </td><td>4  </td><td>182</td></tr>\n",
       "\t<tr><td> 6 </td><td>4  </td><td>182</td></tr>\n",
       "\t<tr><td> 7 </td><td>4  </td><td>182</td></tr>\n",
       "\t<tr><td> 8 </td><td>4  </td><td>182</td></tr>\n",
       "\t<tr><td> 9 </td><td>4  </td><td>182</td></tr>\n",
       "\t<tr><td>10 </td><td>4  </td><td>182</td></tr>\n",
       "\t<tr><td>11 </td><td>4  </td><td>182</td></tr>\n",
       "\t<tr><td>12 </td><td>4  </td><td>182</td></tr>\n",
       "\t<tr><td>13 </td><td>4  </td><td>182</td></tr>\n",
       "</tbody>\n",
       "</table>\n"
      ],
      "text/latex": [
       "\\begin{tabular}{r|lll}\n",
       " frameIdx & trialIdx & N\\\\\n",
       "\\hline\n",
       "\t  1  & 1   & 182\\\\\n",
       "\t  2  & 1   & 182\\\\\n",
       "\t  1  & 2   & 182\\\\\n",
       "\t  2  & 2   & 182\\\\\n",
       "\t  3  & 2   & 182\\\\\n",
       "\t  4  & 2   & 182\\\\\n",
       "\t  5  & 2   & 182\\\\\n",
       "\t  6  & 2   & 182\\\\\n",
       "\t  7  & 2   & 182\\\\\n",
       "\t  8  & 2   & 182\\\\\n",
       "\t  9  & 2   & 182\\\\\n",
       "\t 10  & 2   & 182\\\\\n",
       "\t 11  & 2   & 182\\\\\n",
       "\t 12  & 2   & 182\\\\\n",
       "\t 13  & 2   & 182\\\\\n",
       "\t  1  & 3   & 182\\\\\n",
       "\t  2  & 3   & 182\\\\\n",
       "\t  3  & 3   & 182\\\\\n",
       "\t  4  & 3   & 182\\\\\n",
       "\t  5  & 3   & 182\\\\\n",
       "\t  6  & 3   & 182\\\\\n",
       "\t  7  & 3   & 182\\\\\n",
       "\t  1  & 4   & 182\\\\\n",
       "\t  2  & 4   & 182\\\\\n",
       "\t  3  & 4   & 182\\\\\n",
       "\t  4  & 4   & 182\\\\\n",
       "\t  5  & 4   & 182\\\\\n",
       "\t  6  & 4   & 182\\\\\n",
       "\t  7  & 4   & 182\\\\\n",
       "\t  8  & 4   & 182\\\\\n",
       "\t  9  & 4   & 182\\\\\n",
       "\t 10  & 4   & 182\\\\\n",
       "\t 11  & 4   & 182\\\\\n",
       "\t 12  & 4   & 182\\\\\n",
       "\t 13  & 4   & 182\\\\\n",
       "\\end{tabular}\n"
      ],
      "text/markdown": [
       "\n",
       "| frameIdx | trialIdx | N |\n",
       "|---|---|---|\n",
       "|  1  | 1   | 182 |\n",
       "|  2  | 1   | 182 |\n",
       "|  1  | 2   | 182 |\n",
       "|  2  | 2   | 182 |\n",
       "|  3  | 2   | 182 |\n",
       "|  4  | 2   | 182 |\n",
       "|  5  | 2   | 182 |\n",
       "|  6  | 2   | 182 |\n",
       "|  7  | 2   | 182 |\n",
       "|  8  | 2   | 182 |\n",
       "|  9  | 2   | 182 |\n",
       "| 10  | 2   | 182 |\n",
       "| 11  | 2   | 182 |\n",
       "| 12  | 2   | 182 |\n",
       "| 13  | 2   | 182 |\n",
       "|  1  | 3   | 182 |\n",
       "|  2  | 3   | 182 |\n",
       "|  3  | 3   | 182 |\n",
       "|  4  | 3   | 182 |\n",
       "|  5  | 3   | 182 |\n",
       "|  6  | 3   | 182 |\n",
       "|  7  | 3   | 182 |\n",
       "|  1  | 4   | 182 |\n",
       "|  2  | 4   | 182 |\n",
       "|  3  | 4   | 182 |\n",
       "|  4  | 4   | 182 |\n",
       "|  5  | 4   | 182 |\n",
       "|  6  | 4   | 182 |\n",
       "|  7  | 4   | 182 |\n",
       "|  8  | 4   | 182 |\n",
       "|  9  | 4   | 182 |\n",
       "| 10  | 4   | 182 |\n",
       "| 11  | 4   | 182 |\n",
       "| 12  | 4   | 182 |\n",
       "| 13  | 4   | 182 |\n",
       "\n"
      ],
      "text/plain": [
       "   frameIdx trialIdx N  \n",
       "1   1       1        182\n",
       "2   2       1        182\n",
       "3   1       2        182\n",
       "4   2       2        182\n",
       "5   3       2        182\n",
       "6   4       2        182\n",
       "7   5       2        182\n",
       "8   6       2        182\n",
       "9   7       2        182\n",
       "10  8       2        182\n",
       "11  9       2        182\n",
       "12 10       2        182\n",
       "13 11       2        182\n",
       "14 12       2        182\n",
       "15 13       2        182\n",
       "16  1       3        182\n",
       "17  2       3        182\n",
       "18  3       3        182\n",
       "19  4       3        182\n",
       "20  5       3        182\n",
       "21  6       3        182\n",
       "22  7       3        182\n",
       "23  1       4        182\n",
       "24  2       4        182\n",
       "25  3       4        182\n",
       "26  4       4        182\n",
       "27  5       4        182\n",
       "28  6       4        182\n",
       "29  7       4        182\n",
       "30  8       4        182\n",
       "31  9       4        182\n",
       "32 10       4        182\n",
       "33 11       4        182\n",
       "34 12       4        182\n",
       "35 13       4        182"
      ]
     },
     "metadata": {},
     "output_type": "display_data"
    }
   ],
   "source": [
    "dotsTag <- \"pilot4_dotsPositions\"\n",
    "dotsDataFile <- paste(\"~/programing/data/psychophys/Pilot4/\",dotsTag,\".csv\",sep='')\n",
    "dotsData <- fread(file=dotsDataFile, header=TRUE, sep=\",\")\n",
    "str(dotsData)\n",
    "dotsData[,.(.N),by=.(frameIdx,trialIdx)]"
   ]
  },
  {
   "cell_type": "markdown",
   "metadata": {},
   "source": [
    "# Checking that the three datasets are consistent\n",
    "As we can see, the `frameIdx` field is common to `framesData` and `dotsData`, and the `trialIdx` is common to `dotsData` and `data`. Let's check whether these common fields match in terms of their unique values in each dataset.\n",
    "## Exploring match between `framesData` and `dotsData`"
   ]
  },
  {
   "cell_type": "code",
   "execution_count": 10,
   "metadata": {},
   "outputs": [
    {
     "data": {
      "text/html": [
       "<ol class=list-inline>\n",
       "\t<li>1</li>\n",
       "\t<li>2</li>\n",
       "\t<li>3</li>\n",
       "\t<li>4</li>\n",
       "\t<li>5</li>\n",
       "\t<li>6</li>\n",
       "\t<li>7</li>\n",
       "\t<li>8</li>\n",
       "\t<li>9</li>\n",
       "\t<li>10</li>\n",
       "\t<li>11</li>\n",
       "\t<li>12</li>\n",
       "\t<li>13</li>\n",
       "\t<li>14</li>\n",
       "\t<li>15</li>\n",
       "\t<li>16</li>\n",
       "\t<li>17</li>\n",
       "\t<li>18</li>\n",
       "\t<li>19</li>\n",
       "\t<li>20</li>\n",
       "\t<li>21</li>\n",
       "\t<li>22</li>\n",
       "\t<li>23</li>\n",
       "\t<li>24</li>\n",
       "\t<li>25</li>\n",
       "\t<li>26</li>\n",
       "\t<li>27</li>\n",
       "\t<li>28</li>\n",
       "\t<li>29</li>\n",
       "\t<li>30</li>\n",
       "\t<li>31</li>\n",
       "\t<li>32</li>\n",
       "\t<li>33</li>\n",
       "\t<li>34</li>\n",
       "\t<li>35</li>\n",
       "\t<li>36</li>\n",
       "\t<li>37</li>\n",
       "\t<li>38</li>\n",
       "\t<li>39</li>\n",
       "\t<li>40</li>\n",
       "\t<li>41</li>\n",
       "\t<li>42</li>\n",
       "\t<li>43</li>\n",
       "\t<li>44</li>\n",
       "\t<li>45</li>\n",
       "\t<li>46</li>\n",
       "\t<li>47</li>\n",
       "\t<li>48</li>\n",
       "\t<li>49</li>\n",
       "\t<li>50</li>\n",
       "\t<li>51</li>\n",
       "\t<li>52</li>\n",
       "\t<li>53</li>\n",
       "\t<li>54</li>\n",
       "\t<li>55</li>\n",
       "</ol>\n"
      ],
      "text/latex": [
       "\\begin{enumerate*}\n",
       "\\item 1\n",
       "\\item 2\n",
       "\\item 3\n",
       "\\item 4\n",
       "\\item 5\n",
       "\\item 6\n",
       "\\item 7\n",
       "\\item 8\n",
       "\\item 9\n",
       "\\item 10\n",
       "\\item 11\n",
       "\\item 12\n",
       "\\item 13\n",
       "\\item 14\n",
       "\\item 15\n",
       "\\item 16\n",
       "\\item 17\n",
       "\\item 18\n",
       "\\item 19\n",
       "\\item 20\n",
       "\\item 21\n",
       "\\item 22\n",
       "\\item 23\n",
       "\\item 24\n",
       "\\item 25\n",
       "\\item 26\n",
       "\\item 27\n",
       "\\item 28\n",
       "\\item 29\n",
       "\\item 30\n",
       "\\item 31\n",
       "\\item 32\n",
       "\\item 33\n",
       "\\item 34\n",
       "\\item 35\n",
       "\\item 36\n",
       "\\item 37\n",
       "\\item 38\n",
       "\\item 39\n",
       "\\item 40\n",
       "\\item 41\n",
       "\\item 42\n",
       "\\item 43\n",
       "\\item 44\n",
       "\\item 45\n",
       "\\item 46\n",
       "\\item 47\n",
       "\\item 48\n",
       "\\item 49\n",
       "\\item 50\n",
       "\\item 51\n",
       "\\item 52\n",
       "\\item 53\n",
       "\\item 54\n",
       "\\item 55\n",
       "\\end{enumerate*}\n"
      ],
      "text/markdown": [
       "1. 1\n",
       "2. 2\n",
       "3. 3\n",
       "4. 4\n",
       "5. 5\n",
       "6. 6\n",
       "7. 7\n",
       "8. 8\n",
       "9. 9\n",
       "10. 10\n",
       "11. 11\n",
       "12. 12\n",
       "13. 13\n",
       "14. 14\n",
       "15. 15\n",
       "16. 16\n",
       "17. 17\n",
       "18. 18\n",
       "19. 19\n",
       "20. 20\n",
       "21. 21\n",
       "22. 22\n",
       "23. 23\n",
       "24. 24\n",
       "25. 25\n",
       "26. 26\n",
       "27. 27\n",
       "28. 28\n",
       "29. 29\n",
       "30. 30\n",
       "31. 31\n",
       "32. 32\n",
       "33. 33\n",
       "34. 34\n",
       "35. 35\n",
       "36. 36\n",
       "37. 37\n",
       "38. 38\n",
       "39. 39\n",
       "40. 40\n",
       "41. 41\n",
       "42. 42\n",
       "43. 43\n",
       "44. 44\n",
       "45. 45\n",
       "46. 46\n",
       "47. 47\n",
       "48. 48\n",
       "49. 49\n",
       "50. 50\n",
       "51. 51\n",
       "52. 52\n",
       "53. 53\n",
       "54. 54\n",
       "55. 55\n",
       "\n",
       "\n"
      ],
      "text/plain": [
       " [1]  1  2  3  4  5  6  7  8  9 10 11 12 13 14 15 16 17 18 19 20 21 22 23 24 25\n",
       "[26] 26 27 28 29 30 31 32 33 34 35 36 37 38 39 40 41 42 43 44 45 46 47 48 49 50\n",
       "[51] 51 52 53 54 55"
      ]
     },
     "metadata": {},
     "output_type": "display_data"
    },
    {
     "data": {
      "text/html": [
       "55"
      ],
      "text/latex": [
       "55"
      ],
      "text/markdown": [
       "55"
      ],
      "text/plain": [
       "[1] 55"
      ]
     },
     "metadata": {},
     "output_type": "display_data"
    }
   ],
   "source": [
    "unique(framesData[,frameIdx])\n",
    "length(unique(framesData[,frameIdx]))"
   ]
  },
  {
   "cell_type": "code",
   "execution_count": 11,
   "metadata": {},
   "outputs": [
    {
     "data": {
      "text/html": [
       "<ol class=list-inline>\n",
       "\t<li>1</li>\n",
       "\t<li>2</li>\n",
       "\t<li>3</li>\n",
       "\t<li>4</li>\n",
       "\t<li>5</li>\n",
       "\t<li>6</li>\n",
       "\t<li>7</li>\n",
       "\t<li>8</li>\n",
       "\t<li>9</li>\n",
       "\t<li>10</li>\n",
       "\t<li>11</li>\n",
       "\t<li>12</li>\n",
       "\t<li>13</li>\n",
       "</ol>\n"
      ],
      "text/latex": [
       "\\begin{enumerate*}\n",
       "\\item 1\n",
       "\\item 2\n",
       "\\item 3\n",
       "\\item 4\n",
       "\\item 5\n",
       "\\item 6\n",
       "\\item 7\n",
       "\\item 8\n",
       "\\item 9\n",
       "\\item 10\n",
       "\\item 11\n",
       "\\item 12\n",
       "\\item 13\n",
       "\\end{enumerate*}\n"
      ],
      "text/markdown": [
       "1. 1\n",
       "2. 2\n",
       "3. 3\n",
       "4. 4\n",
       "5. 5\n",
       "6. 6\n",
       "7. 7\n",
       "8. 8\n",
       "9. 9\n",
       "10. 10\n",
       "11. 11\n",
       "12. 12\n",
       "13. 13\n",
       "\n",
       "\n"
      ],
      "text/plain": [
       " [1]  1  2  3  4  5  6  7  8  9 10 11 12 13"
      ]
     },
     "metadata": {},
     "output_type": "display_data"
    },
    {
     "data": {
      "text/html": [
       "13"
      ],
      "text/latex": [
       "13"
      ],
      "text/markdown": [
       "13"
      ],
      "text/plain": [
       "[1] 13"
      ]
     },
     "metadata": {},
     "output_type": "display_data"
    }
   ],
   "source": [
    "unique(dotsData[,frameIdx])\n",
    "length(unique(dotsData[,frameIdx]))"
   ]
  },
  {
   "cell_type": "markdown",
   "metadata": {},
   "source": [
    "## Exploring match between `dotsData` and `data`"
   ]
  },
  {
   "cell_type": "code",
   "execution_count": 7,
   "metadata": {},
   "outputs": [
    {
     "data": {
      "text/html": [
       "<ol class=list-inline>\n",
       "\t<li>1</li>\n",
       "\t<li>2</li>\n",
       "\t<li>3</li>\n",
       "\t<li>4</li>\n",
       "</ol>\n"
      ],
      "text/latex": [
       "\\begin{enumerate*}\n",
       "\\item 1\n",
       "\\item 2\n",
       "\\item 3\n",
       "\\item 4\n",
       "\\end{enumerate*}\n"
      ],
      "text/markdown": [
       "1. 1\n",
       "2. 2\n",
       "3. 3\n",
       "4. 4\n",
       "\n",
       "\n"
      ],
      "text/plain": [
       "[1] 1 2 3 4"
      ]
     },
     "metadata": {},
     "output_type": "display_data"
    }
   ],
   "source": [
    "unique(dotsData[,trialIdx])"
   ]
  },
  {
   "cell_type": "code",
   "execution_count": 12,
   "metadata": {},
   "outputs": [
    {
     "data": {
      "text/html": [
       "<ol class=list-inline>\n",
       "\t<li>5</li>\n",
       "\t<li>7</li>\n",
       "\t<li>6</li>\n",
       "\t<li>11</li>\n",
       "\t<li>18</li>\n",
       "</ol>\n"
      ],
      "text/latex": [
       "\\begin{enumerate*}\n",
       "\\item 5\n",
       "\\item 7\n",
       "\\item 6\n",
       "\\item 11\n",
       "\\item 18\n",
       "\\end{enumerate*}\n"
      ],
      "text/markdown": [
       "1. 5\n",
       "2. 7\n",
       "3. 6\n",
       "4. 11\n",
       "5. 18\n",
       "\n",
       "\n"
      ],
      "text/plain": [
       "[1]  5  7  6 11 18"
      ]
     },
     "metadata": {},
     "output_type": "display_data"
    },
    {
     "data": {
      "text/html": [
       "5"
      ],
      "text/latex": [
       "5"
      ],
      "text/markdown": [
       "5"
      ],
      "text/plain": [
       "[1] 5"
      ]
     },
     "metadata": {},
     "output_type": "display_data"
    },
    {
     "data": {
      "text/html": [
       "5"
      ],
      "text/latex": [
       "5"
      ],
      "text/markdown": [
       "5"
      ],
      "text/plain": [
       "[1] 5"
      ]
     },
     "metadata": {},
     "output_type": "display_data"
    },
    {
     "data": {
      "text/html": [
       "18"
      ],
      "text/latex": [
       "18"
      ],
      "text/markdown": [
       "18"
      ],
      "text/plain": [
       "[1] 18"
      ]
     },
     "metadata": {},
     "output_type": "display_data"
    }
   ],
   "source": [
    "unique(data[,trialIndex])\n",
    "length(unique(data[,trialIndex]))\n",
    "min(unique(data[,trialIndex]))\n",
    "max(unique(data[,trialIndex]))"
   ]
  },
  {
   "cell_type": "code",
   "execution_count": null,
   "metadata": {},
   "outputs": [],
   "source": [
    "5*"
   ]
  }
 ],
 "metadata": {
  "kernelspec": {
   "display_name": "R",
   "language": "R",
   "name": "ir"
  },
  "language_info": {
   "codemirror_mode": "r",
   "file_extension": ".r",
   "mimetype": "text/x-r-source",
   "name": "R",
   "pygments_lexer": "r",
   "version": "3.5.2"
  }
 },
 "nbformat": 4,
 "nbformat_minor": 2
}
