{
 "cells": [
  {
   "cell_type": "code",
   "execution_count": 1,
   "metadata": {},
   "outputs": [
    {
     "data": {
      "text/html": [
       "<script>\n",
       "  code_show=true;\n",
       "  function code_toggle() {\n",
       "    if (code_show){\n",
       "      $('div.input').hide();\n",
       "    } else {\n",
       "      $('div.input').show();\n",
       "    }\n",
       "    code_show = !code_show\n",
       "  } \n",
       "  $( document ).ready(code_toggle);\n",
       "</script>\n",
       "<font size=4>\n",
       "<a href=\"javascript:code_toggle()\">Toggle ON/OFF</a>\n",
       "code cells.\n",
       "</font>\n"
      ]
     },
     "metadata": {},
     "output_type": "display_data"
    }
   ],
   "source": [
    "IRdisplay::display_html(file='code_hiding.html')"
   ]
  },
  {
   "cell_type": "markdown",
   "metadata": {},
   "source": [
    "# Notebook's goals\n",
    "\n",
    "Make sure the workflow from running the task to analyzing the data works.\n",
    "\n",
    "\n",
    "## Workflow description\n",
    "1. Task is run with repo [SingleCP_DotsReversal_Task](https://github.com/TheGoldLab/SingleCP_DotsReversal_Task/) (appropriate branch must be chosen).\n",
    "  1. A `.mat` data file is outputted\n",
    "  2. I usually manually rename this file `pilot_#.mat` and upload it to PennBox (Data/Psychophysics/Radillo_SingleCP_DotsReversal/)\n",
    "2. Data is analyzed with repo [SingleCP_DotsReversal_DataAnalaysis](https://github.com/aernesto/SingleCP_DotsReversal_DataAnalysis)(again, with the appropriate branch).\n",
    "  1. The first step is to convert data from the .mat file into CSV format\n",
    "    - `pilot#_framesInfo.csv` produced with [this script](https://github.com/aernesto/SingleCP_DotsReversal_DataAnalysis/blob/25d37b8a9cb2fb768359dd30be4452aed60b9c62/MATLAB_scripts/explore_data_file.m) as of 01/28/2019. [Fields description](https://github.com/aernesto/SingleCP_DotsReversal_DataAnalysis/wiki/Fields-description-of-*framesInfo.csv-file).\n",
    "    - `pilot#_FIRA.csv` produced with [this script](https://github.com/aernesto/SingleCP_DotsReversal_DataAnalysis/blob/25d37b8a9cb2fb768359dd30be4452aed60b9c62/MATLAB_scripts/explore_data_file.m) as of 01/28/2019. [Fields description](https://github.com/aernesto/SingleCP_DotsReversal_DataAnalysis/wiki/Fields-Description-of-*FIRA.csv-files).\n",
    "    - `pilot#_dotsPositions.csv` produced with same script as above, as of 01/28/2019. [Fields description](https://github.com/aernesto/SingleCP_DotsReversal_DataAnalysis/wiki/Fields-descriptions-for-*dotsPositions.csv-file).\n",
    "\n",
    "**TO-DO**\n",
    "- Write detailed explanation of each column in each `.csv` file (i.e. update the [Wiki](https://github.com/aernesto/SingleCP_DotsReversal_DataAnalysis/wiki))\n",
    "- Make sure data from the three `.csv` files is consistent\n",
    "\n",
    "## Specific questions\n",
    "1. How many frames are skipped on each trial, and where in the trial do they occur?\n",
    "2. Does this number match the offset in viewing duration per trial?\n",
    "3. Compute reverse kernels with the number of coherent dots as a proxy for motion energy\n",
    "\n",
    "# Exploring the data\n",
    "## The `*FIRA.csv` file"
   ]
  },
  {
   "cell_type": "code",
   "execution_count": 2,
   "metadata": {
    "scrolled": true
   },
   "outputs": [
    {
     "name": "stdout",
     "output_type": "stream",
     "text": [
      "Classes ‘data.table’ and 'data.frame':\t5 obs. of  24 variables:\n",
      " $ taskID         : int  2 2 2 2 2\n",
      " $ trialIndex     : int  5 7 6 11 18\n",
      " $ trialStart     : num  3371 3376 3381 3386 3391\n",
      " $ trialEnd       : num  3376 3381 3386 3391 3397\n",
      " $ RT             : num  0.98 0.709 -0.223 0.956 NaN\n",
      " $ choice         : num  1 0 1 0 NaN\n",
      " $ correct        : num  1 0 1 0 NaN\n",
      " $ initDirection  : int  0 0 0 0 0\n",
      " $ endDirection   : int  0 0 0 0 180\n",
      " $ presenceCP     : int  0 0 0 0 1\n",
      " $ coherence      : num  25.6 6.4 25.6 25.6 25.6\n",
      " $ viewingDuration: num  0.1 0.2 0.1 0.2 0.3\n",
      " $ probCP         : num  0.5 0.5 0.5 0.5 0.5\n",
      " $ timeCP         : num  0.2 0.2 0.2 0.2 0.2\n",
      " $ randSeedBase   : int  5609 9732 2657 5092 852\n",
      " $ fixationOn     : num  6742 6753 6763 6771 6782\n",
      " $ fixationStart  : num  NaN NaN NaN NaN NaN\n",
      " $ targetOn       : num  6744 6754 6765 6774 NaN\n",
      " $ dotsOn         : num  6745 6755 6766 6774 NaN\n",
      " $ dotsOff        : num  6745 6756 6766 6774 NaN\n",
      " $ choiceTime     : num  6746 6756 6766 6775 NaN\n",
      " $ targetOff      : num  NaN NaN NaN NaN NaN\n",
      " $ fixationOff    : num  NaN NaN NaN NaN NaN\n",
      " $ feedbackOn     : num  NaN NaN NaN NaN NaN\n",
      " - attr(*, \".internal.selfref\")=<externalptr> \n"
     ]
    }
   ],
   "source": [
    "library(data.table) # see https://cran.r-project.org/web/packages/data.table/vignettes/datatable-intro.html for reference\n",
    "library(ggplot2)\n",
    "dataTag <- \"pilot4_FIRA\"\n",
    "datafile <- paste(\"~/programing/data/psychophys/Pilot4/\",dataTag,\".csv\",sep='')\n",
    "data <- fread(file=datafile, header=TRUE, sep=\",\")\n",
    "str(data)"
   ]
  },
  {
   "cell_type": "markdown",
   "metadata": {},
   "source": [
    "## The `*framesInfo.csv` file"
   ]
  },
  {
   "cell_type": "code",
   "execution_count": 4,
   "metadata": {},
   "outputs": [
    {
     "name": "stdout",
     "output_type": "stream",
     "text": [
      "Classes ‘data.table’ and 'data.frame':\t55 obs. of  5 variables:\n",
      " $ frameIdx  : int  1 2 3 4 5 6 7 8 9 10 ...\n",
      " $ onsetTime : num  3367 3369 3372 3374 3374 ...\n",
      " $ onsetFrame: int  7 114 285 409 411 415 417 418 564 669 ...\n",
      " $ swapTime  : num  3367 3369 3372 3374 3374 ...\n",
      " $ isTight   : int  0 0 0 0 0 0 0 1 0 0 ...\n",
      " - attr(*, \".internal.selfref\")=<externalptr> \n"
     ]
    }
   ],
   "source": [
    "framesTag <- \"pilot4_framesInfo\"\n",
    "framesDataFile <- paste(\"~/programing/data/psychophys/Pilot4/\",framesTag,\".csv\",sep='')\n",
    "framesData <- fread(file=framesDataFile, header=TRUE, sep=\",\")\n",
    "str(framesData)"
   ]
  },
  {
   "cell_type": "markdown",
   "metadata": {},
   "source": [
    "## The `*dotsPositions.csv` file"
   ]
  },
  {
   "cell_type": "code",
   "execution_count": 5,
   "metadata": {},
   "outputs": [
    {
     "name": "stdout",
     "output_type": "stream",
     "text": [
      "Classes ‘data.table’ and 'data.frame':\t6370 obs. of  6 variables:\n",
      " $ xpos      : num  0.1073 0.2115 0.0657 0.2308 0.844 ...\n",
      " $ ypos      : num  0.573 0.808 0.974 0.872 0.959 ...\n",
      " $ isActive  : int  1 0 0 1 0 0 1 0 0 1 ...\n",
      " $ isCoherent: int  1 0 0 1 0 0 1 0 0 1 ...\n",
      " $ frameIdx  : int  1 1 1 1 1 1 1 1 1 1 ...\n",
      " $ trialIdx  : int  1 1 1 1 1 1 1 1 1 1 ...\n",
      " - attr(*, \".internal.selfref\")=<externalptr> \n"
     ]
    }
   ],
   "source": [
    "dotsTag <- \"pilot4_dotsPositions\"\n",
    "dotsDataFile <- paste(\"~/programing/data/psychophys/Pilot4/\",dotsTag,\".csv\",sep='')\n",
    "dotsData <- fread(file=dotsDataFile, header=TRUE, sep=\",\")\n",
    "str(dotsData)"
   ]
  }
 ],
 "metadata": {
  "kernelspec": {
   "display_name": "R",
   "language": "R",
   "name": "ir"
  },
  "language_info": {
   "codemirror_mode": "r",
   "file_extension": ".r",
   "mimetype": "text/x-r-source",
   "name": "R",
   "pygments_lexer": "r",
   "version": "3.5.1"
  }
 },
 "nbformat": 4,
 "nbformat_minor": 2
}
